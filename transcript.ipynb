{
  "cells": [
    {
      "cell_type": "markdown",
      "metadata": {},
      "source": [
        "The following pip installs are necessary in whatever environment you choose to work in:\n",
        "\n",
        "youtube_transcript_api\n",
        "googleapiclient\n",
        "pandas\n",
        "os\n",
        "pickle\n",
        "langchain\n",
        "openai\n",
        "chromadb\n",
        "langchain-openai\n",
        "\n"
      ]
    },
    {
      "cell_type": "markdown",
      "metadata": {
        "id": "Q9ZF6kS711UO"
      },
      "source": [
        "Initialise and Set up Google API Key"
      ]
    },
    {
      "cell_type": "code",
      "execution_count": 1,
      "metadata": {
        "id": "dncG42bc3N1p"
      },
      "outputs": [],
      "source": [
        "import pickle\n",
        "import os\n",
        "import pandas as pd\n",
        "from googleapiclient.discovery import build\n",
        "from youtube_transcript_api import YouTubeTranscriptApi\n",
        "\n",
        "\n",
        "f = open(\"keys/google_key.txt\", \"r\")\n",
        "key = f.readlines()[0]\n",
        "f.close()\n",
        "\n",
        "youtube = build('youtube', 'v3', developerKey=key)\n",
        "\n",
        "\n"
      ]
    },
    {
      "cell_type": "markdown",
      "metadata": {
        "id": "1Qw8YZx43Y1O"
      },
      "source": [
        "User Inputs (prompt)"
      ]
    },
    {
      "cell_type": "code",
      "execution_count": 2,
      "metadata": {
        "id": "YLI44Qg63k2I"
      },
      "outputs": [],
      "source": [
        "search_terms = \"Apple Watch Series 9 Review\"    # insert prompt -> \"Brand Product Model\"\n",
        "max_result = 10                         # No. of results (1-50)\n"
      ]
    },
    {
      "cell_type": "markdown",
      "metadata": {
        "id": "PHWtA6Rw4Kb-"
      },
      "source": [
        "Define containers to store info"
      ]
    },
    {
      "cell_type": "code",
      "execution_count": 3,
      "metadata": {
        "id": "Atc2__gT4hCG"
      },
      "outputs": [],
      "source": [
        "vid_id = []             \t  # video id\n",
        "vid_page = []       \t\t    # video links (https...)\n",
        "vid_title = []              # video title\n",
        "num_comments = []           # official number of comments\n",
        "load_error = 0              # error counter\n",
        "can_load_title = []         # temp. list for storing title w/o loading error\n",
        "can_load_page = []          # temp. list for storing links w/o loading error\n",
        "num_page = []               # comment_response page number\n",
        "page_title = []             # comment_response video title\n",
        "comment_resp = []           # comment_response\n",
        "comment_list = []           # temp. list for storing comments\n",
        "comment_data = []           # comments & replies from comment_response\n",
        "all_count = 0               # total number of comments\n"
      ]
    },
    {
      "cell_type": "markdown",
      "metadata": {
        "id": "68OkC9Qf4lEX"
      },
      "source": [
        "Search for Video IDs based on User Inputs"
      ]
    },
    {
      "cell_type": "code",
      "execution_count": 4,
      "metadata": {
        "colab": {
          "base_uri": "https://localhost:8080/"
        },
        "id": "VKLV7USf4p_8",
        "outputId": "4ecfaa35-c603-4051-9b14-f660354813ed"
      },
      "outputs": [
        {
          "name": "stdout",
          "output_type": "stream",
          "text": [
            "Search for Videos IDs...\n",
            "{'kind': 'youtube#searchListResponse', 'etag': 'Dk8xkh5a8VHCaqOXCGvh_cJ0Yqk', 'nextPageToken': 'CAoQAA', 'regionCode': 'SG', 'pageInfo': {'totalResults': 1000000, 'resultsPerPage': 10}, 'items': [{'kind': 'youtube#searchResult', 'etag': 'dTiKHulGWhMEO_U2DKUeDTeFRm4', 'id': {'kind': 'youtube#video', 'videoId': '5gkiXZ_DjOw'}}, {'kind': 'youtube#searchResult', 'etag': 'ffJYKiKj8QQzNUP8N4_sWa6AtpQ', 'id': {'kind': 'youtube#video', 'videoId': '44FEs8jAN9Y'}}, {'kind': 'youtube#searchResult', 'etag': 'U6oCnPmsIrcFAvecq7pnrKIlb0s', 'id': {'kind': 'youtube#video', 'videoId': 'wM16xWaJHbU'}}, {'kind': 'youtube#searchResult', 'etag': 'bQwrEsWr8pBj48HocXdWwZrxUK8', 'id': {'kind': 'youtube#video', 'videoId': 'oNCs4C2SMjo'}}, {'kind': 'youtube#searchResult', 'etag': 'oQrd6-MZ_Kvk9oOKOryZYaiZAZ4', 'id': {'kind': 'youtube#video', 'videoId': 'Oh9Q6zUqng4'}}, {'kind': 'youtube#searchResult', 'etag': '2et133fNlGjEfRdh0mx6UBtVQx8', 'id': {'kind': 'youtube#video', 'videoId': '5VyLYPyqJvE'}}, {'kind': 'youtube#searchResult', 'etag': 'hNKvwpLHbgoGlOOWQPxj5LWqfrU', 'id': {'kind': 'youtube#video', 'videoId': 'J6hCaO7n35o'}}, {'kind': 'youtube#searchResult', 'etag': '3u6wkJeWCxVGvTR2G0fQ6zcqyBQ', 'id': {'kind': 'youtube#video', 'videoId': 'FcF0F4lYi_U'}}, {'kind': 'youtube#searchResult', 'etag': 'mXSdXCy_QaCnmolN8bIJ5hOJYYU', 'id': {'kind': 'youtube#video', 'videoId': '4igZ3DEhrk4'}}, {'kind': 'youtube#searchResult', 'etag': 'ph1cENR2q2WL67TXpjbfmh8-C4Q', 'id': {'kind': 'youtube#video', 'videoId': 'GHYg8cmUiKM'}}]}\n"
          ]
        }
      ],
      "source": [
        "print(\"Search for Videos IDs...\")\n",
        "request = youtube.search().list(\n",
        "    q=search_terms,\n",
        "    maxResults=max_result,\n",
        "    part=\"id\",\n",
        "    type=\"video\"\n",
        "    )\n",
        "search_response = request.execute()\n",
        "print(search_response)\n"
      ]
    },
    {
      "cell_type": "markdown",
      "metadata": {
        "id": "ZFUP9Bs_p8df"
      },
      "source": [
        "Create a list of Video IDs and a corresponding list of weblinks"
      ]
    },
    {
      "cell_type": "code",
      "execution_count": 6,
      "metadata": {
        "colab": {
          "base_uri": "https://localhost:8080/"
        },
        "id": "PR_R-USEqw1G",
        "outputId": "fc848568-ef86-428d-fd2f-2e3b55d6eddd"
      },
      "outputs": [
        {
          "name": "stdout",
          "output_type": "stream",
          "text": [
            "Videos found...\n",
            "5gkiXZ_DjOw\n",
            "https://www.youtube.com/watch?v=5gkiXZ_DjOw\n",
            "\n",
            "44FEs8jAN9Y\n",
            "https://www.youtube.com/watch?v=44FEs8jAN9Y\n",
            "\n",
            "wM16xWaJHbU\n",
            "https://www.youtube.com/watch?v=wM16xWaJHbU\n",
            "\n",
            "oNCs4C2SMjo\n",
            "https://www.youtube.com/watch?v=oNCs4C2SMjo\n",
            "\n",
            "Oh9Q6zUqng4\n",
            "https://www.youtube.com/watch?v=Oh9Q6zUqng4\n",
            "\n",
            "5VyLYPyqJvE\n",
            "https://www.youtube.com/watch?v=5VyLYPyqJvE\n",
            "\n",
            "J6hCaO7n35o\n",
            "https://www.youtube.com/watch?v=J6hCaO7n35o\n",
            "\n",
            "FcF0F4lYi_U\n",
            "https://www.youtube.com/watch?v=FcF0F4lYi_U\n",
            "\n",
            "4igZ3DEhrk4\n",
            "https://www.youtube.com/watch?v=4igZ3DEhrk4\n",
            "\n",
            "GHYg8cmUiKM\n",
            "https://www.youtube.com/watch?v=GHYg8cmUiKM\n",
            "\n",
            "\n",
            "There are 20 videos.\n"
          ]
        }
      ],
      "source": [
        "print(\"Videos found...\")\n",
        "for i in range(max_result):\n",
        "    videoId = search_response['items'][i]['id']['videoId']\n",
        "    print(videoId)\n",
        "    vid_id.append(videoId)                          # a list of Video IDs\n",
        "    page = \"https://www.youtube.com/watch?v=\" + videoId\n",
        "    print(page)\n",
        "    print()\n",
        "    vid_page.append(page)                           # a list of Video links\n",
        "print(\"\\nThere are\", len(vid_page), \"videos.\")\n",
        "\n"
      ]
    },
    {
      "cell_type": "markdown",
      "metadata": {
        "id": "9qkzbco5sJjK"
      },
      "source": [
        "Use the list of Video IDs to get video data"
      ]
    },
    {
      "cell_type": "code",
      "execution_count": 10,
      "metadata": {
        "colab": {
          "base_uri": "https://localhost:8080/"
        },
        "id": "zL1AUZyNscvv",
        "outputId": "033fecff-4999-45c9-a3c1-988c98a9248b"
      },
      "outputs": [
        {
          "name": "stdout",
          "output_type": "stream",
          "text": [
            "Get video data...\n",
            "{'kind': 'youtube#videoListResponse', 'etag': 'aUrW7R_1oNBvfXVOLImH7S6Oygs', 'items': [{'kind': 'youtube#video', 'etag': 'N2jx4v2an5iiw3JsWDWdSWbBF68', 'id': '5gkiXZ_DjOw', 'snippet': {'publishedAt': '2023-09-20T13:00:07Z', 'channelId': 'UCOmcA3f_RrH6b9NmcNa4tdg', 'title': 'Apple Watch Series 9 Review: Slightly Smarter and Faster', 'description': \"The Series 9’s new Double Tap feature and faster Siri responses make the watch feel more convenient. But otherwise, it’s largely the same as the Series 8.\\n\\nFind the Apple Watch Series 9 here:\\nApple Watch Series 9 -  https://cnet.co/3Zr9MP4\\n*Cnet may get a commission for these offers\\n\\n0:00 What's New\\n1:35 Double Tap\\n2:55 On-Device Siri\\n5:00 Find My Phone\\n6:00 Battery, Health and Other Features\\n6:53 Final Thoughts\\n\\nSubscribe to CNET: https://www.youtube.com/user/CNETTV\\nNever miss a deal again! See CNET’s browser extension 👉 https://bit.ly/3lO7sOU\\nCheck out CNET’s Amazon Storefront: https://www.amazon.com/shop/cnet\\nFollow us on TikTok: https://www.tiktok.com/@cnetdotcom\\nFollow us on Instagram: https://www.instagram.com/cnet/\\nFollow us on Twitter: https://www.twitter.com/cnet\\nLike us on Facebook: https://www.facebook.com/cnet\\n\\n#apple #applewatch #applewatchseries9\", 'thumbnails': {'default': {'url': 'https://i.ytimg.com/vi/5gkiXZ_DjOw/default.jpg', 'width': 120, 'height': 90}, 'medium': {'url': 'https://i.ytimg.com/vi/5gkiXZ_DjOw/mqdefault.jpg', 'width': 320, 'height': 180}, 'high': {'url': 'https://i.ytimg.com/vi/5gkiXZ_DjOw/hqdefault.jpg', 'width': 480, 'height': 360}, 'standard': {'url': 'https://i.ytimg.com/vi/5gkiXZ_DjOw/sddefault.jpg', 'width': 640, 'height': 480}, 'maxres': {'url': 'https://i.ytimg.com/vi/5gkiXZ_DjOw/maxresdefault.jpg', 'width': 1280, 'height': 720}}, 'channelTitle': 'CNET', 'tags': ['CNET', 'Technology', 'tech', 'apple watch', 'apple', 'series 9', 'Apple Watch series 9', 'Apple Watch 9', 'watchOS', 'Apple Watch Series 9', 'Apple Watch 9 features', 'Apple Watch 9 specifications', 'Apple Watch 9 design', 'advanced Apple Watch', 'next-generation Apple Watch', 'future Apple Watch', 'Apple Watch 9 release date', 'Apple Watch 9 news'], 'categoryId': '28', 'liveBroadcastContent': 'none', 'localized': {'title': 'Apple Watch Series 9 Review: Slightly Smarter and Faster', 'description': \"The Series 9’s new Double Tap feature and faster Siri responses make the watch feel more convenient. But otherwise, it’s largely the same as the Series 8.\\n\\nFind the Apple Watch Series 9 here:\\nApple Watch Series 9 -  https://cnet.co/3Zr9MP4\\n*Cnet may get a commission for these offers\\n\\n0:00 What's New\\n1:35 Double Tap\\n2:55 On-Device Siri\\n5:00 Find My Phone\\n6:00 Battery, Health and Other Features\\n6:53 Final Thoughts\\n\\nSubscribe to CNET: https://www.youtube.com/user/CNETTV\\nNever miss a deal again! See CNET’s browser extension 👉 https://bit.ly/3lO7sOU\\nCheck out CNET’s Amazon Storefront: https://www.amazon.com/shop/cnet\\nFollow us on TikTok: https://www.tiktok.com/@cnetdotcom\\nFollow us on Instagram: https://www.instagram.com/cnet/\\nFollow us on Twitter: https://www.twitter.com/cnet\\nLike us on Facebook: https://www.facebook.com/cnet\\n\\n#apple #applewatch #applewatchseries9\"}, 'defaultAudioLanguage': 'en'}, 'statistics': {'viewCount': '376743', 'likeCount': '2422', 'favoriteCount': '0', 'commentCount': '274'}}], 'pageInfo': {'totalResults': 1, 'resultsPerPage': 1}}\n",
            "Video 1 - Apple Watch Series 9 Review: Slightly Smarter and Faster -- Comment count:  274\n",
            "\n",
            "{'kind': 'youtube#videoListResponse', 'etag': 'LJOhpZtfLDfd9Km4QDw3UdlpWrY', 'items': [{'kind': 'youtube#video', 'etag': '0-QUgnSJrnnRH0VFV-LOiOR0oU4', 'id': '44FEs8jAN9Y', 'snippet': {'publishedAt': '2023-09-21T15:31:06Z', 'channelId': 'UC6y_DbpezOinlzHv8O092zw', 'title': 'Apple Watch Series 9 In-Depth Review: Worth Upgrading?', 'description': \"Here's your complete Apple Watch Series 9 review, diving into all the new features and how well they work! Buy the Apple Watch Series 9 here (https://amzn.to/455GpCX), which helps support the channel!\\n\\n0:00 Quick Overview\\n0:25 Pricing\\n0:30 New Display Brightness Comparison Teste\\n1:32 Night Display Brightness\\n1:51 Faster Chipset Worth It?\\n2:16 Double Tap hands-on explained\\n3:55 Offline Siri\\n4:36 Siri and Apple Health\\n4:55 UWB Gen2 Precision Finding\\n5:20 Activity Tracking\\n6:07 Sleep Tracking Tested\\n7:07 Wrist Temperature Tracking\\n7:38 Sports and Workout Usage\\n8:40 Topographic Maps\\n9:27 Cycling Companion App (Bike Computer)\\n10:02 Cycling Power Meters\\n11:26 Battery Life Tested\\n12:04 GPS Accuracy\\n13:21 Heart Rate Accuracy\\n13:46 Recommendations & Worth it?\\n\\nNote: Some links Amazon affiliate links, which I may earn a commission.\\n\\n#AppleWatchSeries9 #AppleWatch #Apple\", 'thumbnails': {'default': {'url': 'https://i.ytimg.com/vi/44FEs8jAN9Y/default.jpg', 'width': 120, 'height': 90}, 'medium': {'url': 'https://i.ytimg.com/vi/44FEs8jAN9Y/mqdefault.jpg', 'width': 320, 'height': 180}, 'high': {'url': 'https://i.ytimg.com/vi/44FEs8jAN9Y/hqdefault.jpg', 'width': 480, 'height': 360}, 'standard': {'url': 'https://i.ytimg.com/vi/44FEs8jAN9Y/sddefault.jpg', 'width': 640, 'height': 480}, 'maxres': {'url': 'https://i.ytimg.com/vi/44FEs8jAN9Y/maxresdefault.jpg', 'width': 1280, 'height': 720}}, 'channelTitle': 'DC Rainmaker', 'tags': ['Apple Watch Series 9', 'Apple Watch Review', 'Apple Watch Series 9 REview', 'Apple Watch 9 Review', 'Apple Watch 8 vs 9', 'Apple Watch 9 Test', 'Apple Watch 9 vs Ultra', 'Apple Watch 2023 Review', 'DC Rainmaker', 'ray maker', 'rainmaker'], 'categoryId': '17', 'liveBroadcastContent': 'none', 'localized': {'title': 'Apple Watch Series 9 In-Depth Review: Worth Upgrading?', 'description': \"Here's your complete Apple Watch Series 9 review, diving into all the new features and how well they work! Buy the Apple Watch Series 9 here (https://amzn.to/455GpCX), which helps support the channel!\\n\\n0:00 Quick Overview\\n0:25 Pricing\\n0:30 New Display Brightness Comparison Teste\\n1:32 Night Display Brightness\\n1:51 Faster Chipset Worth It?\\n2:16 Double Tap hands-on explained\\n3:55 Offline Siri\\n4:36 Siri and Apple Health\\n4:55 UWB Gen2 Precision Finding\\n5:20 Activity Tracking\\n6:07 Sleep Tracking Tested\\n7:07 Wrist Temperature Tracking\\n7:38 Sports and Workout Usage\\n8:40 Topographic Maps\\n9:27 Cycling Companion App (Bike Computer)\\n10:02 Cycling Power Meters\\n11:26 Battery Life Tested\\n12:04 GPS Accuracy\\n13:21 Heart Rate Accuracy\\n13:46 Recommendations & Worth it?\\n\\nNote: Some links Amazon affiliate links, which I may earn a commission.\\n\\n#AppleWatchSeries9 #AppleWatch #Apple\"}, 'defaultAudioLanguage': 'en'}, 'statistics': {'viewCount': '306601', 'likeCount': '4187', 'favoriteCount': '0', 'commentCount': '197'}}], 'pageInfo': {'totalResults': 1, 'resultsPerPage': 1}}\n",
            "Video 2 - Apple Watch Series 9 In-Depth Review: Worth Upgrading? -- Comment count:  197\n",
            "\n",
            "{'kind': 'youtube#videoListResponse', 'etag': 't9VG4XrjADEFP-Un-qYXehi1OyQ', 'items': [{'kind': 'youtube#video', 'etag': 'USfKS9-vuGt1j1ElAJFdD6Y6kCw', 'id': 'wM16xWaJHbU', 'snippet': {'publishedAt': '2024-03-30T14:00:03Z', 'channelId': 'UCJOl2JvledP26K2OQ_HLgnQ', 'title': 'Apple Watch Series 9 Review - 6 Months Later', 'description': 'What parts of the Apple Watch Series 9’s experience really make it stand out from previous models 6 Months Later? What new features haven’t worked well or haven’t been worth it? What in 2024 do you really use and Apple Watch for and who should get one? We’ll answer these questions and more! \\n\\nSpecifically, we’ll walk you through what the battery life has been link, if Siri’s performance really has improved, the new Double Tap (pinchy pinch) feature, track the precise location of AirTags and your iPhone, what significant upgrades WatchOS10 makes to the Apple Watch experience, and more features we use like sleep tracking, the Apple Fitness+ TV integration, media controls, haptic feedback for directions, and more. Plus we’ll walk you through some of the downsides you can expect owning and Apple Watch and our recommendations on which model we recommend. \\n\\n\\n🛒 Product Links (Affiliate Links): \\n👉Apple Watch Series 9: https://amzn.to/3J41ZiA\\n👉iPhone 15 Pro Max: https://amzn.to/3voamm2\\n👉iPhone 15 Pro Max Silicon case: https://amzn.to/49bdYpc \\n👉 View all of our recommended products: https://www.amazon.com/shop/6monthslaterreviews \\n\\n\\n🔗 Related Video links: \\n👉 iPhone 15 Pro Max Review: https://www.youtube.com/watch?v=mu1m-qrj_9Q\\n👉 All Apple videos: https://www.youtube.com/playlist?list=PL2XWjlJjGp3uMKOssWN3NiKQ22LNaOFE4\\n\\n\\n❤️ Follow Josh: \\n👉 Threads: https://www.threads.net/@joshteder\\n👉 Reddit: https://www.reddit.com/user/joshteder/ \\n👉 Instagram: https://www.instagram.com/joshteder/\\n👉 Mastodon: https://mastodon.social/@joshteder\\n👉 LinkedIn: https://www.linkedin.com/in/joshteder/\\n\\n💻 Get Deal Alerts on our Recommended Products\\nPlus a Recap of Everything We Publish Each Month \\n👉 Sign up for our free monthly newsletter: https://6monthslater.substack.com/?showWelcome=true \\n\\n\\n🎥  Video Production Equipment we use 📹\\nhttps://amzn.to/3Ejc1JR \\n \\n\\n🕰️Timestamps: \\n0:00 - Battery Life\\n0:46 - Siri and S9 SiP\\n1:30 - Brighter display \\n1:50 - Double Tap and HomePod Control\\n3:04 - Finding an iPhone with an Apple Watch\\n3:22 - WatchOS10\\n3:50 - Smart Stack and Control Center\\n4:33 - Snoopy Watch Face\\n4:52 - Fitness+ integration and hiking \\n5:25 - Sleep Tracking\\n5:39 - Media Controls \\n6:12 - Directions Haptic Feedback\\n6:27 - Setting timers and responding to messages\\n6:44 - Glanceable information on watch faces\\n7:03 - Downsides of the Apple Watch\\n7:56 - Recommendations\\n\\n\\n📜 Disclosures 📃 \\n\\nAny music used is licensed from artlist.io \\n\\nThe Apple Watch Series 9 and all other Apple products seen in this video were purchased by 6 Months Later. 6 Months Later has no relationship with Apple. This video has no sponsor. \\n\\nOur full ethics policy: https://6-months-later.com/about/ \\n\\nAny Amazon links we provide in our descriptions are in conjunction with our Amazon partnership.  The channel receives a small percentage of revenue from any sales generated by viewers clicking the links.\\n\\n#Apple\\n#AppleWatch\\n#Series9\\n#iPhone', 'thumbnails': {'default': {'url': 'https://i.ytimg.com/vi/wM16xWaJHbU/default.jpg', 'width': 120, 'height': 90}, 'medium': {'url': 'https://i.ytimg.com/vi/wM16xWaJHbU/mqdefault.jpg', 'width': 320, 'height': 180}, 'high': {'url': 'https://i.ytimg.com/vi/wM16xWaJHbU/hqdefault.jpg', 'width': 480, 'height': 360}, 'standard': {'url': 'https://i.ytimg.com/vi/wM16xWaJHbU/sddefault.jpg', 'width': 640, 'height': 480}, 'maxres': {'url': 'https://i.ytimg.com/vi/wM16xWaJHbU/maxresdefault.jpg', 'width': 1280, 'height': 720}}, 'channelTitle': '6 Months Later', 'tags': ['Apple Watch', 'Series 9', 'Apple', 'Review', '2024', '6 Months Later', 'Worth It?', 'Siri', 'S9', 'SiP', 'Brightness', 'Display', 'Saphire Crystal', 'WatchOS10', 'Find My iPhone', 'Location', 'Double Tap', 'HomePod Control', 'Sleep Tracking', 'Repairability', 'Android', 'Compatibility', 'Timers', 'Media Controls', 'Smart Stack', 'Control Center', 'Josh Teder'], 'categoryId': '28', 'liveBroadcastContent': 'none', 'defaultLanguage': 'en', 'localized': {'title': 'Apple Watch Series 9 Review - 6 Months Later', 'description': 'What parts of the Apple Watch Series 9’s experience really make it stand out from previous models 6 Months Later? What new features haven’t worked well or haven’t been worth it? What in 2024 do you really use and Apple Watch for and who should get one? We’ll answer these questions and more! \\n\\nSpecifically, we’ll walk you through what the battery life has been link, if Siri’s performance really has improved, the new Double Tap (pinchy pinch) feature, track the precise location of AirTags and your iPhone, what significant upgrades WatchOS10 makes to the Apple Watch experience, and more features we use like sleep tracking, the Apple Fitness+ TV integration, media controls, haptic feedback for directions, and more. Plus we’ll walk you through some of the downsides you can expect owning and Apple Watch and our recommendations on which model we recommend. \\n\\n\\n🛒 Product Links (Affiliate Links): \\n👉Apple Watch Series 9: https://amzn.to/3J41ZiA\\n👉iPhone 15 Pro Max: https://amzn.to/3voamm2\\n👉iPhone 15 Pro Max Silicon case: https://amzn.to/49bdYpc \\n👉 View all of our recommended products: https://www.amazon.com/shop/6monthslaterreviews \\n\\n\\n🔗 Related Video links: \\n👉 iPhone 15 Pro Max Review: https://www.youtube.com/watch?v=mu1m-qrj_9Q\\n👉 All Apple videos: https://www.youtube.com/playlist?list=PL2XWjlJjGp3uMKOssWN3NiKQ22LNaOFE4\\n\\n\\n❤️ Follow Josh: \\n👉 Threads: https://www.threads.net/@joshteder\\n👉 Reddit: https://www.reddit.com/user/joshteder/ \\n👉 Instagram: https://www.instagram.com/joshteder/\\n👉 Mastodon: https://mastodon.social/@joshteder\\n👉 LinkedIn: https://www.linkedin.com/in/joshteder/\\n\\n💻 Get Deal Alerts on our Recommended Products\\nPlus a Recap of Everything We Publish Each Month \\n👉 Sign up for our free monthly newsletter: https://6monthslater.substack.com/?showWelcome=true \\n\\n\\n🎥  Video Production Equipment we use 📹\\nhttps://amzn.to/3Ejc1JR \\n \\n\\n🕰️Timestamps: \\n0:00 - Battery Life\\n0:46 - Siri and S9 SiP\\n1:30 - Brighter display \\n1:50 - Double Tap and HomePod Control\\n3:04 - Finding an iPhone with an Apple Watch\\n3:22 - WatchOS10\\n3:50 - Smart Stack and Control Center\\n4:33 - Snoopy Watch Face\\n4:52 - Fitness+ integration and hiking \\n5:25 - Sleep Tracking\\n5:39 - Media Controls \\n6:12 - Directions Haptic Feedback\\n6:27 - Setting timers and responding to messages\\n6:44 - Glanceable information on watch faces\\n7:03 - Downsides of the Apple Watch\\n7:56 - Recommendations\\n\\n\\n📜 Disclosures 📃 \\n\\nAny music used is licensed from artlist.io \\n\\nThe Apple Watch Series 9 and all other Apple products seen in this video were purchased by 6 Months Later. 6 Months Later has no relationship with Apple. This video has no sponsor. \\n\\nOur full ethics policy: https://6-months-later.com/about/ \\n\\nAny Amazon links we provide in our descriptions are in conjunction with our Amazon partnership.  The channel receives a small percentage of revenue from any sales generated by viewers clicking the links.\\n\\n#Apple\\n#AppleWatch\\n#Series9\\n#iPhone'}, 'defaultAudioLanguage': 'en'}, 'statistics': {'viewCount': '16312', 'likeCount': '339', 'favoriteCount': '0', 'commentCount': '17'}}], 'pageInfo': {'totalResults': 1, 'resultsPerPage': 1}}\n",
            "Video 3 - Apple Watch Series 9 Review - 6 Months Later -- Comment count:  17\n",
            "\n",
            "{'kind': 'youtube#videoListResponse', 'etag': 'PeaDhHNL6Fv0FAfqHZDYC8phCik', 'items': [{'kind': 'youtube#video', 'etag': 'Aozge9gE-BnQBTV5MZLBS9XFDSs', 'id': 'oNCs4C2SMjo', 'snippet': {'publishedAt': '2023-09-21T17:29:36Z', 'channelId': 'UCBJycsmduvYEL83R_U4JriQ', 'title': 'Apple Watch Series 9 & Ultra 2: What Are We Waiting For?!', 'description': \"Apple Watch Ultra 2 and Series 9 are... a spec bump. But what are we actually waiting for?\\n\\nMKBHD Merch: http://shop.MKBHD.com\\n\\nTech I'm using right now: https://www.amazon.com/shop/MKBHD\\n\\nIntro Track: http://youtube.com/20syl\\nPlaylist of MKBHD Intro music: https://goo.gl/B3AWV5\\n\\nWatch provided by Apple for review.\\n\\n~\\nhttp://twitter.com/MKBHD\\nhttp://instagram.com/MKBHD\\nhttp://facebook.com/MKBHD\", 'thumbnails': {'default': {'url': 'https://i.ytimg.com/vi/oNCs4C2SMjo/default.jpg', 'width': 120, 'height': 90}, 'medium': {'url': 'https://i.ytimg.com/vi/oNCs4C2SMjo/mqdefault.jpg', 'width': 320, 'height': 180}, 'high': {'url': 'https://i.ytimg.com/vi/oNCs4C2SMjo/hqdefault.jpg', 'width': 480, 'height': 360}, 'standard': {'url': 'https://i.ytimg.com/vi/oNCs4C2SMjo/sddefault.jpg', 'width': 640, 'height': 480}, 'maxres': {'url': 'https://i.ytimg.com/vi/oNCs4C2SMjo/maxresdefault.jpg', 'width': 1280, 'height': 720}}, 'channelTitle': 'Marques Brownlee', 'tags': ['Apple watch', 'Apple watch review', 'apple watch series 9', 'watch series 9', 'MKBHD', 'Watch ultra', 'ultra 2', 'apple watch ultra', 'apple watch ultra 2'], 'categoryId': '28', 'liveBroadcastContent': 'none', 'defaultLanguage': 'en', 'localized': {'title': 'Apple Watch Series 9 & Ultra 2: What Are We Waiting For?!', 'description': \"Apple Watch Ultra 2 and Series 9 are... a spec bump. But what are we actually waiting for?\\n\\nMKBHD Merch: http://shop.MKBHD.com\\n\\nTech I'm using right now: https://www.amazon.com/shop/MKBHD\\n\\nIntro Track: http://youtube.com/20syl\\nPlaylist of MKBHD Intro music: https://goo.gl/B3AWV5\\n\\nWatch provided by Apple for review.\\n\\n~\\nhttp://twitter.com/MKBHD\\nhttp://instagram.com/MKBHD\\nhttp://facebook.com/MKBHD\"}, 'defaultAudioLanguage': 'en-US'}, 'statistics': {'viewCount': '3645637', 'likeCount': '90109', 'favoriteCount': '0', 'commentCount': '3856'}}], 'pageInfo': {'totalResults': 1, 'resultsPerPage': 1}}\n",
            "Video 4 - Apple Watch Series 9 & Ultra 2: What Are We Waiting For?! -- Comment count:  3856\n",
            "\n",
            "{'kind': 'youtube#videoListResponse', 'etag': 'zp-6Wi7Al1FGrZLoZxWdcADCGvU', 'items': [{'kind': 'youtube#video', 'etag': 'fBSpQigsmi78dJ5xpZihjSB2VNM', 'id': 'Oh9Q6zUqng4', 'snippet': {'publishedAt': '2024-02-18T12:00:16Z', 'channelId': 'UCnn3N0i3TVGbQ9bMb4ln2OQ', 'title': 'Apple Watch Series 9 After 5 Months: Not All It Seems', 'description': \"After 5 Months of use with the Apple Watch Series 9, my thoughts have changed...\\nALL MY FAVORITE GEAR IS LISTED BELOW 👇\\n\\n\\nIn this video, I share my honest long term experience with the Apple Watch Series 9. From the announcement to long-term wear, I've explored every new feature and upgrade, evaluating what truly adds value and what might be considered fluff. I discuss the Series 9's performance, design durability, and software enhancements, including my take on the new S9 chip, watchOS 10, and the practicality of the latest health tracking features. Join me, as we dissect the real-world implications of Apple's latest wearable tech, helping you make an informed decision.\\n\\nBuy Apple Watch Series 9 | https://amzn.to/49F8DqU\\nApple Sport Band | https://amzn.to/49EnJgw\\nApple Alpine Loop Band | https://amzn.to/3UQAKz8\\n\\nDownload My Latest Wallpaper Pack HERE: https://iokyle.gumroad.com/\\nI monitor and manage all my macs with CleanMyMac X: https://macpaw.audw.net/c/3460079/263631/1733\\n\\nMY SETUP GEAR:\\nSpace Black MacBook Pro M3 Pro | https://amzn.to/41dh6ic\\nEffydesk Wildwood Standing Desk | https://amzn.to/3Sy67NJ\\nEffydesk Deskshelf | https://amzn.to/426k2xq\\nApple Studio Display | https://amzn.to/3GCr0R6\\nHumanCentric Vertical Laptop Stand | https://amzn.to/3RAD2R2\\nWalnut Headphone Stand | https://amzn.to/3U6NQYS\\nBeyerdynamic DT 990 Pro Headphones | https://amzn.to/3HpUmm0\\nCalDigit TS4 USB Hub | https://amzn.to/3Fc80Ji\\nSamsung 980 Pro SSD | https://amzn.to/48yWsfc\\nHyperDrive Next USB4 SSD Enclosure: https://bit.ly/hyper-next-drive\\nLogitech MX Master 3S Mouse | https://amzn.to/3mkvEfS\\nApple Magic Keyboard with TouchID | https://amzn.to/4agndXg\\nOrbitkey Desk Mat & Keyholder | https://bit.ly/41jSoMg\\nOlanglab Wood Slat Panels | https://amzn.to/4aW3Q65\\nUMIAcoustics Wood Slats | https://amzn.to/4b0Px00\\nLamomo LED Neon Rope | https://amzn.to/3S5PKWT\\nGrid Studio iPhone Classic Kit | http://shrsl.com/3nsgi\\nMandalorian Lego Figures | https://amzn.to/3Et0oyB\\n\\nMUSIC I USE IN MY VIDEOS IS ALL FROM EPIDEMIC SOUND\\nGet a free month with the link below:\\nhttps://www.epidemicsound.com/referral/ft6xri\\n\\nLINKS TO PRODUCTS CONTAIN AFFILIATE LINKS\\nBy using the affiliate links, I earn a small fee from any purchase you make. It won't cost you anything to use them. By clicking them it helps support me, and create more content for you. Thank you for the support!\\n_______________________________\\n00:00 | Intro\\n00:42 | Why I Bought the Series 9\\n01:51 | Design & Build\\n04:11 | watchOS 10\\n06:19 | Precision Tracking\\n07:03 | Double Tap\\n08:00 | On-Device Siri\\n08:37 | Blood Oxygen Note\\n08:57 | Battery \\n09:49 | Wrapping Up\\n\\n#applewatch #series9 #apple\", 'thumbnails': {'default': {'url': 'https://i.ytimg.com/vi/Oh9Q6zUqng4/default.jpg', 'width': 120, 'height': 90}, 'medium': {'url': 'https://i.ytimg.com/vi/Oh9Q6zUqng4/mqdefault.jpg', 'width': 320, 'height': 180}, 'high': {'url': 'https://i.ytimg.com/vi/Oh9Q6zUqng4/hqdefault.jpg', 'width': 480, 'height': 360}, 'standard': {'url': 'https://i.ytimg.com/vi/Oh9Q6zUqng4/sddefault.jpg', 'width': 640, 'height': 480}, 'maxres': {'url': 'https://i.ytimg.com/vi/Oh9Q6zUqng4/maxresdefault.jpg', 'width': 1280, 'height': 720}}, 'channelTitle': 'Kyle Erickson', 'categoryId': '28', 'liveBroadcastContent': 'none', 'localized': {'title': 'Apple Watch Series 9 After 5 Months: Not All It Seems', 'description': \"After 5 Months of use with the Apple Watch Series 9, my thoughts have changed...\\nALL MY FAVORITE GEAR IS LISTED BELOW 👇\\n\\n\\nIn this video, I share my honest long term experience with the Apple Watch Series 9. From the announcement to long-term wear, I've explored every new feature and upgrade, evaluating what truly adds value and what might be considered fluff. I discuss the Series 9's performance, design durability, and software enhancements, including my take on the new S9 chip, watchOS 10, and the practicality of the latest health tracking features. Join me, as we dissect the real-world implications of Apple's latest wearable tech, helping you make an informed decision.\\n\\nBuy Apple Watch Series 9 | https://amzn.to/49F8DqU\\nApple Sport Band | https://amzn.to/49EnJgw\\nApple Alpine Loop Band | https://amzn.to/3UQAKz8\\n\\nDownload My Latest Wallpaper Pack HERE: https://iokyle.gumroad.com/\\nI monitor and manage all my macs with CleanMyMac X: https://macpaw.audw.net/c/3460079/263631/1733\\n\\nMY SETUP GEAR:\\nSpace Black MacBook Pro M3 Pro | https://amzn.to/41dh6ic\\nEffydesk Wildwood Standing Desk | https://amzn.to/3Sy67NJ\\nEffydesk Deskshelf | https://amzn.to/426k2xq\\nApple Studio Display | https://amzn.to/3GCr0R6\\nHumanCentric Vertical Laptop Stand | https://amzn.to/3RAD2R2\\nWalnut Headphone Stand | https://amzn.to/3U6NQYS\\nBeyerdynamic DT 990 Pro Headphones | https://amzn.to/3HpUmm0\\nCalDigit TS4 USB Hub | https://amzn.to/3Fc80Ji\\nSamsung 980 Pro SSD | https://amzn.to/48yWsfc\\nHyperDrive Next USB4 SSD Enclosure: https://bit.ly/hyper-next-drive\\nLogitech MX Master 3S Mouse | https://amzn.to/3mkvEfS\\nApple Magic Keyboard with TouchID | https://amzn.to/4agndXg\\nOrbitkey Desk Mat & Keyholder | https://bit.ly/41jSoMg\\nOlanglab Wood Slat Panels | https://amzn.to/4aW3Q65\\nUMIAcoustics Wood Slats | https://amzn.to/4b0Px00\\nLamomo LED Neon Rope | https://amzn.to/3S5PKWT\\nGrid Studio iPhone Classic Kit | http://shrsl.com/3nsgi\\nMandalorian Lego Figures | https://amzn.to/3Et0oyB\\n\\nMUSIC I USE IN MY VIDEOS IS ALL FROM EPIDEMIC SOUND\\nGet a free month with the link below:\\nhttps://www.epidemicsound.com/referral/ft6xri\\n\\nLINKS TO PRODUCTS CONTAIN AFFILIATE LINKS\\nBy using the affiliate links, I earn a small fee from any purchase you make. It won't cost you anything to use them. By clicking them it helps support me, and create more content for you. Thank you for the support!\\n_______________________________\\n00:00 | Intro\\n00:42 | Why I Bought the Series 9\\n01:51 | Design & Build\\n04:11 | watchOS 10\\n06:19 | Precision Tracking\\n07:03 | Double Tap\\n08:00 | On-Device Siri\\n08:37 | Blood Oxygen Note\\n08:57 | Battery \\n09:49 | Wrapping Up\\n\\n#applewatch #series9 #apple\"}, 'defaultAudioLanguage': 'en'}, 'statistics': {'viewCount': '64906', 'likeCount': '1090', 'favoriteCount': '0', 'commentCount': '104'}}], 'pageInfo': {'totalResults': 1, 'resultsPerPage': 1}}\n",
            "Video 5 - Apple Watch Series 9 After 5 Months: Not All It Seems -- Comment count:  104\n",
            "\n",
            "{'kind': 'youtube#videoListResponse', 'etag': '2w3WoaUILWX4SLlYur44QA7ungk', 'items': [{'kind': 'youtube#video', 'etag': 'x4YlTisrhk5DD2eJs7xrYbvaeb8', 'id': '5VyLYPyqJvE', 'snippet': {'publishedAt': '2024-01-18T16:15:55Z', 'channelId': 'UCyIz8xeaU78aR4WkJ0kv02g', 'title': 'Apple Watch Series 9 — 2 Months After (Long-Term Review)', 'description': \"Hit the link to try out Waveroom AI for FREE! https://bit.ly/3vDemiu\\n\\nIs the Apple Watch S9 worth buying? This is a question that many fans of Apple's Cupertino technology ask. Today I will tell you about my experience with the 9th generation smart watch after 2 months of use.... Is it really a sports gadget? Is it suitable for all workouts? And what disadvantages I found in this watch, I will tell you today.\\n\\nLinks to best deals (Amazon) ↓\\nApple Watch Series 9 - https://geni.us/ulKK4\\nApple Watch SE (2nd Gen) - https://geni.us/Lgkrsa\\nApple Watch Series 6 - https://geni.us/5pvsU9\\nScreen Protector for Series 9 - https://geni.us/e7Bub\\n\\nBUSINESS INQUIRIES ONLY - c.arthurwiner@gmail.com\\n\\nLike my footage? Download here - https://bit.ly/arthurwinerfootage\\n\\n-----------------------\\nShop on Amazon - https://geni.us/vZOu3\\n\\nGEAR THAT I USE ↓\\n\\nMY STUDIO CAMERA - https://geni.us/orXP\\nMY SECONDARY CAMERA - https://geni.us/5FBZ\\nMY VLOGGING CAMERA - https://geni.us/SSIUAF\\nMY ALL TIME B-ROLL LENS - https://geni.us/6qAqp0K\\nGREAT LOW LIGHT LENS - https://geni.us/PXtT\\nBEST STUDIO MIC - https://geni.us/WWGsi\\nBEST VLOGGING MIC - https://geni.us/tizXM5\\nMY EDITING MACBOOK - https://geni.us/5aA6A6\\nAWESOME LIGHT FOR YOUTUBE - https://geni.us/m2F3jW\\nPERFECT EVERYDAY TRAVELLING TRIPOD - https://geni.us/HbVgSj\\nAs an Amazon Associate I earn from qualifying purchases. \\n-----------------------\\n\\nMY INSTAGRAM - https://www.instagram.com/arthur.winer\\n\\n-----------------------\\n*Arthur Winer is a participant in the Amazon Services LLC Associates Program, an affiliate advertising program designed to provide a means for sites to earn advertising fees by advertising and linking to amazon.com\", 'thumbnails': {'default': {'url': 'https://i.ytimg.com/vi/5VyLYPyqJvE/default.jpg', 'width': 120, 'height': 90}, 'medium': {'url': 'https://i.ytimg.com/vi/5VyLYPyqJvE/mqdefault.jpg', 'width': 320, 'height': 180}, 'high': {'url': 'https://i.ytimg.com/vi/5VyLYPyqJvE/hqdefault.jpg', 'width': 480, 'height': 360}, 'standard': {'url': 'https://i.ytimg.com/vi/5VyLYPyqJvE/sddefault.jpg', 'width': 640, 'height': 480}, 'maxres': {'url': 'https://i.ytimg.com/vi/5VyLYPyqJvE/maxresdefault.jpg', 'width': 1280, 'height': 720}}, 'channelTitle': 'Arthur Winer', 'tags': ['apple watch', 'apple watch series 9', 'apple watch s9', 'apple watch 9', 'apple watch long term', 'apple watch 6', 'apple watch 9 review', 'apple watch ultra', 'series 9', 'new apple watch', 'apple watch series 9 vs ultra 2', 'apple', 'watchos 10', \"don't buy apple watch\", 'apple watch honest review', 'apple watch user experience', 'arthur winer', 'winer arthur'], 'categoryId': '26', 'liveBroadcastContent': 'none', 'localized': {'title': 'Apple Watch Series 9 — 2 Months After (Long-Term Review)', 'description': \"Hit the link to try out Waveroom AI for FREE! https://bit.ly/3vDemiu\\n\\nIs the Apple Watch S9 worth buying? This is a question that many fans of Apple's Cupertino technology ask. Today I will tell you about my experience with the 9th generation smart watch after 2 months of use.... Is it really a sports gadget? Is it suitable for all workouts? And what disadvantages I found in this watch, I will tell you today.\\n\\nLinks to best deals (Amazon) ↓\\nApple Watch Series 9 - https://geni.us/ulKK4\\nApple Watch SE (2nd Gen) - https://geni.us/Lgkrsa\\nApple Watch Series 6 - https://geni.us/5pvsU9\\nScreen Protector for Series 9 - https://geni.us/e7Bub\\n\\nBUSINESS INQUIRIES ONLY - c.arthurwiner@gmail.com\\n\\nLike my footage? Download here - https://bit.ly/arthurwinerfootage\\n\\n-----------------------\\nShop on Amazon - https://geni.us/vZOu3\\n\\nGEAR THAT I USE ↓\\n\\nMY STUDIO CAMERA - https://geni.us/orXP\\nMY SECONDARY CAMERA - https://geni.us/5FBZ\\nMY VLOGGING CAMERA - https://geni.us/SSIUAF\\nMY ALL TIME B-ROLL LENS - https://geni.us/6qAqp0K\\nGREAT LOW LIGHT LENS - https://geni.us/PXtT\\nBEST STUDIO MIC - https://geni.us/WWGsi\\nBEST VLOGGING MIC - https://geni.us/tizXM5\\nMY EDITING MACBOOK - https://geni.us/5aA6A6\\nAWESOME LIGHT FOR YOUTUBE - https://geni.us/m2F3jW\\nPERFECT EVERYDAY TRAVELLING TRIPOD - https://geni.us/HbVgSj\\nAs an Amazon Associate I earn from qualifying purchases. \\n-----------------------\\n\\nMY INSTAGRAM - https://www.instagram.com/arthur.winer\\n\\n-----------------------\\n*Arthur Winer is a participant in the Amazon Services LLC Associates Program, an affiliate advertising program designed to provide a means for sites to earn advertising fees by advertising and linking to amazon.com\"}, 'defaultAudioLanguage': 'en-US'}, 'statistics': {'viewCount': '38738', 'likeCount': '315', 'favoriteCount': '0', 'commentCount': '31'}}], 'pageInfo': {'totalResults': 1, 'resultsPerPage': 1}}\n",
            "Video 6 - Apple Watch Series 9 — 2 Months After (Long-Term Review) -- Comment count:  31\n",
            "\n",
            "{'kind': 'youtube#videoListResponse', 'etag': 'Q90sF9zr8Wb0S3gMzKDHh2YdfcI', 'items': [{'kind': 'youtube#video', 'etag': '9UQydg-SpNILxW_cOwyMA7E8714', 'id': 'J6hCaO7n35o', 'snippet': {'publishedAt': '2023-10-22T11:00:13Z', 'channelId': 'UCnn3N0i3TVGbQ9bMb4ln2OQ', 'title': \"Apple Watch Series 9 After 1 Month: It's Not Even CLOSE!\", 'description': \"Diving into my experience with the Apple Watch Series 9 over the past month.\\nALL MY FAVORITE GEAR IS LISTED BELOW 👇\\n\\nwatchOS 10 video is here: https://youtu.be/5lVV5jm1bCQ\\n\\nI bought the Apple Watch Series 9 on launch, after using the Series 6 for a few years. I've also been testing out the Google Pixel Watch 2 recently, which has given me some context for what makes this watch special. If you're considering either the Series 9 Or the Apple Watch Ultra 2, and wondering if they're worth it, this is the video for you.\\n\\nBUY THE SERIES 9 HERE: https://amzn.to/3SqTDb5\\n\\nDownload My Latest Wallpaper Pack HERE: https://iokyle.gumroad.com/\\nI monitor and manage all my macs with CleanMyMac X: https://macpaw.audw.net/c/3460079/263631/1733\\n\\nMY APPLE/SETUP SETUP GEAR:\\nLG 27UQ850-W Ultrafine 4K Monitor | https://amzn.to/3o1Beoh\\nLogitech MX Master 3S Mouse | https://amzn.to/3mkvEfS\\nLogitech MX Keys Mini | https://amzn.to/3PrfUQE\\nZikeDrive USB4 SSD Enclosure: https://shrsl.com/49hyk\\nWestern Digital SN770: https://amzn.to/3A6aZPI\\nFlexispot Standing Desk | https://bit.ly/3xUYJ40\\nBenQ ScreenBar Monitor Light | https://amzn.to/3w7DQBH\\nGove RGBIC Strip Lights | https://amzn.to/3CvITx3\\nMandalorian Lego Figures | https://amzn.to/3Et0oyB\\nNomad Base One Max | https://www.dpbolvw.net/click-100415534-14527713?url=https%3A%2F%2Fnomadgoods.com%2Fproducts%2Fbase-one-max-carbide\\nAutonomous ErgoChair Pro | https://www.autonomous.ai/office-chairs/ergonomic-chair?utm_source=pr&utm_medium=influencer&utm_campaign=growth&utm_content=Youtube&utm_term=22KYLE\\nMonoprice Cable Tray | https://amzn.to/3A5nb3t\\nOrbitkey Desk Mat & Keyholder | https://bit.ly/41jSoMg\\nFluance Ai41 Speakers | https://amzn.to/3oi6wah\\nKanto S4 Speaker Stands | https://amzn.to/3A6cWvw\\nVivo Monitor Arm | https://amzn.to/3CtYkWE\\nCalDigit TS4 USB Hub | https://amzn.to/3Fc80Ji\\nGrid Studio iPhone Classic Kit | http://shrsl.com/3nsgi\\n\\nMUSIC I USE IN MY VIDEOS IS ALL FROM EPIDEMIC SOUND\\nGet a free month with the link below:\\nhttps://www.epidemicsound.com/referral/ft6xri\\n\\nLINKS TO PRODUCTS CONTAIN AFFILIATE LINKS\\nBy using the affiliate links, I earn a small fee from any purchase you make. It won't cost you anything to use them. By clicking them it helps support me, and create more content for you. Thank you for the support!\\n_______________________________\\n00:00 | Intro\\n01:07 | Design\\n02:23 | Screen\\n03:04 | Battery\\n03:53 | S9 Chip\\n04:16 | Siri Updates\\n04:38 | Double Tap\\n06:01 | Precision Finding\\n06:33 | watchOS 10\\n08:42 | Wrapping Up\", 'thumbnails': {'default': {'url': 'https://i.ytimg.com/vi/J6hCaO7n35o/default.jpg', 'width': 120, 'height': 90}, 'medium': {'url': 'https://i.ytimg.com/vi/J6hCaO7n35o/mqdefault.jpg', 'width': 320, 'height': 180}, 'high': {'url': 'https://i.ytimg.com/vi/J6hCaO7n35o/hqdefault.jpg', 'width': 480, 'height': 360}, 'standard': {'url': 'https://i.ytimg.com/vi/J6hCaO7n35o/sddefault.jpg', 'width': 640, 'height': 480}, 'maxres': {'url': 'https://i.ytimg.com/vi/J6hCaO7n35o/maxresdefault.jpg', 'width': 1280, 'height': 720}}, 'channelTitle': 'Kyle Erickson', 'tags': ['apple watch series 9', 'apple watch', 'apple watch ultra', 'apple watch series 9 review', 'apple watch series 9 vs ultra 2', 'apple watch series 9 vs series 8', 'google pixel watch', 'pixel watch vs apple watch', 'series 9', 'series 9 review', 'series 9 vs series 6', 'aw series 9', 'apple watch s9', 'apple watch s9 review', 'apple watch ultra 2', 'apple watch series 9 starlight', 'apple watch nike sport loop', 'nike sport loop', 'apple watch bands'], 'categoryId': '28', 'liveBroadcastContent': 'none', 'localized': {'title': \"Apple Watch Series 9 After 1 Month: It's Not Even CLOSE!\", 'description': \"Diving into my experience with the Apple Watch Series 9 over the past month.\\nALL MY FAVORITE GEAR IS LISTED BELOW 👇\\n\\nwatchOS 10 video is here: https://youtu.be/5lVV5jm1bCQ\\n\\nI bought the Apple Watch Series 9 on launch, after using the Series 6 for a few years. I've also been testing out the Google Pixel Watch 2 recently, which has given me some context for what makes this watch special. If you're considering either the Series 9 Or the Apple Watch Ultra 2, and wondering if they're worth it, this is the video for you.\\n\\nBUY THE SERIES 9 HERE: https://amzn.to/3SqTDb5\\n\\nDownload My Latest Wallpaper Pack HERE: https://iokyle.gumroad.com/\\nI monitor and manage all my macs with CleanMyMac X: https://macpaw.audw.net/c/3460079/263631/1733\\n\\nMY APPLE/SETUP SETUP GEAR:\\nLG 27UQ850-W Ultrafine 4K Monitor | https://amzn.to/3o1Beoh\\nLogitech MX Master 3S Mouse | https://amzn.to/3mkvEfS\\nLogitech MX Keys Mini | https://amzn.to/3PrfUQE\\nZikeDrive USB4 SSD Enclosure: https://shrsl.com/49hyk\\nWestern Digital SN770: https://amzn.to/3A6aZPI\\nFlexispot Standing Desk | https://bit.ly/3xUYJ40\\nBenQ ScreenBar Monitor Light | https://amzn.to/3w7DQBH\\nGove RGBIC Strip Lights | https://amzn.to/3CvITx3\\nMandalorian Lego Figures | https://amzn.to/3Et0oyB\\nNomad Base One Max | https://www.dpbolvw.net/click-100415534-14527713?url=https%3A%2F%2Fnomadgoods.com%2Fproducts%2Fbase-one-max-carbide\\nAutonomous ErgoChair Pro | https://www.autonomous.ai/office-chairs/ergonomic-chair?utm_source=pr&utm_medium=influencer&utm_campaign=growth&utm_content=Youtube&utm_term=22KYLE\\nMonoprice Cable Tray | https://amzn.to/3A5nb3t\\nOrbitkey Desk Mat & Keyholder | https://bit.ly/41jSoMg\\nFluance Ai41 Speakers | https://amzn.to/3oi6wah\\nKanto S4 Speaker Stands | https://amzn.to/3A6cWvw\\nVivo Monitor Arm | https://amzn.to/3CtYkWE\\nCalDigit TS4 USB Hub | https://amzn.to/3Fc80Ji\\nGrid Studio iPhone Classic Kit | http://shrsl.com/3nsgi\\n\\nMUSIC I USE IN MY VIDEOS IS ALL FROM EPIDEMIC SOUND\\nGet a free month with the link below:\\nhttps://www.epidemicsound.com/referral/ft6xri\\n\\nLINKS TO PRODUCTS CONTAIN AFFILIATE LINKS\\nBy using the affiliate links, I earn a small fee from any purchase you make. It won't cost you anything to use them. By clicking them it helps support me, and create more content for you. Thank you for the support!\\n_______________________________\\n00:00 | Intro\\n01:07 | Design\\n02:23 | Screen\\n03:04 | Battery\\n03:53 | S9 Chip\\n04:16 | Siri Updates\\n04:38 | Double Tap\\n06:01 | Precision Finding\\n06:33 | watchOS 10\\n08:42 | Wrapping Up\"}, 'defaultAudioLanguage': 'en'}, 'statistics': {'viewCount': '286071', 'likeCount': '3456', 'favoriteCount': '0', 'commentCount': '230'}}], 'pageInfo': {'totalResults': 1, 'resultsPerPage': 1}}\n",
            "Video 7 - Apple Watch Series 9 After 1 Month: It's Not Even CLOSE! -- Comment count:  230\n",
            "\n",
            "{'kind': 'youtube#videoListResponse', 'etag': 'D5GotUopNYrx0qZNWnJe_mlShNw', 'items': [{'kind': 'youtube#video', 'etag': 'QTpmKp1EfwRoPZCUftp-HiTWNRs', 'id': 'FcF0F4lYi_U', 'snippet': {'publishedAt': '2023-10-17T00:29:58Z', 'channelId': 'UCO_vmeInQm5Z6dEZ6R5Kk0A', 'title': 'Apple Watch Series 9 One Month Later - Why It Wins', 'description': \"This is the Apple Watch Series 9, what Apple calls as smarter, brighter, mightier, and what I'm gonna call as probably of my favorite smartwatches in a bit, even if for reasons that are not necessarily conventional to my taste. I mean sure, this might look like Series 8 and Series 7, but let's just say this could just be the culmination of what this watch should've been since Series 1. I'm Jaime Rivera with Pocketnow and let me explain to you why in to our full review. \\n\\nSubscribe: https://bit.ly/pocketnowsub\\nhttps://pocketnow.com\\n\\nFollow us:\\nhttps://flipboard.com/@Pocketnow\\nhttps://facebook.com/pocketnow\\nhttps://twitter.com/pocketnow\\nhttps://instagram.com/pocketnow\\n\\nGraphics provided by: Motionvfx.com\", 'thumbnails': {'default': {'url': 'https://i.ytimg.com/vi/FcF0F4lYi_U/default.jpg', 'width': 120, 'height': 90}, 'medium': {'url': 'https://i.ytimg.com/vi/FcF0F4lYi_U/mqdefault.jpg', 'width': 320, 'height': 180}, 'high': {'url': 'https://i.ytimg.com/vi/FcF0F4lYi_U/hqdefault.jpg', 'width': 480, 'height': 360}, 'standard': {'url': 'https://i.ytimg.com/vi/FcF0F4lYi_U/sddefault.jpg', 'width': 640, 'height': 480}, 'maxres': {'url': 'https://i.ytimg.com/vi/FcF0F4lYi_U/maxresdefault.jpg', 'width': 1280, 'height': 720}}, 'channelTitle': 'Pocketnow', 'tags': ['Apple Watch Series 9 Review', 'Apple Watch Series 9 One Month Later', 'Apple Watch Series 9', 'Apple Watch Extended Review', 'Best Apple Watch', 'Apple Watch 9', 'New Apple Watch', 'Best Smartwatch', 'WatchOS 10', 'iOS', 'iPhone', 'iPhone 15 Pro', 'Best Watch For iPhone', 'Pocketnow', 'Jaime Rivera', 'Pocketnow Daily', 'Review', 'Tech Review', 'New Watch', 'Best Watch', 'Apple Watch 9 vs Apple Watch 1', 'Series 9 Vs Ultra', 'Apple Watch Ultra Vs Apple Watch Series 9'], 'categoryId': '28', 'liveBroadcastContent': 'none', 'defaultLanguage': 'en', 'localized': {'title': 'Apple Watch Series 9 One Month Later - Why It Wins', 'description': \"This is the Apple Watch Series 9, what Apple calls as smarter, brighter, mightier, and what I'm gonna call as probably of my favorite smartwatches in a bit, even if for reasons that are not necessarily conventional to my taste. I mean sure, this might look like Series 8 and Series 7, but let's just say this could just be the culmination of what this watch should've been since Series 1. I'm Jaime Rivera with Pocketnow and let me explain to you why in to our full review. \\n\\nSubscribe: https://bit.ly/pocketnowsub\\nhttps://pocketnow.com\\n\\nFollow us:\\nhttps://flipboard.com/@Pocketnow\\nhttps://facebook.com/pocketnow\\nhttps://twitter.com/pocketnow\\nhttps://instagram.com/pocketnow\\n\\nGraphics provided by: Motionvfx.com\"}, 'defaultAudioLanguage': 'en'}, 'statistics': {'viewCount': '217991', 'likeCount': '3112', 'favoriteCount': '0', 'commentCount': '190'}}], 'pageInfo': {'totalResults': 1, 'resultsPerPage': 1}}\n",
            "Video 8 - Apple Watch Series 9 One Month Later - Why It Wins -- Comment count:  190\n",
            "\n",
            "{'kind': 'youtube#videoListResponse', 'etag': 'txMcxA0DjwASa6nQk7V_Ea8Dp-c', 'items': [{'kind': 'youtube#video', 'etag': 'LWpscG8Bw-1gdiMLOZtkQKi-xwQ', 'id': '4igZ3DEhrk4', 'snippet': {'publishedAt': '2023-09-30T15:31:00Z', 'channelId': 'UChNWxrTlmh4IRSevon1X93g', 'title': 'Apple Watch Series 9 : Full SCIENTIFIC Review', 'description': '🔴 Get a Series 9!*: https://geni.us/AppleWatch_Series9\\n🔴 Get an Apple Watch Ultra2*: https://geni.us/AppleWatch_Ultra2\\n🔴 General Amazon link*: https://geni.us/thequantifiedscientist\\n🟢 Instagram: https://www.instagram.com/quantified_scientist/\\n🟠 Shorts: https://www.youtube.com/@smartwatchshorts\\n🔵 Newsletter: www.robterhorst.com\\n🟡 Twitter: @QuantifiedRob\\n* Affiliate (paid) links support the channel by earning me a commission on any sale, and it doesn\\'t cost you any more! My opinions are completely my own, and this content is not sponsored.\\n▬▬▬▬▬▬▬▬▬▬▬▬▬▬▬▬▬▬▬▬▬▬▬▬▬▬▬▬\\n👇 $30 off any new WHOOP membership, affiliate* (paid) link, supports the channel!👇\\nhttps://join.whoop.com/QuantifiedScientist ($30 off any new WHOOP membership)\\n▬▬▬▬▬▬▬▬▬▬▬▬▬▬▬▬▬▬▬▬▬▬▬▬▬▬▬▬\\n👇Amazon Affiliate* (paid) links. Supports the channel, doesn\\'t cost you any more!👇\\n▬▬▬▬▬▬▬▬▬▬BEST WATCHES▬▬▬▬▬▬▬▬▬▬\\n🔴 Oura Link: I recommend you search for a discount on reddit with the \"Refer-A-Friend\" program! If you can’t find one: https://ouraring.sjv.io/rQ4L33 (affiliate link that supports the channel, but doesn\\'t have a discount)\\n🔴 Whoop Strap 4.0: https://join.whoop.com/QuantifiedScientist \\n($30 off any new WHOOP membership)\\n🔴 Eight sleep 200$/150$ discount*: https://eight-sleep.ioym.net/TheQuantifiedScientist + add code “TQS” for 200$/150$ total discount\\n\\n🔴 General Amazon link*: https://geni.us/thequantifiedscientist\\n🔴 Polar H10: https://geni.us/hnXc\\n\\n▬▬▬▬▬▬▬▬▬▬▬▬▬▬▬▬▬▬▬▬▬▬▬▬▬▬▬▬\\n📸My Gear* (paid links, supports the channel and doesn’t cost you any more)📸\\nCamera body (main): https://geni.us/SonyA6600_body\\nCamera lens (main): https://geni.us/SigmaContemporary\\nCamera (B-roll 1): https://geni.us/Sony_ZVE1\\nCamera (B-roll 2): https://geni.us/CanonEosM50MarkII and https://geni.us/Sony_ZVE10\\nLight: https://geni.us/Godox_VL150\\nSoftbox: https://geni.us/NiceFotoSoftbox\\nLight stand: https://geni.us/WalimexLightstand\\n▬▬▬▬▬▬▬▬▬▬▬▬▬▬▬▬▬▬▬▬▬▬▬▬▬▬▬▬\\n\\nReference devices:\\nZMax + Dreamento: https://www.biorxiv.org/content/10.1101/2023.08.18.553744v1 & https://github.com/dreamento/dreamento\\nPolar H10: https://pubmed.ncbi.nlm.nih.gov/31004219/\\n\\nIntro Music:\\nMusic from #Uppbeat (free for Creators!):\\nhttps://uppbeat.io/t/moire/new-life\\nLicense code: OBLD6VBBCTRDFZQP\\n\\nTimestamps:\\n00:00 Quick Intro\\n00:57 Testing setup\\n01:24 Apple Watch 9 Improvements\\n04:05 Indoor Cycling Test 1 : Male\\n06:54 Indoor Cycling Test 2 : Female\\n08:05 Indoor Cycling Test : Comparison w/ Other Watches\\n09:38 Outdoor Cycling Test 1 : Male\\n12:03 Outdoor Cycling Test 2 : Female\\n13:06 Outdoor Cycling Test : Comparison w/ Other Watches\\n14:29 Running Test 1 : Male\\n15:51 Running Test 2 : Female\\n16:36 Weight Lifting Test 1 : Male\\n18:46 Weight Lifting Test 2 : Female\\n19:43 Weight Lifting Test : Comparison w/ Other Watches\\n21:44 Sleep Test : Series 9\\n29:40 Sleep Test : Comparison w/ Other Watches\\n33:25 GPS Test\\n38:31 Oxygen Saturation Test\\n41:11 Limitations\\n42:00 Recommendations & Conclusions\\n\\nFor the most part, the watch is very similar to the Series 8, but with a few improvements: first of all, the screen is quite a bit brighter, which is quite nice actually. It is quite tricky to capture on camera, but here you can see it for yourself under a bunch of different circumstances. Second, one of the main things that was addressed in the keynote is that it has a new and much more powerful S9 chip, which among other things enables the “double tap”. This was one of the most highlighted features during the keynote, maybe a bit too much in my opinion, but it is quite cool. This is available starting from watchOS version 10.1, which unfortunately isn’t out yet, and Apple did not invite me to the launch event or give me early access, so I couldn’ test it. Hey Apple, hint, hint… Now, online I saw many comments that Apple Watches basically had this feature for a long time, called Assistive Touch. I tried Assistive Touch on my Apple Watch Series 8 before the Series 9 was released, and it does have much of the same functionalities as Double Tap. Though I did find it kind of clunky to use. DC Rainmaker mentioned in his video that the double tap feature worked significantly better for him than Assistive touch. Now, Apple says the double tap feature will only work on the Series 9, because it needs the S9 chip, which is probably true for the way it is implemented. However, I still wonder if they couldn’t have made it work on older series if they’d really wanted to, but OK, it is Apple we are talking about. Now, the new S9 chip also enables Siri to do some new things: first of all, Siri can now process some commands on-device, meaning it is much faster at doing certain things, like setting an alarm. This is honestly much more important to me than double tap, since I will use Siri much more for these kinds of small tasks now. Siri can now also access your health and fitness data, and also add health data via voice commands, or at least, you will be able to do so “later this year”.', 'thumbnails': {'default': {'url': 'https://i.ytimg.com/vi/4igZ3DEhrk4/default.jpg', 'width': 120, 'height': 90}, 'medium': {'url': 'https://i.ytimg.com/vi/4igZ3DEhrk4/mqdefault.jpg', 'width': 320, 'height': 180}, 'high': {'url': 'https://i.ytimg.com/vi/4igZ3DEhrk4/hqdefault.jpg', 'width': 480, 'height': 360}, 'standard': {'url': 'https://i.ytimg.com/vi/4igZ3DEhrk4/sddefault.jpg', 'width': 640, 'height': 480}, 'maxres': {'url': 'https://i.ytimg.com/vi/4igZ3DEhrk4/maxresdefault.jpg', 'width': 1280, 'height': 720}}, 'channelTitle': 'The Quantified Scientist', 'tags': ['apple watch ultra 2 vs series 9', 'apple watch series 9 vs ultra 2', 'ultra 2 vs series 9', 'apple watch ultra vs series 9', 'series 9 vs ultra 2', 'ultra 2', 'series 9', 'apple watch', 'apple watch ultra 2', 'apple watch series 9', 'apple watch comparison', 'apple', 'ultra 2 review', 'series 9 review', 'ultra 2 vs series 9 comparison', 'series 9 vs ultra 2 comparison', 'apple watch ultra 2 vs 1', 'apple watch ultra', 'series 9 vs ultra', 'ultra 1 vs ultra 2', 'ultra 2 vs ultra 1', 'series 9 vs series 8', 'watch'], 'categoryId': '28', 'liveBroadcastContent': 'none', 'localized': {'title': 'Apple Watch Series 9 : Full SCIENTIFIC Review', 'description': '🔴 Get a Series 9!*: https://geni.us/AppleWatch_Series9\\n🔴 Get an Apple Watch Ultra2*: https://geni.us/AppleWatch_Ultra2\\n🔴 General Amazon link*: https://geni.us/thequantifiedscientist\\n🟢 Instagram: https://www.instagram.com/quantified_scientist/\\n🟠 Shorts: https://www.youtube.com/@smartwatchshorts\\n🔵 Newsletter: www.robterhorst.com\\n🟡 Twitter: @QuantifiedRob\\n* Affiliate (paid) links support the channel by earning me a commission on any sale, and it doesn\\'t cost you any more! My opinions are completely my own, and this content is not sponsored.\\n▬▬▬▬▬▬▬▬▬▬▬▬▬▬▬▬▬▬▬▬▬▬▬▬▬▬▬▬\\n👇 $30 off any new WHOOP membership, affiliate* (paid) link, supports the channel!👇\\nhttps://join.whoop.com/QuantifiedScientist ($30 off any new WHOOP membership)\\n▬▬▬▬▬▬▬▬▬▬▬▬▬▬▬▬▬▬▬▬▬▬▬▬▬▬▬▬\\n👇Amazon Affiliate* (paid) links. Supports the channel, doesn\\'t cost you any more!👇\\n▬▬▬▬▬▬▬▬▬▬BEST WATCHES▬▬▬▬▬▬▬▬▬▬\\n🔴 Oura Link: I recommend you search for a discount on reddit with the \"Refer-A-Friend\" program! If you can’t find one: https://ouraring.sjv.io/rQ4L33 (affiliate link that supports the channel, but doesn\\'t have a discount)\\n🔴 Whoop Strap 4.0: https://join.whoop.com/QuantifiedScientist \\n($30 off any new WHOOP membership)\\n🔴 Eight sleep 200$/150$ discount*: https://eight-sleep.ioym.net/TheQuantifiedScientist + add code “TQS” for 200$/150$ total discount\\n\\n🔴 General Amazon link*: https://geni.us/thequantifiedscientist\\n🔴 Polar H10: https://geni.us/hnXc\\n\\n▬▬▬▬▬▬▬▬▬▬▬▬▬▬▬▬▬▬▬▬▬▬▬▬▬▬▬▬\\n📸My Gear* (paid links, supports the channel and doesn’t cost you any more)📸\\nCamera body (main): https://geni.us/SonyA6600_body\\nCamera lens (main): https://geni.us/SigmaContemporary\\nCamera (B-roll 1): https://geni.us/Sony_ZVE1\\nCamera (B-roll 2): https://geni.us/CanonEosM50MarkII and https://geni.us/Sony_ZVE10\\nLight: https://geni.us/Godox_VL150\\nSoftbox: https://geni.us/NiceFotoSoftbox\\nLight stand: https://geni.us/WalimexLightstand\\n▬▬▬▬▬▬▬▬▬▬▬▬▬▬▬▬▬▬▬▬▬▬▬▬▬▬▬▬\\n\\nReference devices:\\nZMax + Dreamento: https://www.biorxiv.org/content/10.1101/2023.08.18.553744v1 & https://github.com/dreamento/dreamento\\nPolar H10: https://pubmed.ncbi.nlm.nih.gov/31004219/\\n\\nIntro Music:\\nMusic from #Uppbeat (free for Creators!):\\nhttps://uppbeat.io/t/moire/new-life\\nLicense code: OBLD6VBBCTRDFZQP\\n\\nTimestamps:\\n00:00 Quick Intro\\n00:57 Testing setup\\n01:24 Apple Watch 9 Improvements\\n04:05 Indoor Cycling Test 1 : Male\\n06:54 Indoor Cycling Test 2 : Female\\n08:05 Indoor Cycling Test : Comparison w/ Other Watches\\n09:38 Outdoor Cycling Test 1 : Male\\n12:03 Outdoor Cycling Test 2 : Female\\n13:06 Outdoor Cycling Test : Comparison w/ Other Watches\\n14:29 Running Test 1 : Male\\n15:51 Running Test 2 : Female\\n16:36 Weight Lifting Test 1 : Male\\n18:46 Weight Lifting Test 2 : Female\\n19:43 Weight Lifting Test : Comparison w/ Other Watches\\n21:44 Sleep Test : Series 9\\n29:40 Sleep Test : Comparison w/ Other Watches\\n33:25 GPS Test\\n38:31 Oxygen Saturation Test\\n41:11 Limitations\\n42:00 Recommendations & Conclusions\\n\\nFor the most part, the watch is very similar to the Series 8, but with a few improvements: first of all, the screen is quite a bit brighter, which is quite nice actually. It is quite tricky to capture on camera, but here you can see it for yourself under a bunch of different circumstances. Second, one of the main things that was addressed in the keynote is that it has a new and much more powerful S9 chip, which among other things enables the “double tap”. This was one of the most highlighted features during the keynote, maybe a bit too much in my opinion, but it is quite cool. This is available starting from watchOS version 10.1, which unfortunately isn’t out yet, and Apple did not invite me to the launch event or give me early access, so I couldn’ test it. Hey Apple, hint, hint… Now, online I saw many comments that Apple Watches basically had this feature for a long time, called Assistive Touch. I tried Assistive Touch on my Apple Watch Series 8 before the Series 9 was released, and it does have much of the same functionalities as Double Tap. Though I did find it kind of clunky to use. DC Rainmaker mentioned in his video that the double tap feature worked significantly better for him than Assistive touch. Now, Apple says the double tap feature will only work on the Series 9, because it needs the S9 chip, which is probably true for the way it is implemented. However, I still wonder if they couldn’t have made it work on older series if they’d really wanted to, but OK, it is Apple we are talking about. Now, the new S9 chip also enables Siri to do some new things: first of all, Siri can now process some commands on-device, meaning it is much faster at doing certain things, like setting an alarm. This is honestly much more important to me than double tap, since I will use Siri much more for these kinds of small tasks now. Siri can now also access your health and fitness data, and also add health data via voice commands, or at least, you will be able to do so “later this year”.'}, 'defaultAudioLanguage': 'en'}, 'statistics': {'viewCount': '76712', 'likeCount': '2511', 'favoriteCount': '0', 'commentCount': '302'}}], 'pageInfo': {'totalResults': 1, 'resultsPerPage': 1}}\n",
            "Video 9 - Apple Watch Series 9 : Full SCIENTIFIC Review -- Comment count:  302\n",
            "\n",
            "{'kind': 'youtube#videoListResponse', 'etag': 'bQh6A_iXyiGf0Q4ofjzwXrcqcBU', 'items': [{'kind': 'youtube#video', 'etag': 'RMQ2PBWGr73PErj1tLdCsaYCtrw', 'id': 'GHYg8cmUiKM', 'snippet': {'publishedAt': '2024-02-17T11:01:57Z', 'channelId': 'UCMiJRAwDNSNzuYeN2uWa0pA', 'title': 'I Hated Smartwatches', 'description': \"What do I do now lol \\nCheck out the Insta360 Ace Pro. The first 30 purchases will get a 10% discount and a free accessory at https://bit.ly/Mrwhosetheboss-Insta360AcePro\\n\\nI spend a LOT of time trying to make my videos as concise, polished and useful as possible for you - if you would like to support me on that mission then consider subscribing to the channel - you'd make my day 😁\\n\\nFor my tech hot takes: http://twitter.com/Mrwhosetheboss\\nFor my Personal Posts: http://instagram.com/mrwhosetheboss\\nDoes anyone still use this anymore?: https://facebook.com/mrwhosetheboss\\n\\nAmazon Affiliate links (if you buy anything through these it will support the channel and allow us to buy better gear!):\\nAmazon US: https://amzn.to/3mFix9d\\nAmazon UK: https://amzn.to/3GMPPtM\\n\\nMy Filming Gear:\\nhttps://bit.ly/35CuxwI\\n\\nMusic is from Epidemic sound:\\nhttp://share.epidemicsound.com/pHDFT\", 'thumbnails': {'default': {'url': 'https://i.ytimg.com/vi/GHYg8cmUiKM/default.jpg', 'width': 120, 'height': 90}, 'medium': {'url': 'https://i.ytimg.com/vi/GHYg8cmUiKM/mqdefault.jpg', 'width': 320, 'height': 180}, 'high': {'url': 'https://i.ytimg.com/vi/GHYg8cmUiKM/hqdefault.jpg', 'width': 480, 'height': 360}, 'standard': {'url': 'https://i.ytimg.com/vi/GHYg8cmUiKM/sddefault.jpg', 'width': 640, 'height': 480}, 'maxres': {'url': 'https://i.ytimg.com/vi/GHYg8cmUiKM/maxresdefault.jpg', 'width': 1280, 'height': 720}}, 'channelTitle': 'Mrwhosetheboss', 'tags': ['tech', 'gadgets', 'smart watch', 'smartwatch', 'apple'], 'categoryId': '28', 'liveBroadcastContent': 'none', 'localized': {'title': 'I Hated Smartwatches', 'description': \"What do I do now lol \\nCheck out the Insta360 Ace Pro. The first 30 purchases will get a 10% discount and a free accessory at https://bit.ly/Mrwhosetheboss-Insta360AcePro\\n\\nI spend a LOT of time trying to make my videos as concise, polished and useful as possible for you - if you would like to support me on that mission then consider subscribing to the channel - you'd make my day 😁\\n\\nFor my tech hot takes: http://twitter.com/Mrwhosetheboss\\nFor my Personal Posts: http://instagram.com/mrwhosetheboss\\nDoes anyone still use this anymore?: https://facebook.com/mrwhosetheboss\\n\\nAmazon Affiliate links (if you buy anything through these it will support the channel and allow us to buy better gear!):\\nAmazon US: https://amzn.to/3mFix9d\\nAmazon UK: https://amzn.to/3GMPPtM\\n\\nMy Filming Gear:\\nhttps://bit.ly/35CuxwI\\n\\nMusic is from Epidemic sound:\\nhttp://share.epidemicsound.com/pHDFT\"}, 'defaultAudioLanguage': 'en-GB'}, 'statistics': {'viewCount': '2109160', 'likeCount': '85567', 'favoriteCount': '0', 'commentCount': '5021'}}], 'pageInfo': {'totalResults': 1, 'resultsPerPage': 1}}\n",
            "Video 10 - I Hated Smartwatches -- Comment count:  5021\n",
            "\n",
            "{'kind': 'youtube#videoListResponse', 'etag': 'aUrW7R_1oNBvfXVOLImH7S6Oygs', 'items': [{'kind': 'youtube#video', 'etag': 'N2jx4v2an5iiw3JsWDWdSWbBF68', 'id': '5gkiXZ_DjOw', 'snippet': {'publishedAt': '2023-09-20T13:00:07Z', 'channelId': 'UCOmcA3f_RrH6b9NmcNa4tdg', 'title': 'Apple Watch Series 9 Review: Slightly Smarter and Faster', 'description': \"The Series 9’s new Double Tap feature and faster Siri responses make the watch feel more convenient. But otherwise, it’s largely the same as the Series 8.\\n\\nFind the Apple Watch Series 9 here:\\nApple Watch Series 9 -  https://cnet.co/3Zr9MP4\\n*Cnet may get a commission for these offers\\n\\n0:00 What's New\\n1:35 Double Tap\\n2:55 On-Device Siri\\n5:00 Find My Phone\\n6:00 Battery, Health and Other Features\\n6:53 Final Thoughts\\n\\nSubscribe to CNET: https://www.youtube.com/user/CNETTV\\nNever miss a deal again! See CNET’s browser extension 👉 https://bit.ly/3lO7sOU\\nCheck out CNET’s Amazon Storefront: https://www.amazon.com/shop/cnet\\nFollow us on TikTok: https://www.tiktok.com/@cnetdotcom\\nFollow us on Instagram: https://www.instagram.com/cnet/\\nFollow us on Twitter: https://www.twitter.com/cnet\\nLike us on Facebook: https://www.facebook.com/cnet\\n\\n#apple #applewatch #applewatchseries9\", 'thumbnails': {'default': {'url': 'https://i.ytimg.com/vi/5gkiXZ_DjOw/default.jpg', 'width': 120, 'height': 90}, 'medium': {'url': 'https://i.ytimg.com/vi/5gkiXZ_DjOw/mqdefault.jpg', 'width': 320, 'height': 180}, 'high': {'url': 'https://i.ytimg.com/vi/5gkiXZ_DjOw/hqdefault.jpg', 'width': 480, 'height': 360}, 'standard': {'url': 'https://i.ytimg.com/vi/5gkiXZ_DjOw/sddefault.jpg', 'width': 640, 'height': 480}, 'maxres': {'url': 'https://i.ytimg.com/vi/5gkiXZ_DjOw/maxresdefault.jpg', 'width': 1280, 'height': 720}}, 'channelTitle': 'CNET', 'tags': ['CNET', 'Technology', 'tech', 'apple watch', 'apple', 'series 9', 'Apple Watch series 9', 'Apple Watch 9', 'watchOS', 'Apple Watch Series 9', 'Apple Watch 9 features', 'Apple Watch 9 specifications', 'Apple Watch 9 design', 'advanced Apple Watch', 'next-generation Apple Watch', 'future Apple Watch', 'Apple Watch 9 release date', 'Apple Watch 9 news'], 'categoryId': '28', 'liveBroadcastContent': 'none', 'localized': {'title': 'Apple Watch Series 9 Review: Slightly Smarter and Faster', 'description': \"The Series 9’s new Double Tap feature and faster Siri responses make the watch feel more convenient. But otherwise, it’s largely the same as the Series 8.\\n\\nFind the Apple Watch Series 9 here:\\nApple Watch Series 9 -  https://cnet.co/3Zr9MP4\\n*Cnet may get a commission for these offers\\n\\n0:00 What's New\\n1:35 Double Tap\\n2:55 On-Device Siri\\n5:00 Find My Phone\\n6:00 Battery, Health and Other Features\\n6:53 Final Thoughts\\n\\nSubscribe to CNET: https://www.youtube.com/user/CNETTV\\nNever miss a deal again! See CNET’s browser extension 👉 https://bit.ly/3lO7sOU\\nCheck out CNET’s Amazon Storefront: https://www.amazon.com/shop/cnet\\nFollow us on TikTok: https://www.tiktok.com/@cnetdotcom\\nFollow us on Instagram: https://www.instagram.com/cnet/\\nFollow us on Twitter: https://www.twitter.com/cnet\\nLike us on Facebook: https://www.facebook.com/cnet\\n\\n#apple #applewatch #applewatchseries9\"}, 'defaultAudioLanguage': 'en'}, 'statistics': {'viewCount': '376743', 'likeCount': '2422', 'favoriteCount': '0', 'commentCount': '274'}}], 'pageInfo': {'totalResults': 1, 'resultsPerPage': 1}}\n",
            "Video 11 - Apple Watch Series 9 Review: Slightly Smarter and Faster -- Comment count:  274\n",
            "\n",
            "{'kind': 'youtube#videoListResponse', 'etag': 'LJOhpZtfLDfd9Km4QDw3UdlpWrY', 'items': [{'kind': 'youtube#video', 'etag': '0-QUgnSJrnnRH0VFV-LOiOR0oU4', 'id': '44FEs8jAN9Y', 'snippet': {'publishedAt': '2023-09-21T15:31:06Z', 'channelId': 'UC6y_DbpezOinlzHv8O092zw', 'title': 'Apple Watch Series 9 In-Depth Review: Worth Upgrading?', 'description': \"Here's your complete Apple Watch Series 9 review, diving into all the new features and how well they work! Buy the Apple Watch Series 9 here (https://amzn.to/455GpCX), which helps support the channel!\\n\\n0:00 Quick Overview\\n0:25 Pricing\\n0:30 New Display Brightness Comparison Teste\\n1:32 Night Display Brightness\\n1:51 Faster Chipset Worth It?\\n2:16 Double Tap hands-on explained\\n3:55 Offline Siri\\n4:36 Siri and Apple Health\\n4:55 UWB Gen2 Precision Finding\\n5:20 Activity Tracking\\n6:07 Sleep Tracking Tested\\n7:07 Wrist Temperature Tracking\\n7:38 Sports and Workout Usage\\n8:40 Topographic Maps\\n9:27 Cycling Companion App (Bike Computer)\\n10:02 Cycling Power Meters\\n11:26 Battery Life Tested\\n12:04 GPS Accuracy\\n13:21 Heart Rate Accuracy\\n13:46 Recommendations & Worth it?\\n\\nNote: Some links Amazon affiliate links, which I may earn a commission.\\n\\n#AppleWatchSeries9 #AppleWatch #Apple\", 'thumbnails': {'default': {'url': 'https://i.ytimg.com/vi/44FEs8jAN9Y/default.jpg', 'width': 120, 'height': 90}, 'medium': {'url': 'https://i.ytimg.com/vi/44FEs8jAN9Y/mqdefault.jpg', 'width': 320, 'height': 180}, 'high': {'url': 'https://i.ytimg.com/vi/44FEs8jAN9Y/hqdefault.jpg', 'width': 480, 'height': 360}, 'standard': {'url': 'https://i.ytimg.com/vi/44FEs8jAN9Y/sddefault.jpg', 'width': 640, 'height': 480}, 'maxres': {'url': 'https://i.ytimg.com/vi/44FEs8jAN9Y/maxresdefault.jpg', 'width': 1280, 'height': 720}}, 'channelTitle': 'DC Rainmaker', 'tags': ['Apple Watch Series 9', 'Apple Watch Review', 'Apple Watch Series 9 REview', 'Apple Watch 9 Review', 'Apple Watch 8 vs 9', 'Apple Watch 9 Test', 'Apple Watch 9 vs Ultra', 'Apple Watch 2023 Review', 'DC Rainmaker', 'ray maker', 'rainmaker'], 'categoryId': '17', 'liveBroadcastContent': 'none', 'localized': {'title': 'Apple Watch Series 9 In-Depth Review: Worth Upgrading?', 'description': \"Here's your complete Apple Watch Series 9 review, diving into all the new features and how well they work! Buy the Apple Watch Series 9 here (https://amzn.to/455GpCX), which helps support the channel!\\n\\n0:00 Quick Overview\\n0:25 Pricing\\n0:30 New Display Brightness Comparison Teste\\n1:32 Night Display Brightness\\n1:51 Faster Chipset Worth It?\\n2:16 Double Tap hands-on explained\\n3:55 Offline Siri\\n4:36 Siri and Apple Health\\n4:55 UWB Gen2 Precision Finding\\n5:20 Activity Tracking\\n6:07 Sleep Tracking Tested\\n7:07 Wrist Temperature Tracking\\n7:38 Sports and Workout Usage\\n8:40 Topographic Maps\\n9:27 Cycling Companion App (Bike Computer)\\n10:02 Cycling Power Meters\\n11:26 Battery Life Tested\\n12:04 GPS Accuracy\\n13:21 Heart Rate Accuracy\\n13:46 Recommendations & Worth it?\\n\\nNote: Some links Amazon affiliate links, which I may earn a commission.\\n\\n#AppleWatchSeries9 #AppleWatch #Apple\"}, 'defaultAudioLanguage': 'en'}, 'statistics': {'viewCount': '306601', 'likeCount': '4187', 'favoriteCount': '0', 'commentCount': '197'}}], 'pageInfo': {'totalResults': 1, 'resultsPerPage': 1}}\n",
            "Video 12 - Apple Watch Series 9 In-Depth Review: Worth Upgrading? -- Comment count:  197\n",
            "\n",
            "{'kind': 'youtube#videoListResponse', 'etag': 't9VG4XrjADEFP-Un-qYXehi1OyQ', 'items': [{'kind': 'youtube#video', 'etag': 'USfKS9-vuGt1j1ElAJFdD6Y6kCw', 'id': 'wM16xWaJHbU', 'snippet': {'publishedAt': '2024-03-30T14:00:03Z', 'channelId': 'UCJOl2JvledP26K2OQ_HLgnQ', 'title': 'Apple Watch Series 9 Review - 6 Months Later', 'description': 'What parts of the Apple Watch Series 9’s experience really make it stand out from previous models 6 Months Later? What new features haven’t worked well or haven’t been worth it? What in 2024 do you really use and Apple Watch for and who should get one? We’ll answer these questions and more! \\n\\nSpecifically, we’ll walk you through what the battery life has been link, if Siri’s performance really has improved, the new Double Tap (pinchy pinch) feature, track the precise location of AirTags and your iPhone, what significant upgrades WatchOS10 makes to the Apple Watch experience, and more features we use like sleep tracking, the Apple Fitness+ TV integration, media controls, haptic feedback for directions, and more. Plus we’ll walk you through some of the downsides you can expect owning and Apple Watch and our recommendations on which model we recommend. \\n\\n\\n🛒 Product Links (Affiliate Links): \\n👉Apple Watch Series 9: https://amzn.to/3J41ZiA\\n👉iPhone 15 Pro Max: https://amzn.to/3voamm2\\n👉iPhone 15 Pro Max Silicon case: https://amzn.to/49bdYpc \\n👉 View all of our recommended products: https://www.amazon.com/shop/6monthslaterreviews \\n\\n\\n🔗 Related Video links: \\n👉 iPhone 15 Pro Max Review: https://www.youtube.com/watch?v=mu1m-qrj_9Q\\n👉 All Apple videos: https://www.youtube.com/playlist?list=PL2XWjlJjGp3uMKOssWN3NiKQ22LNaOFE4\\n\\n\\n❤️ Follow Josh: \\n👉 Threads: https://www.threads.net/@joshteder\\n👉 Reddit: https://www.reddit.com/user/joshteder/ \\n👉 Instagram: https://www.instagram.com/joshteder/\\n👉 Mastodon: https://mastodon.social/@joshteder\\n👉 LinkedIn: https://www.linkedin.com/in/joshteder/\\n\\n💻 Get Deal Alerts on our Recommended Products\\nPlus a Recap of Everything We Publish Each Month \\n👉 Sign up for our free monthly newsletter: https://6monthslater.substack.com/?showWelcome=true \\n\\n\\n🎥  Video Production Equipment we use 📹\\nhttps://amzn.to/3Ejc1JR \\n \\n\\n🕰️Timestamps: \\n0:00 - Battery Life\\n0:46 - Siri and S9 SiP\\n1:30 - Brighter display \\n1:50 - Double Tap and HomePod Control\\n3:04 - Finding an iPhone with an Apple Watch\\n3:22 - WatchOS10\\n3:50 - Smart Stack and Control Center\\n4:33 - Snoopy Watch Face\\n4:52 - Fitness+ integration and hiking \\n5:25 - Sleep Tracking\\n5:39 - Media Controls \\n6:12 - Directions Haptic Feedback\\n6:27 - Setting timers and responding to messages\\n6:44 - Glanceable information on watch faces\\n7:03 - Downsides of the Apple Watch\\n7:56 - Recommendations\\n\\n\\n📜 Disclosures 📃 \\n\\nAny music used is licensed from artlist.io \\n\\nThe Apple Watch Series 9 and all other Apple products seen in this video were purchased by 6 Months Later. 6 Months Later has no relationship with Apple. This video has no sponsor. \\n\\nOur full ethics policy: https://6-months-later.com/about/ \\n\\nAny Amazon links we provide in our descriptions are in conjunction with our Amazon partnership.  The channel receives a small percentage of revenue from any sales generated by viewers clicking the links.\\n\\n#Apple\\n#AppleWatch\\n#Series9\\n#iPhone', 'thumbnails': {'default': {'url': 'https://i.ytimg.com/vi/wM16xWaJHbU/default.jpg', 'width': 120, 'height': 90}, 'medium': {'url': 'https://i.ytimg.com/vi/wM16xWaJHbU/mqdefault.jpg', 'width': 320, 'height': 180}, 'high': {'url': 'https://i.ytimg.com/vi/wM16xWaJHbU/hqdefault.jpg', 'width': 480, 'height': 360}, 'standard': {'url': 'https://i.ytimg.com/vi/wM16xWaJHbU/sddefault.jpg', 'width': 640, 'height': 480}, 'maxres': {'url': 'https://i.ytimg.com/vi/wM16xWaJHbU/maxresdefault.jpg', 'width': 1280, 'height': 720}}, 'channelTitle': '6 Months Later', 'tags': ['Apple Watch', 'Series 9', 'Apple', 'Review', '2024', '6 Months Later', 'Worth It?', 'Siri', 'S9', 'SiP', 'Brightness', 'Display', 'Saphire Crystal', 'WatchOS10', 'Find My iPhone', 'Location', 'Double Tap', 'HomePod Control', 'Sleep Tracking', 'Repairability', 'Android', 'Compatibility', 'Timers', 'Media Controls', 'Smart Stack', 'Control Center', 'Josh Teder'], 'categoryId': '28', 'liveBroadcastContent': 'none', 'defaultLanguage': 'en', 'localized': {'title': 'Apple Watch Series 9 Review - 6 Months Later', 'description': 'What parts of the Apple Watch Series 9’s experience really make it stand out from previous models 6 Months Later? What new features haven’t worked well or haven’t been worth it? What in 2024 do you really use and Apple Watch for and who should get one? We’ll answer these questions and more! \\n\\nSpecifically, we’ll walk you through what the battery life has been link, if Siri’s performance really has improved, the new Double Tap (pinchy pinch) feature, track the precise location of AirTags and your iPhone, what significant upgrades WatchOS10 makes to the Apple Watch experience, and more features we use like sleep tracking, the Apple Fitness+ TV integration, media controls, haptic feedback for directions, and more. Plus we’ll walk you through some of the downsides you can expect owning and Apple Watch and our recommendations on which model we recommend. \\n\\n\\n🛒 Product Links (Affiliate Links): \\n👉Apple Watch Series 9: https://amzn.to/3J41ZiA\\n👉iPhone 15 Pro Max: https://amzn.to/3voamm2\\n👉iPhone 15 Pro Max Silicon case: https://amzn.to/49bdYpc \\n👉 View all of our recommended products: https://www.amazon.com/shop/6monthslaterreviews \\n\\n\\n🔗 Related Video links: \\n👉 iPhone 15 Pro Max Review: https://www.youtube.com/watch?v=mu1m-qrj_9Q\\n👉 All Apple videos: https://www.youtube.com/playlist?list=PL2XWjlJjGp3uMKOssWN3NiKQ22LNaOFE4\\n\\n\\n❤️ Follow Josh: \\n👉 Threads: https://www.threads.net/@joshteder\\n👉 Reddit: https://www.reddit.com/user/joshteder/ \\n👉 Instagram: https://www.instagram.com/joshteder/\\n👉 Mastodon: https://mastodon.social/@joshteder\\n👉 LinkedIn: https://www.linkedin.com/in/joshteder/\\n\\n💻 Get Deal Alerts on our Recommended Products\\nPlus a Recap of Everything We Publish Each Month \\n👉 Sign up for our free monthly newsletter: https://6monthslater.substack.com/?showWelcome=true \\n\\n\\n🎥  Video Production Equipment we use 📹\\nhttps://amzn.to/3Ejc1JR \\n \\n\\n🕰️Timestamps: \\n0:00 - Battery Life\\n0:46 - Siri and S9 SiP\\n1:30 - Brighter display \\n1:50 - Double Tap and HomePod Control\\n3:04 - Finding an iPhone with an Apple Watch\\n3:22 - WatchOS10\\n3:50 - Smart Stack and Control Center\\n4:33 - Snoopy Watch Face\\n4:52 - Fitness+ integration and hiking \\n5:25 - Sleep Tracking\\n5:39 - Media Controls \\n6:12 - Directions Haptic Feedback\\n6:27 - Setting timers and responding to messages\\n6:44 - Glanceable information on watch faces\\n7:03 - Downsides of the Apple Watch\\n7:56 - Recommendations\\n\\n\\n📜 Disclosures 📃 \\n\\nAny music used is licensed from artlist.io \\n\\nThe Apple Watch Series 9 and all other Apple products seen in this video were purchased by 6 Months Later. 6 Months Later has no relationship with Apple. This video has no sponsor. \\n\\nOur full ethics policy: https://6-months-later.com/about/ \\n\\nAny Amazon links we provide in our descriptions are in conjunction with our Amazon partnership.  The channel receives a small percentage of revenue from any sales generated by viewers clicking the links.\\n\\n#Apple\\n#AppleWatch\\n#Series9\\n#iPhone'}, 'defaultAudioLanguage': 'en'}, 'statistics': {'viewCount': '16312', 'likeCount': '339', 'favoriteCount': '0', 'commentCount': '17'}}], 'pageInfo': {'totalResults': 1, 'resultsPerPage': 1}}\n",
            "Video 13 - Apple Watch Series 9 Review - 6 Months Later -- Comment count:  17\n",
            "\n",
            "{'kind': 'youtube#videoListResponse', 'etag': 'PeaDhHNL6Fv0FAfqHZDYC8phCik', 'items': [{'kind': 'youtube#video', 'etag': 'Aozge9gE-BnQBTV5MZLBS9XFDSs', 'id': 'oNCs4C2SMjo', 'snippet': {'publishedAt': '2023-09-21T17:29:36Z', 'channelId': 'UCBJycsmduvYEL83R_U4JriQ', 'title': 'Apple Watch Series 9 & Ultra 2: What Are We Waiting For?!', 'description': \"Apple Watch Ultra 2 and Series 9 are... a spec bump. But what are we actually waiting for?\\n\\nMKBHD Merch: http://shop.MKBHD.com\\n\\nTech I'm using right now: https://www.amazon.com/shop/MKBHD\\n\\nIntro Track: http://youtube.com/20syl\\nPlaylist of MKBHD Intro music: https://goo.gl/B3AWV5\\n\\nWatch provided by Apple for review.\\n\\n~\\nhttp://twitter.com/MKBHD\\nhttp://instagram.com/MKBHD\\nhttp://facebook.com/MKBHD\", 'thumbnails': {'default': {'url': 'https://i.ytimg.com/vi/oNCs4C2SMjo/default.jpg', 'width': 120, 'height': 90}, 'medium': {'url': 'https://i.ytimg.com/vi/oNCs4C2SMjo/mqdefault.jpg', 'width': 320, 'height': 180}, 'high': {'url': 'https://i.ytimg.com/vi/oNCs4C2SMjo/hqdefault.jpg', 'width': 480, 'height': 360}, 'standard': {'url': 'https://i.ytimg.com/vi/oNCs4C2SMjo/sddefault.jpg', 'width': 640, 'height': 480}, 'maxres': {'url': 'https://i.ytimg.com/vi/oNCs4C2SMjo/maxresdefault.jpg', 'width': 1280, 'height': 720}}, 'channelTitle': 'Marques Brownlee', 'tags': ['Apple watch', 'Apple watch review', 'apple watch series 9', 'watch series 9', 'MKBHD', 'Watch ultra', 'ultra 2', 'apple watch ultra', 'apple watch ultra 2'], 'categoryId': '28', 'liveBroadcastContent': 'none', 'defaultLanguage': 'en', 'localized': {'title': 'Apple Watch Series 9 & Ultra 2: What Are We Waiting For?!', 'description': \"Apple Watch Ultra 2 and Series 9 are... a spec bump. But what are we actually waiting for?\\n\\nMKBHD Merch: http://shop.MKBHD.com\\n\\nTech I'm using right now: https://www.amazon.com/shop/MKBHD\\n\\nIntro Track: http://youtube.com/20syl\\nPlaylist of MKBHD Intro music: https://goo.gl/B3AWV5\\n\\nWatch provided by Apple for review.\\n\\n~\\nhttp://twitter.com/MKBHD\\nhttp://instagram.com/MKBHD\\nhttp://facebook.com/MKBHD\"}, 'defaultAudioLanguage': 'en-US'}, 'statistics': {'viewCount': '3645637', 'likeCount': '90109', 'favoriteCount': '0', 'commentCount': '3856'}}], 'pageInfo': {'totalResults': 1, 'resultsPerPage': 1}}\n",
            "Video 14 - Apple Watch Series 9 & Ultra 2: What Are We Waiting For?! -- Comment count:  3856\n",
            "\n",
            "{'kind': 'youtube#videoListResponse', 'etag': 'zp-6Wi7Al1FGrZLoZxWdcADCGvU', 'items': [{'kind': 'youtube#video', 'etag': 'fBSpQigsmi78dJ5xpZihjSB2VNM', 'id': 'Oh9Q6zUqng4', 'snippet': {'publishedAt': '2024-02-18T12:00:16Z', 'channelId': 'UCnn3N0i3TVGbQ9bMb4ln2OQ', 'title': 'Apple Watch Series 9 After 5 Months: Not All It Seems', 'description': \"After 5 Months of use with the Apple Watch Series 9, my thoughts have changed...\\nALL MY FAVORITE GEAR IS LISTED BELOW 👇\\n\\n\\nIn this video, I share my honest long term experience with the Apple Watch Series 9. From the announcement to long-term wear, I've explored every new feature and upgrade, evaluating what truly adds value and what might be considered fluff. I discuss the Series 9's performance, design durability, and software enhancements, including my take on the new S9 chip, watchOS 10, and the practicality of the latest health tracking features. Join me, as we dissect the real-world implications of Apple's latest wearable tech, helping you make an informed decision.\\n\\nBuy Apple Watch Series 9 | https://amzn.to/49F8DqU\\nApple Sport Band | https://amzn.to/49EnJgw\\nApple Alpine Loop Band | https://amzn.to/3UQAKz8\\n\\nDownload My Latest Wallpaper Pack HERE: https://iokyle.gumroad.com/\\nI monitor and manage all my macs with CleanMyMac X: https://macpaw.audw.net/c/3460079/263631/1733\\n\\nMY SETUP GEAR:\\nSpace Black MacBook Pro M3 Pro | https://amzn.to/41dh6ic\\nEffydesk Wildwood Standing Desk | https://amzn.to/3Sy67NJ\\nEffydesk Deskshelf | https://amzn.to/426k2xq\\nApple Studio Display | https://amzn.to/3GCr0R6\\nHumanCentric Vertical Laptop Stand | https://amzn.to/3RAD2R2\\nWalnut Headphone Stand | https://amzn.to/3U6NQYS\\nBeyerdynamic DT 990 Pro Headphones | https://amzn.to/3HpUmm0\\nCalDigit TS4 USB Hub | https://amzn.to/3Fc80Ji\\nSamsung 980 Pro SSD | https://amzn.to/48yWsfc\\nHyperDrive Next USB4 SSD Enclosure: https://bit.ly/hyper-next-drive\\nLogitech MX Master 3S Mouse | https://amzn.to/3mkvEfS\\nApple Magic Keyboard with TouchID | https://amzn.to/4agndXg\\nOrbitkey Desk Mat & Keyholder | https://bit.ly/41jSoMg\\nOlanglab Wood Slat Panels | https://amzn.to/4aW3Q65\\nUMIAcoustics Wood Slats | https://amzn.to/4b0Px00\\nLamomo LED Neon Rope | https://amzn.to/3S5PKWT\\nGrid Studio iPhone Classic Kit | http://shrsl.com/3nsgi\\nMandalorian Lego Figures | https://amzn.to/3Et0oyB\\n\\nMUSIC I USE IN MY VIDEOS IS ALL FROM EPIDEMIC SOUND\\nGet a free month with the link below:\\nhttps://www.epidemicsound.com/referral/ft6xri\\n\\nLINKS TO PRODUCTS CONTAIN AFFILIATE LINKS\\nBy using the affiliate links, I earn a small fee from any purchase you make. It won't cost you anything to use them. By clicking them it helps support me, and create more content for you. Thank you for the support!\\n_______________________________\\n00:00 | Intro\\n00:42 | Why I Bought the Series 9\\n01:51 | Design & Build\\n04:11 | watchOS 10\\n06:19 | Precision Tracking\\n07:03 | Double Tap\\n08:00 | On-Device Siri\\n08:37 | Blood Oxygen Note\\n08:57 | Battery \\n09:49 | Wrapping Up\\n\\n#applewatch #series9 #apple\", 'thumbnails': {'default': {'url': 'https://i.ytimg.com/vi/Oh9Q6zUqng4/default.jpg', 'width': 120, 'height': 90}, 'medium': {'url': 'https://i.ytimg.com/vi/Oh9Q6zUqng4/mqdefault.jpg', 'width': 320, 'height': 180}, 'high': {'url': 'https://i.ytimg.com/vi/Oh9Q6zUqng4/hqdefault.jpg', 'width': 480, 'height': 360}, 'standard': {'url': 'https://i.ytimg.com/vi/Oh9Q6zUqng4/sddefault.jpg', 'width': 640, 'height': 480}, 'maxres': {'url': 'https://i.ytimg.com/vi/Oh9Q6zUqng4/maxresdefault.jpg', 'width': 1280, 'height': 720}}, 'channelTitle': 'Kyle Erickson', 'categoryId': '28', 'liveBroadcastContent': 'none', 'localized': {'title': 'Apple Watch Series 9 After 5 Months: Not All It Seems', 'description': \"After 5 Months of use with the Apple Watch Series 9, my thoughts have changed...\\nALL MY FAVORITE GEAR IS LISTED BELOW 👇\\n\\n\\nIn this video, I share my honest long term experience with the Apple Watch Series 9. From the announcement to long-term wear, I've explored every new feature and upgrade, evaluating what truly adds value and what might be considered fluff. I discuss the Series 9's performance, design durability, and software enhancements, including my take on the new S9 chip, watchOS 10, and the practicality of the latest health tracking features. Join me, as we dissect the real-world implications of Apple's latest wearable tech, helping you make an informed decision.\\n\\nBuy Apple Watch Series 9 | https://amzn.to/49F8DqU\\nApple Sport Band | https://amzn.to/49EnJgw\\nApple Alpine Loop Band | https://amzn.to/3UQAKz8\\n\\nDownload My Latest Wallpaper Pack HERE: https://iokyle.gumroad.com/\\nI monitor and manage all my macs with CleanMyMac X: https://macpaw.audw.net/c/3460079/263631/1733\\n\\nMY SETUP GEAR:\\nSpace Black MacBook Pro M3 Pro | https://amzn.to/41dh6ic\\nEffydesk Wildwood Standing Desk | https://amzn.to/3Sy67NJ\\nEffydesk Deskshelf | https://amzn.to/426k2xq\\nApple Studio Display | https://amzn.to/3GCr0R6\\nHumanCentric Vertical Laptop Stand | https://amzn.to/3RAD2R2\\nWalnut Headphone Stand | https://amzn.to/3U6NQYS\\nBeyerdynamic DT 990 Pro Headphones | https://amzn.to/3HpUmm0\\nCalDigit TS4 USB Hub | https://amzn.to/3Fc80Ji\\nSamsung 980 Pro SSD | https://amzn.to/48yWsfc\\nHyperDrive Next USB4 SSD Enclosure: https://bit.ly/hyper-next-drive\\nLogitech MX Master 3S Mouse | https://amzn.to/3mkvEfS\\nApple Magic Keyboard with TouchID | https://amzn.to/4agndXg\\nOrbitkey Desk Mat & Keyholder | https://bit.ly/41jSoMg\\nOlanglab Wood Slat Panels | https://amzn.to/4aW3Q65\\nUMIAcoustics Wood Slats | https://amzn.to/4b0Px00\\nLamomo LED Neon Rope | https://amzn.to/3S5PKWT\\nGrid Studio iPhone Classic Kit | http://shrsl.com/3nsgi\\nMandalorian Lego Figures | https://amzn.to/3Et0oyB\\n\\nMUSIC I USE IN MY VIDEOS IS ALL FROM EPIDEMIC SOUND\\nGet a free month with the link below:\\nhttps://www.epidemicsound.com/referral/ft6xri\\n\\nLINKS TO PRODUCTS CONTAIN AFFILIATE LINKS\\nBy using the affiliate links, I earn a small fee from any purchase you make. It won't cost you anything to use them. By clicking them it helps support me, and create more content for you. Thank you for the support!\\n_______________________________\\n00:00 | Intro\\n00:42 | Why I Bought the Series 9\\n01:51 | Design & Build\\n04:11 | watchOS 10\\n06:19 | Precision Tracking\\n07:03 | Double Tap\\n08:00 | On-Device Siri\\n08:37 | Blood Oxygen Note\\n08:57 | Battery \\n09:49 | Wrapping Up\\n\\n#applewatch #series9 #apple\"}, 'defaultAudioLanguage': 'en'}, 'statistics': {'viewCount': '64906', 'likeCount': '1090', 'favoriteCount': '0', 'commentCount': '104'}}], 'pageInfo': {'totalResults': 1, 'resultsPerPage': 1}}\n",
            "Video 15 - Apple Watch Series 9 After 5 Months: Not All It Seems -- Comment count:  104\n",
            "\n",
            "{'kind': 'youtube#videoListResponse', 'etag': '2w3WoaUILWX4SLlYur44QA7ungk', 'items': [{'kind': 'youtube#video', 'etag': 'x4YlTisrhk5DD2eJs7xrYbvaeb8', 'id': '5VyLYPyqJvE', 'snippet': {'publishedAt': '2024-01-18T16:15:55Z', 'channelId': 'UCyIz8xeaU78aR4WkJ0kv02g', 'title': 'Apple Watch Series 9 — 2 Months After (Long-Term Review)', 'description': \"Hit the link to try out Waveroom AI for FREE! https://bit.ly/3vDemiu\\n\\nIs the Apple Watch S9 worth buying? This is a question that many fans of Apple's Cupertino technology ask. Today I will tell you about my experience with the 9th generation smart watch after 2 months of use.... Is it really a sports gadget? Is it suitable for all workouts? And what disadvantages I found in this watch, I will tell you today.\\n\\nLinks to best deals (Amazon) ↓\\nApple Watch Series 9 - https://geni.us/ulKK4\\nApple Watch SE (2nd Gen) - https://geni.us/Lgkrsa\\nApple Watch Series 6 - https://geni.us/5pvsU9\\nScreen Protector for Series 9 - https://geni.us/e7Bub\\n\\nBUSINESS INQUIRIES ONLY - c.arthurwiner@gmail.com\\n\\nLike my footage? Download here - https://bit.ly/arthurwinerfootage\\n\\n-----------------------\\nShop on Amazon - https://geni.us/vZOu3\\n\\nGEAR THAT I USE ↓\\n\\nMY STUDIO CAMERA - https://geni.us/orXP\\nMY SECONDARY CAMERA - https://geni.us/5FBZ\\nMY VLOGGING CAMERA - https://geni.us/SSIUAF\\nMY ALL TIME B-ROLL LENS - https://geni.us/6qAqp0K\\nGREAT LOW LIGHT LENS - https://geni.us/PXtT\\nBEST STUDIO MIC - https://geni.us/WWGsi\\nBEST VLOGGING MIC - https://geni.us/tizXM5\\nMY EDITING MACBOOK - https://geni.us/5aA6A6\\nAWESOME LIGHT FOR YOUTUBE - https://geni.us/m2F3jW\\nPERFECT EVERYDAY TRAVELLING TRIPOD - https://geni.us/HbVgSj\\nAs an Amazon Associate I earn from qualifying purchases. \\n-----------------------\\n\\nMY INSTAGRAM - https://www.instagram.com/arthur.winer\\n\\n-----------------------\\n*Arthur Winer is a participant in the Amazon Services LLC Associates Program, an affiliate advertising program designed to provide a means for sites to earn advertising fees by advertising and linking to amazon.com\", 'thumbnails': {'default': {'url': 'https://i.ytimg.com/vi/5VyLYPyqJvE/default.jpg', 'width': 120, 'height': 90}, 'medium': {'url': 'https://i.ytimg.com/vi/5VyLYPyqJvE/mqdefault.jpg', 'width': 320, 'height': 180}, 'high': {'url': 'https://i.ytimg.com/vi/5VyLYPyqJvE/hqdefault.jpg', 'width': 480, 'height': 360}, 'standard': {'url': 'https://i.ytimg.com/vi/5VyLYPyqJvE/sddefault.jpg', 'width': 640, 'height': 480}, 'maxres': {'url': 'https://i.ytimg.com/vi/5VyLYPyqJvE/maxresdefault.jpg', 'width': 1280, 'height': 720}}, 'channelTitle': 'Arthur Winer', 'tags': ['apple watch', 'apple watch series 9', 'apple watch s9', 'apple watch 9', 'apple watch long term', 'apple watch 6', 'apple watch 9 review', 'apple watch ultra', 'series 9', 'new apple watch', 'apple watch series 9 vs ultra 2', 'apple', 'watchos 10', \"don't buy apple watch\", 'apple watch honest review', 'apple watch user experience', 'arthur winer', 'winer arthur'], 'categoryId': '26', 'liveBroadcastContent': 'none', 'localized': {'title': 'Apple Watch Series 9 — 2 Months After (Long-Term Review)', 'description': \"Hit the link to try out Waveroom AI for FREE! https://bit.ly/3vDemiu\\n\\nIs the Apple Watch S9 worth buying? This is a question that many fans of Apple's Cupertino technology ask. Today I will tell you about my experience with the 9th generation smart watch after 2 months of use.... Is it really a sports gadget? Is it suitable for all workouts? And what disadvantages I found in this watch, I will tell you today.\\n\\nLinks to best deals (Amazon) ↓\\nApple Watch Series 9 - https://geni.us/ulKK4\\nApple Watch SE (2nd Gen) - https://geni.us/Lgkrsa\\nApple Watch Series 6 - https://geni.us/5pvsU9\\nScreen Protector for Series 9 - https://geni.us/e7Bub\\n\\nBUSINESS INQUIRIES ONLY - c.arthurwiner@gmail.com\\n\\nLike my footage? Download here - https://bit.ly/arthurwinerfootage\\n\\n-----------------------\\nShop on Amazon - https://geni.us/vZOu3\\n\\nGEAR THAT I USE ↓\\n\\nMY STUDIO CAMERA - https://geni.us/orXP\\nMY SECONDARY CAMERA - https://geni.us/5FBZ\\nMY VLOGGING CAMERA - https://geni.us/SSIUAF\\nMY ALL TIME B-ROLL LENS - https://geni.us/6qAqp0K\\nGREAT LOW LIGHT LENS - https://geni.us/PXtT\\nBEST STUDIO MIC - https://geni.us/WWGsi\\nBEST VLOGGING MIC - https://geni.us/tizXM5\\nMY EDITING MACBOOK - https://geni.us/5aA6A6\\nAWESOME LIGHT FOR YOUTUBE - https://geni.us/m2F3jW\\nPERFECT EVERYDAY TRAVELLING TRIPOD - https://geni.us/HbVgSj\\nAs an Amazon Associate I earn from qualifying purchases. \\n-----------------------\\n\\nMY INSTAGRAM - https://www.instagram.com/arthur.winer\\n\\n-----------------------\\n*Arthur Winer is a participant in the Amazon Services LLC Associates Program, an affiliate advertising program designed to provide a means for sites to earn advertising fees by advertising and linking to amazon.com\"}, 'defaultAudioLanguage': 'en-US'}, 'statistics': {'viewCount': '38738', 'likeCount': '315', 'favoriteCount': '0', 'commentCount': '31'}}], 'pageInfo': {'totalResults': 1, 'resultsPerPage': 1}}\n",
            "Video 16 - Apple Watch Series 9 — 2 Months After (Long-Term Review) -- Comment count:  31\n",
            "\n",
            "{'kind': 'youtube#videoListResponse', 'etag': 'Q90sF9zr8Wb0S3gMzKDHh2YdfcI', 'items': [{'kind': 'youtube#video', 'etag': '9UQydg-SpNILxW_cOwyMA7E8714', 'id': 'J6hCaO7n35o', 'snippet': {'publishedAt': '2023-10-22T11:00:13Z', 'channelId': 'UCnn3N0i3TVGbQ9bMb4ln2OQ', 'title': \"Apple Watch Series 9 After 1 Month: It's Not Even CLOSE!\", 'description': \"Diving into my experience with the Apple Watch Series 9 over the past month.\\nALL MY FAVORITE GEAR IS LISTED BELOW 👇\\n\\nwatchOS 10 video is here: https://youtu.be/5lVV5jm1bCQ\\n\\nI bought the Apple Watch Series 9 on launch, after using the Series 6 for a few years. I've also been testing out the Google Pixel Watch 2 recently, which has given me some context for what makes this watch special. If you're considering either the Series 9 Or the Apple Watch Ultra 2, and wondering if they're worth it, this is the video for you.\\n\\nBUY THE SERIES 9 HERE: https://amzn.to/3SqTDb5\\n\\nDownload My Latest Wallpaper Pack HERE: https://iokyle.gumroad.com/\\nI monitor and manage all my macs with CleanMyMac X: https://macpaw.audw.net/c/3460079/263631/1733\\n\\nMY APPLE/SETUP SETUP GEAR:\\nLG 27UQ850-W Ultrafine 4K Monitor | https://amzn.to/3o1Beoh\\nLogitech MX Master 3S Mouse | https://amzn.to/3mkvEfS\\nLogitech MX Keys Mini | https://amzn.to/3PrfUQE\\nZikeDrive USB4 SSD Enclosure: https://shrsl.com/49hyk\\nWestern Digital SN770: https://amzn.to/3A6aZPI\\nFlexispot Standing Desk | https://bit.ly/3xUYJ40\\nBenQ ScreenBar Monitor Light | https://amzn.to/3w7DQBH\\nGove RGBIC Strip Lights | https://amzn.to/3CvITx3\\nMandalorian Lego Figures | https://amzn.to/3Et0oyB\\nNomad Base One Max | https://www.dpbolvw.net/click-100415534-14527713?url=https%3A%2F%2Fnomadgoods.com%2Fproducts%2Fbase-one-max-carbide\\nAutonomous ErgoChair Pro | https://www.autonomous.ai/office-chairs/ergonomic-chair?utm_source=pr&utm_medium=influencer&utm_campaign=growth&utm_content=Youtube&utm_term=22KYLE\\nMonoprice Cable Tray | https://amzn.to/3A5nb3t\\nOrbitkey Desk Mat & Keyholder | https://bit.ly/41jSoMg\\nFluance Ai41 Speakers | https://amzn.to/3oi6wah\\nKanto S4 Speaker Stands | https://amzn.to/3A6cWvw\\nVivo Monitor Arm | https://amzn.to/3CtYkWE\\nCalDigit TS4 USB Hub | https://amzn.to/3Fc80Ji\\nGrid Studio iPhone Classic Kit | http://shrsl.com/3nsgi\\n\\nMUSIC I USE IN MY VIDEOS IS ALL FROM EPIDEMIC SOUND\\nGet a free month with the link below:\\nhttps://www.epidemicsound.com/referral/ft6xri\\n\\nLINKS TO PRODUCTS CONTAIN AFFILIATE LINKS\\nBy using the affiliate links, I earn a small fee from any purchase you make. It won't cost you anything to use them. By clicking them it helps support me, and create more content for you. Thank you for the support!\\n_______________________________\\n00:00 | Intro\\n01:07 | Design\\n02:23 | Screen\\n03:04 | Battery\\n03:53 | S9 Chip\\n04:16 | Siri Updates\\n04:38 | Double Tap\\n06:01 | Precision Finding\\n06:33 | watchOS 10\\n08:42 | Wrapping Up\", 'thumbnails': {'default': {'url': 'https://i.ytimg.com/vi/J6hCaO7n35o/default.jpg', 'width': 120, 'height': 90}, 'medium': {'url': 'https://i.ytimg.com/vi/J6hCaO7n35o/mqdefault.jpg', 'width': 320, 'height': 180}, 'high': {'url': 'https://i.ytimg.com/vi/J6hCaO7n35o/hqdefault.jpg', 'width': 480, 'height': 360}, 'standard': {'url': 'https://i.ytimg.com/vi/J6hCaO7n35o/sddefault.jpg', 'width': 640, 'height': 480}, 'maxres': {'url': 'https://i.ytimg.com/vi/J6hCaO7n35o/maxresdefault.jpg', 'width': 1280, 'height': 720}}, 'channelTitle': 'Kyle Erickson', 'tags': ['apple watch series 9', 'apple watch', 'apple watch ultra', 'apple watch series 9 review', 'apple watch series 9 vs ultra 2', 'apple watch series 9 vs series 8', 'google pixel watch', 'pixel watch vs apple watch', 'series 9', 'series 9 review', 'series 9 vs series 6', 'aw series 9', 'apple watch s9', 'apple watch s9 review', 'apple watch ultra 2', 'apple watch series 9 starlight', 'apple watch nike sport loop', 'nike sport loop', 'apple watch bands'], 'categoryId': '28', 'liveBroadcastContent': 'none', 'localized': {'title': \"Apple Watch Series 9 After 1 Month: It's Not Even CLOSE!\", 'description': \"Diving into my experience with the Apple Watch Series 9 over the past month.\\nALL MY FAVORITE GEAR IS LISTED BELOW 👇\\n\\nwatchOS 10 video is here: https://youtu.be/5lVV5jm1bCQ\\n\\nI bought the Apple Watch Series 9 on launch, after using the Series 6 for a few years. I've also been testing out the Google Pixel Watch 2 recently, which has given me some context for what makes this watch special. If you're considering either the Series 9 Or the Apple Watch Ultra 2, and wondering if they're worth it, this is the video for you.\\n\\nBUY THE SERIES 9 HERE: https://amzn.to/3SqTDb5\\n\\nDownload My Latest Wallpaper Pack HERE: https://iokyle.gumroad.com/\\nI monitor and manage all my macs with CleanMyMac X: https://macpaw.audw.net/c/3460079/263631/1733\\n\\nMY APPLE/SETUP SETUP GEAR:\\nLG 27UQ850-W Ultrafine 4K Monitor | https://amzn.to/3o1Beoh\\nLogitech MX Master 3S Mouse | https://amzn.to/3mkvEfS\\nLogitech MX Keys Mini | https://amzn.to/3PrfUQE\\nZikeDrive USB4 SSD Enclosure: https://shrsl.com/49hyk\\nWestern Digital SN770: https://amzn.to/3A6aZPI\\nFlexispot Standing Desk | https://bit.ly/3xUYJ40\\nBenQ ScreenBar Monitor Light | https://amzn.to/3w7DQBH\\nGove RGBIC Strip Lights | https://amzn.to/3CvITx3\\nMandalorian Lego Figures | https://amzn.to/3Et0oyB\\nNomad Base One Max | https://www.dpbolvw.net/click-100415534-14527713?url=https%3A%2F%2Fnomadgoods.com%2Fproducts%2Fbase-one-max-carbide\\nAutonomous ErgoChair Pro | https://www.autonomous.ai/office-chairs/ergonomic-chair?utm_source=pr&utm_medium=influencer&utm_campaign=growth&utm_content=Youtube&utm_term=22KYLE\\nMonoprice Cable Tray | https://amzn.to/3A5nb3t\\nOrbitkey Desk Mat & Keyholder | https://bit.ly/41jSoMg\\nFluance Ai41 Speakers | https://amzn.to/3oi6wah\\nKanto S4 Speaker Stands | https://amzn.to/3A6cWvw\\nVivo Monitor Arm | https://amzn.to/3CtYkWE\\nCalDigit TS4 USB Hub | https://amzn.to/3Fc80Ji\\nGrid Studio iPhone Classic Kit | http://shrsl.com/3nsgi\\n\\nMUSIC I USE IN MY VIDEOS IS ALL FROM EPIDEMIC SOUND\\nGet a free month with the link below:\\nhttps://www.epidemicsound.com/referral/ft6xri\\n\\nLINKS TO PRODUCTS CONTAIN AFFILIATE LINKS\\nBy using the affiliate links, I earn a small fee from any purchase you make. It won't cost you anything to use them. By clicking them it helps support me, and create more content for you. Thank you for the support!\\n_______________________________\\n00:00 | Intro\\n01:07 | Design\\n02:23 | Screen\\n03:04 | Battery\\n03:53 | S9 Chip\\n04:16 | Siri Updates\\n04:38 | Double Tap\\n06:01 | Precision Finding\\n06:33 | watchOS 10\\n08:42 | Wrapping Up\"}, 'defaultAudioLanguage': 'en'}, 'statistics': {'viewCount': '286071', 'likeCount': '3456', 'favoriteCount': '0', 'commentCount': '230'}}], 'pageInfo': {'totalResults': 1, 'resultsPerPage': 1}}\n",
            "Video 17 - Apple Watch Series 9 After 1 Month: It's Not Even CLOSE! -- Comment count:  230\n",
            "\n",
            "{'kind': 'youtube#videoListResponse', 'etag': 'D5GotUopNYrx0qZNWnJe_mlShNw', 'items': [{'kind': 'youtube#video', 'etag': 'QTpmKp1EfwRoPZCUftp-HiTWNRs', 'id': 'FcF0F4lYi_U', 'snippet': {'publishedAt': '2023-10-17T00:29:58Z', 'channelId': 'UCO_vmeInQm5Z6dEZ6R5Kk0A', 'title': 'Apple Watch Series 9 One Month Later - Why It Wins', 'description': \"This is the Apple Watch Series 9, what Apple calls as smarter, brighter, mightier, and what I'm gonna call as probably of my favorite smartwatches in a bit, even if for reasons that are not necessarily conventional to my taste. I mean sure, this might look like Series 8 and Series 7, but let's just say this could just be the culmination of what this watch should've been since Series 1. I'm Jaime Rivera with Pocketnow and let me explain to you why in to our full review. \\n\\nSubscribe: https://bit.ly/pocketnowsub\\nhttps://pocketnow.com\\n\\nFollow us:\\nhttps://flipboard.com/@Pocketnow\\nhttps://facebook.com/pocketnow\\nhttps://twitter.com/pocketnow\\nhttps://instagram.com/pocketnow\\n\\nGraphics provided by: Motionvfx.com\", 'thumbnails': {'default': {'url': 'https://i.ytimg.com/vi/FcF0F4lYi_U/default.jpg', 'width': 120, 'height': 90}, 'medium': {'url': 'https://i.ytimg.com/vi/FcF0F4lYi_U/mqdefault.jpg', 'width': 320, 'height': 180}, 'high': {'url': 'https://i.ytimg.com/vi/FcF0F4lYi_U/hqdefault.jpg', 'width': 480, 'height': 360}, 'standard': {'url': 'https://i.ytimg.com/vi/FcF0F4lYi_U/sddefault.jpg', 'width': 640, 'height': 480}, 'maxres': {'url': 'https://i.ytimg.com/vi/FcF0F4lYi_U/maxresdefault.jpg', 'width': 1280, 'height': 720}}, 'channelTitle': 'Pocketnow', 'tags': ['Apple Watch Series 9 Review', 'Apple Watch Series 9 One Month Later', 'Apple Watch Series 9', 'Apple Watch Extended Review', 'Best Apple Watch', 'Apple Watch 9', 'New Apple Watch', 'Best Smartwatch', 'WatchOS 10', 'iOS', 'iPhone', 'iPhone 15 Pro', 'Best Watch For iPhone', 'Pocketnow', 'Jaime Rivera', 'Pocketnow Daily', 'Review', 'Tech Review', 'New Watch', 'Best Watch', 'Apple Watch 9 vs Apple Watch 1', 'Series 9 Vs Ultra', 'Apple Watch Ultra Vs Apple Watch Series 9'], 'categoryId': '28', 'liveBroadcastContent': 'none', 'defaultLanguage': 'en', 'localized': {'title': 'Apple Watch Series 9 One Month Later - Why It Wins', 'description': \"This is the Apple Watch Series 9, what Apple calls as smarter, brighter, mightier, and what I'm gonna call as probably of my favorite smartwatches in a bit, even if for reasons that are not necessarily conventional to my taste. I mean sure, this might look like Series 8 and Series 7, but let's just say this could just be the culmination of what this watch should've been since Series 1. I'm Jaime Rivera with Pocketnow and let me explain to you why in to our full review. \\n\\nSubscribe: https://bit.ly/pocketnowsub\\nhttps://pocketnow.com\\n\\nFollow us:\\nhttps://flipboard.com/@Pocketnow\\nhttps://facebook.com/pocketnow\\nhttps://twitter.com/pocketnow\\nhttps://instagram.com/pocketnow\\n\\nGraphics provided by: Motionvfx.com\"}, 'defaultAudioLanguage': 'en'}, 'statistics': {'viewCount': '217991', 'likeCount': '3112', 'favoriteCount': '0', 'commentCount': '190'}}], 'pageInfo': {'totalResults': 1, 'resultsPerPage': 1}}\n",
            "Video 18 - Apple Watch Series 9 One Month Later - Why It Wins -- Comment count:  190\n",
            "\n",
            "{'kind': 'youtube#videoListResponse', 'etag': 'txMcxA0DjwASa6nQk7V_Ea8Dp-c', 'items': [{'kind': 'youtube#video', 'etag': 'LWpscG8Bw-1gdiMLOZtkQKi-xwQ', 'id': '4igZ3DEhrk4', 'snippet': {'publishedAt': '2023-09-30T15:31:00Z', 'channelId': 'UChNWxrTlmh4IRSevon1X93g', 'title': 'Apple Watch Series 9 : Full SCIENTIFIC Review', 'description': '🔴 Get a Series 9!*: https://geni.us/AppleWatch_Series9\\n🔴 Get an Apple Watch Ultra2*: https://geni.us/AppleWatch_Ultra2\\n🔴 General Amazon link*: https://geni.us/thequantifiedscientist\\n🟢 Instagram: https://www.instagram.com/quantified_scientist/\\n🟠 Shorts: https://www.youtube.com/@smartwatchshorts\\n🔵 Newsletter: www.robterhorst.com\\n🟡 Twitter: @QuantifiedRob\\n* Affiliate (paid) links support the channel by earning me a commission on any sale, and it doesn\\'t cost you any more! My opinions are completely my own, and this content is not sponsored.\\n▬▬▬▬▬▬▬▬▬▬▬▬▬▬▬▬▬▬▬▬▬▬▬▬▬▬▬▬\\n👇 $30 off any new WHOOP membership, affiliate* (paid) link, supports the channel!👇\\nhttps://join.whoop.com/QuantifiedScientist ($30 off any new WHOOP membership)\\n▬▬▬▬▬▬▬▬▬▬▬▬▬▬▬▬▬▬▬▬▬▬▬▬▬▬▬▬\\n👇Amazon Affiliate* (paid) links. Supports the channel, doesn\\'t cost you any more!👇\\n▬▬▬▬▬▬▬▬▬▬BEST WATCHES▬▬▬▬▬▬▬▬▬▬\\n🔴 Oura Link: I recommend you search for a discount on reddit with the \"Refer-A-Friend\" program! If you can’t find one: https://ouraring.sjv.io/rQ4L33 (affiliate link that supports the channel, but doesn\\'t have a discount)\\n🔴 Whoop Strap 4.0: https://join.whoop.com/QuantifiedScientist \\n($30 off any new WHOOP membership)\\n🔴 Eight sleep 200$/150$ discount*: https://eight-sleep.ioym.net/TheQuantifiedScientist + add code “TQS” for 200$/150$ total discount\\n\\n🔴 General Amazon link*: https://geni.us/thequantifiedscientist\\n🔴 Polar H10: https://geni.us/hnXc\\n\\n▬▬▬▬▬▬▬▬▬▬▬▬▬▬▬▬▬▬▬▬▬▬▬▬▬▬▬▬\\n📸My Gear* (paid links, supports the channel and doesn’t cost you any more)📸\\nCamera body (main): https://geni.us/SonyA6600_body\\nCamera lens (main): https://geni.us/SigmaContemporary\\nCamera (B-roll 1): https://geni.us/Sony_ZVE1\\nCamera (B-roll 2): https://geni.us/CanonEosM50MarkII and https://geni.us/Sony_ZVE10\\nLight: https://geni.us/Godox_VL150\\nSoftbox: https://geni.us/NiceFotoSoftbox\\nLight stand: https://geni.us/WalimexLightstand\\n▬▬▬▬▬▬▬▬▬▬▬▬▬▬▬▬▬▬▬▬▬▬▬▬▬▬▬▬\\n\\nReference devices:\\nZMax + Dreamento: https://www.biorxiv.org/content/10.1101/2023.08.18.553744v1 & https://github.com/dreamento/dreamento\\nPolar H10: https://pubmed.ncbi.nlm.nih.gov/31004219/\\n\\nIntro Music:\\nMusic from #Uppbeat (free for Creators!):\\nhttps://uppbeat.io/t/moire/new-life\\nLicense code: OBLD6VBBCTRDFZQP\\n\\nTimestamps:\\n00:00 Quick Intro\\n00:57 Testing setup\\n01:24 Apple Watch 9 Improvements\\n04:05 Indoor Cycling Test 1 : Male\\n06:54 Indoor Cycling Test 2 : Female\\n08:05 Indoor Cycling Test : Comparison w/ Other Watches\\n09:38 Outdoor Cycling Test 1 : Male\\n12:03 Outdoor Cycling Test 2 : Female\\n13:06 Outdoor Cycling Test : Comparison w/ Other Watches\\n14:29 Running Test 1 : Male\\n15:51 Running Test 2 : Female\\n16:36 Weight Lifting Test 1 : Male\\n18:46 Weight Lifting Test 2 : Female\\n19:43 Weight Lifting Test : Comparison w/ Other Watches\\n21:44 Sleep Test : Series 9\\n29:40 Sleep Test : Comparison w/ Other Watches\\n33:25 GPS Test\\n38:31 Oxygen Saturation Test\\n41:11 Limitations\\n42:00 Recommendations & Conclusions\\n\\nFor the most part, the watch is very similar to the Series 8, but with a few improvements: first of all, the screen is quite a bit brighter, which is quite nice actually. It is quite tricky to capture on camera, but here you can see it for yourself under a bunch of different circumstances. Second, one of the main things that was addressed in the keynote is that it has a new and much more powerful S9 chip, which among other things enables the “double tap”. This was one of the most highlighted features during the keynote, maybe a bit too much in my opinion, but it is quite cool. This is available starting from watchOS version 10.1, which unfortunately isn’t out yet, and Apple did not invite me to the launch event or give me early access, so I couldn’ test it. Hey Apple, hint, hint… Now, online I saw many comments that Apple Watches basically had this feature for a long time, called Assistive Touch. I tried Assistive Touch on my Apple Watch Series 8 before the Series 9 was released, and it does have much of the same functionalities as Double Tap. Though I did find it kind of clunky to use. DC Rainmaker mentioned in his video that the double tap feature worked significantly better for him than Assistive touch. Now, Apple says the double tap feature will only work on the Series 9, because it needs the S9 chip, which is probably true for the way it is implemented. However, I still wonder if they couldn’t have made it work on older series if they’d really wanted to, but OK, it is Apple we are talking about. Now, the new S9 chip also enables Siri to do some new things: first of all, Siri can now process some commands on-device, meaning it is much faster at doing certain things, like setting an alarm. This is honestly much more important to me than double tap, since I will use Siri much more for these kinds of small tasks now. Siri can now also access your health and fitness data, and also add health data via voice commands, or at least, you will be able to do so “later this year”.', 'thumbnails': {'default': {'url': 'https://i.ytimg.com/vi/4igZ3DEhrk4/default.jpg', 'width': 120, 'height': 90}, 'medium': {'url': 'https://i.ytimg.com/vi/4igZ3DEhrk4/mqdefault.jpg', 'width': 320, 'height': 180}, 'high': {'url': 'https://i.ytimg.com/vi/4igZ3DEhrk4/hqdefault.jpg', 'width': 480, 'height': 360}, 'standard': {'url': 'https://i.ytimg.com/vi/4igZ3DEhrk4/sddefault.jpg', 'width': 640, 'height': 480}, 'maxres': {'url': 'https://i.ytimg.com/vi/4igZ3DEhrk4/maxresdefault.jpg', 'width': 1280, 'height': 720}}, 'channelTitle': 'The Quantified Scientist', 'tags': ['apple watch ultra 2 vs series 9', 'apple watch series 9 vs ultra 2', 'ultra 2 vs series 9', 'apple watch ultra vs series 9', 'series 9 vs ultra 2', 'ultra 2', 'series 9', 'apple watch', 'apple watch ultra 2', 'apple watch series 9', 'apple watch comparison', 'apple', 'ultra 2 review', 'series 9 review', 'ultra 2 vs series 9 comparison', 'series 9 vs ultra 2 comparison', 'apple watch ultra 2 vs 1', 'apple watch ultra', 'series 9 vs ultra', 'ultra 1 vs ultra 2', 'ultra 2 vs ultra 1', 'series 9 vs series 8', 'watch'], 'categoryId': '28', 'liveBroadcastContent': 'none', 'localized': {'title': 'Apple Watch Series 9 : Full SCIENTIFIC Review', 'description': '🔴 Get a Series 9!*: https://geni.us/AppleWatch_Series9\\n🔴 Get an Apple Watch Ultra2*: https://geni.us/AppleWatch_Ultra2\\n🔴 General Amazon link*: https://geni.us/thequantifiedscientist\\n🟢 Instagram: https://www.instagram.com/quantified_scientist/\\n🟠 Shorts: https://www.youtube.com/@smartwatchshorts\\n🔵 Newsletter: www.robterhorst.com\\n🟡 Twitter: @QuantifiedRob\\n* Affiliate (paid) links support the channel by earning me a commission on any sale, and it doesn\\'t cost you any more! My opinions are completely my own, and this content is not sponsored.\\n▬▬▬▬▬▬▬▬▬▬▬▬▬▬▬▬▬▬▬▬▬▬▬▬▬▬▬▬\\n👇 $30 off any new WHOOP membership, affiliate* (paid) link, supports the channel!👇\\nhttps://join.whoop.com/QuantifiedScientist ($30 off any new WHOOP membership)\\n▬▬▬▬▬▬▬▬▬▬▬▬▬▬▬▬▬▬▬▬▬▬▬▬▬▬▬▬\\n👇Amazon Affiliate* (paid) links. Supports the channel, doesn\\'t cost you any more!👇\\n▬▬▬▬▬▬▬▬▬▬BEST WATCHES▬▬▬▬▬▬▬▬▬▬\\n🔴 Oura Link: I recommend you search for a discount on reddit with the \"Refer-A-Friend\" program! If you can’t find one: https://ouraring.sjv.io/rQ4L33 (affiliate link that supports the channel, but doesn\\'t have a discount)\\n🔴 Whoop Strap 4.0: https://join.whoop.com/QuantifiedScientist \\n($30 off any new WHOOP membership)\\n🔴 Eight sleep 200$/150$ discount*: https://eight-sleep.ioym.net/TheQuantifiedScientist + add code “TQS” for 200$/150$ total discount\\n\\n🔴 General Amazon link*: https://geni.us/thequantifiedscientist\\n🔴 Polar H10: https://geni.us/hnXc\\n\\n▬▬▬▬▬▬▬▬▬▬▬▬▬▬▬▬▬▬▬▬▬▬▬▬▬▬▬▬\\n📸My Gear* (paid links, supports the channel and doesn’t cost you any more)📸\\nCamera body (main): https://geni.us/SonyA6600_body\\nCamera lens (main): https://geni.us/SigmaContemporary\\nCamera (B-roll 1): https://geni.us/Sony_ZVE1\\nCamera (B-roll 2): https://geni.us/CanonEosM50MarkII and https://geni.us/Sony_ZVE10\\nLight: https://geni.us/Godox_VL150\\nSoftbox: https://geni.us/NiceFotoSoftbox\\nLight stand: https://geni.us/WalimexLightstand\\n▬▬▬▬▬▬▬▬▬▬▬▬▬▬▬▬▬▬▬▬▬▬▬▬▬▬▬▬\\n\\nReference devices:\\nZMax + Dreamento: https://www.biorxiv.org/content/10.1101/2023.08.18.553744v1 & https://github.com/dreamento/dreamento\\nPolar H10: https://pubmed.ncbi.nlm.nih.gov/31004219/\\n\\nIntro Music:\\nMusic from #Uppbeat (free for Creators!):\\nhttps://uppbeat.io/t/moire/new-life\\nLicense code: OBLD6VBBCTRDFZQP\\n\\nTimestamps:\\n00:00 Quick Intro\\n00:57 Testing setup\\n01:24 Apple Watch 9 Improvements\\n04:05 Indoor Cycling Test 1 : Male\\n06:54 Indoor Cycling Test 2 : Female\\n08:05 Indoor Cycling Test : Comparison w/ Other Watches\\n09:38 Outdoor Cycling Test 1 : Male\\n12:03 Outdoor Cycling Test 2 : Female\\n13:06 Outdoor Cycling Test : Comparison w/ Other Watches\\n14:29 Running Test 1 : Male\\n15:51 Running Test 2 : Female\\n16:36 Weight Lifting Test 1 : Male\\n18:46 Weight Lifting Test 2 : Female\\n19:43 Weight Lifting Test : Comparison w/ Other Watches\\n21:44 Sleep Test : Series 9\\n29:40 Sleep Test : Comparison w/ Other Watches\\n33:25 GPS Test\\n38:31 Oxygen Saturation Test\\n41:11 Limitations\\n42:00 Recommendations & Conclusions\\n\\nFor the most part, the watch is very similar to the Series 8, but with a few improvements: first of all, the screen is quite a bit brighter, which is quite nice actually. It is quite tricky to capture on camera, but here you can see it for yourself under a bunch of different circumstances. Second, one of the main things that was addressed in the keynote is that it has a new and much more powerful S9 chip, which among other things enables the “double tap”. This was one of the most highlighted features during the keynote, maybe a bit too much in my opinion, but it is quite cool. This is available starting from watchOS version 10.1, which unfortunately isn’t out yet, and Apple did not invite me to the launch event or give me early access, so I couldn’ test it. Hey Apple, hint, hint… Now, online I saw many comments that Apple Watches basically had this feature for a long time, called Assistive Touch. I tried Assistive Touch on my Apple Watch Series 8 before the Series 9 was released, and it does have much of the same functionalities as Double Tap. Though I did find it kind of clunky to use. DC Rainmaker mentioned in his video that the double tap feature worked significantly better for him than Assistive touch. Now, Apple says the double tap feature will only work on the Series 9, because it needs the S9 chip, which is probably true for the way it is implemented. However, I still wonder if they couldn’t have made it work on older series if they’d really wanted to, but OK, it is Apple we are talking about. Now, the new S9 chip also enables Siri to do some new things: first of all, Siri can now process some commands on-device, meaning it is much faster at doing certain things, like setting an alarm. This is honestly much more important to me than double tap, since I will use Siri much more for these kinds of small tasks now. Siri can now also access your health and fitness data, and also add health data via voice commands, or at least, you will be able to do so “later this year”.'}, 'defaultAudioLanguage': 'en'}, 'statistics': {'viewCount': '76712', 'likeCount': '2511', 'favoriteCount': '0', 'commentCount': '302'}}], 'pageInfo': {'totalResults': 1, 'resultsPerPage': 1}}\n",
            "Video 19 - Apple Watch Series 9 : Full SCIENTIFIC Review -- Comment count:  302\n",
            "\n",
            "{'kind': 'youtube#videoListResponse', 'etag': 'bQh6A_iXyiGf0Q4ofjzwXrcqcBU', 'items': [{'kind': 'youtube#video', 'etag': 'RMQ2PBWGr73PErj1tLdCsaYCtrw', 'id': 'GHYg8cmUiKM', 'snippet': {'publishedAt': '2024-02-17T11:01:57Z', 'channelId': 'UCMiJRAwDNSNzuYeN2uWa0pA', 'title': 'I Hated Smartwatches', 'description': \"What do I do now lol \\nCheck out the Insta360 Ace Pro. The first 30 purchases will get a 10% discount and a free accessory at https://bit.ly/Mrwhosetheboss-Insta360AcePro\\n\\nI spend a LOT of time trying to make my videos as concise, polished and useful as possible for you - if you would like to support me on that mission then consider subscribing to the channel - you'd make my day 😁\\n\\nFor my tech hot takes: http://twitter.com/Mrwhosetheboss\\nFor my Personal Posts: http://instagram.com/mrwhosetheboss\\nDoes anyone still use this anymore?: https://facebook.com/mrwhosetheboss\\n\\nAmazon Affiliate links (if you buy anything through these it will support the channel and allow us to buy better gear!):\\nAmazon US: https://amzn.to/3mFix9d\\nAmazon UK: https://amzn.to/3GMPPtM\\n\\nMy Filming Gear:\\nhttps://bit.ly/35CuxwI\\n\\nMusic is from Epidemic sound:\\nhttp://share.epidemicsound.com/pHDFT\", 'thumbnails': {'default': {'url': 'https://i.ytimg.com/vi/GHYg8cmUiKM/default.jpg', 'width': 120, 'height': 90}, 'medium': {'url': 'https://i.ytimg.com/vi/GHYg8cmUiKM/mqdefault.jpg', 'width': 320, 'height': 180}, 'high': {'url': 'https://i.ytimg.com/vi/GHYg8cmUiKM/hqdefault.jpg', 'width': 480, 'height': 360}, 'standard': {'url': 'https://i.ytimg.com/vi/GHYg8cmUiKM/sddefault.jpg', 'width': 640, 'height': 480}, 'maxres': {'url': 'https://i.ytimg.com/vi/GHYg8cmUiKM/maxresdefault.jpg', 'width': 1280, 'height': 720}}, 'channelTitle': 'Mrwhosetheboss', 'tags': ['tech', 'gadgets', 'smart watch', 'smartwatch', 'apple'], 'categoryId': '28', 'liveBroadcastContent': 'none', 'localized': {'title': 'I Hated Smartwatches', 'description': \"What do I do now lol \\nCheck out the Insta360 Ace Pro. The first 30 purchases will get a 10% discount and a free accessory at https://bit.ly/Mrwhosetheboss-Insta360AcePro\\n\\nI spend a LOT of time trying to make my videos as concise, polished and useful as possible for you - if you would like to support me on that mission then consider subscribing to the channel - you'd make my day 😁\\n\\nFor my tech hot takes: http://twitter.com/Mrwhosetheboss\\nFor my Personal Posts: http://instagram.com/mrwhosetheboss\\nDoes anyone still use this anymore?: https://facebook.com/mrwhosetheboss\\n\\nAmazon Affiliate links (if you buy anything through these it will support the channel and allow us to buy better gear!):\\nAmazon US: https://amzn.to/3mFix9d\\nAmazon UK: https://amzn.to/3GMPPtM\\n\\nMy Filming Gear:\\nhttps://bit.ly/35CuxwI\\n\\nMusic is from Epidemic sound:\\nhttp://share.epidemicsound.com/pHDFT\"}, 'defaultAudioLanguage': 'en-GB'}, 'statistics': {'viewCount': '2109160', 'likeCount': '85567', 'favoriteCount': '0', 'commentCount': '5021'}}], 'pageInfo': {'totalResults': 1, 'resultsPerPage': 1}}\n",
            "Video 20 - I Hated Smartwatches -- Comment count:  5021\n",
            "\n"
          ]
        }
      ],
      "source": [
        "print(\"Get video data...\")\n",
        "for i in range(len(vid_id)):\n",
        "    request = youtube.videos().list(\n",
        "        part=\"snippet, statistics\",\n",
        "        id=vid_id[i]\n",
        "        )\n",
        "    video_response = request.execute()\n",
        "    print(video_response)\n",
        "\n",
        "    title = video_response['items'][0]['snippet']['title']\n",
        "    vid_title.append(title)\n",
        "    try:                        # use try/except as some videos might not load\n",
        "        comment_count = video_response['items'][0]['statistics']['commentCount']\n",
        "        print(\"Video\", i + 1, \"-\", title, \"-- Comment count: \", comment_count)\n",
        "        print()\n",
        "        num_comments.append(comment_count)\n",
        "    except:\n",
        "        print(\"Video\", i + 1, \"-\", title, \"-- Comments are turned off\")\n",
        "        print()\n",
        "        num_comments.append(0)\n"
      ]
    },
    {
      "cell_type": "markdown",
      "metadata": {
        "id": "C73povCTxBzf"
      },
      "source": [
        "Show videos without loading errors"
      ]
    },
    {
      "cell_type": "code",
      "execution_count": 11,
      "metadata": {
        "colab": {
          "background_save": true
        },
        "id": "b0NZh5jOxsUI",
        "outputId": "ed37213a-5472-4bf3-c224-d985d7accbc6"
      },
      "outputs": [
        {
          "name": "stdout",
          "output_type": "stream",
          "text": [
            "Videos that can load...\n",
            "1 Apple Watch Series 9 Review: Slightly Smarter and Faster\n",
            "2 Apple Watch Series 9 In-Depth Review: Worth Upgrading?\n",
            "3 Apple Watch Series 9 Review - 6 Months Later\n",
            "4 Apple Watch Series 9 & Ultra 2: What Are We Waiting For?!\n",
            "5 Apple Watch Series 9 After 5 Months: Not All It Seems\n",
            "6 Apple Watch Series 9 — 2 Months After (Long-Term Review)\n",
            "7 Apple Watch Series 9 After 1 Month: It's Not Even CLOSE!\n",
            "8 Apple Watch Series 9 One Month Later - Why It Wins\n",
            "9 Apple Watch Series 9 : Full SCIENTIFIC Review\n",
            "10 I Hated Smartwatches\n",
            "11 Apple Watch Series 9 Review: Slightly Smarter and Faster\n",
            "12 Apple Watch Series 9 In-Depth Review: Worth Upgrading?\n",
            "13 Apple Watch Series 9 Review - 6 Months Later\n",
            "14 Apple Watch Series 9 & Ultra 2: What Are We Waiting For?!\n",
            "15 Apple Watch Series 9 After 5 Months: Not All It Seems\n",
            "16 Apple Watch Series 9 — 2 Months After (Long-Term Review)\n",
            "17 Apple Watch Series 9 After 1 Month: It's Not Even CLOSE!\n",
            "18 Apple Watch Series 9 One Month Later - Why It Wins\n",
            "19 Apple Watch Series 9 : Full SCIENTIFIC Review\n",
            "20 I Hated Smartwatches\n"
          ]
        }
      ],
      "source": [
        "print(\"Videos that can load...\")\n",
        "vid_page = can_load_page                    # update vid_page with those with no load error\n",
        "vid_title = can_load_title                  # update vid_title with those with no load error\n",
        "for i in range(len(vid_title)):\n",
        "    if vid_title[i] == 'YouTube':           # default error title is 'YouTube'\n",
        "        vid_title[i] = 'Video_' + str(i+1)  # replace 'YouTube' with Video_1 format\n",
        "    print(i + 1, vid_title[i])\n"
      ]
    },
    {
      "cell_type": "code",
      "execution_count": 12,
      "metadata": {},
      "outputs": [],
      "source": [
        "import os"
      ]
    },
    {
      "cell_type": "code",
      "execution_count": 13,
      "metadata": {},
      "outputs": [
        {
          "name": "stdout",
          "output_type": "stream",
          "text": [
            "Transcript saved successfully!\n",
            "Transcript saved successfully!\n",
            "Transcript saved successfully!\n",
            "Transcript saved successfully!\n",
            "Transcript saved successfully!\n",
            "Transcript saved successfully!\n",
            "Transcript saved successfully!\n",
            "Transcript saved successfully!\n",
            "Transcript saved successfully!\n",
            "Transcript saved successfully!\n",
            "Transcript saved successfully!\n",
            "Transcript saved successfully!\n",
            "Transcript saved successfully!\n",
            "Transcript saved successfully!\n",
            "Transcript saved successfully!\n",
            "Transcript saved successfully!\n",
            "Transcript saved successfully!\n",
            "Transcript saved successfully!\n",
            "Transcript saved successfully!\n",
            "Transcript saved successfully!\n"
          ]
        }
      ],
      "source": [
        "def save_transcript_to_file(video_id, output_folder):\n",
        "    try:\n",
        "        # Get the transcript for the video\n",
        "        transcript = YouTubeTranscriptApi.get_transcript(video_id)\n",
        "\n",
        "        # Extract the text from the transcript\n",
        "        text = ''\n",
        "        for segment in transcript:\n",
        "            text += segment['text'] + ' '\n",
        "\n",
        "        # Create the output folder if it doesn't exist\n",
        "        if not os.path.exists(output_folder):\n",
        "            os.makedirs(output_folder)\n",
        "\n",
        "        # Save the text to a file\n",
        "        output_file = os.path.join(output_folder, f\"{video_id}_transcript.txt\")\n",
        "        with open(output_file, 'w', encoding='utf-8') as file:\n",
        "            file.write(text)\n",
        "\n",
        "        \n",
        "        print(\"Transcript saved successfully!\")\n",
        "    except Exception as e:\n",
        "        print(\"An error occurred:\", str(e))\n",
        "\n",
        "\n",
        "for video_id in vid_id:\n",
        "    save_transcript_to_file(video_id, \"transcript_data\")\n",
        "# Example usage\n",
        "# video_id = '5KfXKQOmqY8'  # Replace 'VIDEO_ID' with the actual ID of the YouTube video\n",
        "# output_file = 'transcript.txt'\n",
        "\n",
        "# save_transcript_to_file(video_id, output_file)\n"
      ]
    },
    {
      "cell_type": "markdown",
      "metadata": {
        "id": "DD0SpAOP4JLh"
      },
      "source": [
        "Create directory"
      ]
    },
    {
      "cell_type": "code",
      "execution_count": 14,
      "metadata": {
        "colab": {
          "background_save": true
        },
        "id": "ZFHiYsOU6lxs",
        "outputId": "a008b9fd-201e-4bd2-d6f1-8dbd6739ed43"
      },
      "outputs": [
        {
          "name": "stdout",
          "output_type": "stream",
          "text": [
            "Directory Apple Watch Series 9 Review created\n",
            "Directory _current_ exists\n"
          ]
        }
      ],
      "source": [
        "try:                                              # Create directory named after search terms\n",
        "    os.makedirs(\"support/%s\" % search_terms)\n",
        "    print(\"Directory\", search_terms, \"created\")\n",
        "except FileExistsError:\n",
        "    print(\"Directory\", search_terms, \"exists\")\n",
        "\n",
        "try:                                              # Create directory to store current search terms\n",
        "    os.makedirs(\"support/_current_\")\n",
        "    print(\"Directory _current_ created\")\n",
        "except FileExistsError:\n",
        "    print(\"Directory _current_ exists\")\n"
      ]
    },
    {
      "cell_type": "markdown",
      "metadata": {
        "id": "XI10_JJwr0R2"
      },
      "source": [
        "Save files for future use"
      ]
    },
    {
      "cell_type": "code",
      "execution_count": 15,
      "metadata": {
        "colab": {
          "background_save": true
        },
        "id": "xr9IVvrZNx__"
      },
      "outputs": [],
      "source": [
        "\n",
        "\n",
        "pickle.dump(search_terms, open(\"support/%s/searchTerms.pkl\" % search_terms, \"wb\"))\n",
        "# pickle.dump(comment_list, open(\"support/%s/comment_list.pkl\" % search_terms, \"wb\"))\n",
        "pickle.dump(vid_title, open(\"support/%s/vid_title.pkl\" % search_terms, \"wb\"))\n",
        "pickle.dump(vid_page, open(\"support/%s/vid_page.pkl\" % search_terms, \"wb\"))\n",
        "pickle.dump(vid_id, open(\"support/%s/vid_id.pkl\" % search_terms, \"wb\"))\n"
      ]
    },
    {
      "cell_type": "markdown",
      "metadata": {
        "id": "jc7wo23HOCR6"
      },
      "source": [
        "Save files for next step"
      ]
    },
    {
      "cell_type": "code",
      "execution_count": 16,
      "metadata": {
        "colab": {
          "background_save": true
        },
        "id": "CW48mZ7w53Qp"
      },
      "outputs": [],
      "source": [
        "import shutil\n",
        "\n",
        "# source = \"support/%s/comments.txt\" % search_terms\n",
        "# destination = \"support/_current_/comments.txt\"\n",
        "# shutil.copyfile(source, destination)\n",
        "\n",
        "pickle.dump(search_terms, open(\"support/_current_/searchTerms.pkl\", \"wb\"))\n"
      ]
    },
    {
      "cell_type": "markdown",
      "metadata": {
        "id": "2T-nP1-YC6Q1"
      },
      "source": [
        "Clear data for rerun"
      ]
    },
    {
      "cell_type": "code",
      "execution_count": 17,
      "metadata": {
        "colab": {
          "background_save": true
        },
        "id": "CVtO4W5mC-H4"
      },
      "outputs": [],
      "source": [
        "comment_list.clear()\n",
        "vid_title.clear()\n",
        "vid_page.clear()\n",
        "vid_id.clear()\n"
      ]
    },
    {
      "cell_type": "code",
      "execution_count": 18,
      "metadata": {},
      "outputs": [],
      "source": [
        "import os\n",
        "\n",
        "f = open(\"keys/openai_key.txt\", \"r\")\n",
        "key = f.readlines()[0]\n",
        "f.close()\n",
        "\n",
        "os.environ[\"OPENAI_API_KEY\"] = key      # LangChain requires API key in environment\n"
      ]
    },
    {
      "cell_type": "markdown",
      "metadata": {},
      "source": [
        "Load Private Documents\n"
      ]
    },
    {
      "cell_type": "code",
      "execution_count": 20,
      "metadata": {},
      "outputs": [],
      "source": [
        "from langchain_community.document_loaders import DirectoryLoader\n",
        "\n",
        "from langchain.document_loaders import TextLoader\n",
        "\n",
        "\n",
        "\n",
        "loader = DirectoryLoader('transcript_data/', glob=\"./*.txt\", loader_cls=TextLoader)\n",
        "\n",
        "document = loader.load()"
      ]
    },
    {
      "cell_type": "markdown",
      "metadata": {},
      "source": [
        "Split documents into smaller parts\n"
      ]
    },
    {
      "cell_type": "code",
      "execution_count": 21,
      "metadata": {},
      "outputs": [
        {
          "name": "stdout",
          "output_type": "stream",
          "text": [
            "Number of splits in document loaded: 370\n"
          ]
        }
      ],
      "source": [
        "from langchain.text_splitter import RecursiveCharacterTextSplitter\n",
        "text_splitter = RecursiveCharacterTextSplitter(\n",
        "    chunk_size=1000,\n",
        "    chunk_overlap=200\n",
        ")\n",
        "splits = text_splitter.split_documents(document)\n",
        "\n",
        "print(\"Number of splits in document loaded:\", len(splits))\n"
      ]
    },
    {
      "cell_type": "markdown",
      "metadata": {},
      "source": [
        "Use openAI Embeddings\n"
      ]
    },
    {
      "cell_type": "code",
      "execution_count": 22,
      "metadata": {},
      "outputs": [],
      "source": [
        "\n",
        "from langchain_openai import OpenAIEmbeddings\n",
        "embedding = OpenAIEmbeddings()\n"
      ]
    },
    {
      "cell_type": "markdown",
      "metadata": {},
      "source": [
        "Remove 'persist' directory, setup folder\n"
      ]
    },
    {
      "cell_type": "code",
      "execution_count": 23,
      "metadata": {},
      "outputs": [
        {
          "name": "stdout",
          "output_type": "stream",
          "text": [
            "Processing folder: Apple Watch Series 9 Review\n",
            "No store found\n",
            "Files in folder: ['searchTerms.pkl', 'vid_id.pkl', 'vid_page.pkl', 'vid_title.pkl']\n"
          ]
        }
      ],
      "source": [
        "import shutil\n",
        "import pandas as pd\n",
        "search_terms = pd.read_pickle(\"support/_current_/searchTerms.pkl\")\n",
        "print(\"Processing folder:\", search_terms)\n",
        "\n",
        "try:\n",
        "    shutil.rmtree('support/%s/persist' % search_terms)       # remove old version\n",
        "    print(\"Deleting previous store\")\n",
        "except:\n",
        "    print(\"No store found\")\n",
        "\n",
        "persist_directory = 'support/%s/persist' % search_terms     # create new version\n",
        "\n",
        "files = os.listdir(\"support/%s\" % search_terms)             # list all files\n",
        "print(\"Files in folder:\", files)\n"
      ]
    },
    {
      "cell_type": "code",
      "execution_count": 24,
      "metadata": {},
      "outputs": [
        {
          "name": "stdout",
          "output_type": "stream",
          "text": [
            "Persist Directory created.\n",
            "Size of Vector Database: 370\n"
          ]
        }
      ],
      "source": [
        "from langchain.vectorstores import Chroma\n",
        "\n",
        "vectordb = Chroma.from_documents(\n",
        "    documents=splits,                           # target the splits created from the documents loaded\n",
        "    embedding=embedding,                        # use the OpenAI embedding specified\n",
        "    persist_directory=persist_directory         # store in the persist directory for future use\n",
        ")\n",
        "\n",
        "vectordb.persist()                              # store vectordb\n",
        "\n",
        "print(\"Persist Directory created.\")\n",
        "print(\"Size of Vector Database:\", vectordb._collection.count())    # same as the number of splits\n"
      ]
    },
    {
      "cell_type": "markdown",
      "metadata": {},
      "source": [
        "Retrieve vectordb\n"
      ]
    },
    {
      "cell_type": "code",
      "execution_count": 25,
      "metadata": {},
      "outputs": [
        {
          "name": "stdout",
          "output_type": "stream",
          "text": [
            "Processing folder: Apple Watch Series 9 Review\n",
            "Size of Vector Database 370\n"
          ]
        }
      ],
      "source": [
        "import pandas as pd\n",
        "search_terms = pd.read_pickle(\"support/_current_/searchTerms.pkl\")\n",
        "\n",
        "from langchain_openai import OpenAIEmbeddings\n",
        "embedding = OpenAIEmbeddings()\n",
        "\n",
        "from langchain.vectorstores import Chroma\n",
        "persist_directory = 'support/%s/persist' % search_terms\n",
        "\n",
        "vectordb = Chroma(\n",
        "    persist_directory=persist_directory,\n",
        "    embedding_function=embedding\n",
        "    )\n",
        "\n",
        "print(\"Processing folder:\", search_terms)\n",
        "print(\"Size of Vector Database\", vectordb._collection.count())    # same as before\n"
      ]
    },
    {
      "cell_type": "code",
      "execution_count": 26,
      "metadata": {},
      "outputs": [],
      "source": [
        "from langchain_openai import ChatOpenAI\n",
        "llm = ChatOpenAI(model_name=\"gpt-4\", temperature=0)               # gpt model can be changed"
      ]
    },
    {
      "cell_type": "code",
      "execution_count": 32,
      "metadata": {},
      "outputs": [
        {
          "name": "stdout",
          "output_type": "stream",
          "text": [
            "The context provided does not specify the exact product being discussed. However, it seems to be an Apple smartwatch. The good components mentioned include Apple's bold approach to design, challenging the traditional watch aesthetic and opting for a modular design. The product is also praised for its energy efficiency and the company's consideration of the materials, energy, and emissions used in its creation, assembly, packaging, and shipping. The context does not provide any specific bad components or areas for improvement for the product.\n"
          ]
        }
      ],
      "source": [
        "from langchain.chains import RetrievalQA\n",
        "\n",
        "qa_chain = RetrievalQA.from_chain_type(\n",
        "    llm,\n",
        "    # retriever=vectordb.as_retriever(search_type=\"mmr\", search_kwargs={\"k\": 4, \"fetch_k\": 6}),\n",
        "    # retriever=vectordb.as_retriever(search_type=\"similarity\", search_kwargs={\"k\": 4}),\n",
        "    retriever=vectordb.as_retriever(),\n",
        "    return_source_documents=True\n",
        "    )\n",
        "\n",
        "\n",
        "question = \"I want you to tell me what the product is, and give me some insights with regard to the following categories: Positively reviewed components, negatively reviewed components, places for improvement, and a general summary. After giving me that information, identify design opportunities and provide me with recommendations. \"  # input question\n",
        "\n",
        "\n",
        "result = qa_chain({\"query\": \"Based on the context provided to you, tell me what the product is. Tell me its good components, bad components, and places for improvement.\"})\n",
        "\n",
        "# print(\"\\n--Results with metadata--\")\n",
        "# print(result)\n",
        "# print(\"\\n--The prompt--\")\n",
        "# print(result[\"query\"])\n",
        "# print(\"\\n--The sources--\")\n",
        "# print(result[\"source_documents\"])\n",
        "# print(\"\\n--The final response--\")\n",
        "print(result[\"result\"])"
      ]
    }
  ],
  "metadata": {
    "colab": {
      "machine_shape": "hm",
      "provenance": []
    },
    "kernelspec": {
      "display_name": "venv",
      "language": "python",
      "name": "python3"
    },
    "language_info": {
      "codemirror_mode": {
        "name": "ipython",
        "version": 3
      },
      "file_extension": ".py",
      "mimetype": "text/x-python",
      "name": "python",
      "nbconvert_exporter": "python",
      "pygments_lexer": "ipython3",
      "version": "3.11.9"
    }
  },
  "nbformat": 4,
  "nbformat_minor": 0
}
