{
  "cells": [
    {
      "cell_type": "markdown",
      "metadata": {},
      "source": [
        "The following pip installs are necessary in whatever environment you choose to work in:\n",
        "\n",
        "youtube_transcript_api\n",
        "googleapiclient\n",
        "pandas\n",
        "os\n",
        "pickle\n",
        "langchain\n",
        "openai\n",
        "chromadb\n",
        "langchain-openai\n",
        "\n"
      ]
    },
    {
      "cell_type": "markdown",
      "metadata": {
        "id": "Q9ZF6kS711UO"
      },
      "source": [
        "Initialise and Set up Google API Key"
      ]
    },
    {
      "cell_type": "code",
      "execution_count": 15,
      "metadata": {
        "id": "dncG42bc3N1p"
      },
      "outputs": [],
      "source": [
        "import pickle\n",
        "import os\n",
        "import pandas as pd\n",
        "from googleapiclient.discovery import build\n",
        "from googleapiclient.errors import HttpError\n",
        "from youtube_transcript_api import YouTubeTranscriptApi\n",
        "\n",
        "\n",
        "f = open(\"keys/google_key.txt\", \"r\")\n",
        "key = f.readlines()[0]\n",
        "f.close()\n",
        "\n",
        "youtube = build('youtube', 'v3', developerKey=key)\n",
        "\n",
        "import os\n",
        "\n",
        "f = open(\"keys/openai_key.txt\", \"r\")\n",
        "key = f.readlines()[0]\n",
        "f.close()\n",
        "\n",
        "os.environ[\"OPENAI_API_KEY\"] = key      # LangChain requires API key in environment\n",
        "\n",
        "\n",
        "\n"
      ]
    },
    {
      "cell_type": "markdown",
      "metadata": {
        "id": "1Qw8YZx43Y1O"
      },
      "source": [
        "User Inputs (prompt)"
      ]
    },
    {
      "cell_type": "code",
      "execution_count": 3,
      "metadata": {},
      "outputs": [],
      "source": [
        "product = \"Apple Watch Series 9\""
      ]
    },
    {
      "cell_type": "code",
      "execution_count": 4,
      "metadata": {
        "id": "YLI44Qg63k2I"
      },
      "outputs": [],
      "source": [
        "search_terms = f\"{product} Review\"    # insert prompt -> \"Brand Product Model\"\n",
        "max_result = 10                         # No. of results (1-50)\n"
      ]
    },
    {
      "cell_type": "code",
      "execution_count": 36,
      "metadata": {},
      "outputs": [
        {
          "name": "stdout",
          "output_type": "stream",
          "text": [
            "['Samsung Galaxy Watch 4', 'Fitbit Sense', 'Garmin Forerunner 945']\n",
            "['Samsung Galaxy Watch 4', 'Fitbit Sense', 'Garmin Forerunner 945', 'Apple Watch Series 9']\n",
            "['Samsung Galaxy Watch 4 Review', 'Fitbit Sense Review', 'Garmin Forerunner 945 Review', 'Apple Watch Series 9 Review']\n"
          ]
        }
      ],
      "source": [
        "from openai import OpenAI\n",
        "import ast\n",
        "\n",
        "client = OpenAI()\n",
        "\n",
        "prompt =  f\"Identify 3 main competitors for {product}. Output the results in the following format: ['a', 'b', 'c'] that can immediately be used as code,\" \\\n",
        "          \" where a, b, and c are each one key design feature. \"\n",
        "\n",
        "\n",
        "chat_completion = client.chat.completions.create(\n",
        "    model=\"gpt-3.5-turbo\",\n",
        "    messages=[{\"role\": \"user\", \"content\": prompt,}],\n",
        "    temperature=0,\n",
        ")\n",
        "\n",
        "\n",
        "\n",
        "competitors = ast.literal_eval(chat_completion.choices[0].message.content)\n",
        "\n",
        "print(competitors)\n",
        "\n",
        "reviewlist = []\n",
        "\n",
        "for i in range(len(competitors)):\n",
        "    reviewlist.append(competitors[i] + \" Review\")\n",
        "\n",
        "competitors.append(product)\n",
        "reviewlist.append(search_terms)\n",
        "print(competitors)\n",
        "print(reviewlist)"
      ]
    },
    {
      "cell_type": "markdown",
      "metadata": {
        "id": "PHWtA6Rw4Kb-"
      },
      "source": [
        "Define containers to store info"
      ]
    },
    {
      "cell_type": "code",
      "execution_count": 14,
      "metadata": {
        "id": "Atc2__gT4hCG"
      },
      "outputs": [],
      "source": [
        "vid_id = []             \t  # video id\n",
        "vid_page = []       \t\t    # video links (https...)\n",
        "vid_title = []              # video title\n",
        "num_comments = []           # official number of comments\n",
        "load_error = 0              # error counter\n",
        "can_load_title = []         # temp. list for storing title w/o loading error\n",
        "can_load_page = []          # temp. list for storing links w/o loading error\n",
        "num_page = []               # comment_response page number\n",
        "page_title = []             # comment_response video title\n",
        "comment_resp = []           # comment_response\n",
        "comment_list = []           # temp. list for storing comments\n",
        "comment_data = []           # comments & replies from comment_response\n",
        "all_count = 0               # total number of comments\n"
      ]
    },
    {
      "cell_type": "markdown",
      "metadata": {
        "id": "68OkC9Qf4lEX"
      },
      "source": [
        "Search for Video IDs based on User Inputs"
      ]
    },
    {
      "cell_type": "code",
      "execution_count": 16,
      "metadata": {
        "colab": {
          "base_uri": "https://localhost:8080/"
        },
        "id": "VKLV7USf4p_8",
        "outputId": "4ecfaa35-c603-4051-9b14-f660354813ed"
      },
      "outputs": [
        {
          "name": "stdout",
          "output_type": "stream",
          "text": [
            "Search for Videos IDs...\n"
          ]
        }
      ],
      "source": [
        "print(\"Search for Videos IDs...\")\n",
        "\n",
        "vid_id = []\n",
        "\n",
        "for competitor in competitors:\n",
        "    try:\n",
        "            search_response = youtube.search().list(\n",
        "                q=competitor,\n",
        "                part='id',\n",
        "                type='video',\n",
        "                maxResults=max_result\n",
        "            ).execute()\n",
        "\n",
        "            for item in search_response['items']:\n",
        "                vid_id.append(item['id']['videoId'])\n",
        "\n",
        "    except HttpError as e:\n",
        "        print('An HTTP error %d occurred:\\n%s' % (e.resp.status, e.content))\n",
        "\n",
        "    \n",
        "\n"
      ]
    },
    {
      "cell_type": "markdown",
      "metadata": {
        "id": "9qkzbco5sJjK"
      },
      "source": [
        "Use the list of Video IDs to get video data"
      ]
    },
    {
      "cell_type": "code",
      "execution_count": 18,
      "metadata": {
        "colab": {
          "base_uri": "https://localhost:8080/"
        },
        "id": "zL1AUZyNscvv",
        "outputId": "033fecff-4999-45c9-a3c1-988c98a9248b"
      },
      "outputs": [
        {
          "name": "stdout",
          "output_type": "stream",
          "text": [
            "Get video data...\n",
            "{'kind': 'youtube#videoListResponse', 'etag': 'frwQiiaEWPxra4PhgKHjZQOmnqk', 'items': [{'kind': 'youtube#video', 'etag': 'HsEFdNOrxSFZTphQISAG3K_jtn8', 'id': 'E5DlpONIW5M', 'snippet': {'publishedAt': '2021-08-18T14:30:02Z', 'channelId': 'UCddiUEpeqJcYeBxX1IVBKvQ', 'title': 'Samsung Galaxy Watch 4 review: gone Google', 'description': \"Samsung has released the Galaxy Watch 4 and Watch 4 Classic. They run Google's Wear OS 3 platform, but they're Samsung watches through and through. Dieter Bohn reviews the watches and explains what's it's like to finally have a good smartwatch for Android users… with Bixby.\\n\\nIf you buy something from a Verge link, Vox Media may earn a commission. See our ethics policy: http://bit.ly/2TQsqjB\\n\\nYou can get the Galaxy Watch 4 here: https://shop-links.co/1749444477664951566\\n\\nShop The Verge's merch here: https://shop.theverge.com/ \\nSubscribe: http://goo.gl/G5RXGs\\nLike The Verge on Facebook: https://goo.gl/2P1aGc\\nFollow on Twitter: https://goo.gl/XTWX61\\nFollow on Instagram: https://goo.gl/7ZeLvX\\n\\nWhy'd You Push That Button Podcast: https://pod.link/1295289748\\nThe Vergecast Podcast: https://pod.link/430333725\\nMore about our podcasts: https://www.theverge.com/podcasts\\n\\nRead More: http://www.theverge.com\\nCommunity guidelines: http://bit.ly/2D0hlAv\\nWallpapers from The Verge: https://bit.ly/2xQXYJr\\n\\nSubscribe to Verge Science on YouTube, a new home base for our explorations into the future of science: http://bit.ly/2FqJZMl\", 'thumbnails': {'default': {'url': 'https://i.ytimg.com/vi/E5DlpONIW5M/default.jpg', 'width': 120, 'height': 90}, 'medium': {'url': 'https://i.ytimg.com/vi/E5DlpONIW5M/mqdefault.jpg', 'width': 320, 'height': 180}, 'high': {'url': 'https://i.ytimg.com/vi/E5DlpONIW5M/hqdefault.jpg', 'width': 480, 'height': 360}, 'standard': {'url': 'https://i.ytimg.com/vi/E5DlpONIW5M/sddefault.jpg', 'width': 640, 'height': 480}, 'maxres': {'url': 'https://i.ytimg.com/vi/E5DlpONIW5M/maxresdefault.jpg', 'width': 1280, 'height': 720}}, 'channelTitle': 'The Verge', 'tags': ['galaxy watch 4', 'galaxy watch', 'samsung galaxy watch 4', 'galaxy watch 4 review', 'samsung galaxy watch 4 review', 'watch 4 review', 'smartwatch', 'specs', 'price', 'battery', 'android', 'fitness', 'gadget', 'unpacked', 'verge', 'the verge', 'dieter bohn', 'technology', 'tech', 'smartwatch review', 'galaxy watch 4 classic', 'galaxy watch 4 vs', 'galaxy watch 4 vs classic', 'wear os 3', 'android smartwatch', 'samsung watch 4', 'samsung watch 4 classic', 'new samsung watch', 'galaxy watch 4 features', 'samsung watch'], 'categoryId': '28', 'liveBroadcastContent': 'none', 'defaultLanguage': 'en-US', 'localized': {'title': 'Samsung Galaxy Watch 4 review: gone Google', 'description': \"Samsung has released the Galaxy Watch 4 and Watch 4 Classic. They run Google's Wear OS 3 platform, but they're Samsung watches through and through. Dieter Bohn reviews the watches and explains what's it's like to finally have a good smartwatch for Android users… with Bixby.\\n\\nIf you buy something from a Verge link, Vox Media may earn a commission. See our ethics policy: http://bit.ly/2TQsqjB\\n\\nYou can get the Galaxy Watch 4 here: https://shop-links.co/1749444477664951566\\n\\nShop The Verge's merch here: https://shop.theverge.com/ \\nSubscribe: http://goo.gl/G5RXGs\\nLike The Verge on Facebook: https://goo.gl/2P1aGc\\nFollow on Twitter: https://goo.gl/XTWX61\\nFollow on Instagram: https://goo.gl/7ZeLvX\\n\\nWhy'd You Push That Button Podcast: https://pod.link/1295289748\\nThe Vergecast Podcast: https://pod.link/430333725\\nMore about our podcasts: https://www.theverge.com/podcasts\\n\\nRead More: http://www.theverge.com\\nCommunity guidelines: http://bit.ly/2D0hlAv\\nWallpapers from The Verge: https://bit.ly/2xQXYJr\\n\\nSubscribe to Verge Science on YouTube, a new home base for our explorations into the future of science: http://bit.ly/2FqJZMl\"}, 'defaultAudioLanguage': 'en-US'}, 'statistics': {'viewCount': '1935143', 'likeCount': '24822', 'favoriteCount': '0', 'commentCount': '1806'}}], 'pageInfo': {'totalResults': 1, 'resultsPerPage': 1}}\n",
            "Video 1 - Samsung Galaxy Watch 4 review: gone Google -- Comment count:  1806\n",
            "\n",
            "{'kind': 'youtube#videoListResponse', 'etag': '5t7WoJIAPdE0jxqtPUFyy8X5CIs', 'items': [{'kind': 'youtube#video', 'etag': 'a4jFTPpe-NSC2uW2AxCCwXGmIRE', 'id': 'BvnzglJLqm4', 'snippet': {'publishedAt': '2021-08-26T20:59:03Z', 'channelId': 'UCOmcA3f_RrH6b9NmcNa4tdg', 'title': 'Samsung Galaxy Watch 4 review: the ultimate Android watch?', 'description': \"Google apps and better hardware are promising. But it's still very much a Samsung device which works best with a Samsung phone.\\n\\nNever miss a deal again! See CNET’s browser extension 👉 https://bit.ly/3lO7sOU\\n\\nSee the Samsung Galaxy Watch 4 here 👉 https://bit.ly/3Bhpsqo\\n*CNET may get a commission from this offer.\\n\\nSubscribe to CNET: https://www.youtube.com/user/CNETTV\\nLike us on Facebook: https://www.facebook.com/cnet\\nFollow us on Twitter: https://www.twitter.com/cnet\\nFollow us on Instagram: http://bit.ly/2icCYYm\\nFollow us on TikTok: https://vm.tiktok.com/ZMd2h6yac/\", 'thumbnails': {'default': {'url': 'https://i.ytimg.com/vi/BvnzglJLqm4/default.jpg', 'width': 120, 'height': 90}, 'medium': {'url': 'https://i.ytimg.com/vi/BvnzglJLqm4/mqdefault.jpg', 'width': 320, 'height': 180}, 'high': {'url': 'https://i.ytimg.com/vi/BvnzglJLqm4/hqdefault.jpg', 'width': 480, 'height': 360}, 'standard': {'url': 'https://i.ytimg.com/vi/BvnzglJLqm4/sddefault.jpg', 'width': 640, 'height': 480}, 'maxres': {'url': 'https://i.ytimg.com/vi/BvnzglJLqm4/maxresdefault.jpg', 'width': 1280, 'height': 720}}, 'channelTitle': 'CNET', 'tags': ['CNET', 'Technology', 'News', 'Tech', 'Review', 'mobile phone', 'apple', 'android', 'unboxing', 'vs', 'science', 'smartphone'], 'categoryId': '28', 'liveBroadcastContent': 'none', 'localized': {'title': 'Samsung Galaxy Watch 4 review: the ultimate Android watch?', 'description': \"Google apps and better hardware are promising. But it's still very much a Samsung device which works best with a Samsung phone.\\n\\nNever miss a deal again! See CNET’s browser extension 👉 https://bit.ly/3lO7sOU\\n\\nSee the Samsung Galaxy Watch 4 here 👉 https://bit.ly/3Bhpsqo\\n*CNET may get a commission from this offer.\\n\\nSubscribe to CNET: https://www.youtube.com/user/CNETTV\\nLike us on Facebook: https://www.facebook.com/cnet\\nFollow us on Twitter: https://www.twitter.com/cnet\\nFollow us on Instagram: http://bit.ly/2icCYYm\\nFollow us on TikTok: https://vm.tiktok.com/ZMd2h6yac/\"}, 'defaultAudioLanguage': 'en'}, 'statistics': {'viewCount': '1244131', 'likeCount': '9939', 'favoriteCount': '0', 'commentCount': '849'}}], 'pageInfo': {'totalResults': 1, 'resultsPerPage': 1}}\n",
            "Video 2 - Samsung Galaxy Watch 4 review: the ultimate Android watch? -- Comment count:  849\n",
            "\n",
            "{'kind': 'youtube#videoListResponse', 'etag': 'E3DtUEZrh06UXUuXnXwib4xcwEY', 'items': [{'kind': 'youtube#video', 'etag': 'sM607okT8s4gNKh5xwegPfkP5KA', 'id': 'i9wZBUrY3tQ', 'snippet': {'publishedAt': '2021-09-20T12:55:37Z', 'channelId': 'UCVLN0tY51ewH44wUtx3YZTA', 'title': 'Samsung Galaxy Watch 4 Review | One Month Later...', 'description': \"Reviewing the Samsung Galaxy Watch 4 after one month, to see if this fresh Wear OS 3 device is one of the best smartwatches of 2021. This 40mm version is more compact than the 44mm and Classic models, already one of my favourites for design, with smart fitness tracking and a gorgeous screen. However, the Samsung Galaxy Watch 4 does suffer from mediocre battery life, same as rivals like the Apple Watch.\\n\\nThis smartwatch is the first to use Google's new Wear OS 3 interface, albeit with a heavy Samsung influence. You've got full Play Store access, so you can download fresh faces, apps and other shenanigans. But most of the services on here come from the Korean giant, including Pay, Bixby etc.\\n\\nThe Galaxy Watch 4 doesn't have the same physical rotating bezel as the Classic, but the specs and features are otherwise mostly the same. While the battery life limits you to a day of use per charge unless you hack those tools, you get plenty of fitness tracking shiz to stay healthy. But ECG is for Galaxy phone owners only, and there's no iPhone support just yet.\\n\\nSamsung Galaxy Watch 4 Review Chapters:\\n0:00 - Please don't go. Seriously.\\n0:50 - Design\\n2:10 - Screen\\n2:46 - Watch faces\\n3:12 - Performance\\n4:20 - Wear OS 3 features\\n6:18 - Galaxy Wearable app\\n7:11 - Fitness tracking\\n9:28 - Battery life\\n10:46 - Verdict\", 'thumbnails': {'default': {'url': 'https://i.ytimg.com/vi/i9wZBUrY3tQ/default.jpg', 'width': 120, 'height': 90}, 'medium': {'url': 'https://i.ytimg.com/vi/i9wZBUrY3tQ/mqdefault.jpg', 'width': 320, 'height': 180}, 'high': {'url': 'https://i.ytimg.com/vi/i9wZBUrY3tQ/hqdefault.jpg', 'width': 480, 'height': 360}, 'standard': {'url': 'https://i.ytimg.com/vi/i9wZBUrY3tQ/sddefault.jpg', 'width': 640, 'height': 480}, 'maxres': {'url': 'https://i.ytimg.com/vi/i9wZBUrY3tQ/maxresdefault.jpg', 'width': 1280, 'height': 720}}, 'channelTitle': 'Tech Spurt', 'tags': ['samsung galaxy watch 4', 'galaxy watch 4', 'galaxy watch 4 review', 'samsung galaxy watch 4 review', 'samsung watch 4', 'samsung watch 4 review', 'galaxy watch 4 unboxing', 'samsung watch 4 unboxing', 'samsung galaxy watch 4 unboxing', 'samsung watch 4 classic', 'galaxy watch 4 classic', 'samsung watch 4 40mm', 'galaxy watch 4 44mm', 'samsung watch 4 44mm', 'samsung galaxy watch 4 classic', 'samsung galaxy watch 4 classic review', 'galaxy watch 4 classic review', 'samsung watch', 'galaxy watch 4 blood pressure'], 'categoryId': '28', 'liveBroadcastContent': 'none', 'localized': {'title': 'Samsung Galaxy Watch 4 Review | One Month Later...', 'description': \"Reviewing the Samsung Galaxy Watch 4 after one month, to see if this fresh Wear OS 3 device is one of the best smartwatches of 2021. This 40mm version is more compact than the 44mm and Classic models, already one of my favourites for design, with smart fitness tracking and a gorgeous screen. However, the Samsung Galaxy Watch 4 does suffer from mediocre battery life, same as rivals like the Apple Watch.\\n\\nThis smartwatch is the first to use Google's new Wear OS 3 interface, albeit with a heavy Samsung influence. You've got full Play Store access, so you can download fresh faces, apps and other shenanigans. But most of the services on here come from the Korean giant, including Pay, Bixby etc.\\n\\nThe Galaxy Watch 4 doesn't have the same physical rotating bezel as the Classic, but the specs and features are otherwise mostly the same. While the battery life limits you to a day of use per charge unless you hack those tools, you get plenty of fitness tracking shiz to stay healthy. But ECG is for Galaxy phone owners only, and there's no iPhone support just yet.\\n\\nSamsung Galaxy Watch 4 Review Chapters:\\n0:00 - Please don't go. Seriously.\\n0:50 - Design\\n2:10 - Screen\\n2:46 - Watch faces\\n3:12 - Performance\\n4:20 - Wear OS 3 features\\n6:18 - Galaxy Wearable app\\n7:11 - Fitness tracking\\n9:28 - Battery life\\n10:46 - Verdict\"}, 'defaultAudioLanguage': 'en-GB'}, 'statistics': {'viewCount': '561545', 'likeCount': '7708', 'favoriteCount': '0', 'commentCount': '472'}}], 'pageInfo': {'totalResults': 1, 'resultsPerPage': 1}}\n",
            "Video 3 - Samsung Galaxy Watch 4 Review | One Month Later... -- Comment count:  472\n",
            "\n",
            "{'kind': 'youtube#videoListResponse', 'etag': 'BqAkD8O40L2lyzVZtVOcP-goA1I', 'items': [{'kind': 'youtube#video', 'etag': 'ErE81ExAp0-D1W9g5Wh10JWEZ_0', 'id': '10Te33F7X0A', 'snippet': {'publishedAt': '2021-11-13T01:02:10Z', 'channelId': 'UCSc9R_Wo-pS2JZXk7Oppliw', 'title': 'Samsung Galaxy Watch 4｜Watch Before You Buy', 'description': '►Samsung Galaxy Watch 4\\n✓US Prices - https://amzn.to/3Hb0ywK\\n✓UK Prices - https://amzn.to/31XqZGd\\n✓CA Prices - https://amzn.to/3CdguuT\\n\\nThe Samsung Galaxy Watch 4 is a high-end smartwatch that offers versatile performance. It has a range of useful features and fitness tracking capabilities that can help you stay on top of your fitness goals. \\n\\nIn this video, we’re going to be taking a closer look at the Samsung Galaxy Watch 4. We’ll be going over key features, who this product is for, how it compares to the competition, and most importantly, is it right for you?\\n\\nWe’ll break down all the aspects of the Samsung Galaxy Watch 4, what you can expect to get in return for your money, and help you to decide if the Samsung Galaxy Watch 4 is the right option for you.\\n\\n\\n\\n=============================================\\n►SUBSCRIBE FOR MORE - https://goo.gl/TWDSSi\\n\\n\\n\\n→ Disclaimer \\nThis video contains amazon affiliate links, as an amazon affiliate I earn from qualified purchases', 'thumbnails': {'default': {'url': 'https://i.ytimg.com/vi/10Te33F7X0A/default.jpg', 'width': 120, 'height': 90}, 'medium': {'url': 'https://i.ytimg.com/vi/10Te33F7X0A/mqdefault.jpg', 'width': 320, 'height': 180}, 'high': {'url': 'https://i.ytimg.com/vi/10Te33F7X0A/hqdefault.jpg', 'width': 480, 'height': 360}, 'standard': {'url': 'https://i.ytimg.com/vi/10Te33F7X0A/sddefault.jpg', 'width': 640, 'height': 480}, 'maxres': {'url': 'https://i.ytimg.com/vi/10Te33F7X0A/maxresdefault.jpg', 'width': 1280, 'height': 720}}, 'channelTitle': 'The Product Lab', 'tags': ['Samsung Galaxy Watch 4 Review', 'Samsung Galaxy Watch 4', 'Galaxy Watch 4 Review', 'Galaxy Watch 4', 'Samsung Galaxy Watch Review', 'Samsung Galaxy Watch'], 'categoryId': '28', 'liveBroadcastContent': 'none', 'localized': {'title': 'Samsung Galaxy Watch 4｜Watch Before You Buy', 'description': '►Samsung Galaxy Watch 4\\n✓US Prices - https://amzn.to/3Hb0ywK\\n✓UK Prices - https://amzn.to/31XqZGd\\n✓CA Prices - https://amzn.to/3CdguuT\\n\\nThe Samsung Galaxy Watch 4 is a high-end smartwatch that offers versatile performance. It has a range of useful features and fitness tracking capabilities that can help you stay on top of your fitness goals. \\n\\nIn this video, we’re going to be taking a closer look at the Samsung Galaxy Watch 4. We’ll be going over key features, who this product is for, how it compares to the competition, and most importantly, is it right for you?\\n\\nWe’ll break down all the aspects of the Samsung Galaxy Watch 4, what you can expect to get in return for your money, and help you to decide if the Samsung Galaxy Watch 4 is the right option for you.\\n\\n\\n\\n=============================================\\n►SUBSCRIBE FOR MORE - https://goo.gl/TWDSSi\\n\\n\\n\\n→ Disclaimer \\nThis video contains amazon affiliate links, as an amazon affiliate I earn from qualified purchases'}, 'defaultAudioLanguage': 'en'}, 'statistics': {'viewCount': '117800', 'likeCount': '2215', 'favoriteCount': '0', 'commentCount': '72'}}], 'pageInfo': {'totalResults': 1, 'resultsPerPage': 1}}\n",
            "Video 4 - Samsung Galaxy Watch 4｜Watch Before You Buy -- Comment count:  72\n",
            "\n",
            "{'kind': 'youtube#videoListResponse', 'etag': 'GZCmqz-yLiotTsEtOi90cg0BzT8', 'items': [{'kind': 'youtube#video', 'etag': 'x7iGpMvLgl4Dm-50_NL9IqRDw08', 'id': 'FMs79hfKB74', 'snippet': {'publishedAt': '2023-06-28T21:00:11Z', 'channelId': 'UCy1PnKNVtEG-SfSzyIfnvrA', 'title': 'Samsung Galaxy Watch 4 In Mid 2023! (Review)', 'description': \"Get The Cheapest iPhones Here: https://amzn.to/3JTnWAr\\nGet The Cheapest Androids Here: https://amzn.to/3r2k1st\\nWallpapers I Use In My Videos Here: https://bit.ly/39S4cQi\\nFollow Me On Twitter: http://www.Twitter.com/SimpleAlpaca\\nGEAR I USE IN MY VIDEOS!: https://amzn.to/3qSr3Qi\\n\\nInstagram:  https://www.instagram.com/simplealpaca/\\nSnapchat: SimpleAlpaca \\n\\nCheap Prices For iPhones:\\nGet The iPhone 14 Pro Here: https://amzn.to/3Qa20o1\\nGet The iPhone 14 Here: https://amzn.to/3QaT81G\\nGet The iPhone 13 Here: https://amzn.to/39ERRv3\\nGet The iPhone 13 Pro Here: https://amzn.to/3o6DMPz\\nGet The iPhone 13 Mini Here: https://amzn.to/3AJwVPs\\nGet The iPhone 13 Pro Max Here: https://amzn.to/2XZn367\\nGet The iPhone 12 Here: https://amzn.to/3kYGNPR\\nGet The iPhone 12 Pro Here: https://amzn.to/3zWGN7f\\nGet The iPhone 11 Pro Max Here: https://amzn.to/3nRHvww\\nGet The iPhone 11 Pro Here: https://amzn.to/3spJNqe\\nGet The iPhone 11 Here: https://amzn.to/3qoIMNq\\nGet The iPhone XS Here: https://amzn.to/3bKQ0Y7\\nGet The iPhone XR Here: https://amzn.to/2XMEuTW\\n\\nCheap Prices For Androids:\\nGet The Google Pixel 7 Here: https://amzn.to/3icJ1MZ\\nGet The Samsung Galaxy S22 Here: https://amzn.to/3Gzo1cA\\nGet The Google Pixel 6A Here: https://amzn.to/3Z1f0R1\\nGet The Google Pixel 6 Here: https://amzn.to/3Fd9uzK\\nGet The Samsung Galaxy S21 Here: https://amzn.to/31CuySh\\n\\n\\nLet's take a look at the Samsung Galaxy Watch 4 In Mid 2023! (Review)\\n\\nShould You Buy an iPhone 6S In 2022: https://youtu.be/cAs-OW42YFY\\n\\nSamsung Galaxy S8 In 2022: https://youtu.be/ke4kiehsBpE\\n\\nNintendo Switch In 2022: https://youtu.be/GM05T0SW8C4\\n\\niPhone X In 2022: https://youtu.be/Acrv6pFU9ME\\n\\nSamsung Galaxy S10 In 2022: https://youtu.be/xap5B9PUGqw\\n\\nThis video is for educational purposes only\\nAll links here Are affiliate links that help the channel!\", 'thumbnails': {'default': {'url': 'https://i.ytimg.com/vi/FMs79hfKB74/default.jpg', 'width': 120, 'height': 90}, 'medium': {'url': 'https://i.ytimg.com/vi/FMs79hfKB74/mqdefault.jpg', 'width': 320, 'height': 180}, 'high': {'url': 'https://i.ytimg.com/vi/FMs79hfKB74/hqdefault.jpg', 'width': 480, 'height': 360}, 'standard': {'url': 'https://i.ytimg.com/vi/FMs79hfKB74/sddefault.jpg', 'width': 640, 'height': 480}, 'maxres': {'url': 'https://i.ytimg.com/vi/FMs79hfKB74/maxresdefault.jpg', 'width': 1280, 'height': 720}}, 'channelTitle': 'Simple Alpaca', 'tags': ['simplealpaca', 'simple alpaca', 'SimpleAlpaca', 'Simple Alpaca', 'Samsung Galaxy Watch 4 In Mid 2023! (Review)', 'samsung', 'samsung galaxy', 'samsung galaxy watch 4', 'watchos', 'watch 4', 'galaxy watch 4', 'samsung galaxy watch 4 review', 'samsung galaxy watch 4 in 2023', 'galaxy watch 4 2023 review', 'wearos', 'samsung galaxy review', 'samsung galaxy watch 4 2023 review'], 'categoryId': '28', 'liveBroadcastContent': 'none', 'localized': {'title': 'Samsung Galaxy Watch 4 In Mid 2023! (Review)', 'description': \"Get The Cheapest iPhones Here: https://amzn.to/3JTnWAr\\nGet The Cheapest Androids Here: https://amzn.to/3r2k1st\\nWallpapers I Use In My Videos Here: https://bit.ly/39S4cQi\\nFollow Me On Twitter: http://www.Twitter.com/SimpleAlpaca\\nGEAR I USE IN MY VIDEOS!: https://amzn.to/3qSr3Qi\\n\\nInstagram:  https://www.instagram.com/simplealpaca/\\nSnapchat: SimpleAlpaca \\n\\nCheap Prices For iPhones:\\nGet The iPhone 14 Pro Here: https://amzn.to/3Qa20o1\\nGet The iPhone 14 Here: https://amzn.to/3QaT81G\\nGet The iPhone 13 Here: https://amzn.to/39ERRv3\\nGet The iPhone 13 Pro Here: https://amzn.to/3o6DMPz\\nGet The iPhone 13 Mini Here: https://amzn.to/3AJwVPs\\nGet The iPhone 13 Pro Max Here: https://amzn.to/2XZn367\\nGet The iPhone 12 Here: https://amzn.to/3kYGNPR\\nGet The iPhone 12 Pro Here: https://amzn.to/3zWGN7f\\nGet The iPhone 11 Pro Max Here: https://amzn.to/3nRHvww\\nGet The iPhone 11 Pro Here: https://amzn.to/3spJNqe\\nGet The iPhone 11 Here: https://amzn.to/3qoIMNq\\nGet The iPhone XS Here: https://amzn.to/3bKQ0Y7\\nGet The iPhone XR Here: https://amzn.to/2XMEuTW\\n\\nCheap Prices For Androids:\\nGet The Google Pixel 7 Here: https://amzn.to/3icJ1MZ\\nGet The Samsung Galaxy S22 Here: https://amzn.to/3Gzo1cA\\nGet The Google Pixel 6A Here: https://amzn.to/3Z1f0R1\\nGet The Google Pixel 6 Here: https://amzn.to/3Fd9uzK\\nGet The Samsung Galaxy S21 Here: https://amzn.to/31CuySh\\n\\n\\nLet's take a look at the Samsung Galaxy Watch 4 In Mid 2023! (Review)\\n\\nShould You Buy an iPhone 6S In 2022: https://youtu.be/cAs-OW42YFY\\n\\nSamsung Galaxy S8 In 2022: https://youtu.be/ke4kiehsBpE\\n\\nNintendo Switch In 2022: https://youtu.be/GM05T0SW8C4\\n\\niPhone X In 2022: https://youtu.be/Acrv6pFU9ME\\n\\nSamsung Galaxy S10 In 2022: https://youtu.be/xap5B9PUGqw\\n\\nThis video is for educational purposes only\\nAll links here Are affiliate links that help the channel!\"}, 'defaultAudioLanguage': 'en'}, 'statistics': {'viewCount': '56969', 'likeCount': '473', 'favoriteCount': '0', 'commentCount': '83'}}], 'pageInfo': {'totalResults': 1, 'resultsPerPage': 1}}\n",
            "Video 5 - Samsung Galaxy Watch 4 In Mid 2023! (Review) -- Comment count:  83\n",
            "\n",
            "{'kind': 'youtube#videoListResponse', 'etag': 'qllJ9sy61-jHHSS3OoSgJfr1cJA', 'items': [{'kind': 'youtube#video', 'etag': 'xdL5mDYV6lVhZ8TR34dWfVqI-z8', 'id': 'SHp-NiGM5-k', 'snippet': {'publishedAt': '2021-09-19T15:18:26Z', 'channelId': 'UChNWxrTlmh4IRSevon1X93g', 'title': 'Samsung Galaxy Watch 4: Complete Scientific Review', 'description': \"I tested the Samsung Galaxy Watch 4 against a scientific sleep EEG device, and tested the Blood Pressure, SpO2, Heart Rate and Step Counting accuracy. Subscribe to my weekly Newsletter(!) on www.robterhorst.com\\nInstagram: https://www.instagram.com/quantified_scientist/\\nTwitter: @QuantifiedRob\\n\\n👇Affiliate* (paid) link to join WHOOP, support the channel!👇\\njoin.whoop.com/QuantifiedScientist ($30 off any new WHOOP membership)\\n\\n👇Amazon Affiliate* (paid) links. Supports the channel, doesn't cost you any more!👇\\nFitbit Luxe: https://geni.us/Fitbit_Luxe\\nFitbit Charge 4: https://geni.us/wjAfjU\\nFitbit Sense: https://geni.us/CSfYQE8\\nFitbit Inspire 2: https://geni.us/iZHlb\\n\\nXiaomi Mi Watch: https://geni.us/Xiaomi_Mi_Watch\\nXiaomi Mi Watch Lite: https://geni.us/XiaomiMiWatchLite\\n\\nApple Watch 40 mm: https://geni.us/0gNGeO\\nApple Watch 44 mm: https://geni.us/7Dom\\n\\nHuawei Band 6: https://geni.us/HuaweiBand6\\nHonor Band 6: https://geni.us/honorBand6\\n\\nWant to buy the Galaxy Watch 4 despite me not recommending it:\\nhttps://geni.us/GalaxyWatch4\\n\\n📸My Gear* (paid link)📸\\nCamera body (main): https://geni.us/SonyA6600_body\\nCamera lense (main): https://geni.us/sony_sel_18-135\\nCamera (B-roll): https://geni.us/CanonEosM50MarkII\\nLight: https://geni.us/Godox_VL150\\nSoftbox: https://geni.us/NiceFotoSoftbox\\nLight stand: https://geni.us/WalimexLightstand\\n\\n*My opinions are completely my own. However, I do earn a small commission if you purchase any of these devices via my affiliate links.\\n\\nThe EEG tracker I used is called the Hypnodyne ZMax: http://hypnodynecorp.com/ from @HypnoDyne Corp\\n\\n📹Fitbit Videos📹\\nFitbit Charge 3/4 Sleep: https://youtu.be/NYRq4ahPJ2c\\nFitbit Charge 4 Heart Rate: https://youtu.be/xAv6dyPd9ns\\nFitbit Sense First look review and test: https://youtu.be/w6D_uUDUP2k\\nFitbit Sense Heart rate: https://youtu.be/7-u8VTmeDF0\\n\\n📹Apple watch videos📹\\nSleep Cycle App: https://youtu.be/fjPng54_CtE\\nSteps: https://youtu.be/YbstQVHEVz4\\nTest: https://youtu.be/0Ub7qmZz9ec\\n\\n📹First Garmin Venu Sq Video📹\\nhttps://youtu.be/LiwX2TxYpQo\\n\\n📹Oura Ring videos📹\\nSleep Test: https://youtu.be/atWcp6FmnbE\\nHRV Test: https://youtu.be/AK47cav1i28\\nTemperature Test: https://youtu.be/VIfvRzP79Bs\\n\\n📹Withings Scanwatch videos📹\\nUnboxing and first review: https://youtu.be/swQLhrdxEkk\\nSleep test: https://youtu.be/lWPxpdUjLBI\\nHeart rate test: https://youtu.be/KjemOE2eHcY\\nQ&A with Withings:  https://youtu.be/KtRh-_9kXgM\\n\\n⏱️This comparison is part of a larger project where I spend over 11 hours a week tracking everything in my life. If you'd like to know more:\\nhttps://youtu.be/8iPWu0Cbq14 ⏱️\\n\\nTimestamps:\\n00:00 General intro\\n01:05 Galaxy Watch 4 Basic Info\\n02:22 Results: Sleep Test Setup\\n02:59 Results: Sleep Test Comparison\\n06:53 Results: Sleep Test Overview\\n08:40 Results: Waking Up/Falling Asleep\\n09:32 Results: Versus Other Devices\\n10:00 Results: Heart Rate Test Spinning\\n12:29 Results: Heart Rate Test Cycling\\n14:01 Results: Heart Rate Test Longboard\\n14:29 Results: Heart Rate Test Weights\\n16:02 Results: Blood Pressure Test\\n19:36 Results: Oxygen Saturation (SpO2)\\n21:51 Results: Step Test\\n22:54 Conclusions\\n23:37 Buy The Galaxy Watch 4?\\n24:15 Limitations\\n\\n🎵Music🎵\\n(1) Not Without the Rest by Twin Musicom is licensed under a Creative Commons Attribution license (https://creativecommons.org/licenses/by/4.0/)\\nArtist: http://www.twinmusicom.org/\\n(2) Wonders by JVNA\\n(3) Can’t Sleep (YouTube Audio Library)\\n(4) Classique (YouTube Audio Library)\\n(5) Blurry Vision (YouTube Audio Library)\\nPerson Waking up Video by Ba Tik from Pexels\", 'thumbnails': {'default': {'url': 'https://i.ytimg.com/vi/SHp-NiGM5-k/default.jpg', 'width': 120, 'height': 90}, 'medium': {'url': 'https://i.ytimg.com/vi/SHp-NiGM5-k/mqdefault.jpg', 'width': 320, 'height': 180}, 'high': {'url': 'https://i.ytimg.com/vi/SHp-NiGM5-k/hqdefault.jpg', 'width': 480, 'height': 360}, 'standard': {'url': 'https://i.ytimg.com/vi/SHp-NiGM5-k/sddefault.jpg', 'width': 640, 'height': 480}, 'maxres': {'url': 'https://i.ytimg.com/vi/SHp-NiGM5-k/maxresdefault.jpg', 'width': 1280, 'height': 720}}, 'channelTitle': 'The Quantified Scientist', 'tags': ['samsung galaxy watch 4', 'samsung galaxy watch 3', 'samsung galaxy watch 4 blood pressure', 'samsung blood pressure', 'how does samsung measure blood pressure?', 'samsung galaxy heart rate', 'samsung galaxy 3', 'samsung galaxy 4 vs classic', 'samsung galaxy 4 vs active 2', 'samsung galaxy 4 steps', 'samsung galaxy watch 4 blood oxygen', 'samsung galaxy watch 4 review', 'samsung galaxy watch 4 classic', 'samsung galaxy watch 46mm', 'blood pressyre', 'blood pressure', 'oxygen saturation', 'heart rate', 'spo2', 'steps'], 'categoryId': '28', 'liveBroadcastContent': 'none', 'localized': {'title': 'Samsung Galaxy Watch 4: Complete Scientific Review', 'description': \"I tested the Samsung Galaxy Watch 4 against a scientific sleep EEG device, and tested the Blood Pressure, SpO2, Heart Rate and Step Counting accuracy. Subscribe to my weekly Newsletter(!) on www.robterhorst.com\\nInstagram: https://www.instagram.com/quantified_scientist/\\nTwitter: @QuantifiedRob\\n\\n👇Affiliate* (paid) link to join WHOOP, support the channel!👇\\njoin.whoop.com/QuantifiedScientist ($30 off any new WHOOP membership)\\n\\n👇Amazon Affiliate* (paid) links. Supports the channel, doesn't cost you any more!👇\\nFitbit Luxe: https://geni.us/Fitbit_Luxe\\nFitbit Charge 4: https://geni.us/wjAfjU\\nFitbit Sense: https://geni.us/CSfYQE8\\nFitbit Inspire 2: https://geni.us/iZHlb\\n\\nXiaomi Mi Watch: https://geni.us/Xiaomi_Mi_Watch\\nXiaomi Mi Watch Lite: https://geni.us/XiaomiMiWatchLite\\n\\nApple Watch 40 mm: https://geni.us/0gNGeO\\nApple Watch 44 mm: https://geni.us/7Dom\\n\\nHuawei Band 6: https://geni.us/HuaweiBand6\\nHonor Band 6: https://geni.us/honorBand6\\n\\nWant to buy the Galaxy Watch 4 despite me not recommending it:\\nhttps://geni.us/GalaxyWatch4\\n\\n📸My Gear* (paid link)📸\\nCamera body (main): https://geni.us/SonyA6600_body\\nCamera lense (main): https://geni.us/sony_sel_18-135\\nCamera (B-roll): https://geni.us/CanonEosM50MarkII\\nLight: https://geni.us/Godox_VL150\\nSoftbox: https://geni.us/NiceFotoSoftbox\\nLight stand: https://geni.us/WalimexLightstand\\n\\n*My opinions are completely my own. However, I do earn a small commission if you purchase any of these devices via my affiliate links.\\n\\nThe EEG tracker I used is called the Hypnodyne ZMax: http://hypnodynecorp.com/ from @HypnoDyne Corp\\n\\n📹Fitbit Videos📹\\nFitbit Charge 3/4 Sleep: https://youtu.be/NYRq4ahPJ2c\\nFitbit Charge 4 Heart Rate: https://youtu.be/xAv6dyPd9ns\\nFitbit Sense First look review and test: https://youtu.be/w6D_uUDUP2k\\nFitbit Sense Heart rate: https://youtu.be/7-u8VTmeDF0\\n\\n📹Apple watch videos📹\\nSleep Cycle App: https://youtu.be/fjPng54_CtE\\nSteps: https://youtu.be/YbstQVHEVz4\\nTest: https://youtu.be/0Ub7qmZz9ec\\n\\n📹First Garmin Venu Sq Video📹\\nhttps://youtu.be/LiwX2TxYpQo\\n\\n📹Oura Ring videos📹\\nSleep Test: https://youtu.be/atWcp6FmnbE\\nHRV Test: https://youtu.be/AK47cav1i28\\nTemperature Test: https://youtu.be/VIfvRzP79Bs\\n\\n📹Withings Scanwatch videos📹\\nUnboxing and first review: https://youtu.be/swQLhrdxEkk\\nSleep test: https://youtu.be/lWPxpdUjLBI\\nHeart rate test: https://youtu.be/KjemOE2eHcY\\nQ&A with Withings:  https://youtu.be/KtRh-_9kXgM\\n\\n⏱️This comparison is part of a larger project where I spend over 11 hours a week tracking everything in my life. If you'd like to know more:\\nhttps://youtu.be/8iPWu0Cbq14 ⏱️\\n\\nTimestamps:\\n00:00 General intro\\n01:05 Galaxy Watch 4 Basic Info\\n02:22 Results: Sleep Test Setup\\n02:59 Results: Sleep Test Comparison\\n06:53 Results: Sleep Test Overview\\n08:40 Results: Waking Up/Falling Asleep\\n09:32 Results: Versus Other Devices\\n10:00 Results: Heart Rate Test Spinning\\n12:29 Results: Heart Rate Test Cycling\\n14:01 Results: Heart Rate Test Longboard\\n14:29 Results: Heart Rate Test Weights\\n16:02 Results: Blood Pressure Test\\n19:36 Results: Oxygen Saturation (SpO2)\\n21:51 Results: Step Test\\n22:54 Conclusions\\n23:37 Buy The Galaxy Watch 4?\\n24:15 Limitations\\n\\n🎵Music🎵\\n(1) Not Without the Rest by Twin Musicom is licensed under a Creative Commons Attribution license (https://creativecommons.org/licenses/by/4.0/)\\nArtist: http://www.twinmusicom.org/\\n(2) Wonders by JVNA\\n(3) Can’t Sleep (YouTube Audio Library)\\n(4) Classique (YouTube Audio Library)\\n(5) Blurry Vision (YouTube Audio Library)\\nPerson Waking up Video by Ba Tik from Pexels\"}, 'defaultAudioLanguage': 'en'}, 'statistics': {'viewCount': '356864', 'likeCount': '11458', 'favoriteCount': '0', 'commentCount': '782'}}], 'pageInfo': {'totalResults': 1, 'resultsPerPage': 1}}\n",
            "Video 6 - Samsung Galaxy Watch 4: Complete Scientific Review -- Comment count:  782\n",
            "\n",
            "{'kind': 'youtube#videoListResponse', 'etag': 'xbACt_7y14O0bOGQPbgsr2SCnoA', 'items': [{'kind': 'youtube#video', 'etag': 'Mu0YMHjFgxJXAxhdW5iEL-WXbvw', 'id': 'hC0jX-5j2mc', 'snippet': {'publishedAt': '2021-09-03T07:55:05Z', 'channelId': 'UCO2WJZKQoDW4Te6NHx4KfTg', 'title': 'Samsung Galaxy Watch 4 Review - Smartwatch for Android', 'description': 'Samsung Galaxy Watch 4 smartwatch full in-depth review this is a new android smartwatch and I cover all aspects of this samsung smartwatch like compatibility, wearing comfort, difference between classic and regular variant, user interface, android wear 3, notifications, health tracking like sleep, BMI, Heart rate, SPo2 how is the battery life so that you can make an informed decision via this review.\\n\\nSamsung Galaxy Watch 4 via Amazon India https://amzn.to/3tjvJ2r', 'thumbnails': {'default': {'url': 'https://i.ytimg.com/vi/hC0jX-5j2mc/default.jpg', 'width': 120, 'height': 90}, 'medium': {'url': 'https://i.ytimg.com/vi/hC0jX-5j2mc/mqdefault.jpg', 'width': 320, 'height': 180}, 'high': {'url': 'https://i.ytimg.com/vi/hC0jX-5j2mc/hqdefault.jpg', 'width': 480, 'height': 360}, 'standard': {'url': 'https://i.ytimg.com/vi/hC0jX-5j2mc/sddefault.jpg', 'width': 640, 'height': 480}, 'maxres': {'url': 'https://i.ytimg.com/vi/hC0jX-5j2mc/maxresdefault.jpg', 'width': 1280, 'height': 720}}, 'channelTitle': 'Geekyranjit', 'tags': ['samsung watch 4', 'galaxy watch 4', 'samsung smartwatch', 'samsung watch 4 review', 'galaxy watch 4 review', 'samsung smartwatch review', 'Samsung Galaxy Watch 4', 'geekyranjit'], 'categoryId': '28', 'liveBroadcastContent': 'none', 'defaultLanguage': 'en', 'localized': {'title': 'Samsung Galaxy Watch 4 Review - Smartwatch for Android', 'description': 'Samsung Galaxy Watch 4 smartwatch full in-depth review this is a new android smartwatch and I cover all aspects of this samsung smartwatch like compatibility, wearing comfort, difference between classic and regular variant, user interface, android wear 3, notifications, health tracking like sleep, BMI, Heart rate, SPo2 how is the battery life so that you can make an informed decision via this review.\\n\\nSamsung Galaxy Watch 4 via Amazon India https://amzn.to/3tjvJ2r'}, 'defaultAudioLanguage': 'zxx'}, 'statistics': {'viewCount': '675893', 'likeCount': '11563', 'favoriteCount': '0', 'commentCount': '790'}}], 'pageInfo': {'totalResults': 1, 'resultsPerPage': 1}}\n",
            "Video 7 - Samsung Galaxy Watch 4 Review - Smartwatch for Android -- Comment count:  790\n",
            "\n",
            "{'kind': 'youtube#videoListResponse', 'etag': 'Ctl43epP4gU5NeHanTAnMSSZkII', 'items': [{'kind': 'youtube#video', 'etag': 'eABM5N95NykDq-CyNTuwqq32N2E', 'id': 'BzpdattIooY', 'snippet': {'publishedAt': '2021-08-31T11:00:17Z', 'channelId': 'UCGfluwZUeQNG5HvHuKfSKgw', 'title': \"Galaxy Watch 4: In Depth Review You Don't Want to Miss!\", 'description': '#Samsung #GalaxyWatch4 is a big step in the right direction for #Smartwatches in the #Android world. With #google and samsung coming together to build the smart watch ecosystem, the world will finally have a watch that is useful in many more ways than #WearOS watches or Tizen watches alone were. With Google’s Wear OS app ecosystem and Samsung’s watch design, features and UI perks, there’s a lot to look forward to. Starting at just $250 (for Watch4), the Watch 4 is indeed a spectacular purchase. \\n\\nGalaxy Watch 4: https://bit.ly/3gLw3SJ\\nGalaxy Watch 4 Classic: https://bit.ly/38qVG6w\\n\\nGalaxy Watch4 Price in India:\\n40mm (bluetooth only): INR 23,999| 44mm (bluetooth only): INR 26,999\\n40 mm (LTE): INR 29,000 | 44 mm (LTE): INR 32,000\\n\\nGalaxy Watch4 Price (international):\\n40mm (bluetooth only): $250 | 44mm (bluetooth only): $280\\n40 mm (LTE): $300 | 44 mm (LTE): $330\\n\\nTimestamps\\n00:00 Introduction\\n00:14 Pricing\\n00:29 Quick unboxing\\n00:49 Design\\n01:49 Setup\\n02:01 Display\\n02:45 New features\\n03:46 Fitness\\n04:56 Apps\\n05:53 UI\\n06:42 Watchfaces\\n07:20 Battery Performance\\n08:33 Conclusion\\n\\n\\n\\nGalaxy Watch 4 Specs:\\n\\nColors: Black, Silver, Green for 44mm and Pink Gold for 40 mm\\nOS: Wear OS\\nWeight: 30.3 gms for 44 mm and 25.9 gms for 40 mm\\nCPU: Exynos W920 Dual Core 1.18GHz \\nRAM: 1.5 GB\\nStorage: 16 GB (7.2 GB free)\\nBattery: 361 mAh (44mm) and 247 mAH (40mm)\\nConnectivity: LTE, Bluetooth 5.0, WiFi 802.11n, 2.4GHz + 5GHz, GPS/GLONASS\\nSensors:\\nSamsung BioActive Sensor (Optical Heart Rate (PPG/HRM)\\nElectrical Heart (ECG)\\nBioelectrical Impedance Analysis (BIA)\\nAccelerometer\\nBarometer\\nGyro\\nGeomagnetic\\nLight\\n\\nWater Resistance: Yes, IP68 water resistant. Upto 1.5metres for 30 minutes\\n\\n\\nYou can support my channel by making purchases using links below:\\n\\n\\nMy Daily Tech\\nHeadphones: https://geni.us/wWyiwq\\nEarphones: https://geni.us/yhdBH\\nMy smartphone: https://geni.us/A2p6\\nMy tablet: https://geni.us/qRgm\\n\\n\\nMy Desk Setup\\nMouse: https://geni.us/mxmaster2s-mobi\\nKeyboard: https://geni.us/keychronk2-mobi\\nTable Lamp: https://geni.us/tablelamp-mobi\\nGradient Lights: https://geni.us/barlamps-mobi\\n\\n\\nMy PC\\nMy Case: https://geni.us/pccase-mobi\\nMy CPU:  https://geni.us/cpu-mobi\\nMy RAM: https://geni.us/RAM-mobi\\nMy Graphics Card: https://geni.us/GPU-mobi\\nCPU Cooler: https://geni.us/cooler-mobi\\nMonitor 1: https://geni.us/ZQjVOd\\nMonitor 2: https://geni.us/ICmmhf\\n\\n\\nMy Shooting Gear\\nCamera: https://geni.us/LPVZ\\nLens (35 mm full frame): https://geni.us/lens1-mobi\\nKey Light: https://geni.us/nXyBuXY\\nAccent Light 1: https://geni.us/PBLi11\\nAccent Light 2: https://geni.us/godox-150W-RGB\\nGradient lights: https://geni.us/godox-TL60\\n\\n\\nAudio Gear\\nAudio Mixer: https://geni.us/dsBGr\\nMicrophone: https://geni.us/mic-mobi\\n\\n\\nSubscribe to Epidemic Background Music, Sounds and Effect from:\\nhttps://www.epidemicsound.com/referral/5urd4i/\\n\\n\\nMy Todo App of choice:\\nhttps://doist.grsm.io/karanbinani7060\\n\\n\\nNote: [Paid Links] As an Amazon Associate I earn from qualifying purchases. Mobiscrub is a member of the Amazon Associate Program, and can earn fees from links to Amazon.', 'thumbnails': {'default': {'url': 'https://i.ytimg.com/vi/BzpdattIooY/default.jpg', 'width': 120, 'height': 90}, 'medium': {'url': 'https://i.ytimg.com/vi/BzpdattIooY/mqdefault.jpg', 'width': 320, 'height': 180}, 'high': {'url': 'https://i.ytimg.com/vi/BzpdattIooY/hqdefault.jpg', 'width': 480, 'height': 360}, 'standard': {'url': 'https://i.ytimg.com/vi/BzpdattIooY/sddefault.jpg', 'width': 640, 'height': 480}, 'maxres': {'url': 'https://i.ytimg.com/vi/BzpdattIooY/maxresdefault.jpg', 'width': 1280, 'height': 720}}, 'channelTitle': 'mobiscrub', 'tags': ['galaxy watch 4', 'samsung galaxy watch 4', 'apple watch', 'galaxy watch 4 review', 'samsung galaxy watch 4 review', 'best android smartwatch', 'samsung watch 4', 'waterproof watch', 'workout watch', 'android watch', 'wireless charging watch', 'galaxy watch 4 unboxing', 'watch 4 review', 'specs', 'hands on', 'watch 4 44mm', 'best smartwatch', 'best android wearable', 'best android watch', 'latest android watch', 'wear OS', 'wear OS watch', 'galaxy watch 4 unboxing and review'], 'categoryId': '26', 'liveBroadcastContent': 'none', 'localized': {'title': \"Galaxy Watch 4: In Depth Review You Don't Want to Miss!\", 'description': '#Samsung #GalaxyWatch4 is a big step in the right direction for #Smartwatches in the #Android world. With #google and samsung coming together to build the smart watch ecosystem, the world will finally have a watch that is useful in many more ways than #WearOS watches or Tizen watches alone were. With Google’s Wear OS app ecosystem and Samsung’s watch design, features and UI perks, there’s a lot to look forward to. Starting at just $250 (for Watch4), the Watch 4 is indeed a spectacular purchase. \\n\\nGalaxy Watch 4: https://bit.ly/3gLw3SJ\\nGalaxy Watch 4 Classic: https://bit.ly/38qVG6w\\n\\nGalaxy Watch4 Price in India:\\n40mm (bluetooth only): INR 23,999| 44mm (bluetooth only): INR 26,999\\n40 mm (LTE): INR 29,000 | 44 mm (LTE): INR 32,000\\n\\nGalaxy Watch4 Price (international):\\n40mm (bluetooth only): $250 | 44mm (bluetooth only): $280\\n40 mm (LTE): $300 | 44 mm (LTE): $330\\n\\nTimestamps\\n00:00 Introduction\\n00:14 Pricing\\n00:29 Quick unboxing\\n00:49 Design\\n01:49 Setup\\n02:01 Display\\n02:45 New features\\n03:46 Fitness\\n04:56 Apps\\n05:53 UI\\n06:42 Watchfaces\\n07:20 Battery Performance\\n08:33 Conclusion\\n\\n\\n\\nGalaxy Watch 4 Specs:\\n\\nColors: Black, Silver, Green for 44mm and Pink Gold for 40 mm\\nOS: Wear OS\\nWeight: 30.3 gms for 44 mm and 25.9 gms for 40 mm\\nCPU: Exynos W920 Dual Core 1.18GHz \\nRAM: 1.5 GB\\nStorage: 16 GB (7.2 GB free)\\nBattery: 361 mAh (44mm) and 247 mAH (40mm)\\nConnectivity: LTE, Bluetooth 5.0, WiFi 802.11n, 2.4GHz + 5GHz, GPS/GLONASS\\nSensors:\\nSamsung BioActive Sensor (Optical Heart Rate (PPG/HRM)\\nElectrical Heart (ECG)\\nBioelectrical Impedance Analysis (BIA)\\nAccelerometer\\nBarometer\\nGyro\\nGeomagnetic\\nLight\\n\\nWater Resistance: Yes, IP68 water resistant. Upto 1.5metres for 30 minutes\\n\\n\\nYou can support my channel by making purchases using links below:\\n\\n\\nMy Daily Tech\\nHeadphones: https://geni.us/wWyiwq\\nEarphones: https://geni.us/yhdBH\\nMy smartphone: https://geni.us/A2p6\\nMy tablet: https://geni.us/qRgm\\n\\n\\nMy Desk Setup\\nMouse: https://geni.us/mxmaster2s-mobi\\nKeyboard: https://geni.us/keychronk2-mobi\\nTable Lamp: https://geni.us/tablelamp-mobi\\nGradient Lights: https://geni.us/barlamps-mobi\\n\\n\\nMy PC\\nMy Case: https://geni.us/pccase-mobi\\nMy CPU:  https://geni.us/cpu-mobi\\nMy RAM: https://geni.us/RAM-mobi\\nMy Graphics Card: https://geni.us/GPU-mobi\\nCPU Cooler: https://geni.us/cooler-mobi\\nMonitor 1: https://geni.us/ZQjVOd\\nMonitor 2: https://geni.us/ICmmhf\\n\\n\\nMy Shooting Gear\\nCamera: https://geni.us/LPVZ\\nLens (35 mm full frame): https://geni.us/lens1-mobi\\nKey Light: https://geni.us/nXyBuXY\\nAccent Light 1: https://geni.us/PBLi11\\nAccent Light 2: https://geni.us/godox-150W-RGB\\nGradient lights: https://geni.us/godox-TL60\\n\\n\\nAudio Gear\\nAudio Mixer: https://geni.us/dsBGr\\nMicrophone: https://geni.us/mic-mobi\\n\\n\\nSubscribe to Epidemic Background Music, Sounds and Effect from:\\nhttps://www.epidemicsound.com/referral/5urd4i/\\n\\n\\nMy Todo App of choice:\\nhttps://doist.grsm.io/karanbinani7060\\n\\n\\nNote: [Paid Links] As an Amazon Associate I earn from qualifying purchases. Mobiscrub is a member of the Amazon Associate Program, and can earn fees from links to Amazon.'}, 'defaultAudioLanguage': 'en'}, 'statistics': {'viewCount': '102172', 'likeCount': '1905', 'favoriteCount': '0', 'commentCount': '256'}}], 'pageInfo': {'totalResults': 1, 'resultsPerPage': 1}}\n",
            "Video 8 - Galaxy Watch 4: In Depth Review You Don't Want to Miss! -- Comment count:  256\n",
            "\n",
            "{'kind': 'youtube#videoListResponse', 'etag': 'q4i8sB4X7TjYELyum-X1U-O6Q3A', 'items': [{'kind': 'youtube#video', 'etag': 'O4lZVyZG5kBoanlwwOaeqYMYJ28', 'id': 'osi1VXFivfI', 'snippet': {'publishedAt': '2021-10-11T14:33:46Z', 'channelId': 'UCZZ4ivUawsXRktLKej8d6Xw', 'title': 'GALAXY WATCH 4 (Problems and Best Features after 1 Month of Daily Use)', 'description': \"GALAXY WATCH 4 👉 https://mikeobrienmedia.com/GalaxyWatch4\\nTHE STRAP 👉 https://mikeobrienmedia.com/GW4-ExtremeSportStrap\\nFollow me on social media! (it's always just @mikeobrienn)\\nInstagram: https://instagram.com/mikeobrienn\\nTwitter: https://twitter.com/mikeobrienn\\nTikTok: https://tiktok.com/@mikeobrienn\\nAbout me: https://mikeobrienmedia.com\\n\\nTOP TECH DEALS (Updated Continuously): \\n* Wearables: https://mikeobrienmedia.com/wearable-deals\\n* Tablets: https://mikeobrienmedia.com/tablet-deals\\n* Phones: https://mikeobrienmedia.com/phone-deals\\n \\nPlease comment below with any questions you might have.  Thank you all for watching! I appreciate you!\\n\\nADDITIONAL REVIEW NOTES:\\nThe Galaxy watch active 2 came out one month ago and in the first month, there was a lot of noise and a lot of excitement surrounding this new smartwatch.\\n\\nThere were a lot of very positive reviews, strong competitor to any other smartwatch in 2021\\nNow that it has bbeen 1 month, it is time to set the spec sheets aside and see how this watch actually performs under daily use\\n\\nNow I have been wearing this watch every day since it came out and I found a lot of things that werent mentioned in original reviews as well as some changes that have been made. In this video, I want to shaer with you what I found to be the most annoying features adn the most positive features that you might not notice when you first put the watch on\\n\\n(Intro music)\\n\\n\\nChanges since it first came out\\nSamsung released an update to improve the touch bezel. I just disabled it though\\nI disabled touch bezel since this is the smaller model\\nSquared off edges make touch bezel less cool\\nRotating bezel does not work on some Google apps?\\n2. Band Design\\nThis new band design is intended to prevent third party straps from working (at least at first) because a 20mm strap would look REALLY small on this\\nGet the Extreme Sport strap. It is the right one. It looks amazing, feels lighter and dryer, and is all around a better strap than the default\\n3. Hidden Features\\nTheater mode has a timer \\nShake arm twice to answer calls, twist twice to reject (when use this?)\\nEnable Show Media Controls to have them automatically appear when you play media on phone\\nFantastic accessibility enhancements compared to competition (also fall detection, SOS, etc.)\\nIt took me a while to realize how to take screenshots. You want to press both buttons simultaneously\\nI love how the bottom icon on the watch face takes you to workouts or music\\nReplying to messages - handwriting, voice, emojis, T9 (I recommend installing GBoard)\\n4. What\\n\\nStartup lag - much better now. Might happen for about 30 seconds when it first turns on\\n\\nThe display is amazing - very bright and very dim!\\n\\nBixby (not Google Assistant yet?)\\n\\nYou can use Samsung or Google pay (but Samsung pay is default)\\n\\nGoogle Maps is great! Syncs perfectly with my phone\\n\\nWatch faces\\n\\nEXERCISE\\nRep tracking has gotten really good actually (you can aggregate workouts by pausing and then tapping “new” instead of stopping\\nThere are great advanced metrics for running\\n\\nStairs climbed is VERY wrong. I counted and after climbing 17 flights of stairs, it said I climbed 7\\nNo blood pressure monitoring here in the USA\\n\\n\\nApp support\\n Getting Google stuff (what is here and what is yet to come)\\n\\nTIMESTAMPS:\\n0:00 i've been wearing this for one month\\n1:07 some new changes\\n2:00 straps\\n2:58 favorite hidden features\\n6:40 startup lag\\n7:35 not favorite features\\n8:41 health tracking\\n13:00 i like this watch overall\\n\\nDisclaimer: This video is purely based on my experiences, research, and opinions.  You and only you are responsible for your actions.  I made this channel to advise viewers and I truly hope to help you all out.  I love making these videos and connecting with my viewers!\\nThis channel is monetized via YouTube ads as well as some affiliate links.  If a purchase is made after clicking the link, I will receive a small commission at no extra charge to the buyer.  Thank you all for watching!\", 'thumbnails': {'default': {'url': 'https://i.ytimg.com/vi/osi1VXFivfI/default.jpg', 'width': 120, 'height': 90}, 'medium': {'url': 'https://i.ytimg.com/vi/osi1VXFivfI/mqdefault.jpg', 'width': 320, 'height': 180}, 'high': {'url': 'https://i.ytimg.com/vi/osi1VXFivfI/hqdefault.jpg', 'width': 480, 'height': 360}, 'standard': {'url': 'https://i.ytimg.com/vi/osi1VXFivfI/sddefault.jpg', 'width': 640, 'height': 480}, 'maxres': {'url': 'https://i.ytimg.com/vi/osi1VXFivfI/maxresdefault.jpg', 'width': 1280, 'height': 720}}, 'channelTitle': \"Mike O'Brien\", 'categoryId': '28', 'liveBroadcastContent': 'none', 'defaultLanguage': 'en', 'localized': {'title': 'GALAXY WATCH 4 (Problems and Best Features after 1 Month of Daily Use)', 'description': \"GALAXY WATCH 4 👉 https://mikeobrienmedia.com/GalaxyWatch4\\nTHE STRAP 👉 https://mikeobrienmedia.com/GW4-ExtremeSportStrap\\nFollow me on social media! (it's always just @mikeobrienn)\\nInstagram: https://instagram.com/mikeobrienn\\nTwitter: https://twitter.com/mikeobrienn\\nTikTok: https://tiktok.com/@mikeobrienn\\nAbout me: https://mikeobrienmedia.com\\n\\nTOP TECH DEALS (Updated Continuously): \\n* Wearables: https://mikeobrienmedia.com/wearable-deals\\n* Tablets: https://mikeobrienmedia.com/tablet-deals\\n* Phones: https://mikeobrienmedia.com/phone-deals\\n \\nPlease comment below with any questions you might have.  Thank you all for watching! I appreciate you!\\n\\nADDITIONAL REVIEW NOTES:\\nThe Galaxy watch active 2 came out one month ago and in the first month, there was a lot of noise and a lot of excitement surrounding this new smartwatch.\\n\\nThere were a lot of very positive reviews, strong competitor to any other smartwatch in 2021\\nNow that it has bbeen 1 month, it is time to set the spec sheets aside and see how this watch actually performs under daily use\\n\\nNow I have been wearing this watch every day since it came out and I found a lot of things that werent mentioned in original reviews as well as some changes that have been made. In this video, I want to shaer with you what I found to be the most annoying features adn the most positive features that you might not notice when you first put the watch on\\n\\n(Intro music)\\n\\n\\nChanges since it first came out\\nSamsung released an update to improve the touch bezel. I just disabled it though\\nI disabled touch bezel since this is the smaller model\\nSquared off edges make touch bezel less cool\\nRotating bezel does not work on some Google apps?\\n2. Band Design\\nThis new band design is intended to prevent third party straps from working (at least at first) because a 20mm strap would look REALLY small on this\\nGet the Extreme Sport strap. It is the right one. It looks amazing, feels lighter and dryer, and is all around a better strap than the default\\n3. Hidden Features\\nTheater mode has a timer \\nShake arm twice to answer calls, twist twice to reject (when use this?)\\nEnable Show Media Controls to have them automatically appear when you play media on phone\\nFantastic accessibility enhancements compared to competition (also fall detection, SOS, etc.)\\nIt took me a while to realize how to take screenshots. You want to press both buttons simultaneously\\nI love how the bottom icon on the watch face takes you to workouts or music\\nReplying to messages - handwriting, voice, emojis, T9 (I recommend installing GBoard)\\n4. What\\n\\nStartup lag - much better now. Might happen for about 30 seconds when it first turns on\\n\\nThe display is amazing - very bright and very dim!\\n\\nBixby (not Google Assistant yet?)\\n\\nYou can use Samsung or Google pay (but Samsung pay is default)\\n\\nGoogle Maps is great! Syncs perfectly with my phone\\n\\nWatch faces\\n\\nEXERCISE\\nRep tracking has gotten really good actually (you can aggregate workouts by pausing and then tapping “new” instead of stopping\\nThere are great advanced metrics for running\\n\\nStairs climbed is VERY wrong. I counted and after climbing 17 flights of stairs, it said I climbed 7\\nNo blood pressure monitoring here in the USA\\n\\n\\nApp support\\n Getting Google stuff (what is here and what is yet to come)\\n\\nTIMESTAMPS:\\n0:00 i've been wearing this for one month\\n1:07 some new changes\\n2:00 straps\\n2:58 favorite hidden features\\n6:40 startup lag\\n7:35 not favorite features\\n8:41 health tracking\\n13:00 i like this watch overall\\n\\nDisclaimer: This video is purely based on my experiences, research, and opinions.  You and only you are responsible for your actions.  I made this channel to advise viewers and I truly hope to help you all out.  I love making these videos and connecting with my viewers!\\nThis channel is monetized via YouTube ads as well as some affiliate links.  If a purchase is made after clicking the link, I will receive a small commission at no extra charge to the buyer.  Thank you all for watching!\"}, 'defaultAudioLanguage': 'en'}, 'statistics': {'viewCount': '1060103', 'likeCount': '15558', 'favoriteCount': '0', 'commentCount': '905'}}], 'pageInfo': {'totalResults': 1, 'resultsPerPage': 1}}\n",
            "Video 9 - GALAXY WATCH 4 (Problems and Best Features after 1 Month of Daily Use) -- Comment count:  905\n",
            "\n",
            "{'kind': 'youtube#videoListResponse', 'etag': 'RWNJPPzz9-VjIyzBLqDRAXyad1o', 'items': [{'kind': 'youtube#video', 'etag': 'ciCaRjDNgFTeX3PwYC-mDauuW2o', 'id': '8rqijeafZmM', 'snippet': {'publishedAt': '2021-09-02T22:17:46Z', 'channelId': 'UCF47He8GtRaSHeTvvsyAOrw', 'title': 'Samsung Galaxy Watch 4: Ultimate Health & Fitness Review', 'description': \"In this video I put the SAMSUNG Galaxy Watch 4 and Watch 4 Classic through its paces. I tracked runs, brisk walks, bike rides, workouts, even a hike in upstate New York. And I compared it to a variety of devices, the Apple Watch Series 6 and Garmin's Forerunner 745. I also compared its Body Composition tool vs the WiThings Scale and InBody's $6000 machine. And the results may surprise you.Does Android finally have the smartwatch it deserves?  \\n\\nSHOP Galaxy Watch 4 Deals: https://shop-links.co/1748710383174107944\\nGalaxy Watch 4 Straps: https://shop-links.co/cfvq23Vla9C\\n\\n#Samsung #GalaxyWatch4 #GalaxyWatch4Classic\\n\\nCHAPTERS:\\n00:00 Intro\\n00:33 Galaxy Watch4 in a nutshell\\n01:16 Back to Google\\n03:08 Navigate your phone\\n05:10 Design\\n07:04 Fitness Tracking\\n11:01 Bio Active Sensor\\n13:28 Sleep\\n15:20 Battery Life\\n16:32 Pricing\\n17:03 Is the Samsung Galaxy Watch4 your GadgetMatch?\\n\\n---------------\\n\\nSHOP MY GEAR:\\nMy Backpack: http://bit.ly/2HCLlH7\\nMy Camera (body): https://amzn.to/2SCZ4Eu\\nMy Everyday Lens: https://amzn.to/323qN45  \\nMy Favorite Lens: https://amzn.to/37xJGgz\\nMy Tripod: https://amzn.to/2HyRC6I\\nMy Video Head: https://amzn.to/2HyqgxK\\nMy Travel Tripod: http://bit.ly/38Bzqp7 + http://bit.ly/2VasOdB\\nMy Travel Video Head: https://amzn.to/2SzRiuP \\n\\nDISCLOSURE: GadgetMatch earns a commission from qualifying purchases from any of these links.\\n\\n---------------\\n\\nFOLLOW MICHAELJOSH:\\nhttps://instagram.com/michaeljosh\\nhttps://twitter.com/michaeljosh\\n\\n---------------\\n\\nGadgetMatch is a multi-platform technology network. We tell stories and make videos for everyone, not just for techies. And we post them everywhere. Subscribe for a decent helping of tech features, first look and hands-on videos, unboxings, gadget reviews, tips, tricks and tutorials.\\n\\nwww.gadgetmatch.com\\n\\nFIND US ON SOCIAL:\\nFacebook: http://www.facebook.com/gadgetmatch\\nInstagram: http://www.instagram.com/gadgetmatch\\nTwitter: http://www.twitter.com/gadgetmatch\\n\\n---------------\\n\\nMUSIC:\\nSummer Groove by Luke Bergs\\nOne Life by tubebackr\\nFresh Up by tubebackr\", 'thumbnails': {'default': {'url': 'https://i.ytimg.com/vi/8rqijeafZmM/default.jpg', 'width': 120, 'height': 90}, 'medium': {'url': 'https://i.ytimg.com/vi/8rqijeafZmM/mqdefault.jpg', 'width': 320, 'height': 180}, 'high': {'url': 'https://i.ytimg.com/vi/8rqijeafZmM/hqdefault.jpg', 'width': 480, 'height': 360}, 'standard': {'url': 'https://i.ytimg.com/vi/8rqijeafZmM/sddefault.jpg', 'width': 640, 'height': 480}, 'maxres': {'url': 'https://i.ytimg.com/vi/8rqijeafZmM/maxresdefault.jpg', 'width': 1280, 'height': 720}}, 'channelTitle': 'GadgetMatch', 'tags': ['GadgetMatch', 'Gadget Match', 'Michael Josh', 'michaeljosh', 'technology', 'samsung', 'galaxy watch4', 'samsung galaxy watch 4', 'galaxy watch 4', 'samsung galaxy watch4', 'galaxy watch4 classic', 'galaxy watch 4 classic', 'galaxy watch 4 classic review', 'galaxy watch4 classic review', 'wear os', 'samsung watch', 'bia sensor', 'samsung galaxy watch4 review', 'galaxy watch4 review', 'galaxy watch 4 review', 'samsung galaxy watch 4 review', 'galaxy watch 4 bia sensor', 'galaxy watch 4 bio active sensor', 'bio active sensor'], 'categoryId': '28', 'liveBroadcastContent': 'none', 'defaultLanguage': 'en', 'localized': {'title': 'Samsung Galaxy Watch 4: Ultimate Health & Fitness Review', 'description': \"In this video I put the SAMSUNG Galaxy Watch 4 and Watch 4 Classic through its paces. I tracked runs, brisk walks, bike rides, workouts, even a hike in upstate New York. And I compared it to a variety of devices, the Apple Watch Series 6 and Garmin's Forerunner 745. I also compared its Body Composition tool vs the WiThings Scale and InBody's $6000 machine. And the results may surprise you.Does Android finally have the smartwatch it deserves?  \\n\\nSHOP Galaxy Watch 4 Deals: https://shop-links.co/1748710383174107944\\nGalaxy Watch 4 Straps: https://shop-links.co/cfvq23Vla9C\\n\\n#Samsung #GalaxyWatch4 #GalaxyWatch4Classic\\n\\nCHAPTERS:\\n00:00 Intro\\n00:33 Galaxy Watch4 in a nutshell\\n01:16 Back to Google\\n03:08 Navigate your phone\\n05:10 Design\\n07:04 Fitness Tracking\\n11:01 Bio Active Sensor\\n13:28 Sleep\\n15:20 Battery Life\\n16:32 Pricing\\n17:03 Is the Samsung Galaxy Watch4 your GadgetMatch?\\n\\n---------------\\n\\nSHOP MY GEAR:\\nMy Backpack: http://bit.ly/2HCLlH7\\nMy Camera (body): https://amzn.to/2SCZ4Eu\\nMy Everyday Lens: https://amzn.to/323qN45  \\nMy Favorite Lens: https://amzn.to/37xJGgz\\nMy Tripod: https://amzn.to/2HyRC6I\\nMy Video Head: https://amzn.to/2HyqgxK\\nMy Travel Tripod: http://bit.ly/38Bzqp7 + http://bit.ly/2VasOdB\\nMy Travel Video Head: https://amzn.to/2SzRiuP \\n\\nDISCLOSURE: GadgetMatch earns a commission from qualifying purchases from any of these links.\\n\\n---------------\\n\\nFOLLOW MICHAELJOSH:\\nhttps://instagram.com/michaeljosh\\nhttps://twitter.com/michaeljosh\\n\\n---------------\\n\\nGadgetMatch is a multi-platform technology network. We tell stories and make videos for everyone, not just for techies. And we post them everywhere. Subscribe for a decent helping of tech features, first look and hands-on videos, unboxings, gadget reviews, tips, tricks and tutorials.\\n\\nwww.gadgetmatch.com\\n\\nFIND US ON SOCIAL:\\nFacebook: http://www.facebook.com/gadgetmatch\\nInstagram: http://www.instagram.com/gadgetmatch\\nTwitter: http://www.twitter.com/gadgetmatch\\n\\n---------------\\n\\nMUSIC:\\nSummer Groove by Luke Bergs\\nOne Life by tubebackr\\nFresh Up by tubebackr\"}, 'defaultAudioLanguage': 'en'}, 'statistics': {'viewCount': '317174', 'likeCount': '6867', 'favoriteCount': '0', 'commentCount': '535'}}], 'pageInfo': {'totalResults': 1, 'resultsPerPage': 1}}\n",
            "Video 10 - Samsung Galaxy Watch 4: Ultimate Health & Fitness Review -- Comment count:  535\n",
            "\n",
            "{'kind': 'youtube#videoListResponse', 'etag': 'ZUsvaYn6Ao8eQBcA-gONc3Jy8N4', 'items': [{'kind': 'youtube#video', 'etag': 'alKhaj9w6A5CaRVAiPug0haw_TY', 'id': 'FIxqJVxnqWw', 'snippet': {'publishedAt': '2021-01-17T15:30:00Z', 'channelId': 'UCIxLxlan8q9WA7sjuq6LdTQ', 'title': 'Fitbit Sense Watch Review | WHAT YOU NEED TO KNOW!!!', 'description': \"Thanks so much for watching guys, I really hope you learnt some awesome things about the Fitbit Sense and let me know in the comment what you thought 😁\\n\\n⚡️ IMPORTANT LINKS ⚡️\\nFitbit Sense - https://amzn.to/3oTdfCY\\nFREE WALLPAPERS - https://haylsworld.com/collections/free\\n\\n🙌🏻 PRODUCTS I GET ASKED ABOUT 🙌🏻\\n• Divoom Pixel Art speakers \\n       Divoom Bluetooth Speaker - Tivoo Max - https://amzn.to/33qoLx5\\n       Divoom Bluetooth Speaker - Tivoo Light - https://amzn.to/3lYzKVv\\n       Divoom Bluetooth Speaker - Ditoo - https://bit.ly/32xQED2\\n\\n• Silver Phone Stand - https://amzn.to/2Kzb9ZF\\n• Silver Phone Stand (ADJUSTABLE) - https://amzn.to/3fmWYlR\\n\\n• Colorful hexagonal light - https://amzn.to/2UrYFV2\\n• Favourite Phone Case Brand - Spigen - https://amzn.to/3dkpTpa\\n\\n🌟 SOCIAL 🌟 \\n• INSTAGRAM - http://instagram.com/haylsworld\\n• FACEBOOK - https://www.facebook.com/Haylsblog\\n• TWITTER - https://twitter.com/HaylsWorld\\n• WEBSITE - https://www.haylsworld.com/\\n\\n📦 FOR FAN MAIL 📦\\nTo: Hayleigh Chamberlain / Hayls World \\nCompany: Postnet Northmead, Postnet Suit 231, Private bag X1 \\nAddress: Shop 31, Northmead Mall, 1st St, Northmead, Benoni, 1501\\n\\n🔥VABAM FAM🔥\\nBecome a member of the Vabam Fam and each month you'll get \\n• 4 FREE epic wallpapers, \\n• a custom badge next to any of your comments, \\n• custom emojis to use during chats and premiers, \\n• as well as responses to any of your comments from me personally. \\nIf this is something you're keen to join in on then just check out the link and a HUGE thank you for your amazing support ❤️ \\n\\n🎵 MUSIC 🎵\\nWhere I get all my EPIC music (Epidemic Sound) - http://share.epidemicsound.com/tpmvw\\n\\n📷 GEAR 📷\\nTo keep my camera on constantly (Power Adapter Supply)  - https://amzn.to/2I5oLt1\\nFor silky smooth shots (Neewer 31.5inch Slider) - https://amzn.to/2YWtAtX\\nFor those crispy clean vocals (Purple Panda Lav Mic) - https://amzn.to/ AMAZON \\n\\n🛒 AMAZON 🛒\\nMy Amazon shop - https://www.amazon.com/shop/haylsworld\\n\\n📩 CONTACT 📩\\nhaylsinfo@gmail.com \\n\\n💵 SPONSORED 💵\\nNo, this video was not sponsored, but may contain products I was sent by brands or PR companies.\\n\\n#FitbitSense\\n#Fitbit\\n#Fitbitsensewatch\", 'thumbnails': {'default': {'url': 'https://i.ytimg.com/vi/FIxqJVxnqWw/default.jpg', 'width': 120, 'height': 90}, 'medium': {'url': 'https://i.ytimg.com/vi/FIxqJVxnqWw/mqdefault.jpg', 'width': 320, 'height': 180}, 'high': {'url': 'https://i.ytimg.com/vi/FIxqJVxnqWw/hqdefault.jpg', 'width': 480, 'height': 360}, 'standard': {'url': 'https://i.ytimg.com/vi/FIxqJVxnqWw/sddefault.jpg', 'width': 640, 'height': 480}, 'maxres': {'url': 'https://i.ytimg.com/vi/FIxqJVxnqWw/maxresdefault.jpg', 'width': 1280, 'height': 720}}, 'channelTitle': 'Hayls World', 'tags': ['Hayls World', 'tips', 'tricks', 'hacks', 'hidden features', 'tech', 'fitbit', 'fitbitsense', 'fitbit watch', 'fitbit sense', 'sense', 'watch review', 'fitbit sense review', 'fitbit sense watch', 'fitbit app', 'heart rate tracker', 'sleep tracking', 'fitbit versa 3', 'fitbit versa', 'fitbit charge', 'spotify', 'Fitbit Sense Watch Review | WHAT YOU NEED TO KNOW!!!', 'fitbit premium'], 'categoryId': '28', 'liveBroadcastContent': 'none', 'localized': {'title': 'Fitbit Sense Watch Review | WHAT YOU NEED TO KNOW!!!', 'description': \"Thanks so much for watching guys, I really hope you learnt some awesome things about the Fitbit Sense and let me know in the comment what you thought 😁\\n\\n⚡️ IMPORTANT LINKS ⚡️\\nFitbit Sense - https://amzn.to/3oTdfCY\\nFREE WALLPAPERS - https://haylsworld.com/collections/free\\n\\n🙌🏻 PRODUCTS I GET ASKED ABOUT 🙌🏻\\n• Divoom Pixel Art speakers \\n       Divoom Bluetooth Speaker - Tivoo Max - https://amzn.to/33qoLx5\\n       Divoom Bluetooth Speaker - Tivoo Light - https://amzn.to/3lYzKVv\\n       Divoom Bluetooth Speaker - Ditoo - https://bit.ly/32xQED2\\n\\n• Silver Phone Stand - https://amzn.to/2Kzb9ZF\\n• Silver Phone Stand (ADJUSTABLE) - https://amzn.to/3fmWYlR\\n\\n• Colorful hexagonal light - https://amzn.to/2UrYFV2\\n• Favourite Phone Case Brand - Spigen - https://amzn.to/3dkpTpa\\n\\n🌟 SOCIAL 🌟 \\n• INSTAGRAM - http://instagram.com/haylsworld\\n• FACEBOOK - https://www.facebook.com/Haylsblog\\n• TWITTER - https://twitter.com/HaylsWorld\\n• WEBSITE - https://www.haylsworld.com/\\n\\n📦 FOR FAN MAIL 📦\\nTo: Hayleigh Chamberlain / Hayls World \\nCompany: Postnet Northmead, Postnet Suit 231, Private bag X1 \\nAddress: Shop 31, Northmead Mall, 1st St, Northmead, Benoni, 1501\\n\\n🔥VABAM FAM🔥\\nBecome a member of the Vabam Fam and each month you'll get \\n• 4 FREE epic wallpapers, \\n• a custom badge next to any of your comments, \\n• custom emojis to use during chats and premiers, \\n• as well as responses to any of your comments from me personally. \\nIf this is something you're keen to join in on then just check out the link and a HUGE thank you for your amazing support ❤️ \\n\\n🎵 MUSIC 🎵\\nWhere I get all my EPIC music (Epidemic Sound) - http://share.epidemicsound.com/tpmvw\\n\\n📷 GEAR 📷\\nTo keep my camera on constantly (Power Adapter Supply)  - https://amzn.to/2I5oLt1\\nFor silky smooth shots (Neewer 31.5inch Slider) - https://amzn.to/2YWtAtX\\nFor those crispy clean vocals (Purple Panda Lav Mic) - https://amzn.to/ AMAZON \\n\\n🛒 AMAZON 🛒\\nMy Amazon shop - https://www.amazon.com/shop/haylsworld\\n\\n📩 CONTACT 📩\\nhaylsinfo@gmail.com \\n\\n💵 SPONSORED 💵\\nNo, this video was not sponsored, but may contain products I was sent by brands or PR companies.\\n\\n#FitbitSense\\n#Fitbit\\n#Fitbitsensewatch\"}, 'defaultAudioLanguage': 'en'}, 'statistics': {'viewCount': '470471', 'likeCount': '8008', 'favoriteCount': '0', 'commentCount': '557'}}], 'pageInfo': {'totalResults': 1, 'resultsPerPage': 1}}\n",
            "Video 11 - Fitbit Sense Watch Review | WHAT YOU NEED TO KNOW!!! -- Comment count:  557\n",
            "\n",
            "{'kind': 'youtube#videoListResponse', 'etag': 'h6Ub1fzCYugPR6Z1-zSkQ6OiSig', 'items': [{'kind': 'youtube#video', 'etag': '7oFsOD3I89_tn7-frDRUGTO-uxc', 'id': 'joYeeOVHjOM', 'snippet': {'publishedAt': '2020-10-01T14:16:36Z', 'channelId': 'UCZZ4ivUawsXRktLKej8d6Xw', 'title': 'New Fitbit Sense Watch Review - WHAT YOU NEED TO KNOW', 'description': \"FITBIT SENSE: https://mikeobrienmedia.com/fitbit-sense\\nThis watch has more health tracking features than any I have ever tested, but my accuracy testing was surprising. Should you buy this watch?\\nFollow me on social media! (it's always just @mikeobrienn)\\nInstagram: https://instagram.com/mikeobrienn\\nTwitter: https://twitter.com/mikeobrienn\\n\\n2 FREE AUDIOBOOKS: https://amzn.to/2T72vA7\\n\\nProtect yourself with NORD VPN (75% off): http://www.anrdoezrs.net/click-8972143-13609939\\n\\nADDITIONAL REVIEW NOTES:\\n$330 for the ultimate health watch in 2020?\\n\\nBattery lasts ~5 days depending on use\\nConnectivity could be better\\n\\nPHYSICAL\\n(Tour of watch)\\n50m water resistant\\n1.6” AMOLED\\nMetal bezel for ECG\\n\\nHEALTH\\nstress management\\nheart health (high/low HR notifications)\\nPedometer\\nSpO2\\nGPS for activity tracking\\nskin temperature\\nECG pending approval\\nPeriod tracking\\nSleep tracking\\nEDA scan (electrodermal stress indicators)\\nSmartTrack automatically detects and tracks workouts\\n\\n\\nTESTING\\nHR\\nSleep\\nGPS\\nBattery (I was getting 5 days per charge)\\n\\n\\nINTERFACE TOUR\\nSmart wake\\nNotifications\\nReplies\\nWeather\\nFitbit pay\\nAlexa\\nGet more apps on your watch\\nBluetooth calling is coming soon, but is not here yet\\n\\n\\nAPP TOUR\\n\\n\\nPROS\\nOffline music\\nGPS (finally!!)\\n\\nCONS\\nNo offline Spotify\\n\\n\\nWHAT GEAR DO I USE?\\nMy camera: https://amzn.to/2rxDZ09\\n\\nMy microphone: https://amzn.to/2Ias66q\\n\\nMy audio recorder: https://amzn.to/2rE8amz\\n\\nMy tripod: https://amzn.to/2IebL0V\\n\\nMy video editor: https://amzn.to/2rAdN44\\n\\nPlease comment below with any questions you might have.  Thank you all for watching! I appreciate you!\\n\\n\\n\\nDisclaimer: This video is purely based on my experiences, research, and opinions.  You and only you are responsible for your actions.  I made this channel to advise viewers and I truly hope to help you all out.  I love making these videos and connecting with my viewers!\\nThis channel is monetized via YouTube ads as well as some affiliate links.  If a purchase is made after clicking the link, I will receive a small commission at no extra charge to the buyer.  Thank you all for watching!\", 'thumbnails': {'default': {'url': 'https://i.ytimg.com/vi/joYeeOVHjOM/default.jpg', 'width': 120, 'height': 90}, 'medium': {'url': 'https://i.ytimg.com/vi/joYeeOVHjOM/mqdefault.jpg', 'width': 320, 'height': 180}, 'high': {'url': 'https://i.ytimg.com/vi/joYeeOVHjOM/hqdefault.jpg', 'width': 480, 'height': 360}, 'standard': {'url': 'https://i.ytimg.com/vi/joYeeOVHjOM/sddefault.jpg', 'width': 640, 'height': 480}, 'maxres': {'url': 'https://i.ytimg.com/vi/joYeeOVHjOM/maxresdefault.jpg', 'width': 1280, 'height': 720}}, 'channelTitle': \"Mike O'Brien\", 'categoryId': '28', 'liveBroadcastContent': 'none', 'defaultLanguage': 'en', 'localized': {'title': 'New Fitbit Sense Watch Review - WHAT YOU NEED TO KNOW', 'description': \"FITBIT SENSE: https://mikeobrienmedia.com/fitbit-sense\\nThis watch has more health tracking features than any I have ever tested, but my accuracy testing was surprising. Should you buy this watch?\\nFollow me on social media! (it's always just @mikeobrienn)\\nInstagram: https://instagram.com/mikeobrienn\\nTwitter: https://twitter.com/mikeobrienn\\n\\n2 FREE AUDIOBOOKS: https://amzn.to/2T72vA7\\n\\nProtect yourself with NORD VPN (75% off): http://www.anrdoezrs.net/click-8972143-13609939\\n\\nADDITIONAL REVIEW NOTES:\\n$330 for the ultimate health watch in 2020?\\n\\nBattery lasts ~5 days depending on use\\nConnectivity could be better\\n\\nPHYSICAL\\n(Tour of watch)\\n50m water resistant\\n1.6” AMOLED\\nMetal bezel for ECG\\n\\nHEALTH\\nstress management\\nheart health (high/low HR notifications)\\nPedometer\\nSpO2\\nGPS for activity tracking\\nskin temperature\\nECG pending approval\\nPeriod tracking\\nSleep tracking\\nEDA scan (electrodermal stress indicators)\\nSmartTrack automatically detects and tracks workouts\\n\\n\\nTESTING\\nHR\\nSleep\\nGPS\\nBattery (I was getting 5 days per charge)\\n\\n\\nINTERFACE TOUR\\nSmart wake\\nNotifications\\nReplies\\nWeather\\nFitbit pay\\nAlexa\\nGet more apps on your watch\\nBluetooth calling is coming soon, but is not here yet\\n\\n\\nAPP TOUR\\n\\n\\nPROS\\nOffline music\\nGPS (finally!!)\\n\\nCONS\\nNo offline Spotify\\n\\n\\nWHAT GEAR DO I USE?\\nMy camera: https://amzn.to/2rxDZ09\\n\\nMy microphone: https://amzn.to/2Ias66q\\n\\nMy audio recorder: https://amzn.to/2rE8amz\\n\\nMy tripod: https://amzn.to/2IebL0V\\n\\nMy video editor: https://amzn.to/2rAdN44\\n\\nPlease comment below with any questions you might have.  Thank you all for watching! I appreciate you!\\n\\n\\n\\nDisclaimer: This video is purely based on my experiences, research, and opinions.  You and only you are responsible for your actions.  I made this channel to advise viewers and I truly hope to help you all out.  I love making these videos and connecting with my viewers!\\nThis channel is monetized via YouTube ads as well as some affiliate links.  If a purchase is made after clicking the link, I will receive a small commission at no extra charge to the buyer.  Thank you all for watching!\"}, 'defaultAudioLanguage': 'en'}, 'statistics': {'viewCount': '157125', 'likeCount': '2577', 'favoriteCount': '0', 'commentCount': '298'}}], 'pageInfo': {'totalResults': 1, 'resultsPerPage': 1}}\n",
            "Video 12 - New Fitbit Sense Watch Review - WHAT YOU NEED TO KNOW -- Comment count:  298\n",
            "\n",
            "{'kind': 'youtube#videoListResponse', 'etag': 'YK1GSCoUorSUGD9V6Zae3nEzolY', 'items': [{'kind': 'youtube#video', 'etag': '0sqy6yBE9AD6Kx_P-Z1ahs1v6xU', 'id': 'ukvkulID0q0', 'snippet': {'publishedAt': '2020-09-22T17:54:08Z', 'channelId': 'UC6y_DbpezOinlzHv8O092zw', 'title': 'Fitbit Sense In-Depth Review: 7 New Things To Know!', 'description': \"The Fitbit Sense is Fitbit's most ambitious and sensor-laden watch to date, but does it deliver on that promise, or fall short? I dig deep into the top 7 new features to see what works, and what needs a bit (or lot) more love. And more importantly, I test whether or not the new sensors are actually accurate. After all, bad data is worse than no data.\\n\\nFull in-depth written review: https://www.dcrainmaker.com/2020/09/fitbit-sense-in-depth-review-all-the-data-without-the-clarity.html\\n\\n0:00 Intro\\n0:42 Pricing/In the Box\\n0:56 Fitbit Sense Basics\\n4:10 EDA Scan & Stress Management\\n7:30 ECG Functionality\\n8:00 Breathing Rate\\n8:42 HRV Tracking\\n9:53 Skin Temperature\\n10:52 New Microphone\\n12:17 PurePulse 2.0 Optical HR Sensor\\n12:47 Optical HR Accuracy\\n13:33 GPS Accuracy\\n13:48 Wrap-Up\\n\\n---\\n\\nThe Site    ► http://www.dcrainmaker.com\\nMain Camera    ►  http://amzn.to/2vGjVcT\\nThe Drone   ► https://amzn.to/2LrPEoc\\nThe Gimbal   ► http://amzn.to/2vG9wh3\\nAction Cam   ► https://amzn.to/2L0GfYg\\nAll Camera Gear ► http://dcra.in/DCRCamera\\nInstagram   ► https://instagram.com/dcrainmaker\\nFacebook    ► https://facebook.com/dcrainmaker\\nTwitter     ► https://twitter.com/dcrainmakerblog\\nStrava      ► https://www.strava.com/athletes/dcrainmaker\\nMost Music  ► https://player.epidemicsound.com/#/\\n\\n#FitbitSense #Fitbit #FitbitWatch\", 'thumbnails': {'default': {'url': 'https://i.ytimg.com/vi/ukvkulID0q0/default.jpg', 'width': 120, 'height': 90}, 'medium': {'url': 'https://i.ytimg.com/vi/ukvkulID0q0/mqdefault.jpg', 'width': 320, 'height': 180}, 'high': {'url': 'https://i.ytimg.com/vi/ukvkulID0q0/hqdefault.jpg', 'width': 480, 'height': 360}, 'standard': {'url': 'https://i.ytimg.com/vi/ukvkulID0q0/sddefault.jpg', 'width': 640, 'height': 480}, 'maxres': {'url': 'https://i.ytimg.com/vi/ukvkulID0q0/maxresdefault.jpg', 'width': 1280, 'height': 720}}, 'channelTitle': 'DC Rainmaker', 'tags': ['Fitbit Sense Review', 'Fitbit Sense', 'Fitbit Sense Test', 'Fitbit', 'Fitbit Sense Data', 'Fitbit Sense Tested', 'Fitbit Sense vs Apple Watch 6', 'Fitbit Sense vs Garmin', 'Fitbit Sense vs Polar', 'Fitbit Sense vs Apple Watch SE', 'Fitbit Sense hands on', 'Best Fitbit 2020', 'Best Fitbit', 'dcrainmaker', 'rainmaker', 'dc rainmaker', 'ray maker', 'Fitbit Sense details'], 'categoryId': '17', 'liveBroadcastContent': 'none', 'localized': {'title': 'Fitbit Sense In-Depth Review: 7 New Things To Know!', 'description': \"The Fitbit Sense is Fitbit's most ambitious and sensor-laden watch to date, but does it deliver on that promise, or fall short? I dig deep into the top 7 new features to see what works, and what needs a bit (or lot) more love. And more importantly, I test whether or not the new sensors are actually accurate. After all, bad data is worse than no data.\\n\\nFull in-depth written review: https://www.dcrainmaker.com/2020/09/fitbit-sense-in-depth-review-all-the-data-without-the-clarity.html\\n\\n0:00 Intro\\n0:42 Pricing/In the Box\\n0:56 Fitbit Sense Basics\\n4:10 EDA Scan & Stress Management\\n7:30 ECG Functionality\\n8:00 Breathing Rate\\n8:42 HRV Tracking\\n9:53 Skin Temperature\\n10:52 New Microphone\\n12:17 PurePulse 2.0 Optical HR Sensor\\n12:47 Optical HR Accuracy\\n13:33 GPS Accuracy\\n13:48 Wrap-Up\\n\\n---\\n\\nThe Site    ► http://www.dcrainmaker.com\\nMain Camera    ►  http://amzn.to/2vGjVcT\\nThe Drone   ► https://amzn.to/2LrPEoc\\nThe Gimbal   ► http://amzn.to/2vG9wh3\\nAction Cam   ► https://amzn.to/2L0GfYg\\nAll Camera Gear ► http://dcra.in/DCRCamera\\nInstagram   ► https://instagram.com/dcrainmaker\\nFacebook    ► https://facebook.com/dcrainmaker\\nTwitter     ► https://twitter.com/dcrainmakerblog\\nStrava      ► https://www.strava.com/athletes/dcrainmaker\\nMost Music  ► https://player.epidemicsound.com/#/\\n\\n#FitbitSense #Fitbit #FitbitWatch\"}, 'defaultAudioLanguage': 'en'}, 'statistics': {'viewCount': '350353', 'likeCount': '5223', 'favoriteCount': '0', 'commentCount': '585'}}], 'pageInfo': {'totalResults': 1, 'resultsPerPage': 1}}\n",
            "Video 13 - Fitbit Sense In-Depth Review: 7 New Things To Know! -- Comment count:  585\n",
            "\n",
            "{'kind': 'youtube#videoListResponse', 'etag': 'P1w2y4BtjV1UVJChIQ8HpTKABlg', 'items': [{'kind': 'youtube#video', 'etag': 'OEqj44YTWD-fMxnIj8w_-SId2cI', 'id': 'ECmDhQn2Fbc', 'snippet': {'publishedAt': '2020-09-30T00:42:10Z', 'channelId': 'UCOmcA3f_RrH6b9NmcNa4tdg', 'title': 'Fitbit Sense review: Health data overload', 'description': \"You can buy the items featured in the video here:\\nFitbit Sense: https://bit.ly/2WmxGeY\\n*CNET may get a commission from this offer.\\n\\nThe Fitbit Sense promises a lot of new, potentially helpful data such as stress tracking, blood oxygen readings and even being able to show skin temperature. But knowing what to do with all this can be confusing if you're not a medical professional. This review covers health and fitness tracking, battery life and smartwatch features on the Fitbit Sense.\\n\\n\\nSubscribe to CNET: https://www.youtube.com/user/CNETTV\\r\\nCNET playlists: https://www.youtube.com/user/CNETTV/playlists\\r\\nDownload the new CNET app: https://cnet.app.link/GWuXq8ExzG\\r\\nLike us on Facebook: https://www.facebook.com/cnet\\r\\nFollow us on Twitter: https://www.twitter.com/cnet\\r\\nFollow us on Instagram: http://bit.ly/2icCYYm\", 'thumbnails': {'default': {'url': 'https://i.ytimg.com/vi/ECmDhQn2Fbc/default.jpg', 'width': 120, 'height': 90}, 'medium': {'url': 'https://i.ytimg.com/vi/ECmDhQn2Fbc/mqdefault.jpg', 'width': 320, 'height': 180}, 'high': {'url': 'https://i.ytimg.com/vi/ECmDhQn2Fbc/hqdefault.jpg', 'width': 480, 'height': 360}, 'standard': {'url': 'https://i.ytimg.com/vi/ECmDhQn2Fbc/sddefault.jpg', 'width': 640, 'height': 480}, 'maxres': {'url': 'https://i.ytimg.com/vi/ECmDhQn2Fbc/maxresdefault.jpg', 'width': 1280, 'height': 720}}, 'channelTitle': 'CNET', 'tags': ['CNET', 'Technology', 'Tech', 'Review', 'fitbit', 'fitbit sense', 'smartwatch', 'fitbit sense review', 'fitbit review', 'sense', 'best fitbit', 'fitbit watch', 'fitbit sense hands on', 'new fitbit', 'fitness tracker', 'fitbit sense test', 'fitbit sense details', 'fitbit sense tested', 'fitbit sense data', 'lexy savvides'], 'categoryId': '28', 'liveBroadcastContent': 'none', 'localized': {'title': 'Fitbit Sense review: Health data overload', 'description': \"You can buy the items featured in the video here:\\nFitbit Sense: https://bit.ly/2WmxGeY\\n*CNET may get a commission from this offer.\\n\\nThe Fitbit Sense promises a lot of new, potentially helpful data such as stress tracking, blood oxygen readings and even being able to show skin temperature. But knowing what to do with all this can be confusing if you're not a medical professional. This review covers health and fitness tracking, battery life and smartwatch features on the Fitbit Sense.\\n\\n\\nSubscribe to CNET: https://www.youtube.com/user/CNETTV\\r\\nCNET playlists: https://www.youtube.com/user/CNETTV/playlists\\r\\nDownload the new CNET app: https://cnet.app.link/GWuXq8ExzG\\r\\nLike us on Facebook: https://www.facebook.com/cnet\\r\\nFollow us on Twitter: https://www.twitter.com/cnet\\r\\nFollow us on Instagram: http://bit.ly/2icCYYm\"}, 'defaultAudioLanguage': 'en'}, 'statistics': {'viewCount': '120417', 'likeCount': '1605', 'favoriteCount': '0', 'commentCount': '178'}}], 'pageInfo': {'totalResults': 1, 'resultsPerPage': 1}}\n",
            "Video 14 - Fitbit Sense review: Health data overload -- Comment count:  178\n",
            "\n",
            "{'kind': 'youtube#videoListResponse', 'etag': 'CfY0E04kQmm2EZEv4X6NuIgyL9Y', 'items': [{'kind': 'youtube#video', 'etag': '6ZG-5KSmxOsdXLo7UsstWbD6JKU', 'id': 'JaXyp-qjO74', 'snippet': {'publishedAt': '2020-11-03T15:30:03Z', 'channelId': 'UCSc9R_Wo-pS2JZXk7Oppliw', 'title': 'Fitbit Sense Review｜Watch Before You Buy', 'description': '►Fitbit Sense\\n✓US Prices - https://amzn.to/3eiIzGK\\n✓UK Prices - https://amzn.to/3jPh3Sq\\n✓CA Prices - https://amzn.to/35TszqW\\n\\nThe Fitbit Sense is the latest and greatest from Fitbit as their most advanced health tracker from Fitbit and comes at a premium price- but how does it compare to the other premium smartwatches?\\nIn this video, we’re going to be taking a closer look at the Fitbit Sense. We’ll be going over key features, who this product is for, how it compares to the competition, and most importantly, is it right for you?\\n\\nWe’ll break down all the aspects of the Fitbit Sense, what you can expect to get in return for your money, and help you to decide if the Fitbit Sense is the right option for you.\\n\\n\\n=============================================\\n►SUBSCRIBE FOR MORE - https://goo.gl/TWDSSi\\n\\n\\n\\n→ Disclaimer \\nThis video contains amazon affiliate links, as an amazon affiliate I earn from qualified purchases', 'thumbnails': {'default': {'url': 'https://i.ytimg.com/vi/JaXyp-qjO74/default.jpg', 'width': 120, 'height': 90}, 'medium': {'url': 'https://i.ytimg.com/vi/JaXyp-qjO74/mqdefault.jpg', 'width': 320, 'height': 180}, 'high': {'url': 'https://i.ytimg.com/vi/JaXyp-qjO74/hqdefault.jpg', 'width': 480, 'height': 360}, 'standard': {'url': 'https://i.ytimg.com/vi/JaXyp-qjO74/sddefault.jpg', 'width': 640, 'height': 480}, 'maxres': {'url': 'https://i.ytimg.com/vi/JaXyp-qjO74/maxresdefault.jpg', 'width': 1280, 'height': 720}}, 'channelTitle': 'The Product Lab', 'tags': ['The Product Lab', 'Product Lab', 'Fitbit Sense Review', 'Fitbit Sense'], 'categoryId': '28', 'liveBroadcastContent': 'none', 'localized': {'title': 'Fitbit Sense Review｜Watch Before You Buy', 'description': '►Fitbit Sense\\n✓US Prices - https://amzn.to/3eiIzGK\\n✓UK Prices - https://amzn.to/3jPh3Sq\\n✓CA Prices - https://amzn.to/35TszqW\\n\\nThe Fitbit Sense is the latest and greatest from Fitbit as their most advanced health tracker from Fitbit and comes at a premium price- but how does it compare to the other premium smartwatches?\\nIn this video, we’re going to be taking a closer look at the Fitbit Sense. We’ll be going over key features, who this product is for, how it compares to the competition, and most importantly, is it right for you?\\n\\nWe’ll break down all the aspects of the Fitbit Sense, what you can expect to get in return for your money, and help you to decide if the Fitbit Sense is the right option for you.\\n\\n\\n=============================================\\n►SUBSCRIBE FOR MORE - https://goo.gl/TWDSSi\\n\\n\\n\\n→ Disclaimer \\nThis video contains amazon affiliate links, as an amazon affiliate I earn from qualified purchases'}, 'defaultAudioLanguage': 'en'}, 'statistics': {'viewCount': '34724', 'likeCount': '622', 'favoriteCount': '0', 'commentCount': '17'}}], 'pageInfo': {'totalResults': 1, 'resultsPerPage': 1}}\n",
            "Video 15 - Fitbit Sense Review｜Watch Before You Buy -- Comment count:  17\n",
            "\n",
            "{'kind': 'youtube#videoListResponse', 'etag': '48K3v0jt_b-Inm_jonTFlxuqQhw', 'items': [{'kind': 'youtube#video', 'etag': 'tnyJhW5H24qbYHSErqvGipgjX50', 'id': 'Bq2eC1xm-0E', 'snippet': {'publishedAt': '2022-06-09T17:00:05Z', 'channelId': 'UCSc9R_Wo-pS2JZXk7Oppliw', 'title': 'Fitbit Sense Review in 2022  | Still Worth The Buy', 'description': '►Fitbit Sense\\n✓US Prices - https://amzn.to/3eiIzGK\\n✓UK Prices - https://amzn.to/3jPh3Sq\\n✓CA Prices - https://amzn.to/35TszqW\\n\\nThis is the Fitbit Sense, and these are 5 things you need to know before you use this Fitbit.\\n\\nFirst, this Fitbit feels incredibly well on your wrist. With the band strap being made out of a soft silicone with no buckles or anything like a regular watch it really shows how extremely comfortable it is and you can wear it to sleep or around for long periods of time without even noticing it!\\n\\nSecond, this is one of the, if not the best screen you can find on a fitbit. Now it comes with a 1.58 inch display which is pretty big for a smartwatch. It’s also an OLED screen so in short that means the screen is very visible in all possible lighting even in a direct sun glare.\\n\\nThird,The Sense can track just about any workout you can think of! Running, swimming, walking, doing hot yoga there is a specialty mood specifically for whatever you’re thinking. One of the coolest things about the Sense is it comes with the Active Zone Minutes so when you are working out and have a goal set then the watch itself will notify you when you achieve it! Talk about motivation. Even if your goal is in swimming then don’t fret as the sense is also water resistant to 50m as well!\\n\\nFourth, the Sense has one of the best sleep tracking capabilities of any fitness tracker around. It can track everything in your sleep so you can be careful and spot signs of sleeping conditions like sleep apnea that you might not even know you have which could leave you with a worse sleep and be fatigued in the morning. It will constantly be tracking your sleep wether it be your regular sleep or even a little cat nap during the day!\\n\\nAnd Lastly, you couldn’t talk about the Sense without talking about one of it’s key features that makes it stand out above the rest, the stress management apps. The Fitbit Family has found a way to help people keep track of their mental health, which is simply amazing. The fitbit has an EDA scan which will give you some soft vibrations over your hand. The less it vibrates it means the less you are stressed. You can also log how your feeling throught the day so the Sense can get a better idea of how you are feeling.\\n\\nThese 5 things make the Fitbit Sense one of the top of the line Fitbits on the market right now and a perfect option for anyone wanting a Fitbit that blends mental and physical health..\\n\\n\\n\\n=============================================\\n►SUBSCRIBE FOR MORE - https://goo.gl/TWDSSi\\n\\n\\n\\n→ Disclaimer \\nThis video contains amazon affiliate links, as an amazon affiliate I earn from qualified purchases', 'thumbnails': {'default': {'url': 'https://i.ytimg.com/vi/Bq2eC1xm-0E/default.jpg', 'width': 120, 'height': 90}, 'medium': {'url': 'https://i.ytimg.com/vi/Bq2eC1xm-0E/mqdefault.jpg', 'width': 320, 'height': 180}, 'high': {'url': 'https://i.ytimg.com/vi/Bq2eC1xm-0E/hqdefault.jpg', 'width': 480, 'height': 360}, 'standard': {'url': 'https://i.ytimg.com/vi/Bq2eC1xm-0E/sddefault.jpg', 'width': 640, 'height': 480}, 'maxres': {'url': 'https://i.ytimg.com/vi/Bq2eC1xm-0E/maxresdefault.jpg', 'width': 1280, 'height': 720}}, 'channelTitle': 'The Product Lab', 'tags': ['The Product Lab', 'Product Lab', 'Fitbit Sense 2022', 'Fitbit Sense Review 2022', 'Fitbit Sense Review', 'Fitbit Sense', 'fitbit review'], 'categoryId': '28', 'liveBroadcastContent': 'none', 'localized': {'title': 'Fitbit Sense Review in 2022  | Still Worth The Buy', 'description': '►Fitbit Sense\\n✓US Prices - https://amzn.to/3eiIzGK\\n✓UK Prices - https://amzn.to/3jPh3Sq\\n✓CA Prices - https://amzn.to/35TszqW\\n\\nThis is the Fitbit Sense, and these are 5 things you need to know before you use this Fitbit.\\n\\nFirst, this Fitbit feels incredibly well on your wrist. With the band strap being made out of a soft silicone with no buckles or anything like a regular watch it really shows how extremely comfortable it is and you can wear it to sleep or around for long periods of time without even noticing it!\\n\\nSecond, this is one of the, if not the best screen you can find on a fitbit. Now it comes with a 1.58 inch display which is pretty big for a smartwatch. It’s also an OLED screen so in short that means the screen is very visible in all possible lighting even in a direct sun glare.\\n\\nThird,The Sense can track just about any workout you can think of! Running, swimming, walking, doing hot yoga there is a specialty mood specifically for whatever you’re thinking. One of the coolest things about the Sense is it comes with the Active Zone Minutes so when you are working out and have a goal set then the watch itself will notify you when you achieve it! Talk about motivation. Even if your goal is in swimming then don’t fret as the sense is also water resistant to 50m as well!\\n\\nFourth, the Sense has one of the best sleep tracking capabilities of any fitness tracker around. It can track everything in your sleep so you can be careful and spot signs of sleeping conditions like sleep apnea that you might not even know you have which could leave you with a worse sleep and be fatigued in the morning. It will constantly be tracking your sleep wether it be your regular sleep or even a little cat nap during the day!\\n\\nAnd Lastly, you couldn’t talk about the Sense without talking about one of it’s key features that makes it stand out above the rest, the stress management apps. The Fitbit Family has found a way to help people keep track of their mental health, which is simply amazing. The fitbit has an EDA scan which will give you some soft vibrations over your hand. The less it vibrates it means the less you are stressed. You can also log how your feeling throught the day so the Sense can get a better idea of how you are feeling.\\n\\nThese 5 things make the Fitbit Sense one of the top of the line Fitbits on the market right now and a perfect option for anyone wanting a Fitbit that blends mental and physical health..\\n\\n\\n\\n=============================================\\n►SUBSCRIBE FOR MORE - https://goo.gl/TWDSSi\\n\\n\\n\\n→ Disclaimer \\nThis video contains amazon affiliate links, as an amazon affiliate I earn from qualified purchases'}, 'defaultAudioLanguage': 'en'}, 'statistics': {'viewCount': '42287', 'likeCount': '308', 'favoriteCount': '0', 'commentCount': '23'}}], 'pageInfo': {'totalResults': 1, 'resultsPerPage': 1}}\n",
            "Video 16 - Fitbit Sense Review in 2022  | Still Worth The Buy -- Comment count:  23\n",
            "\n",
            "{'kind': 'youtube#videoListResponse', 'etag': '7RZvlJ0SQWA7tMqpHapuQxZC37k', 'items': [{'kind': 'youtube#video', 'etag': 'y751keh2jhwvGibcBWXka5WDeoo', 'id': 'YuFMb3v5E_k', 'snippet': {'publishedAt': '2022-10-17T21:30:05Z', 'channelId': 'UCSc9R_Wo-pS2JZXk7Oppliw', 'title': 'Fitbit Sense 2 Review｜Watch Before You Buy', 'description': '►Fitbit Sense 2\\n✓US Prices - https://amzn.to/3yOfqyG\\n✓UK Prices - https://amzn.to/3S2Par6\\n✓CA Prices - https://amzn.to/3VshyFU\\n\\nThe Fitbit Sense 2 is a high-end fitness tracker that comes with several upgraded features, including top-tier stress management and sleep readings that might help provide a deeper insight into your overall well-being. \\n\\nIn this video, we’re going to be taking a closer look at the Fitbit Sense 2. We’ll be going over key features, who this product is for, how it compares to the competition, and most importantly, is it right for you?\\n\\nWe’ll break down all the aspects of the Fitbit Sense 2, what you can expect to get in return for your money, and help you to decide if the Fitbit Sense 2 is the right option for you.\\n\\n\\n=============================================\\n►SUBSCRIBE FOR MORE - https://goo.gl/TWDSSi\\n\\n\\n\\n→ Disclaimer \\nThis video contains amazon affiliate links, as an amazon affiliate I earn from qualified purchases', 'thumbnails': {'default': {'url': 'https://i.ytimg.com/vi/YuFMb3v5E_k/default.jpg', 'width': 120, 'height': 90}, 'medium': {'url': 'https://i.ytimg.com/vi/YuFMb3v5E_k/mqdefault.jpg', 'width': 320, 'height': 180}, 'high': {'url': 'https://i.ytimg.com/vi/YuFMb3v5E_k/hqdefault.jpg', 'width': 480, 'height': 360}, 'standard': {'url': 'https://i.ytimg.com/vi/YuFMb3v5E_k/sddefault.jpg', 'width': 640, 'height': 480}, 'maxres': {'url': 'https://i.ytimg.com/vi/YuFMb3v5E_k/maxresdefault.jpg', 'width': 1280, 'height': 720}}, 'channelTitle': 'The Product Lab', 'tags': ['The Product Lab', 'Product Lab', 'Fitbit Sense 2 Review', 'Fitbit Sense 2', 'Sense 2 Review', 'Sense 2'], 'categoryId': '28', 'liveBroadcastContent': 'none', 'localized': {'title': 'Fitbit Sense 2 Review｜Watch Before You Buy', 'description': '►Fitbit Sense 2\\n✓US Prices - https://amzn.to/3yOfqyG\\n✓UK Prices - https://amzn.to/3S2Par6\\n✓CA Prices - https://amzn.to/3VshyFU\\n\\nThe Fitbit Sense 2 is a high-end fitness tracker that comes with several upgraded features, including top-tier stress management and sleep readings that might help provide a deeper insight into your overall well-being. \\n\\nIn this video, we’re going to be taking a closer look at the Fitbit Sense 2. We’ll be going over key features, who this product is for, how it compares to the competition, and most importantly, is it right for you?\\n\\nWe’ll break down all the aspects of the Fitbit Sense 2, what you can expect to get in return for your money, and help you to decide if the Fitbit Sense 2 is the right option for you.\\n\\n\\n=============================================\\n►SUBSCRIBE FOR MORE - https://goo.gl/TWDSSi\\n\\n\\n\\n→ Disclaimer \\nThis video contains amazon affiliate links, as an amazon affiliate I earn from qualified purchases'}, 'defaultAudioLanguage': 'en'}, 'statistics': {'viewCount': '103744', 'likeCount': '774', 'favoriteCount': '0', 'commentCount': '67'}}], 'pageInfo': {'totalResults': 1, 'resultsPerPage': 1}}\n",
            "Video 17 - Fitbit Sense 2 Review｜Watch Before You Buy -- Comment count:  67\n",
            "\n",
            "{'kind': 'youtube#videoListResponse', 'etag': '7P-18cJlZokQnUrWlYXnu6kM8TQ', 'items': [{'kind': 'youtube#video', 'etag': 'o-IQ6SQHvs1dLcrCj5Glx4ogIXg', 'id': 'JI5AEAC6MvY', 'snippet': {'publishedAt': '2020-10-13T11:00:02Z', 'channelId': 'UCuE7CpJf1QzawOH1PEWGGZg', 'title': 'Fitbit Sense Review (19 New Things to Know)', 'description': \"In this Fitbit Sense review, I share 19 new things to know about Fitbit's most advanced health smartwatch.\\nWhere to buy = https://wearablewhisperer.com/buy/fitbit-sense\\n\\n👉 Fitbit Sense Unboxing = https://youtu.be/O0E0vVt0Lu8\\n👉 Fitbit Sense Setup = https://youtu.be/m6i-53FCYaw\\n\\n0:00 = Intro\\n0:06 = New Band\\n0:36 = Haptic Button\\n0:56 = Updated User Interface\\n2:20 = Updated Heart Rate Sensor\\n2:41 = ECG App\\n3:10 = High and Low Heart Rate Notifications\\n3:30 = EDA Sensor\\n4:20 = Mindfulness Features\\n4:50 = Stress Management Score\\n5:28 = Skin Temperature\\n6:00 = New Blood Oxygen Measurement\\n6:54 = Voice Assistants\\n7:11 = Built-in Speaker\\n7:30 = Take Calls from Your Wrist\\n7:46 = Limited Music Storage Options\\n8:04 = Built-in GPS\\n8:21 = Always-on Display\\n8:37 = Longer Battery Life\\n9:01 = Quick Charging\\n9:25 = Outro\\n\\n#WearableWhisperer #FitbitSense #Fitbit\", 'thumbnails': {'default': {'url': 'https://i.ytimg.com/vi/JI5AEAC6MvY/default.jpg', 'width': 120, 'height': 90}, 'medium': {'url': 'https://i.ytimg.com/vi/JI5AEAC6MvY/mqdefault.jpg', 'width': 320, 'height': 180}, 'high': {'url': 'https://i.ytimg.com/vi/JI5AEAC6MvY/hqdefault.jpg', 'width': 480, 'height': 360}, 'standard': {'url': 'https://i.ytimg.com/vi/JI5AEAC6MvY/sddefault.jpg', 'width': 640, 'height': 480}, 'maxres': {'url': 'https://i.ytimg.com/vi/JI5AEAC6MvY/maxresdefault.jpg', 'width': 1280, 'height': 720}}, 'channelTitle': 'Wearable Whisperer', 'tags': ['fitbit sense review', 'fitbit sense hands on', 'fitbit sense', 'fitbit', 'wearable whisperer'], 'categoryId': '28', 'liveBroadcastContent': 'none', 'localized': {'title': 'Fitbit Sense Review (19 New Things to Know)', 'description': \"In this Fitbit Sense review, I share 19 new things to know about Fitbit's most advanced health smartwatch.\\nWhere to buy = https://wearablewhisperer.com/buy/fitbit-sense\\n\\n👉 Fitbit Sense Unboxing = https://youtu.be/O0E0vVt0Lu8\\n👉 Fitbit Sense Setup = https://youtu.be/m6i-53FCYaw\\n\\n0:00 = Intro\\n0:06 = New Band\\n0:36 = Haptic Button\\n0:56 = Updated User Interface\\n2:20 = Updated Heart Rate Sensor\\n2:41 = ECG App\\n3:10 = High and Low Heart Rate Notifications\\n3:30 = EDA Sensor\\n4:20 = Mindfulness Features\\n4:50 = Stress Management Score\\n5:28 = Skin Temperature\\n6:00 = New Blood Oxygen Measurement\\n6:54 = Voice Assistants\\n7:11 = Built-in Speaker\\n7:30 = Take Calls from Your Wrist\\n7:46 = Limited Music Storage Options\\n8:04 = Built-in GPS\\n8:21 = Always-on Display\\n8:37 = Longer Battery Life\\n9:01 = Quick Charging\\n9:25 = Outro\\n\\n#WearableWhisperer #FitbitSense #Fitbit\"}, 'defaultAudioLanguage': 'en-US'}, 'statistics': {'viewCount': '370439', 'likeCount': '7842', 'favoriteCount': '0', 'commentCount': '260'}}], 'pageInfo': {'totalResults': 1, 'resultsPerPage': 1}}\n",
            "Video 18 - Fitbit Sense Review (19 New Things to Know) -- Comment count:  260\n",
            "\n",
            "{'kind': 'youtube#videoListResponse', 'etag': 'G8pm9M9mG_Ji6IfLOML-Mc7G3uU', 'items': [{'kind': 'youtube#video', 'etag': 'R_NshcQphZHh2CwLfwnYSLbnA9Q', 'id': '8TTCvQhlnbI', 'snippet': {'publishedAt': '2022-08-24T01:30:33Z', 'channelId': 'UCY3_f-t8VBYh9rq8iHS-kdg', 'title': 'Fitbit Sense Review - Worth It In 2022?', 'description': \"Hi everyone!\\n\\nThis is a review of the Fitbit Sense Smartwatch in Lunar White & Soft Gold. Is the Fitbit Sense good in 2022? I’ll answer that question today. \\n\\nPlease ⓈⓊⒷⓈⒸⓇⒾⒷⒺ if you liked this video just click here :) ➡ https://www.youtube.com/c/AbbyBReviewing?sub_confirmation=1\\nYou'll really help my channel grow & support me in making new videos for you!\\n\\nLooking for on Fitbits? Check out these videos:\\n🔥Fitbit Versa 3 Review:\\nhttps://youtu.be/61F1xVsuZ4Q\\n🔥Fitbit Sense Unboxing:\\nhttps://youtu.be/NQr4J8f-3oc\\n\\nKey Points ⏰: \\n0:00 Intro\\n00:28 Colour\\n00:32 Fitbit Sense Price\\n01:19 How To Change Band On Fitbit Sense\\n01:26 Spec Highlights\\n02:36 Display  \\n03:17 GPS\\n03:40 Accuracy\\n04:08 Fitbit Sense Battery Life\\n04:54 Notifications\\n05:20 Women’s Health\\n06:03 How To Use Fitbit Sense\\n08:06 Sleep Tracking Fitbit\\n08:44 ECG Demo\\n09:26 Call Demo\\n10:28 Cons\\n11:34 Rating\\n12:00 Fitbit Sense Worth It In 2022?\\n12:33 Outro\\n\\nGet it here👇:\\n►Fitbit Sense (USA):\\nhttps://www.amazon.com/dp/B08DFLG5SP?_encoding=UTF8&psc=1&linkCode=ll1&tag=abbybrev-20&linkId=ee5cdca97e17546b3d33848aeee0d048&language=en_US&ref_=as_li_ss_tl\\n►Fitbit Sense (CANADA):\\nhttps://www.amazon.ca/dp/B08FS8JTBC/ref=twister_B08GVQNWHG?_encoding=UTF8&psc=1\\n►Fitbit Sense Screen Protector Case (USA):\\nhttps://www.amazon.com/CAVN-Protector-Compatible-Protective-Smartwatch/dp/B08GFJ3L61?crid=3L5UPGKRY7P4N&keywords=fitbit%2Bsense%2Bcase&qid=1660668945&sprefix=fitbit%2Bsense%2Bcase%2Caps%2C105&sr=8-10&th=1&linkCode=ll1&tag=abbybrev-20&linkId=bea15967c36b69f5004fbf49c58a67b8&language=en_US&ref_=as_li_ss_tl\\n►Fitbit Sense Screen Protector Case (CANADA):\\nhttps://www.amazon.ca/CAVN-Protector-Compatible-Protective-Accessories/dp/B08GHLK3Z2/ref=sr_1_7?keywords=fitbit%2Bsense%2Bcase&qid=1660663655&sr=8-7&th=1\\n\\nPlease hit that 👍 button if you found this video helpful :)\\n\\nFor business enquiries only: abbybreviewing@gmail.com\\n\\nFollow me on:\\n⚬ Instagram: https://www.instagram.com/abbybreviewing/\\n⚬ Tiktok: https://www.tiktok.com/@abbybreviewing\\n⚬ Reddit: https://www.reddit.com/user/AbbyBReviewing/\\n⚬ Twitter: https://www.twitter.com/abbybreviewing\\n\\nMusic ♬ from Filmstock music library\\n\\n#AbbyBReviewing #ABRtechtuesday #fitbitsense #fitbit #sense #smartwatch #tech #fitbitwatch #gpswatch #technology #unboxing #ecg #fitbitsensereview #fitbitreview #ekg\\n\\nThis description contains some affiliate links, which means I may get a small commission if you choose to buy items through them at no extra cost to you. Thank you so much for your support I appreciate each and every one of you ♡\", 'thumbnails': {'default': {'url': 'https://i.ytimg.com/vi/8TTCvQhlnbI/default.jpg', 'width': 120, 'height': 90}, 'medium': {'url': 'https://i.ytimg.com/vi/8TTCvQhlnbI/mqdefault.jpg', 'width': 320, 'height': 180}, 'high': {'url': 'https://i.ytimg.com/vi/8TTCvQhlnbI/hqdefault.jpg', 'width': 480, 'height': 360}, 'standard': {'url': 'https://i.ytimg.com/vi/8TTCvQhlnbI/sddefault.jpg', 'width': 640, 'height': 480}, 'maxres': {'url': 'https://i.ytimg.com/vi/8TTCvQhlnbI/maxresdefault.jpg', 'width': 1280, 'height': 720}}, 'channelTitle': 'AbbyBReviewing', 'tags': ['fitbit', 'ionic', 'versa', 'smart', 'watch', 'smartwatch', 'sense', 'tracker', 'fitness', 'workout', 'walk', 'calories', 'heart rate watch', 'monitor', 'health', 'step', 'counter', 'GPS', 'pedometer', 'floors', 'bike', 'elliptical', 'stopwatch', 'notification', 'alarm', 'ios', 'android', 'bluetooth', 'wifi', 'iphone', 'samsung', 'smartphone', 'sleep', 'active', 'battery', 'quick', 'unbox', 'unboxing', 'tech', 'technology', 'setup', 'how', 'easy', 'fitbit sense', 'amoled', 'amazon', 'alexa', 'screen', 'new', 'stress', 'abbybreviewing', 'fitbit sense review', 'fitbit sense lunar white', 'fitbit sense gold', 'fitbit 2022', 'best smartwatch 2022'], 'categoryId': '22', 'liveBroadcastContent': 'none', 'defaultLanguage': 'en', 'localized': {'title': 'Fitbit Sense Review - Worth It In 2022?', 'description': \"Hi everyone!\\n\\nThis is a review of the Fitbit Sense Smartwatch in Lunar White & Soft Gold. Is the Fitbit Sense good in 2022? I’ll answer that question today. \\n\\nPlease ⓈⓊⒷⓈⒸⓇⒾⒷⒺ if you liked this video just click here :) ➡ https://www.youtube.com/c/AbbyBReviewing?sub_confirmation=1\\nYou'll really help my channel grow & support me in making new videos for you!\\n\\nLooking for on Fitbits? Check out these videos:\\n🔥Fitbit Versa 3 Review:\\nhttps://youtu.be/61F1xVsuZ4Q\\n🔥Fitbit Sense Unboxing:\\nhttps://youtu.be/NQr4J8f-3oc\\n\\nKey Points ⏰: \\n0:00 Intro\\n00:28 Colour\\n00:32 Fitbit Sense Price\\n01:19 How To Change Band On Fitbit Sense\\n01:26 Spec Highlights\\n02:36 Display  \\n03:17 GPS\\n03:40 Accuracy\\n04:08 Fitbit Sense Battery Life\\n04:54 Notifications\\n05:20 Women’s Health\\n06:03 How To Use Fitbit Sense\\n08:06 Sleep Tracking Fitbit\\n08:44 ECG Demo\\n09:26 Call Demo\\n10:28 Cons\\n11:34 Rating\\n12:00 Fitbit Sense Worth It In 2022?\\n12:33 Outro\\n\\nGet it here👇:\\n►Fitbit Sense (USA):\\nhttps://www.amazon.com/dp/B08DFLG5SP?_encoding=UTF8&psc=1&linkCode=ll1&tag=abbybrev-20&linkId=ee5cdca97e17546b3d33848aeee0d048&language=en_US&ref_=as_li_ss_tl\\n►Fitbit Sense (CANADA):\\nhttps://www.amazon.ca/dp/B08FS8JTBC/ref=twister_B08GVQNWHG?_encoding=UTF8&psc=1\\n►Fitbit Sense Screen Protector Case (USA):\\nhttps://www.amazon.com/CAVN-Protector-Compatible-Protective-Smartwatch/dp/B08GFJ3L61?crid=3L5UPGKRY7P4N&keywords=fitbit%2Bsense%2Bcase&qid=1660668945&sprefix=fitbit%2Bsense%2Bcase%2Caps%2C105&sr=8-10&th=1&linkCode=ll1&tag=abbybrev-20&linkId=bea15967c36b69f5004fbf49c58a67b8&language=en_US&ref_=as_li_ss_tl\\n►Fitbit Sense Screen Protector Case (CANADA):\\nhttps://www.amazon.ca/CAVN-Protector-Compatible-Protective-Accessories/dp/B08GHLK3Z2/ref=sr_1_7?keywords=fitbit%2Bsense%2Bcase&qid=1660663655&sr=8-7&th=1\\n\\nPlease hit that 👍 button if you found this video helpful :)\\n\\nFor business enquiries only: abbybreviewing@gmail.com\\n\\nFollow me on:\\n⚬ Instagram: https://www.instagram.com/abbybreviewing/\\n⚬ Tiktok: https://www.tiktok.com/@abbybreviewing\\n⚬ Reddit: https://www.reddit.com/user/AbbyBReviewing/\\n⚬ Twitter: https://www.twitter.com/abbybreviewing\\n\\nMusic ♬ from Filmstock music library\\n\\n#AbbyBReviewing #ABRtechtuesday #fitbitsense #fitbit #sense #smartwatch #tech #fitbitwatch #gpswatch #technology #unboxing #ecg #fitbitsensereview #fitbitreview #ekg\\n\\nThis description contains some affiliate links, which means I may get a small commission if you choose to buy items through them at no extra cost to you. Thank you so much for your support I appreciate each and every one of you ♡\"}, 'defaultAudioLanguage': 'en'}, 'statistics': {'viewCount': '8682', 'likeCount': '112', 'favoriteCount': '0', 'commentCount': '24'}}], 'pageInfo': {'totalResults': 1, 'resultsPerPage': 1}}\n",
            "Video 19 - Fitbit Sense Review - Worth It In 2022? -- Comment count:  24\n",
            "\n",
            "{'kind': 'youtube#videoListResponse', 'etag': 'u2bs0wyONYjvmcWdcnhBRNXGcMw', 'items': [{'kind': 'youtube#video', 'etag': 'pX--vFYdv72PPJBkYOTpGtxl_a4', 'id': 'bkVkBX1iTo0', 'snippet': {'publishedAt': '2022-10-05T15:40:25Z', 'channelId': 'UCaru2H0i_pF3ubqAQYzNe6g', 'title': 'Fitbit Sense 2 review: what happened', 'description': 'Fitbit has released their new Sense 2 smartwatch which is essentially the same as the original Fitbit Sense watch, but with some improvements. However, it seems like Fitbit (read Google) messed up this time around which makes it hard to recommend this watch. Instead I recommend buying a Fitbit Sense watch. But of course many issues that I talk about in the video are software related that can be fixed by Fitbit in the future. \\n\\n⚙️ Gear up ⚙️\\n--------------------------------------------\\n🛍️ Fitbit Sense: https://amzn.to/3Czx4Z9\\n🛍️ Fitbit Sense 2: https://amzn.to/3e6jsvb\\n🛍️ My everyday watch: https://amzn.to/3SZkMPm\\n🛍️ My favorite ANC headphones of 2023: https://amzn.to/38KKx4h\\n🛍️ Best tablet of 2023: https://amzn.to/3zEC789\\n🛍️ My microphone (it\\'s never let me down!): https://amzn.to/3Qrtg06\\n\\n𝕏 Follow me on X: https://twitter.com/RyansTechMedia\\n\\nIf you liked this video, please consider hitting the Thanks button under the video to show your support. You will be featured in the comment section!\\n\\nYou wanna watch these videos next 👇\\n--------------------------------------------\\nApple Watch Ultra vs GARMIN:\\nhttps://youtu.be/vVrmyjZ7Bdc\\n\\nSennheiser Momentum 4 Real Review - charge & use at the same time!:\\nhttps://youtu.be/imae7glaqjg\\n\\nGalaxy Watch 5 review after two weeks:\\nhttps://youtu.be/F_dqHFD0658\\n\\nGalaxy Buds2 Pro vs Galaxy Buds Pro review:\\nhttps://youtu.be/wXIVPAFLubg\\n\\nGalaxy Fold 4 in-depth review:\\nhttps://youtu.be/X0_ufj4XbaQ\\n\\nSamsung Galaxy Watch 5 unboxing & first impressions:\\nhttps://youtu.be/OngaraQ7WGU\\n\\nSamsung Galaxy Buds2 Pro unboxing & full review:\\nhttps://youtu.be/8W6s6b3zbBc\\n\\n6 reasons to buy Galaxy Tab S8 Ultra:\\nhttps://youtu.be/aoBjPhlxpEk\\n\\nI tried Xbox Cloud Gaming on M2 MacBook Air and...:\\nhttps://youtu.be/nAEu86D7YIM\\n\\nMy M2 MacBook Air review:\\nhttps://youtu.be/epX7wE5Iovo\\n\\nGarmin Venu 2 Plus 6 months later // Everything I\\'ve learned:\\nhttps://youtu.be/P2a4AtfzuKs\\n\\nThese POWERFUL Android features changed my life!:\\nhttps://youtu.be/V041-G7eciU\\n\\nSony Xperia 1 IV unboxing & full review (Ice white):\\nhttps://youtu.be/_ig2Dupm9UQ\\n\\niPad Pro 14.1\": when big is not big enough:\\nhttps://youtu.be/YXId0cvKKgc\\n\\nCan tablets replace laptops? Here\\'s what I found (Samsung Galaxy Tab S8 Ultra):\\nhttps://youtu.be/0d9JyTt3EEU\\n\\nExclusive - Galaxy S22 Ultra Graphite Unboxing:\\nhttps://youtu.be/uQ75RS2yPCk\\n--------------------------------------------\\nSubscribe so I can make more of these videos: https://www.youtube.com/c/RyansTechMedia?view_as=subscriber?sub_confirmation=1\\n\\n#fitbit #fitbitsense2 #smartwatch #ryanstech', 'thumbnails': {'default': {'url': 'https://i.ytimg.com/vi/bkVkBX1iTo0/default.jpg', 'width': 120, 'height': 90}, 'medium': {'url': 'https://i.ytimg.com/vi/bkVkBX1iTo0/mqdefault.jpg', 'width': 320, 'height': 180}, 'high': {'url': 'https://i.ytimg.com/vi/bkVkBX1iTo0/hqdefault.jpg', 'width': 480, 'height': 360}, 'standard': {'url': 'https://i.ytimg.com/vi/bkVkBX1iTo0/sddefault.jpg', 'width': 640, 'height': 480}, 'maxres': {'url': 'https://i.ytimg.com/vi/bkVkBX1iTo0/maxresdefault.jpg', 'width': 1280, 'height': 720}}, 'channelTitle': \"Ryan's Tech\", 'tags': [\"ryan's tech\", 'ryans tech', 'fitbit sense 2 review', 'fitbit sense 2022', 'fitbit sense 2 vs sense', 'google fitbit sense', 'google pixel watch', 'fitbit sense 2 features', 'fitbit sense 2 apps', 'does fitbit sense work with iphone', 'fitbit sense 2 phone calls', 'best smartwatch 2022', 'activity tracking watch', 'smartwatch with skin temperature', 'apple watch se alternative', 'best sleep tracking watch', 'best sleep tracker 2022', 'smartwatch with period tracker', 'smartwatch with menstrual cycle tracking'], 'categoryId': '28', 'liveBroadcastContent': 'none', 'defaultLanguage': 'en-US', 'localized': {'title': 'Fitbit Sense 2 review: what happened', 'description': 'Fitbit has released their new Sense 2 smartwatch which is essentially the same as the original Fitbit Sense watch, but with some improvements. However, it seems like Fitbit (read Google) messed up this time around which makes it hard to recommend this watch. Instead I recommend buying a Fitbit Sense watch. But of course many issues that I talk about in the video are software related that can be fixed by Fitbit in the future. \\n\\n⚙️ Gear up ⚙️\\n--------------------------------------------\\n🛍️ Fitbit Sense: https://amzn.to/3Czx4Z9\\n🛍️ Fitbit Sense 2: https://amzn.to/3e6jsvb\\n🛍️ My everyday watch: https://amzn.to/3SZkMPm\\n🛍️ My favorite ANC headphones of 2023: https://amzn.to/38KKx4h\\n🛍️ Best tablet of 2023: https://amzn.to/3zEC789\\n🛍️ My microphone (it\\'s never let me down!): https://amzn.to/3Qrtg06\\n\\n𝕏 Follow me on X: https://twitter.com/RyansTechMedia\\n\\nIf you liked this video, please consider hitting the Thanks button under the video to show your support. You will be featured in the comment section!\\n\\nYou wanna watch these videos next 👇\\n--------------------------------------------\\nApple Watch Ultra vs GARMIN:\\nhttps://youtu.be/vVrmyjZ7Bdc\\n\\nSennheiser Momentum 4 Real Review - charge & use at the same time!:\\nhttps://youtu.be/imae7glaqjg\\n\\nGalaxy Watch 5 review after two weeks:\\nhttps://youtu.be/F_dqHFD0658\\n\\nGalaxy Buds2 Pro vs Galaxy Buds Pro review:\\nhttps://youtu.be/wXIVPAFLubg\\n\\nGalaxy Fold 4 in-depth review:\\nhttps://youtu.be/X0_ufj4XbaQ\\n\\nSamsung Galaxy Watch 5 unboxing & first impressions:\\nhttps://youtu.be/OngaraQ7WGU\\n\\nSamsung Galaxy Buds2 Pro unboxing & full review:\\nhttps://youtu.be/8W6s6b3zbBc\\n\\n6 reasons to buy Galaxy Tab S8 Ultra:\\nhttps://youtu.be/aoBjPhlxpEk\\n\\nI tried Xbox Cloud Gaming on M2 MacBook Air and...:\\nhttps://youtu.be/nAEu86D7YIM\\n\\nMy M2 MacBook Air review:\\nhttps://youtu.be/epX7wE5Iovo\\n\\nGarmin Venu 2 Plus 6 months later // Everything I\\'ve learned:\\nhttps://youtu.be/P2a4AtfzuKs\\n\\nThese POWERFUL Android features changed my life!:\\nhttps://youtu.be/V041-G7eciU\\n\\nSony Xperia 1 IV unboxing & full review (Ice white):\\nhttps://youtu.be/_ig2Dupm9UQ\\n\\niPad Pro 14.1\": when big is not big enough:\\nhttps://youtu.be/YXId0cvKKgc\\n\\nCan tablets replace laptops? Here\\'s what I found (Samsung Galaxy Tab S8 Ultra):\\nhttps://youtu.be/0d9JyTt3EEU\\n\\nExclusive - Galaxy S22 Ultra Graphite Unboxing:\\nhttps://youtu.be/uQ75RS2yPCk\\n--------------------------------------------\\nSubscribe so I can make more of these videos: https://www.youtube.com/c/RyansTechMedia?view_as=subscriber?sub_confirmation=1\\n\\n#fitbit #fitbitsense2 #smartwatch #ryanstech'}, 'defaultAudioLanguage': 'en-US'}, 'statistics': {'viewCount': '94872', 'likeCount': '1178', 'favoriteCount': '0', 'commentCount': '174'}}], 'pageInfo': {'totalResults': 1, 'resultsPerPage': 1}}\n",
            "Video 20 - Fitbit Sense 2 review: what happened -- Comment count:  174\n",
            "\n",
            "{'kind': 'youtube#videoListResponse', 'etag': 'K4j0qV3K3e_RlH0KXS9q3dRwpBU', 'items': [{'kind': 'youtube#video', 'etag': '1oJqs-8qjcmwTc_BAMRlHMG31GE', 'id': 'cR6J2VIiYrE', 'snippet': {'publishedAt': '2019-04-30T11:01:33Z', 'channelId': 'UC6y_DbpezOinlzHv8O092zw', 'title': 'Garmin Forerunner 945 Review: 13 Things To Know // Hands-on Details!', 'description': \"Full in-depth review: https://dcra.in/FR945\\nhttps://amzn.to/2OxVkSd (link helps support channel, thanks!)\\n\\nHere's everything you need to know about the new Garmin Forerunner 945, complete with music, Garmin Pay, Pulse Ox, maps, and plenty more. I dive into the nuances of the new training load focus/status screens, as well as 13 features in total. Plus there's a hands-on user interface walk-through towards the end. Dig into the in-depth review above for GPS and HR accuracy analysis, including a look at how the new Sony GPS and Elevate V3 sensors are performing.\\n\\n---\\n\\nThe Site    ► http://www.dcrainmaker.com\\nMain Camera    ►  http://amzn.to/2vGjVcT\\nThe Drone   ► https://amzn.to/2LrPEoc\\nThe Gimbal   ► http://amzn.to/2vG9wh3\\nAction Cam   ► https://amzn.to/2xBF9Km\\nAll Camera Gear ► http://dcra.in/DCRCamera\\nInstagram   ► https://instagram.com/dcrainmaker\\nFacebook    ► https://facebook.com/dcrainmaker\\nTwitter     ► https://twitter.com/dcrainmakerblog\\nMy Strava      ► https://www.strava.com/athletes/dcrainmaker\\nMost Music  ► https://player.epidemicsound.com/#/\\n\\n#FR945 #Forerunner945 #945\", 'thumbnails': {'default': {'url': 'https://i.ytimg.com/vi/cR6J2VIiYrE/default.jpg', 'width': 120, 'height': 90}, 'medium': {'url': 'https://i.ytimg.com/vi/cR6J2VIiYrE/mqdefault.jpg', 'width': 320, 'height': 180}, 'high': {'url': 'https://i.ytimg.com/vi/cR6J2VIiYrE/hqdefault.jpg', 'width': 480, 'height': 360}, 'standard': {'url': 'https://i.ytimg.com/vi/cR6J2VIiYrE/sddefault.jpg', 'width': 640, 'height': 480}, 'maxres': {'url': 'https://i.ytimg.com/vi/cR6J2VIiYrE/maxresdefault.jpg', 'width': 1280, 'height': 720}}, 'channelTitle': 'DC Rainmaker', 'tags': ['Garmin FR945', 'Garmin Forerunner 945', 'Garmin 945', 'Garmin FR945 vs FR935', 'Garmin Triathlon Review', 'Best Garmin Triathlon Watch 2019', 'Best Garmin watch 2019', 'dcrainmaker', 'rainmaker', 'ray maker', 'dc rainmaker', 'Garmin triathlon watch', 'FR945', 'Forerunner 945', 'Garmin Forerunner 945 Review', 'Garmin FR945 Review', 'FR945 Review', 'garmin forerunner 945', 'garmin 945', 'forerunner 945'], 'categoryId': '17', 'liveBroadcastContent': 'none', 'localized': {'title': 'Garmin Forerunner 945 Review: 13 Things To Know // Hands-on Details!', 'description': \"Full in-depth review: https://dcra.in/FR945\\nhttps://amzn.to/2OxVkSd (link helps support channel, thanks!)\\n\\nHere's everything you need to know about the new Garmin Forerunner 945, complete with music, Garmin Pay, Pulse Ox, maps, and plenty more. I dive into the nuances of the new training load focus/status screens, as well as 13 features in total. Plus there's a hands-on user interface walk-through towards the end. Dig into the in-depth review above for GPS and HR accuracy analysis, including a look at how the new Sony GPS and Elevate V3 sensors are performing.\\n\\n---\\n\\nThe Site    ► http://www.dcrainmaker.com\\nMain Camera    ►  http://amzn.to/2vGjVcT\\nThe Drone   ► https://amzn.to/2LrPEoc\\nThe Gimbal   ► http://amzn.to/2vG9wh3\\nAction Cam   ► https://amzn.to/2xBF9Km\\nAll Camera Gear ► http://dcra.in/DCRCamera\\nInstagram   ► https://instagram.com/dcrainmaker\\nFacebook    ► https://facebook.com/dcrainmaker\\nTwitter     ► https://twitter.com/dcrainmakerblog\\nMy Strava      ► https://www.strava.com/athletes/dcrainmaker\\nMost Music  ► https://player.epidemicsound.com/#/\\n\\n#FR945 #Forerunner945 #945\"}, 'defaultAudioLanguage': 'en'}, 'statistics': {'viewCount': '578903', 'likeCount': '13697', 'favoriteCount': '0', 'commentCount': '395'}}], 'pageInfo': {'totalResults': 1, 'resultsPerPage': 1}}\n",
            "Video 21 - Garmin Forerunner 945 Review: 13 Things To Know // Hands-on Details! -- Comment count:  395\n",
            "\n",
            "{'kind': 'youtube#videoListResponse', 'etag': 'JNW2LFTIwWvqxDqh7iK6z8U94E0', 'items': [{'kind': 'youtube#video', 'etag': 'EuemNoK7uw_nIC_cGpb6brFuveI', 'id': 'lyLY_gvkAaI', 'snippet': {'publishedAt': '2019-10-03T23:15:00Z', 'channelId': 'UC9Kc2_2gZW0YoFOKClYVOlw', 'title': 'Garmin ForeRunner 945 Review After 100 Days', 'description': \"Best Price I've Found - http://bit.ly/BF_Garmin945\\n\\nI've had this Garmin Forerunner 945 for over 100 days and I figured it would be nice to circle back and talk about how the watch is holding up after having spent some quality time with this triathlon smart watch. \\n\\nSWIM • BIKE • RUN • RINSE • REPEAT - New t-shirts and gear,  check it out: \\nhttps://teespring.com/stores/swim-bike-run-rinse-repeat\\n\\nBest place to buy: https://dialedcyclinglab.com/store/components-and-accessories/garmin/\\nCoupon Code:  matt_legrand\\n\\nGarmin Pay Participating Banks : https://www.garmin.com/en-US/garminpay/banks/\\n\\nThe gear that I use : https://kit.co/mlegrand\\n\\nI'm all up on that internets:\\nStrava:  https://www.strava.com/athletes/1098605\\nInstagram: https://www.instagram.com/matt_legrand/\\nTwitter: https://twitter.com/matt_legrand\\nFacebook: https://www.facebook.com/mlegrand\\nWebsite: http://mattlegrand.com/\\n\\nMusic for this video was from Epidemic Sound : http://bit.ly/epidemicsoundRef\\n\\nDISCLAIMER:\\nSome of these links have an affiliate codes, if you purchase gear with these links I will receive a small commission at no additional cost to you. Thank you for supporting my channel and allowing me to continue to make triathlon content!\\n\\nNotes: \\nThe 47mm watch has a 1.2 inch display and weights 50g.  The claimed battery life is 2 weeks as a watch and 36 hours GPS, 10 hours if using GPS and music. This watch has bluetooth, ant + and wifi.  You can store about 1000 songs and it’s compatible with Android and iPhone smart phones.  \\n\\nFogging Glass   -  Gorila Glass DX \\nMaps\\nGarmin Pay\\nGarmin Music\\n\\nTags:\\n\\nMatt LeGrand, triathlon, triathlete, ironman, triathlon tips and tricks, triathlon tips, tri, garmin forerunner 945, garmin review, garmin 945, best garmin gps 2019, garmin triathlon watch, garmin tri, garmin triathlon 945, triathlon watch, best triathlon watch, best tri watch, best tri watch 2019, best triathlon watch 2019, Garmin Pay, Garmin Music\", 'thumbnails': {'default': {'url': 'https://i.ytimg.com/vi/lyLY_gvkAaI/default.jpg', 'width': 120, 'height': 90}, 'medium': {'url': 'https://i.ytimg.com/vi/lyLY_gvkAaI/mqdefault.jpg', 'width': 320, 'height': 180}, 'high': {'url': 'https://i.ytimg.com/vi/lyLY_gvkAaI/hqdefault.jpg', 'width': 480, 'height': 360}, 'standard': {'url': 'https://i.ytimg.com/vi/lyLY_gvkAaI/sddefault.jpg', 'width': 640, 'height': 480}, 'maxres': {'url': 'https://i.ytimg.com/vi/lyLY_gvkAaI/maxresdefault.jpg', 'width': 1280, 'height': 720}}, 'channelTitle': 'Matt LeGrand', 'tags': ['Matt LeGrand', 'triathlon', 'triathlete', 'ironman', 'triathlon tips and tricks', 'triathlon tips', 'tri', 'garmin forerunner 945', 'garmin review', 'garmin 945', 'best garmin gps 2019', 'garmin triathlon watch', 'garmin tri', 'garmin triathlon 945', 'triathlon watch', 'best triathlon watch', 'best tri watch', 'best tri watch 2019', 'best triathlon watch 2019', 'Gorila Glass DX', 'Garmin Pay', 'Garmin Music'], 'categoryId': '17', 'liveBroadcastContent': 'none', 'localized': {'title': 'Garmin ForeRunner 945 Review After 100 Days', 'description': \"Best Price I've Found - http://bit.ly/BF_Garmin945\\n\\nI've had this Garmin Forerunner 945 for over 100 days and I figured it would be nice to circle back and talk about how the watch is holding up after having spent some quality time with this triathlon smart watch. \\n\\nSWIM • BIKE • RUN • RINSE • REPEAT - New t-shirts and gear,  check it out: \\nhttps://teespring.com/stores/swim-bike-run-rinse-repeat\\n\\nBest place to buy: https://dialedcyclinglab.com/store/components-and-accessories/garmin/\\nCoupon Code:  matt_legrand\\n\\nGarmin Pay Participating Banks : https://www.garmin.com/en-US/garminpay/banks/\\n\\nThe gear that I use : https://kit.co/mlegrand\\n\\nI'm all up on that internets:\\nStrava:  https://www.strava.com/athletes/1098605\\nInstagram: https://www.instagram.com/matt_legrand/\\nTwitter: https://twitter.com/matt_legrand\\nFacebook: https://www.facebook.com/mlegrand\\nWebsite: http://mattlegrand.com/\\n\\nMusic for this video was from Epidemic Sound : http://bit.ly/epidemicsoundRef\\n\\nDISCLAIMER:\\nSome of these links have an affiliate codes, if you purchase gear with these links I will receive a small commission at no additional cost to you. Thank you for supporting my channel and allowing me to continue to make triathlon content!\\n\\nNotes: \\nThe 47mm watch has a 1.2 inch display and weights 50g.  The claimed battery life is 2 weeks as a watch and 36 hours GPS, 10 hours if using GPS and music. This watch has bluetooth, ant + and wifi.  You can store about 1000 songs and it’s compatible with Android and iPhone smart phones.  \\n\\nFogging Glass   -  Gorila Glass DX \\nMaps\\nGarmin Pay\\nGarmin Music\\n\\nTags:\\n\\nMatt LeGrand, triathlon, triathlete, ironman, triathlon tips and tricks, triathlon tips, tri, garmin forerunner 945, garmin review, garmin 945, best garmin gps 2019, garmin triathlon watch, garmin tri, garmin triathlon 945, triathlon watch, best triathlon watch, best tri watch, best tri watch 2019, best triathlon watch 2019, Garmin Pay, Garmin Music\"}, 'defaultAudioLanguage': 'en-US'}, 'statistics': {'viewCount': '159743', 'likeCount': '1577', 'favoriteCount': '0', 'commentCount': '229'}}], 'pageInfo': {'totalResults': 1, 'resultsPerPage': 1}}\n",
            "Video 22 - Garmin ForeRunner 945 Review After 100 Days -- Comment count:  229\n",
            "\n",
            "{'kind': 'youtube#videoListResponse', 'etag': 'ywgM5lDsLTIc-W1Unj2WHx4s8Fk', 'items': [{'kind': 'youtube#video', 'etag': 'ZI5yQm_CBSsQ5xg7WgtDBO4Avks', 'id': '5c9PPu3Qxxg', 'snippet': {'publishedAt': '2023-05-03T01:05:51Z', 'channelId': 'UCX7GxlJm9WoPTHh53TBllpA', 'title': \"Garmin Forerunner 945 Review: DON'T BUY Until You Watch THIS!\", 'description': \"Garmin Forerunner 945 Review: DON'T BUY Until You Watch THIS!\\n\\nCheck out Garmin Forerunner 945: https://www.amazon.com/Garmin-Forerunner-Premium-Triathlon-Smartwatch/dp/B07QTVMWVL/?tag=jstand-20\\n\\n►Amazon Affiliate Disclosure◄\\nFit Lab is a participant in the Amazon Services LLC Associates Program, an affiliate advertising program designed to provide a means for sites to earn advertising fees by advertising and linking to Amazon.com. As an Amazon Associate I earn from qualifying purchases.\\n\\nThis video also contains affiliate links. I earn through amazon associates from qualifying purchases.\", 'thumbnails': {'default': {'url': 'https://i.ytimg.com/vi/5c9PPu3Qxxg/default.jpg', 'width': 120, 'height': 90}, 'medium': {'url': 'https://i.ytimg.com/vi/5c9PPu3Qxxg/mqdefault.jpg', 'width': 320, 'height': 180}, 'high': {'url': 'https://i.ytimg.com/vi/5c9PPu3Qxxg/hqdefault.jpg', 'width': 480, 'height': 360}, 'standard': {'url': 'https://i.ytimg.com/vi/5c9PPu3Qxxg/sddefault.jpg', 'width': 640, 'height': 480}, 'maxres': {'url': 'https://i.ytimg.com/vi/5c9PPu3Qxxg/maxresdefault.jpg', 'width': 1280, 'height': 720}}, 'channelTitle': 'Fit Lab', 'tags': ['garmin forerunner 945', 'forerunner 945', 'garmin 945', 'garmin', 'garmin forerunner', 'garmin forerunner 945 review', 'forerunner', 'garmin forerunner 945 test', 'garmin forerunner 945 купить', 'garmin forerunner 945 отзывы', 'garmin 945 review', 'garmin forerunner 945 обзор на русском', 'garmin fr945', 'forerunner 945 test', 'forerunner 945 vs 935', 'forerunner 945 обзор', 'garmin forerunner 935', 'forerunner 945 купить', 'forerunner 945 review', 'garmin forerunner 945 sk', 'Garmin Forerunner 945 Review'], 'categoryId': '22', 'liveBroadcastContent': 'none', 'localized': {'title': \"Garmin Forerunner 945 Review: DON'T BUY Until You Watch THIS!\", 'description': \"Garmin Forerunner 945 Review: DON'T BUY Until You Watch THIS!\\n\\nCheck out Garmin Forerunner 945: https://www.amazon.com/Garmin-Forerunner-Premium-Triathlon-Smartwatch/dp/B07QTVMWVL/?tag=jstand-20\\n\\n►Amazon Affiliate Disclosure◄\\nFit Lab is a participant in the Amazon Services LLC Associates Program, an affiliate advertising program designed to provide a means for sites to earn advertising fees by advertising and linking to Amazon.com. As an Amazon Associate I earn from qualifying purchases.\\n\\nThis video also contains affiliate links. I earn through amazon associates from qualifying purchases.\"}}, 'statistics': {'viewCount': '4295', 'likeCount': '7', 'favoriteCount': '0', 'commentCount': '3'}}], 'pageInfo': {'totalResults': 1, 'resultsPerPage': 1}}\n",
            "Video 23 - Garmin Forerunner 945 Review: DON'T BUY Until You Watch THIS! -- Comment count:  3\n",
            "\n",
            "{'kind': 'youtube#videoListResponse', 'etag': 'HxrezJunnAC1qQdVtO5_Tf7-lhI', 'items': [{'kind': 'youtube#video', 'etag': 'aCFaVm3l6-gLF4hLxNikLj4ZOzI', 'id': 'OHACzomi66g', 'snippet': {'publishedAt': '2021-04-29T15:26:31Z', 'channelId': 'UC3SdeibuuvF-ganJesKyDVQ', 'title': 'Garmin Forerunner 945 Review and Unboxing - One Day First Impressions', 'description': 'Looking to get a new Garmin smartwatch? In this unboxing and review, I share my experience with the new Garmin Forerunner 945 after my first day of use. The Garmin Forerunner 945 features Spotify internal music storage, 14 days of battery life, detail-packed maps, and Garmin Coach with adaptive training plans. In this review, I also compare the Garmin Forerunner 945 with my Garmin Fenix 6.\\n\\nGet a Forerunner 945 (paid links):\\nGarmin Forerunner 945 on Amazon: https://geni.us/Forerunner945\\n\\nUseful Garmin Forerunner 945 Accessories 👇\\nExtra Charging Cables: https://geni.us/945Cable\\nCharging Port Protector: https://geni.us/945Port\\nScreen Protectors: https://geni.us/945screen\\nReplacement Watch Bands: https://geni.us/945Band\\n\\nWatch face shown in video - SC8: https://apps.garmin.com/en-US/apps/abc0fde3-23d3-4c8d-92ec-a2fd14aeab2f\\n\\nThough I have had limited experience with the Garmin Forerunner 945, check out my pros and cons below.\\n\\nPros of the Garmin Forerunner 945:\\n • Awesome design that looks sporty and high tech. Nice size that looks rugged and sleek.\\n • Bezel that is somewhat protective and looks great.\\n • Very easy to read screen that is colorful.\\n • The buttons are easy to use when navigating the menus.\\n • Many features that are geared towards outdoor activities such as hiking, biking, climbing, Kayaking, running, and even open water swimming.\\n • Easy to sync with your phone via the Garmin Connect app.\\n • Allows for text message responses (Android only).\\n • The ability to store 2000 songs on the watch. This means you can go for a run and not have to bring your watch to listen to music.\\n • Custom watch faces, apps, widgets, and data fields through the Garmin Connect IQ store.\\n • Waterproof .\\n • Easy to remove and replace watch bands that are 22mm.\\n • Garmin coach.\\n • PulseOx.\\n • PacePro.\\n • Lightweight at only 50 grams\\n\\nCons of the Garmin Forerunner 945:\\n • Display is smaller than watch face, so it looks a little weird.\\n\\n#GarminForerunner945 #Forerunner945 #Garmin\\n\\nDisclaimer: Some of the links in this description are affiliate links. As an Amazon Associate and a partner of other affiliate programs, this mean I earn a small commission from qualifying purchases through these links. This helps support the channel and allows us to continue to make videos like this. Thank you for the support!\\n\\n😀 HAPPY WITH THE VIDEO? 😀\\nSUBSCRIBE NOW! CLICK HERE - https://youtube.com/c/gauginggadgets?sub_confirmation=1\\nSEND ME A TIP! - https://www.paypal.me/GaugingGadgets\\nFOLLOW ME! \\n   BLOG: https://GaugingGadgets.com\\n   FACEBOOK - http://fb.me/GaugingGadgets\\n   TWITTER - http://twitter.com/GaugingGadgets\\n   REDDIT - https://www.reddit.com/r/GaugingGadgets/\\n   INSTAGRAM - https://instagram.com/GaugingGadgets/\\n   TWITCH - https://www.twitch.tv/GaugingGadgets\\nLearn How to Crochet: https://www.youtube.com/c/CrochetWithJulie\\n\\nHOW DO I DO IT? (Paid Links)\\nTubeBuddy YouTube Toolkit: https://www.tubebuddy.com/gauginggadgets/yt\\nStreamYard Live Streaming Tool: https://geni.us/streamyardyt\\nNerd or Die Twitch Templates: https://nerdordie.com/shop/ref/GaugingGadgets/\\nIvacy VPN: https://billing.ivacy.com/page/94360\\nMy YouTube Setup: https://gauginggadgets.com/youtube-setup/\\n  Lenovo Legion 5-15IMH05H: https://geni.us/Legion5\\n  Turtle Beach Elite Pro 2 + SuperAmp Pro: https://geni.us/TurtleBeachEP2\\n  700W Lighting Kit - https://geni.us/LightingKit\\n  Blue Yeti USB Microphone -  https://geni.us/USBMic\\n  Logitech C920 Webcam - https://geni.us/HDWebCam\\n  Cell Phone - Pixel 2 XL - https://geni.us/FilmingPhone\\n  Vanguard VS-82 Table Tripod - https://geni.us/VS-82', 'thumbnails': {'default': {'url': 'https://i.ytimg.com/vi/OHACzomi66g/default.jpg', 'width': 120, 'height': 90}, 'medium': {'url': 'https://i.ytimg.com/vi/OHACzomi66g/mqdefault.jpg', 'width': 320, 'height': 180}, 'high': {'url': 'https://i.ytimg.com/vi/OHACzomi66g/hqdefault.jpg', 'width': 480, 'height': 360}, 'standard': {'url': 'https://i.ytimg.com/vi/OHACzomi66g/sddefault.jpg', 'width': 640, 'height': 480}, 'maxres': {'url': 'https://i.ytimg.com/vi/OHACzomi66g/maxresdefault.jpg', 'width': 1280, 'height': 720}}, 'channelTitle': 'Gauging Gadgets', 'tags': ['Garmin Forerunner 945 Reviews', 'Garmin Forerunner 945 Review', 'garmin 945 unboxing', 'garmin 945 review', 'garmin forerunner 945', 'garmin 945', 'forerunner 945', 'forerunner 945 unboxing', 'garmin forerunner', 'garmin review', 'garmin 945 music', 'garmin forerunner 945 review', 'garmin fr945', 'triathlon watch', 'garmin forerunner 945 test', 'forerunner 945 review unboxing', 'garmin forerunner 945 hiking', 'hike', 'hiking', 'garmin', 'forerunner', '945', 'fore runner 945', 'fr 945', 'garmin forerunner review', 'reivew', 'reviews'], 'categoryId': '26', 'liveBroadcastContent': 'none', 'localized': {'title': 'Garmin Forerunner 945 Review and Unboxing - One Day First Impressions', 'description': 'Looking to get a new Garmin smartwatch? In this unboxing and review, I share my experience with the new Garmin Forerunner 945 after my first day of use. The Garmin Forerunner 945 features Spotify internal music storage, 14 days of battery life, detail-packed maps, and Garmin Coach with adaptive training plans. In this review, I also compare the Garmin Forerunner 945 with my Garmin Fenix 6.\\n\\nGet a Forerunner 945 (paid links):\\nGarmin Forerunner 945 on Amazon: https://geni.us/Forerunner945\\n\\nUseful Garmin Forerunner 945 Accessories 👇\\nExtra Charging Cables: https://geni.us/945Cable\\nCharging Port Protector: https://geni.us/945Port\\nScreen Protectors: https://geni.us/945screen\\nReplacement Watch Bands: https://geni.us/945Band\\n\\nWatch face shown in video - SC8: https://apps.garmin.com/en-US/apps/abc0fde3-23d3-4c8d-92ec-a2fd14aeab2f\\n\\nThough I have had limited experience with the Garmin Forerunner 945, check out my pros and cons below.\\n\\nPros of the Garmin Forerunner 945:\\n • Awesome design that looks sporty and high tech. Nice size that looks rugged and sleek.\\n • Bezel that is somewhat protective and looks great.\\n • Very easy to read screen that is colorful.\\n • The buttons are easy to use when navigating the menus.\\n • Many features that are geared towards outdoor activities such as hiking, biking, climbing, Kayaking, running, and even open water swimming.\\n • Easy to sync with your phone via the Garmin Connect app.\\n • Allows for text message responses (Android only).\\n • The ability to store 2000 songs on the watch. This means you can go for a run and not have to bring your watch to listen to music.\\n • Custom watch faces, apps, widgets, and data fields through the Garmin Connect IQ store.\\n • Waterproof .\\n • Easy to remove and replace watch bands that are 22mm.\\n • Garmin coach.\\n • PulseOx.\\n • PacePro.\\n • Lightweight at only 50 grams\\n\\nCons of the Garmin Forerunner 945:\\n • Display is smaller than watch face, so it looks a little weird.\\n\\n#GarminForerunner945 #Forerunner945 #Garmin\\n\\nDisclaimer: Some of the links in this description are affiliate links. As an Amazon Associate and a partner of other affiliate programs, this mean I earn a small commission from qualifying purchases through these links. This helps support the channel and allows us to continue to make videos like this. Thank you for the support!\\n\\n😀 HAPPY WITH THE VIDEO? 😀\\nSUBSCRIBE NOW! CLICK HERE - https://youtube.com/c/gauginggadgets?sub_confirmation=1\\nSEND ME A TIP! - https://www.paypal.me/GaugingGadgets\\nFOLLOW ME! \\n   BLOG: https://GaugingGadgets.com\\n   FACEBOOK - http://fb.me/GaugingGadgets\\n   TWITTER - http://twitter.com/GaugingGadgets\\n   REDDIT - https://www.reddit.com/r/GaugingGadgets/\\n   INSTAGRAM - https://instagram.com/GaugingGadgets/\\n   TWITCH - https://www.twitch.tv/GaugingGadgets\\nLearn How to Crochet: https://www.youtube.com/c/CrochetWithJulie\\n\\nHOW DO I DO IT? (Paid Links)\\nTubeBuddy YouTube Toolkit: https://www.tubebuddy.com/gauginggadgets/yt\\nStreamYard Live Streaming Tool: https://geni.us/streamyardyt\\nNerd or Die Twitch Templates: https://nerdordie.com/shop/ref/GaugingGadgets/\\nIvacy VPN: https://billing.ivacy.com/page/94360\\nMy YouTube Setup: https://gauginggadgets.com/youtube-setup/\\n  Lenovo Legion 5-15IMH05H: https://geni.us/Legion5\\n  Turtle Beach Elite Pro 2 + SuperAmp Pro: https://geni.us/TurtleBeachEP2\\n  700W Lighting Kit - https://geni.us/LightingKit\\n  Blue Yeti USB Microphone -  https://geni.us/USBMic\\n  Logitech C920 Webcam - https://geni.us/HDWebCam\\n  Cell Phone - Pixel 2 XL - https://geni.us/FilmingPhone\\n  Vanguard VS-82 Table Tripod - https://geni.us/VS-82'}, 'defaultAudioLanguage': 'en-US'}, 'statistics': {'viewCount': '12621', 'likeCount': '120', 'favoriteCount': '0', 'commentCount': '28'}}], 'pageInfo': {'totalResults': 1, 'resultsPerPage': 1}}\n",
            "Video 24 - Garmin Forerunner 945 Review and Unboxing - One Day First Impressions -- Comment count:  28\n",
            "\n",
            "{'kind': 'youtube#videoListResponse', 'etag': 'bX6sE5Se0SdKgdC3YUoyNFAnqxc', 'items': [{'kind': 'youtube#video', 'etag': 'rJn8I_WXrjSb3ydHaS8pwjov3RE', 'id': 'DmaX27oqYnM', 'snippet': {'publishedAt': '2022-01-24T08:00:05Z', 'channelId': 'UCWUDxadYWc4ldsjm4kVwjBA', 'title': \"Is the Garmin 945 Still Worth It? (DC Rainmaker's favorite watch in 2021)\", 'description': \"july 2022 update: A great choice today in 2022 if you are in the market for a new watch is the Garmin 255 (non touch) at 350€ https://www.garmin.com/it-IT/p/780139#undefined , or garmin 955 (touch) 500+€\\n\\nIf it's good enough for DCRainmaker, it's good enough for me\\n\\nCheck out @mlegrand 's video & channel, it's dope https://www.youtube.com/watch?v=WrgppoPO4uc&t=9s\\n\\nThis video is not sponsored in any way by garmin, i just love the product\\n\\n00:00 Intro\\n00:25 Matt Legrand and DC Rainmaker\\n00:41 Life changing Updates?\\n02:12 Battery Life\\n03:09 Build Quality\\n03:55 Made For Multisport\\n06:57 So many Apps\\n08:30 physiological Tracking\\n08:51 Integration\\n09:08 What I don't Like\\n11:48 Would I recommend this watch to a friend of mine in 2022\\n\\nThank for watching\\n\\nUseful links:\\nGarmin 945 watch https://cutt.ly/HTxTFxt\\n\\nMaffettone method\\nhttps://philmaffetone.com/method/\\n\\nThanks for watching!\\n\\n#garmin945 #garminforerunner945 #ironmantraining\\n\\nMy triathlon gear:\\nSumarpo Victory Wetsuit (code PATRICK15) https://www.sumarpo.com/products/sumarpo-mens-victory-wetsuit\\nGarmin 945 watch https://cutt.ly/HTxTFxt\\nForm swim goggles https://cutt.ly/HTxTFxt\\nBasic goggles https://cutt.ly/HTxTFxt\\nUnderwater mp3 https://cutt.ly/HTxTFxt\\nZone3 swim shorts https://cutt.ly/HTxTFxt\\nHuub basic jammers https://cutt.ly/HTxTFxt\\nPPRTeam Ale Cycling kit www.pprworld.it\\nDMT Kr1 cycling shoes https://cutt.ly/HTxTFxt\\u200b\\nStages Powermeter https://bit.ly/3gNusKR\\u200b\\nCycling helmet https://cutt.ly/HTxTFxt\\nSmall water bottles https://cutt.ly/HTxTFxt\\n\\nSupersapiens CGM is a groundbreaking way of understanding our personal nutrition needs in order to fuel our training and life the best way possible - get yours here https://partner.supersapiens.com/patrickdelorenzi\\n\\nOne major key thing I figured out along the way is: The fourth discipline of Ironman, Nutrition! Hard training requires a lot of fuel. Some of my nutrition staples that help me reach a great quality of life, go on adventures, and reach my finish lines strong I get at Koro Shop\\n🌱 Use code ⬇️\\nBRINA5 on https://www.koro-shop.it/ at check out for a discount on your first order\\n\\nPrivacy policy and Full disclosure:\\n°Patrick Delorenzi is a participant in the Amazon Services Associates Program, an affiliate advertising program designed to provide a means for sites to earn advertising fees  by advertising and linking to amazon.com\\n°If you purchase something from our affiliate links will get a small commission with no extra cost to you. This makes it possible for me to make more videos. Thank you!\", 'thumbnails': {'default': {'url': 'https://i.ytimg.com/vi/DmaX27oqYnM/default.jpg', 'width': 120, 'height': 90}, 'medium': {'url': 'https://i.ytimg.com/vi/DmaX27oqYnM/mqdefault.jpg', 'width': 320, 'height': 180}, 'high': {'url': 'https://i.ytimg.com/vi/DmaX27oqYnM/hqdefault.jpg', 'width': 480, 'height': 360}, 'standard': {'url': 'https://i.ytimg.com/vi/DmaX27oqYnM/sddefault.jpg', 'width': 640, 'height': 480}, 'maxres': {'url': 'https://i.ytimg.com/vi/DmaX27oqYnM/maxresdefault.jpg', 'width': 1280, 'height': 720}}, 'channelTitle': 'Patrick Delorenzi', 'tags': ['garmin 945', 'garmin 945 review', 'triathlon training', 'triathlon taren', 'triathlon (sport)', 'garmin watch', 'garmin 945 vs 745', 'beginner triathlon', 'triathlon for beginners', 'beginner triathlon training', 'ironman triathlon', 'triathlon gear', 'triathlon essentials', 'triathlon gear for beginners', 'ironman training', 'garmin forerunner 945', 'forerunner 945', 'best triathlon watch', 'triathlon watch', 'dc rainmaker', 'gps watch', 'des fit', 'garmin triathlon watch', 'matt legrand'], 'categoryId': '26', 'liveBroadcastContent': 'none', 'localized': {'title': \"Is the Garmin 945 Still Worth It? (DC Rainmaker's favorite watch in 2021)\", 'description': \"july 2022 update: A great choice today in 2022 if you are in the market for a new watch is the Garmin 255 (non touch) at 350€ https://www.garmin.com/it-IT/p/780139#undefined , or garmin 955 (touch) 500+€\\n\\nIf it's good enough for DCRainmaker, it's good enough for me\\n\\nCheck out @mlegrand 's video & channel, it's dope https://www.youtube.com/watch?v=WrgppoPO4uc&t=9s\\n\\nThis video is not sponsored in any way by garmin, i just love the product\\n\\n00:00 Intro\\n00:25 Matt Legrand and DC Rainmaker\\n00:41 Life changing Updates?\\n02:12 Battery Life\\n03:09 Build Quality\\n03:55 Made For Multisport\\n06:57 So many Apps\\n08:30 physiological Tracking\\n08:51 Integration\\n09:08 What I don't Like\\n11:48 Would I recommend this watch to a friend of mine in 2022\\n\\nThank for watching\\n\\nUseful links:\\nGarmin 945 watch https://cutt.ly/HTxTFxt\\n\\nMaffettone method\\nhttps://philmaffetone.com/method/\\n\\nThanks for watching!\\n\\n#garmin945 #garminforerunner945 #ironmantraining\\n\\nMy triathlon gear:\\nSumarpo Victory Wetsuit (code PATRICK15) https://www.sumarpo.com/products/sumarpo-mens-victory-wetsuit\\nGarmin 945 watch https://cutt.ly/HTxTFxt\\nForm swim goggles https://cutt.ly/HTxTFxt\\nBasic goggles https://cutt.ly/HTxTFxt\\nUnderwater mp3 https://cutt.ly/HTxTFxt\\nZone3 swim shorts https://cutt.ly/HTxTFxt\\nHuub basic jammers https://cutt.ly/HTxTFxt\\nPPRTeam Ale Cycling kit www.pprworld.it\\nDMT Kr1 cycling shoes https://cutt.ly/HTxTFxt\\u200b\\nStages Powermeter https://bit.ly/3gNusKR\\u200b\\nCycling helmet https://cutt.ly/HTxTFxt\\nSmall water bottles https://cutt.ly/HTxTFxt\\n\\nSupersapiens CGM is a groundbreaking way of understanding our personal nutrition needs in order to fuel our training and life the best way possible - get yours here https://partner.supersapiens.com/patrickdelorenzi\\n\\nOne major key thing I figured out along the way is: The fourth discipline of Ironman, Nutrition! Hard training requires a lot of fuel. Some of my nutrition staples that help me reach a great quality of life, go on adventures, and reach my finish lines strong I get at Koro Shop\\n🌱 Use code ⬇️\\nBRINA5 on https://www.koro-shop.it/ at check out for a discount on your first order\\n\\nPrivacy policy and Full disclosure:\\n°Patrick Delorenzi is a participant in the Amazon Services Associates Program, an affiliate advertising program designed to provide a means for sites to earn advertising fees  by advertising and linking to amazon.com\\n°If you purchase something from our affiliate links will get a small commission with no extra cost to you. This makes it possible for me to make more videos. Thank you!\"}, 'defaultAudioLanguage': 'en'}, 'statistics': {'viewCount': '26817', 'likeCount': '298', 'favoriteCount': '0', 'commentCount': '80'}}], 'pageInfo': {'totalResults': 1, 'resultsPerPage': 1}}\n",
            "Video 25 - Is the Garmin 945 Still Worth It? (DC Rainmaker's favorite watch in 2021) -- Comment count:  80\n",
            "\n",
            "{'kind': 'youtube#videoListResponse', 'etag': 'idv8raEwSoQ8pc1fDrhpLPMTAuQ', 'items': [{'kind': 'youtube#video', 'etag': 'C30QhmWJu_5kxb0hlrslzmZAcGs', 'id': 'AaQvNf2ViDI', 'snippet': {'publishedAt': '2021-07-06T14:47:55Z', 'channelId': 'UCWUDxadYWc4ldsjm4kVwjBA', 'title': 'I love my Garmin 945 | Body Battery, Stress, Hrv & Sleep Review For Lifestyle And Triathlon Training', 'description': \"✌️Join the Discord chat for all things tri training - ironman gear - plant based foods (anche canale in italiano 🇮🇹) ➡️ https://discord.gg/HP62SE5Aab\\nHow can a tiny object on one's wrist, namely the Garmin Forerunner 945 multisport watch, be such a powerful tool to discover yourself more deeply, maximize training, sleep, stress and help make choices for a healthy lifestyle? In this video I try and share how a multisport gps watch got me thinking about all of this, what these features are, and my strategies to implement the data in the day to day\\n\\n00:00 Intro\\n00:51 Garmin 945: My everyday\\n01:19 My first wearable device\\n01:47 My second wathc: Garmin fenix 3 hr\\n02:11 Why Garmin 945\\n03:38 Garmin Connect, tracking training and training load score\\n05:05 My favorite metrics: Sleep Stress and Body Battery\\n05:22 Sleep\\n06:05 Consequences and strategies for poor sleep\\n06:38 Stress and Heart Rate Variability\\n07:15 Autonomic Nervous System\\n07:28 Sympathetic Nervous System\\n07:47 Parasympathetic Nervous system\\n08:16 HRV shows which side of the nervous System is governing\\n08:35 Real life applications for a training plan\\n09:42 Body Battery\\n10:20 Charging and Draining our battery\\n10:40 Why is this important\\n11:12 Real life case studies\\n11:32 Garmin 945 the best for triathlon training and lifestyle\\n12:01 Big big fan of data\\n12:22 Outro\\n\\nBe sure to check out these videos, with a complete breakdown of the training process for:\\nIRONMAN 70.3 https://www.youtube.com/watch?v=kSWVpXbtBYU&t=575s\\nIRONMAN https://www.youtube.com/watch?v=NIpYhoJcQPk&t=0s\\n\\nSubscribe to the channel for more weekly adventure / training / mindset / nutrition content to help you smash your goals coming your way \\n\\n#Garmin945 #ironmantriathlon #garmin\\n\\nOne major key thing I figured out along the way is: The fourth discipline of Ironman, Nutrition! Hard training requires a lot of fuel. Some of my nutrition staples that help me reach a great quality of life, go on adventures, and reach my finish lines strong I get at Koro Shop\\nThey have bulk items such as quinoa, buckwheat and amaranth, super powerful pseudocereals perfect for the demands of athletes \\n🌱 Use code ⬇️\\nDELO5 on https://www.koro-shop.it/\\nat check out for a discount on your first order\\nEverything is high quality, and at very competitive prices!\\n\\n\\nMy triathlon gear:\\nGarmin 945 watch https://amzn.to/3769tOL\\nForm swim goggles https://amzn.to/3nUqBxL\\nBasic goggles https://amzn.to/3l8cnrb\\nUnderwater mp3 player https://amzn.to/3pVcxpP\\nZone3 swim shorts https://amzn.to/2JaMwSt\\nHuub basic jammers https://amzn.to/3l44GCy\\n2xu cap https://amzn.to/33fk5Kg\\nPPRTeam Ale Cycling kit www.pprworld.it\\nDMT Kr1 cycling shoes https://amzn.to/3fwHwUc\\nStages Powermeter https://bit.ly/3gNusKR\\nCycling helmet https://amzn.to/3mgN6wk\\nSmall water bottles https://amzn.to/3mato5K\\nBig water bottles https://amzn.to/364rBt8\\nWetsuit https://amzn.to/375AKAZ\\n\\n\\nNutrition\\nMy favorite Koro Shop snack https://amzn.to/363kUYv\\n\\nSoundtrack:\\nwww.epidemicsound.com\\nGet one month free registering with ⬇️\\nhttps://www.epidemicsound.com/referra...\\n\\n\\n-------\\n\\nAbout me\\nMy name is Patrick Delorenzi and I am passionate videographer and endurance athlete. \\nI believe in fueling ourselves with nutrient rich foods, and filling our days with endurance training and racing, as a way to discover our deeper purpose in life, practice self realization, and advance out life.\\nMy goal is to use film as a means to spread meaningful stories about extraordinary athletes and people from the globe. \\nIf you love tips, reviews about ironman / trail running / adventure / unconventional lifestyles, subscribe to the channel to keep up with new vids!\\n\\nPeace ✌️\\n\\nPatrick Delorenzi \\n\\nTo check out daily adventure, training and nutrition pics:\\nINSTAGRAM: https://www.instagram.com/patrickdelo...\\n\\nLet's connect on Strava!\\nSTRAVA: https://www.strava.com/athletes/4881499\\n\\n______________\\n\\n© Patrick Delorenzi, 2020\\n\\nInstagram: @patrickdelorenzi\\nFacebook: @patrickdelorenzi\\nhttp://www.patrickdelorenzi.com/\\n\\nFor business enquiries shoot me an email at:\\npatrick@patrickdelorenzi.com\\n\\nPeace ✌️\\n\\n\\n-----------------------------\\nPrivacy policy and Full disclosure:\\n°Patrick Delorenzi is a participant in the Amazon Services Associates Program, an affiliate advertising program designed to provide a means for sites to earn advertising fees  by advertising and linking to amazon.com\\n°If you purchase something from our affiliate links will get a small commission with no extra cost to you. This makes it possible for me to make more videos. Thank you!\", 'thumbnails': {'default': {'url': 'https://i.ytimg.com/vi/AaQvNf2ViDI/default.jpg', 'width': 120, 'height': 90}, 'medium': {'url': 'https://i.ytimg.com/vi/AaQvNf2ViDI/mqdefault.jpg', 'width': 320, 'height': 180}, 'high': {'url': 'https://i.ytimg.com/vi/AaQvNf2ViDI/hqdefault.jpg', 'width': 480, 'height': 360}, 'standard': {'url': 'https://i.ytimg.com/vi/AaQvNf2ViDI/sddefault.jpg', 'width': 640, 'height': 480}, 'maxres': {'url': 'https://i.ytimg.com/vi/AaQvNf2ViDI/maxresdefault.jpg', 'width': 1280, 'height': 720}}, 'channelTitle': 'Patrick Delorenzi', 'tags': ['heart rate variability', 'heart rate variability training', 'triathlon training', 'body battery', 'triathlon training tips', 'triathlon taren', 'triathlon tips', 'autonomic nervous system', 'what is hrv', 'triathlon (sport)', 'oura ring', 'garmin watch', 'heart rate variability app', 'garmin body battery review', 'hrv training', 'what is heart rate variability', 'heart rate variability explained', 'garmin stress', 'garmin sleep', 'hrv', 'garmin', 'garmin 945', 'garmin 945 review', 'garmin 945 vs 745', '#dcrainmaker'], 'categoryId': '26', 'liveBroadcastContent': 'none', 'localized': {'title': 'I love my Garmin 945 | Body Battery, Stress, Hrv & Sleep Review For Lifestyle And Triathlon Training', 'description': \"✌️Join the Discord chat for all things tri training - ironman gear - plant based foods (anche canale in italiano 🇮🇹) ➡️ https://discord.gg/HP62SE5Aab\\nHow can a tiny object on one's wrist, namely the Garmin Forerunner 945 multisport watch, be such a powerful tool to discover yourself more deeply, maximize training, sleep, stress and help make choices for a healthy lifestyle? In this video I try and share how a multisport gps watch got me thinking about all of this, what these features are, and my strategies to implement the data in the day to day\\n\\n00:00 Intro\\n00:51 Garmin 945: My everyday\\n01:19 My first wearable device\\n01:47 My second wathc: Garmin fenix 3 hr\\n02:11 Why Garmin 945\\n03:38 Garmin Connect, tracking training and training load score\\n05:05 My favorite metrics: Sleep Stress and Body Battery\\n05:22 Sleep\\n06:05 Consequences and strategies for poor sleep\\n06:38 Stress and Heart Rate Variability\\n07:15 Autonomic Nervous System\\n07:28 Sympathetic Nervous System\\n07:47 Parasympathetic Nervous system\\n08:16 HRV shows which side of the nervous System is governing\\n08:35 Real life applications for a training plan\\n09:42 Body Battery\\n10:20 Charging and Draining our battery\\n10:40 Why is this important\\n11:12 Real life case studies\\n11:32 Garmin 945 the best for triathlon training and lifestyle\\n12:01 Big big fan of data\\n12:22 Outro\\n\\nBe sure to check out these videos, with a complete breakdown of the training process for:\\nIRONMAN 70.3 https://www.youtube.com/watch?v=kSWVpXbtBYU&t=575s\\nIRONMAN https://www.youtube.com/watch?v=NIpYhoJcQPk&t=0s\\n\\nSubscribe to the channel for more weekly adventure / training / mindset / nutrition content to help you smash your goals coming your way \\n\\n#Garmin945 #ironmantriathlon #garmin\\n\\nOne major key thing I figured out along the way is: The fourth discipline of Ironman, Nutrition! Hard training requires a lot of fuel. Some of my nutrition staples that help me reach a great quality of life, go on adventures, and reach my finish lines strong I get at Koro Shop\\nThey have bulk items such as quinoa, buckwheat and amaranth, super powerful pseudocereals perfect for the demands of athletes \\n🌱 Use code ⬇️\\nDELO5 on https://www.koro-shop.it/\\nat check out for a discount on your first order\\nEverything is high quality, and at very competitive prices!\\n\\n\\nMy triathlon gear:\\nGarmin 945 watch https://amzn.to/3769tOL\\nForm swim goggles https://amzn.to/3nUqBxL\\nBasic goggles https://amzn.to/3l8cnrb\\nUnderwater mp3 player https://amzn.to/3pVcxpP\\nZone3 swim shorts https://amzn.to/2JaMwSt\\nHuub basic jammers https://amzn.to/3l44GCy\\n2xu cap https://amzn.to/33fk5Kg\\nPPRTeam Ale Cycling kit www.pprworld.it\\nDMT Kr1 cycling shoes https://amzn.to/3fwHwUc\\nStages Powermeter https://bit.ly/3gNusKR\\nCycling helmet https://amzn.to/3mgN6wk\\nSmall water bottles https://amzn.to/3mato5K\\nBig water bottles https://amzn.to/364rBt8\\nWetsuit https://amzn.to/375AKAZ\\n\\n\\nNutrition\\nMy favorite Koro Shop snack https://amzn.to/363kUYv\\n\\nSoundtrack:\\nwww.epidemicsound.com\\nGet one month free registering with ⬇️\\nhttps://www.epidemicsound.com/referra...\\n\\n\\n-------\\n\\nAbout me\\nMy name is Patrick Delorenzi and I am passionate videographer and endurance athlete. \\nI believe in fueling ourselves with nutrient rich foods, and filling our days with endurance training and racing, as a way to discover our deeper purpose in life, practice self realization, and advance out life.\\nMy goal is to use film as a means to spread meaningful stories about extraordinary athletes and people from the globe. \\nIf you love tips, reviews about ironman / trail running / adventure / unconventional lifestyles, subscribe to the channel to keep up with new vids!\\n\\nPeace ✌️\\n\\nPatrick Delorenzi \\n\\nTo check out daily adventure, training and nutrition pics:\\nINSTAGRAM: https://www.instagram.com/patrickdelo...\\n\\nLet's connect on Strava!\\nSTRAVA: https://www.strava.com/athletes/4881499\\n\\n______________\\n\\n© Patrick Delorenzi, 2020\\n\\nInstagram: @patrickdelorenzi\\nFacebook: @patrickdelorenzi\\nhttp://www.patrickdelorenzi.com/\\n\\nFor business enquiries shoot me an email at:\\npatrick@patrickdelorenzi.com\\n\\nPeace ✌️\\n\\n\\n-----------------------------\\nPrivacy policy and Full disclosure:\\n°Patrick Delorenzi is a participant in the Amazon Services Associates Program, an affiliate advertising program designed to provide a means for sites to earn advertising fees  by advertising and linking to amazon.com\\n°If you purchase something from our affiliate links will get a small commission with no extra cost to you. This makes it possible for me to make more videos. Thank you!\"}, 'defaultAudioLanguage': 'en'}, 'statistics': {'viewCount': '28733', 'likeCount': '646', 'favoriteCount': '0', 'commentCount': '79'}}], 'pageInfo': {'totalResults': 1, 'resultsPerPage': 1}}\n",
            "Video 26 - I love my Garmin 945 | Body Battery, Stress, Hrv & Sleep Review For Lifestyle And Triathlon Training -- Comment count:  79\n",
            "\n",
            "{'kind': 'youtube#videoListResponse', 'etag': 'YM2SLfdDAHJgpQ3L9gu6qOYaoS0', 'items': [{'kind': 'youtube#video', 'etag': 'LRauY4BDZNcsv7jIblTUy_uNZD0', 'id': 'csOaYG3xgfg', 'snippet': {'publishedAt': '2019-08-28T18:00:03Z', 'channelId': 'UCZyvpNh-0pN5ouYGuB7_HDw', 'title': 'Garmin Forerunner 945 Review - Top 5 Features for Ultra Runners - GPS WATCH GIVEAWAY!', 'description': 'Garmin Fenix 6 Sapphire\\nAmazon - https://geni.us/wlrcQc\\nPlayBetter (USA) - https://click.chasethesummit.com/fenix6\\n\\nGarmin Fenix 6 Pro\\nAmazon - https://geni.us/wFmiJ\\nPlayBetter (USA) - https://click.chasethesummit.com/fenix6\\n\\nGarmin Fenix 6X\\nAmazon - https://geni.us/TUsHYR\\nPlayBetter (USA) - https://click.chasethesummit.com/fenix6x\\n\\nGarmin Forerunner 945 \\nAmazon - https://geni.us/ceGB3Ry\\nPlayBetter (USA) - https://click.chasethesummit.com/945\\n\\nGarmin Forerunner 745\\nAmazon - https://geni.us/4Ojd2a\\nPlayBetter (USA) - https://click.chasethesummit.com/745\\n\\nFTC Disclaimer: The links above are affiliate links from which I earn a small commission. This does not affect you as a customer at all, but it does help support this channel!\\n\\n**CTS Merch Store! Hats, Shirts, and More!**\\nhttps://www.chasethesummit.com/shop\\n\\n**Want to help? Support this channel on Patreon!**\\nhttps://www.patreon.com/chasethesummit\\n\\n**Follow Me!**\\nInstagram: https://www.instagram.com/chasethesummit/\\nStrava: https://www.strava.com/athletes/17359116\\nWebsite: https://www.chasethesummit.com\\nPodcast: https://click.chasethesummit.com/podcast\\n\\n**Join the Conversation on Discord!**\\nhttps://discord.gg/9QR3R2FuSu\\n\\n**Want to send me something?**\\nChase the Summit\\n1751 Main Street # 843\\nTewksbury, MA, 01876\\n\\n**Supplements and Nutrition I Take**\\nAthletic Greens AG1: https://athleticgreens.sjv.io/m52yxO\\nTailwind: https://click.chasethesummit.com/electrolytes\\nLiquid IV: https://glnk.io/75r0/chasethesummit\\ncbdMD Gummies and Topicals: https://cbdmd.t7c9v8.net/rQ2rPv\\n\\n**Wellness Tech I Use**\\nWhoop Band: https://join.whoop.com/chasethesummit\\nOura Ring: https://ouraring.sjv.io/KjZGVy\\n\\n**Running / Outdoor Gear I Use**\\nGPS Watch: https://click.chasethesummit.com/watch\\nTrail Running Shoe: https://click.chasethesummit.com/trailshoes\\nRoad Shoe: https://click.chasethesummit.com/roadshoes\\nRunning Hat: https://click.chasethesummit.com/hat\\nHydration Vest: https://click.chasethesummit.com/vest\\nHeadlamp: https://click.chasethesummit.com/headlamp\\nTrail Running Socks: https://click.chasethesummit.com/socks\\nHandheld: https://click.chasethesummit.com/bottle\\nEarbuds: https://click.chasethesummit.com/earbuds\\n\\n**Camera / YouTube Gear I Use**\\nMain Camera: https://click.chasethesummit.com/maincamera\\nSecondary Camera: https://click.chasethesummit.com/secondcamera\\nOverhead Camera: https://click.chasethesummit.com/overheadcam\\nFavorite Lens: https://click.chasethesummit.com/lens\\nAction Camera: https://click.chasethesummit.com/actioncam\\nEditing Computer: https://click.chasethesummit.com/computer\\nPhone: https://click.chasethesummit.com/phone', 'thumbnails': {'default': {'url': 'https://i.ytimg.com/vi/csOaYG3xgfg/default.jpg', 'width': 120, 'height': 90}, 'medium': {'url': 'https://i.ytimg.com/vi/csOaYG3xgfg/mqdefault.jpg', 'width': 320, 'height': 180}, 'high': {'url': 'https://i.ytimg.com/vi/csOaYG3xgfg/hqdefault.jpg', 'width': 480, 'height': 360}, 'standard': {'url': 'https://i.ytimg.com/vi/csOaYG3xgfg/sddefault.jpg', 'width': 640, 'height': 480}, 'maxres': {'url': 'https://i.ytimg.com/vi/csOaYG3xgfg/maxresdefault.jpg', 'width': 1280, 'height': 720}}, 'channelTitle': 'Chase the Summit', 'tags': ['Garmin 945', 'Garmin Forerunner', 'Garmin GPS Watch', 'Running Watch', 'Ultra Running', 'Ultra Marathon', 'Garmin Forerunner 945', 'Garmin', 'GPS Watch', 'Triathalon Watch', 'Review', 'Runner', '100 Miler'], 'categoryId': '19', 'liveBroadcastContent': 'none', 'localized': {'title': 'Garmin Forerunner 945 Review - Top 5 Features for Ultra Runners - GPS WATCH GIVEAWAY!', 'description': 'Garmin Fenix 6 Sapphire\\nAmazon - https://geni.us/wlrcQc\\nPlayBetter (USA) - https://click.chasethesummit.com/fenix6\\n\\nGarmin Fenix 6 Pro\\nAmazon - https://geni.us/wFmiJ\\nPlayBetter (USA) - https://click.chasethesummit.com/fenix6\\n\\nGarmin Fenix 6X\\nAmazon - https://geni.us/TUsHYR\\nPlayBetter (USA) - https://click.chasethesummit.com/fenix6x\\n\\nGarmin Forerunner 945 \\nAmazon - https://geni.us/ceGB3Ry\\nPlayBetter (USA) - https://click.chasethesummit.com/945\\n\\nGarmin Forerunner 745\\nAmazon - https://geni.us/4Ojd2a\\nPlayBetter (USA) - https://click.chasethesummit.com/745\\n\\nFTC Disclaimer: The links above are affiliate links from which I earn a small commission. This does not affect you as a customer at all, but it does help support this channel!\\n\\n**CTS Merch Store! Hats, Shirts, and More!**\\nhttps://www.chasethesummit.com/shop\\n\\n**Want to help? Support this channel on Patreon!**\\nhttps://www.patreon.com/chasethesummit\\n\\n**Follow Me!**\\nInstagram: https://www.instagram.com/chasethesummit/\\nStrava: https://www.strava.com/athletes/17359116\\nWebsite: https://www.chasethesummit.com\\nPodcast: https://click.chasethesummit.com/podcast\\n\\n**Join the Conversation on Discord!**\\nhttps://discord.gg/9QR3R2FuSu\\n\\n**Want to send me something?**\\nChase the Summit\\n1751 Main Street # 843\\nTewksbury, MA, 01876\\n\\n**Supplements and Nutrition I Take**\\nAthletic Greens AG1: https://athleticgreens.sjv.io/m52yxO\\nTailwind: https://click.chasethesummit.com/electrolytes\\nLiquid IV: https://glnk.io/75r0/chasethesummit\\ncbdMD Gummies and Topicals: https://cbdmd.t7c9v8.net/rQ2rPv\\n\\n**Wellness Tech I Use**\\nWhoop Band: https://join.whoop.com/chasethesummit\\nOura Ring: https://ouraring.sjv.io/KjZGVy\\n\\n**Running / Outdoor Gear I Use**\\nGPS Watch: https://click.chasethesummit.com/watch\\nTrail Running Shoe: https://click.chasethesummit.com/trailshoes\\nRoad Shoe: https://click.chasethesummit.com/roadshoes\\nRunning Hat: https://click.chasethesummit.com/hat\\nHydration Vest: https://click.chasethesummit.com/vest\\nHeadlamp: https://click.chasethesummit.com/headlamp\\nTrail Running Socks: https://click.chasethesummit.com/socks\\nHandheld: https://click.chasethesummit.com/bottle\\nEarbuds: https://click.chasethesummit.com/earbuds\\n\\n**Camera / YouTube Gear I Use**\\nMain Camera: https://click.chasethesummit.com/maincamera\\nSecondary Camera: https://click.chasethesummit.com/secondcamera\\nOverhead Camera: https://click.chasethesummit.com/overheadcam\\nFavorite Lens: https://click.chasethesummit.com/lens\\nAction Camera: https://click.chasethesummit.com/actioncam\\nEditing Computer: https://click.chasethesummit.com/computer\\nPhone: https://click.chasethesummit.com/phone'}, 'defaultAudioLanguage': 'en-US'}, 'statistics': {'viewCount': '47205', 'likeCount': '920', 'favoriteCount': '0', 'commentCount': '150'}}], 'pageInfo': {'totalResults': 1, 'resultsPerPage': 1}}\n",
            "Video 27 - Garmin Forerunner 945 Review - Top 5 Features for Ultra Runners - GPS WATCH GIVEAWAY! -- Comment count:  150\n",
            "\n",
            "{'kind': 'youtube#videoListResponse', 'etag': '2Do2P-TUNVt9XBe_R-32Gt6x72k', 'items': [{'kind': 'youtube#video', 'etag': '7iEzZbIIJzbaSPG0f7oX1BszXL0', 'id': 'YpYnW7mJVRs', 'snippet': {'publishedAt': '2019-04-30T11:01:40Z', 'channelId': 'UCmVhS0qulkRshtLrXMeMToQ', 'title': 'Garmin ForeRunner 945 // New Performance Features, Music, and Maps!', 'description': 'Breakdown of all the new features on the ForeRunner 945 from Garmin - an Advanced GPS Sportswatch with new training features, navigation, music, and maps. You can get the Forerunner 945 here: https://geni.us/fr945 (Amazon)\\n\\nAlso check out the ForeRunner 245 and 245 Music: https://youtu.be/-3lkMLcbauQ\\nAnd the ForeRunner 45: https://youtu.be/y_IJtmmCIrk\\n\\nThis product was supplied as a media loaner unit and this is not a sponsored video.\\n\\n/// GEAR I USE ///\\nFavorite Wearable: http://geni.us/fenix5plusti (Amazon)\\nBike GPS: http://geni.us/IZULbM & http://geni.us/ys01orB (Amazon)\\nAdventure GPS: http://geni.us/CuUyGeJ (Amazon)\\n\\n/// CONNECT & UPDATES ///\\nTwitter: https://twitter.com/GetDesFit\\nInstagram: https://www.instagram.com/getdesfit/\\nStrava: http://strava.com/athletes/DesFit\\nFacebook: https://www.facebook.com/GetDesFit/\\n\\nVideos may contain affiliate links which can help support and grow this channel with no extra cost to you. Thanks for your continued support.', 'thumbnails': {'default': {'url': 'https://i.ytimg.com/vi/YpYnW7mJVRs/default.jpg', 'width': 120, 'height': 90}, 'medium': {'url': 'https://i.ytimg.com/vi/YpYnW7mJVRs/mqdefault.jpg', 'width': 320, 'height': 180}, 'high': {'url': 'https://i.ytimg.com/vi/YpYnW7mJVRs/hqdefault.jpg', 'width': 480, 'height': 360}, 'standard': {'url': 'https://i.ytimg.com/vi/YpYnW7mJVRs/sddefault.jpg', 'width': 640, 'height': 480}, 'maxres': {'url': 'https://i.ytimg.com/vi/YpYnW7mJVRs/maxresdefault.jpg', 'width': 1280, 'height': 720}}, 'channelTitle': 'DesFit', 'tags': ['garmin forerunner 945', 'forerunner 945', 'garmin forerunner', 'garmin', 'forerunner', 'gps watch', 'sportswatch', 'triathlon watch', 'watch', 'garmin 945', 'garmin music', 'forerunner music', '945 music', 'music', 'smartwatch', 'desfit', 'des fit', 'dezfit', 'sports', 'adventure watch', 'ultramarathon watch', 'marathon'], 'categoryId': '17', 'liveBroadcastContent': 'none', 'defaultLanguage': 'en', 'localized': {'title': 'Garmin ForeRunner 945 // New Performance Features, Music, and Maps!', 'description': 'Breakdown of all the new features on the ForeRunner 945 from Garmin - an Advanced GPS Sportswatch with new training features, navigation, music, and maps. You can get the Forerunner 945 here: https://geni.us/fr945 (Amazon)\\n\\nAlso check out the ForeRunner 245 and 245 Music: https://youtu.be/-3lkMLcbauQ\\nAnd the ForeRunner 45: https://youtu.be/y_IJtmmCIrk\\n\\nThis product was supplied as a media loaner unit and this is not a sponsored video.\\n\\n/// GEAR I USE ///\\nFavorite Wearable: http://geni.us/fenix5plusti (Amazon)\\nBike GPS: http://geni.us/IZULbM & http://geni.us/ys01orB (Amazon)\\nAdventure GPS: http://geni.us/CuUyGeJ (Amazon)\\n\\n/// CONNECT & UPDATES ///\\nTwitter: https://twitter.com/GetDesFit\\nInstagram: https://www.instagram.com/getdesfit/\\nStrava: http://strava.com/athletes/DesFit\\nFacebook: https://www.facebook.com/GetDesFit/\\n\\nVideos may contain affiliate links which can help support and grow this channel with no extra cost to you. Thanks for your continued support.'}, 'defaultAudioLanguage': 'en'}, 'statistics': {'viewCount': '155119', 'likeCount': '3696', 'favoriteCount': '0', 'commentCount': '160'}}], 'pageInfo': {'totalResults': 1, 'resultsPerPage': 1}}\n",
            "Video 28 - Garmin ForeRunner 945 // New Performance Features, Music, and Maps! -- Comment count:  160\n",
            "\n",
            "{'kind': 'youtube#videoListResponse', 'etag': 'I8HO9zkHNq_-2fKdY2veV7eBgvY', 'items': [{'kind': 'youtube#video', 'etag': '-zssb1KCXbhpLLCAcdlZylREAj0', 'id': 'qLRvhCsAd3M', 'snippet': {'publishedAt': '2020-09-03T17:07:31Z', 'channelId': 'UCMAbWt9vWjtWynOkcTnK65w', 'title': 'Garmin Forerunner 945 Review: Is it worth it?', 'description': 'Is the garmin forerunner 945 worth it? Check out my review. I go through a lot of the features I like or do not like. \\n\\n____________________________________________\\nBe sure to subscribe: https://www.youtube.com/channel/UCMAbWt9vWjtWynOkcTnK65w?view_as=subscriber?sub_confirmation=1\\n\\nSupport this channel and donate here: https://www.paypal.me/raypastore\\nCheck out my website at: http://raypastore.com', 'thumbnails': {'default': {'url': 'https://i.ytimg.com/vi/qLRvhCsAd3M/default.jpg', 'width': 120, 'height': 90}, 'medium': {'url': 'https://i.ytimg.com/vi/qLRvhCsAd3M/mqdefault.jpg', 'width': 320, 'height': 180}, 'high': {'url': 'https://i.ytimg.com/vi/qLRvhCsAd3M/hqdefault.jpg', 'width': 480, 'height': 360}, 'standard': {'url': 'https://i.ytimg.com/vi/qLRvhCsAd3M/sddefault.jpg', 'width': 640, 'height': 480}, 'maxres': {'url': 'https://i.ytimg.com/vi/qLRvhCsAd3M/maxresdefault.jpg', 'width': 1280, 'height': 720}}, 'channelTitle': 'Ray Pastore, Ph.D.', 'tags': ['garmin', 'forerunner', '945', 'smartwatch', 'body battery', 'stress', 'heart rate', 'work out watch', 'forerunner 945', 'garmin 945', 'garmin fenix', 'review', 'worth it'], 'categoryId': '17', 'liveBroadcastContent': 'none', 'defaultLanguage': 'en', 'localized': {'title': 'Garmin Forerunner 945 Review: Is it worth it?', 'description': 'Is the garmin forerunner 945 worth it? Check out my review. I go through a lot of the features I like or do not like. \\n\\n____________________________________________\\nBe sure to subscribe: https://www.youtube.com/channel/UCMAbWt9vWjtWynOkcTnK65w?view_as=subscriber?sub_confirmation=1\\n\\nSupport this channel and donate here: https://www.paypal.me/raypastore\\nCheck out my website at: http://raypastore.com'}, 'defaultAudioLanguage': 'en'}, 'statistics': {'viewCount': '14248', 'likeCount': '187', 'favoriteCount': '0', 'commentCount': '33'}}], 'pageInfo': {'totalResults': 1, 'resultsPerPage': 1}}\n",
            "Video 29 - Garmin Forerunner 945 Review: Is it worth it? -- Comment count:  33\n",
            "\n",
            "{'kind': 'youtube#videoListResponse', 'etag': 'OcVmPYPM7AYbdA1DDypWQG2QvyU', 'items': [{'kind': 'youtube#video', 'etag': '54jjlJK5w_nz1elkKttxGXQdYFc', 'id': 'AJzUBtFfCQ0', 'snippet': {'publishedAt': '2022-07-29T03:53:13Z', 'channelId': 'UCEdXEbxYEh0DhDXiGkci8pg', 'title': 'Garmin Forerunner 945 Full review 2024 -BEST Garmin Watch 2024', 'description': 'Garmin Forerunner 945 Full review 2024 -BEST Garmin Watch 2024\\n\\nGarmin Forerunner 945 - https://amzn.to/3SYExbi\\n\\n▃▃▃▃▃\\n\\nSome Other best Garmin Watches list of 2024: \\n\\n➜ 5. Garmin Forerunner 55 -https://amzn.to/3Tqwe9x\\n➜ 4. Garmin Forerunner 245 Music - https://amzn.to/3T3Q0X7\\n➜ 3. Garmin Instinct 2 -https://amzn.to/3V6dCNg\\n➜ 2. Garmin Venu 2 Plus -https://amzn.to/3V8jaqH\\n➜ 1. Garmin Forerunner 945 - https://amzn.to/3SYExbi\\n\\n▃▃▃▃▃\\n\\nHere are our top picks of this year, which we find more precise, sensible, and durable for your use with new aspects. Like the video, if you enjoyed watching our video. Moreover, the link to these videos is given in the description. Don’t forget to subscribe to the channel and press the bell icon to notify you of further informative videos like this.\\n\\nWe have just laid out the top 5 best Garmin watches 2024. In 5th place is the Garmin Forerunner 55, our pick for the best budget Garmin watch. In 4th place is the Garmin Forerunner 245 Music, our pick for the best value Garmin watch. In 3rd place is the Garmin Instinct 2, our pick for the best outdoor Garmin watch. In 2nd place is the Garmin Venu 2 Plus, our pick for the best smart Garmin watch. In 1st place is the Garmin Forerunner 945, our pick for the best overall Garmin watch. \\n▃▃▃▃▃\\n\\nDisclosure: “As an Amazon Associate I earn from qualifying purchases.”\\n\\n\\n\\nSome of the links on this page are affiliate links, meaning, at no additional cost to you, I may earn a commission if you click through and make a purchase. Affiliate commissions help fund videos like this one.\\n\\n\\n================================\\n\\n\\n\\n\\nCopyright Issue:- The footage in our videos was made as educational material/promotional. If you find any of your copyrighted material in this video, please leave us a message so we can resolve the issue or notify me via YouTube comments or email.\\n© All rights reserved by respective owners\\n\\n▃▃▃▃▃\\n\\n#advisorreview\\n\\n\\nMy Others Sites and video links: \\n==OUR YOUTUBE CHANNEL LINK : https://www.youtube.com/channel/UCEdXEbxYEh0DhDXiGkci8pg\\n\\n==  Jabra Elite 45h full review 2024 - best budget earphone : \\n\\n==Oculus Quest 2 Full review 2024 - BEST VR Headsets 2024:  https://youtu.be/N2fm4E5U_z0\\n\\n==Garmin Forerunner 945 Full review -BEST Garmin Watch 2024:  https://youtu.be/AJzUBtFfCQ0\\n\\nRIyad Shourov Facebook Link : https://www.facebook.com/riyad.shourov\\n\\nCheck Websites that we recommended : \\n\\nGoldenTruth.net \\nNever stop traveling # \"Discovering the World: GoldenTruth Traveler\\'s Odyssey\"\\n\\nBlueCollarGame.com\\nGear up, game on. # \"Breaking Records with Tech: The Evolution of Sports Gadgets\"\\n\\n\\nTechyOctopus.com \\nYour Imagination our Creativity. # \"From Strategy to Execution: Total Digitalization Solutions\"\\n\\n\\n\\nLIKE || COMMENT || SHARE & SUBSCRIBE\\nAnd Don\\'t Forget To SUBSCRIBE..', 'thumbnails': {'default': {'url': 'https://i.ytimg.com/vi/AJzUBtFfCQ0/default.jpg', 'width': 120, 'height': 90}, 'medium': {'url': 'https://i.ytimg.com/vi/AJzUBtFfCQ0/mqdefault.jpg', 'width': 320, 'height': 180}, 'high': {'url': 'https://i.ytimg.com/vi/AJzUBtFfCQ0/hqdefault.jpg', 'width': 480, 'height': 360}, 'standard': {'url': 'https://i.ytimg.com/vi/AJzUBtFfCQ0/sddefault.jpg', 'width': 640, 'height': 480}, 'maxres': {'url': 'https://i.ytimg.com/vi/AJzUBtFfCQ0/maxresdefault.jpg', 'width': 1280, 'height': 720}}, 'channelTitle': 'AdvisorReview', 'tags': ['Garmin Forerunner 945 Full review - BEST Garmin Watch 2022', 'Garmin Forerunner 945 full review 2022', 'Garmin Forerunner 945 full review', 'Garmin Forerunner 945 review', 'Garmin Forerunner 945', 'garmin watch', 'best garmin watch for running', 'BEST Garmin Watch', 'BEST Garmin Watch in budget', 'BEST Garmin Watch under 200', 'BEST Garmin Watch under 100', 'BEST Garmin Watch under 500', 'Garmin Forerunner 945 Full review 2024 -BEST Garmin Watch 2024', 'Garmin Forerunner 945 Full review 2024'], 'categoryId': '22', 'liveBroadcastContent': 'none', 'localized': {'title': 'Garmin Forerunner 945 Full review 2024 -BEST Garmin Watch 2024', 'description': 'Garmin Forerunner 945 Full review 2024 -BEST Garmin Watch 2024\\n\\nGarmin Forerunner 945 - https://amzn.to/3SYExbi\\n\\n▃▃▃▃▃\\n\\nSome Other best Garmin Watches list of 2024: \\n\\n➜ 5. Garmin Forerunner 55 -https://amzn.to/3Tqwe9x\\n➜ 4. Garmin Forerunner 245 Music - https://amzn.to/3T3Q0X7\\n➜ 3. Garmin Instinct 2 -https://amzn.to/3V6dCNg\\n➜ 2. Garmin Venu 2 Plus -https://amzn.to/3V8jaqH\\n➜ 1. Garmin Forerunner 945 - https://amzn.to/3SYExbi\\n\\n▃▃▃▃▃\\n\\nHere are our top picks of this year, which we find more precise, sensible, and durable for your use with new aspects. Like the video, if you enjoyed watching our video. Moreover, the link to these videos is given in the description. Don’t forget to subscribe to the channel and press the bell icon to notify you of further informative videos like this.\\n\\nWe have just laid out the top 5 best Garmin watches 2024. In 5th place is the Garmin Forerunner 55, our pick for the best budget Garmin watch. In 4th place is the Garmin Forerunner 245 Music, our pick for the best value Garmin watch. In 3rd place is the Garmin Instinct 2, our pick for the best outdoor Garmin watch. In 2nd place is the Garmin Venu 2 Plus, our pick for the best smart Garmin watch. In 1st place is the Garmin Forerunner 945, our pick for the best overall Garmin watch. \\n▃▃▃▃▃\\n\\nDisclosure: “As an Amazon Associate I earn from qualifying purchases.”\\n\\n\\n\\nSome of the links on this page are affiliate links, meaning, at no additional cost to you, I may earn a commission if you click through and make a purchase. Affiliate commissions help fund videos like this one.\\n\\n\\n================================\\n\\n\\n\\n\\nCopyright Issue:- The footage in our videos was made as educational material/promotional. If you find any of your copyrighted material in this video, please leave us a message so we can resolve the issue or notify me via YouTube comments or email.\\n© All rights reserved by respective owners\\n\\n▃▃▃▃▃\\n\\n#advisorreview\\n\\n\\nMy Others Sites and video links: \\n==OUR YOUTUBE CHANNEL LINK : https://www.youtube.com/channel/UCEdXEbxYEh0DhDXiGkci8pg\\n\\n==  Jabra Elite 45h full review 2024 - best budget earphone : \\n\\n==Oculus Quest 2 Full review 2024 - BEST VR Headsets 2024:  https://youtu.be/N2fm4E5U_z0\\n\\n==Garmin Forerunner 945 Full review -BEST Garmin Watch 2024:  https://youtu.be/AJzUBtFfCQ0\\n\\nRIyad Shourov Facebook Link : https://www.facebook.com/riyad.shourov\\n\\nCheck Websites that we recommended : \\n\\nGoldenTruth.net \\nNever stop traveling # \"Discovering the World: GoldenTruth Traveler\\'s Odyssey\"\\n\\nBlueCollarGame.com\\nGear up, game on. # \"Breaking Records with Tech: The Evolution of Sports Gadgets\"\\n\\n\\nTechyOctopus.com \\nYour Imagination our Creativity. # \"From Strategy to Execution: Total Digitalization Solutions\"\\n\\n\\n\\nLIKE || COMMENT || SHARE & SUBSCRIBE\\nAnd Don\\'t Forget To SUBSCRIBE..'}, 'defaultAudioLanguage': 'en-US'}, 'statistics': {'viewCount': '696', 'likeCount': '1', 'favoriteCount': '0', 'commentCount': '0'}}], 'pageInfo': {'totalResults': 1, 'resultsPerPage': 1}}\n",
            "Video 30 - Garmin Forerunner 945 Full review 2024 -BEST Garmin Watch 2024 -- Comment count:  0\n",
            "\n",
            "{'kind': 'youtube#videoListResponse', 'etag': 'aECDmjC4HaECmkGMT0dARGhCwtc', 'items': [{'kind': 'youtube#video', 'etag': 'LsdHl03wuB3eQBP4yAL0aiu-msw', 'id': 'wM16xWaJHbU', 'snippet': {'publishedAt': '2024-03-30T14:00:03Z', 'channelId': 'UCJOl2JvledP26K2OQ_HLgnQ', 'title': 'Apple Watch Series 9 Review - 6 Months Later', 'description': 'What parts of the Apple Watch Series 9’s experience really make it stand out from previous models 6 Months Later? What new features haven’t worked well or haven’t been worth it? What in 2024 do you really use and Apple Watch for and who should get one? We’ll answer these questions and more! \\n\\nSpecifically, we’ll walk you through what the battery life has been link, if Siri’s performance really has improved, the new Double Tap (pinchy pinch) feature, track the precise location of AirTags and your iPhone, what significant upgrades WatchOS10 makes to the Apple Watch experience, and more features we use like sleep tracking, the Apple Fitness+ TV integration, media controls, haptic feedback for directions, and more. Plus we’ll walk you through some of the downsides you can expect owning and Apple Watch and our recommendations on which model we recommend. \\n\\n\\n🛒 Product Links (Affiliate Links): \\n👉Apple Watch Series 9: https://amzn.to/3J41ZiA\\n👉iPhone 15 Pro Max: https://amzn.to/3voamm2\\n👉iPhone 15 Pro Max Silicon case: https://amzn.to/49bdYpc \\n👉 View all of our recommended products: https://www.amazon.com/shop/6monthslaterreviews \\n\\n\\n🔗 Related Video links: \\n👉 iPhone 15 Pro Max Review: https://www.youtube.com/watch?v=mu1m-qrj_9Q\\n👉 All Apple videos: https://www.youtube.com/playlist?list=PL2XWjlJjGp3uMKOssWN3NiKQ22LNaOFE4\\n\\n\\n❤️ Follow Josh: \\n👉 Threads: https://www.threads.net/@joshteder\\n👉 Reddit: https://www.reddit.com/user/joshteder/ \\n👉 Instagram: https://www.instagram.com/joshteder/\\n👉 Mastodon: https://mastodon.social/@joshteder\\n👉 LinkedIn: https://www.linkedin.com/in/joshteder/\\n\\n💻 Get Deal Alerts on our Recommended Products\\nPlus a Recap of Everything We Publish Each Month \\n👉 Sign up for our free monthly newsletter: https://6monthslater.substack.com/?showWelcome=true \\n\\n\\n🎥  Video Production Equipment we use 📹\\nhttps://amzn.to/3Ejc1JR \\n \\n\\n🕰️Timestamps: \\n0:00 - Battery Life\\n0:46 - Siri and S9 SiP\\n1:30 - Brighter display \\n1:50 - Double Tap and HomePod Control\\n3:04 - Finding an iPhone with an Apple Watch\\n3:22 - WatchOS10\\n3:50 - Smart Stack and Control Center\\n4:33 - Snoopy Watch Face\\n4:52 - Fitness+ integration and hiking \\n5:25 - Sleep Tracking\\n5:39 - Media Controls \\n6:12 - Directions Haptic Feedback\\n6:27 - Setting timers and responding to messages\\n6:44 - Glanceable information on watch faces\\n7:03 - Downsides of the Apple Watch\\n7:56 - Recommendations\\n\\n\\n📜 Disclosures 📃 \\n\\nAny music used is licensed from artlist.io \\n\\nThe Apple Watch Series 9 and all other Apple products seen in this video were purchased by 6 Months Later. 6 Months Later has no relationship with Apple. This video has no sponsor. \\n\\nOur full ethics policy: https://6-months-later.com/about/ \\n\\nAny Amazon links we provide in our descriptions are in conjunction with our Amazon partnership.  The channel receives a small percentage of revenue from any sales generated by viewers clicking the links.\\n\\n#Apple\\n#AppleWatch\\n#Series9\\n#iPhone', 'thumbnails': {'default': {'url': 'https://i.ytimg.com/vi/wM16xWaJHbU/default.jpg', 'width': 120, 'height': 90}, 'medium': {'url': 'https://i.ytimg.com/vi/wM16xWaJHbU/mqdefault.jpg', 'width': 320, 'height': 180}, 'high': {'url': 'https://i.ytimg.com/vi/wM16xWaJHbU/hqdefault.jpg', 'width': 480, 'height': 360}, 'standard': {'url': 'https://i.ytimg.com/vi/wM16xWaJHbU/sddefault.jpg', 'width': 640, 'height': 480}, 'maxres': {'url': 'https://i.ytimg.com/vi/wM16xWaJHbU/maxresdefault.jpg', 'width': 1280, 'height': 720}}, 'channelTitle': '6 Months Later', 'tags': ['Apple Watch', 'Series 9', 'Apple', 'Review', '2024', '6 Months Later', 'Worth It?', 'Siri', 'S9', 'SiP', 'Brightness', 'Display', 'Saphire Crystal', 'WatchOS10', 'Find My iPhone', 'Location', 'Double Tap', 'HomePod Control', 'Sleep Tracking', 'Repairability', 'Android', 'Compatibility', 'Timers', 'Media Controls', 'Smart Stack', 'Control Center', 'Josh Teder'], 'categoryId': '28', 'liveBroadcastContent': 'none', 'defaultLanguage': 'en', 'localized': {'title': 'Apple Watch Series 9 Review - 6 Months Later', 'description': 'What parts of the Apple Watch Series 9’s experience really make it stand out from previous models 6 Months Later? What new features haven’t worked well or haven’t been worth it? What in 2024 do you really use and Apple Watch for and who should get one? We’ll answer these questions and more! \\n\\nSpecifically, we’ll walk you through what the battery life has been link, if Siri’s performance really has improved, the new Double Tap (pinchy pinch) feature, track the precise location of AirTags and your iPhone, what significant upgrades WatchOS10 makes to the Apple Watch experience, and more features we use like sleep tracking, the Apple Fitness+ TV integration, media controls, haptic feedback for directions, and more. Plus we’ll walk you through some of the downsides you can expect owning and Apple Watch and our recommendations on which model we recommend. \\n\\n\\n🛒 Product Links (Affiliate Links): \\n👉Apple Watch Series 9: https://amzn.to/3J41ZiA\\n👉iPhone 15 Pro Max: https://amzn.to/3voamm2\\n👉iPhone 15 Pro Max Silicon case: https://amzn.to/49bdYpc \\n👉 View all of our recommended products: https://www.amazon.com/shop/6monthslaterreviews \\n\\n\\n🔗 Related Video links: \\n👉 iPhone 15 Pro Max Review: https://www.youtube.com/watch?v=mu1m-qrj_9Q\\n👉 All Apple videos: https://www.youtube.com/playlist?list=PL2XWjlJjGp3uMKOssWN3NiKQ22LNaOFE4\\n\\n\\n❤️ Follow Josh: \\n👉 Threads: https://www.threads.net/@joshteder\\n👉 Reddit: https://www.reddit.com/user/joshteder/ \\n👉 Instagram: https://www.instagram.com/joshteder/\\n👉 Mastodon: https://mastodon.social/@joshteder\\n👉 LinkedIn: https://www.linkedin.com/in/joshteder/\\n\\n💻 Get Deal Alerts on our Recommended Products\\nPlus a Recap of Everything We Publish Each Month \\n👉 Sign up for our free monthly newsletter: https://6monthslater.substack.com/?showWelcome=true \\n\\n\\n🎥  Video Production Equipment we use 📹\\nhttps://amzn.to/3Ejc1JR \\n \\n\\n🕰️Timestamps: \\n0:00 - Battery Life\\n0:46 - Siri and S9 SiP\\n1:30 - Brighter display \\n1:50 - Double Tap and HomePod Control\\n3:04 - Finding an iPhone with an Apple Watch\\n3:22 - WatchOS10\\n3:50 - Smart Stack and Control Center\\n4:33 - Snoopy Watch Face\\n4:52 - Fitness+ integration and hiking \\n5:25 - Sleep Tracking\\n5:39 - Media Controls \\n6:12 - Directions Haptic Feedback\\n6:27 - Setting timers and responding to messages\\n6:44 - Glanceable information on watch faces\\n7:03 - Downsides of the Apple Watch\\n7:56 - Recommendations\\n\\n\\n📜 Disclosures 📃 \\n\\nAny music used is licensed from artlist.io \\n\\nThe Apple Watch Series 9 and all other Apple products seen in this video were purchased by 6 Months Later. 6 Months Later has no relationship with Apple. This video has no sponsor. \\n\\nOur full ethics policy: https://6-months-later.com/about/ \\n\\nAny Amazon links we provide in our descriptions are in conjunction with our Amazon partnership.  The channel receives a small percentage of revenue from any sales generated by viewers clicking the links.\\n\\n#Apple\\n#AppleWatch\\n#Series9\\n#iPhone'}, 'defaultAudioLanguage': 'en'}, 'statistics': {'viewCount': '30106', 'likeCount': '485', 'favoriteCount': '0', 'commentCount': '30'}}], 'pageInfo': {'totalResults': 1, 'resultsPerPage': 1}}\n",
            "Video 31 - Apple Watch Series 9 Review - 6 Months Later -- Comment count:  30\n",
            "\n",
            "{'kind': 'youtube#videoListResponse', 'etag': '1SjL7og25kg-cqWEixH4Qw7pSfg', 'items': [{'kind': 'youtube#video', 'etag': '_Sjrwy0W4dvBtBffRrfBQQSdjRA', 'id': '5gkiXZ_DjOw', 'snippet': {'publishedAt': '2023-09-20T13:00:07Z', 'channelId': 'UCOmcA3f_RrH6b9NmcNa4tdg', 'title': 'Apple Watch Series 9 Review: Slightly Smarter and Faster', 'description': \"The Series 9’s new Double Tap feature and faster Siri responses make the watch feel more convenient. But otherwise, it’s largely the same as the Series 8.\\n\\nFind the Apple Watch Series 9 here:\\nApple Watch Series 9 -  https://cnet.co/3Zr9MP4\\n*Cnet may get a commission for these offers\\n\\n0:00 What's New\\n1:35 Double Tap\\n2:55 On-Device Siri\\n5:00 Find My Phone\\n6:00 Battery, Health and Other Features\\n6:53 Final Thoughts\\n\\nSubscribe to CNET: https://www.youtube.com/user/CNETTV\\nNever miss a deal again! See CNET’s browser extension 👉 https://bit.ly/3lO7sOU\\nCheck out CNET’s Amazon Storefront: https://www.amazon.com/shop/cnet\\nFollow us on TikTok: https://www.tiktok.com/@cnetdotcom\\nFollow us on Instagram: https://www.instagram.com/cnet/\\nFollow us on Twitter: https://www.twitter.com/cnet\\nLike us on Facebook: https://www.facebook.com/cnet\\n\\n#apple #applewatch #applewatchseries9\", 'thumbnails': {'default': {'url': 'https://i.ytimg.com/vi/5gkiXZ_DjOw/default.jpg', 'width': 120, 'height': 90}, 'medium': {'url': 'https://i.ytimg.com/vi/5gkiXZ_DjOw/mqdefault.jpg', 'width': 320, 'height': 180}, 'high': {'url': 'https://i.ytimg.com/vi/5gkiXZ_DjOw/hqdefault.jpg', 'width': 480, 'height': 360}, 'standard': {'url': 'https://i.ytimg.com/vi/5gkiXZ_DjOw/sddefault.jpg', 'width': 640, 'height': 480}, 'maxres': {'url': 'https://i.ytimg.com/vi/5gkiXZ_DjOw/maxresdefault.jpg', 'width': 1280, 'height': 720}}, 'channelTitle': 'CNET', 'tags': ['CNET', 'Technology', 'tech', 'apple watch', 'apple', 'series 9', 'Apple Watch series 9', 'Apple Watch 9', 'watchOS', 'Apple Watch Series 9', 'Apple Watch 9 features', 'Apple Watch 9 specifications', 'Apple Watch 9 design', 'advanced Apple Watch', 'next-generation Apple Watch', 'future Apple Watch', 'Apple Watch 9 release date', 'Apple Watch 9 news'], 'categoryId': '28', 'liveBroadcastContent': 'none', 'localized': {'title': 'Apple Watch Series 9 Review: Slightly Smarter and Faster', 'description': \"The Series 9’s new Double Tap feature and faster Siri responses make the watch feel more convenient. But otherwise, it’s largely the same as the Series 8.\\n\\nFind the Apple Watch Series 9 here:\\nApple Watch Series 9 -  https://cnet.co/3Zr9MP4\\n*Cnet may get a commission for these offers\\n\\n0:00 What's New\\n1:35 Double Tap\\n2:55 On-Device Siri\\n5:00 Find My Phone\\n6:00 Battery, Health and Other Features\\n6:53 Final Thoughts\\n\\nSubscribe to CNET: https://www.youtube.com/user/CNETTV\\nNever miss a deal again! See CNET’s browser extension 👉 https://bit.ly/3lO7sOU\\nCheck out CNET’s Amazon Storefront: https://www.amazon.com/shop/cnet\\nFollow us on TikTok: https://www.tiktok.com/@cnetdotcom\\nFollow us on Instagram: https://www.instagram.com/cnet/\\nFollow us on Twitter: https://www.twitter.com/cnet\\nLike us on Facebook: https://www.facebook.com/cnet\\n\\n#apple #applewatch #applewatchseries9\"}, 'defaultAudioLanguage': 'en'}, 'statistics': {'viewCount': '378845', 'likeCount': '2433', 'favoriteCount': '0', 'commentCount': '275'}}], 'pageInfo': {'totalResults': 1, 'resultsPerPage': 1}}\n",
            "Video 32 - Apple Watch Series 9 Review: Slightly Smarter and Faster -- Comment count:  275\n",
            "\n",
            "{'kind': 'youtube#videoListResponse', 'etag': 'trj8KnOxkbdL3gpEIO3fHp0C2J0', 'items': [{'kind': 'youtube#video', 'etag': 'IItyCmx82c_tVRHwQGu7FMJdNtA', 'id': '44FEs8jAN9Y', 'snippet': {'publishedAt': '2023-09-21T15:31:06Z', 'channelId': 'UC6y_DbpezOinlzHv8O092zw', 'title': 'Apple Watch Series 9 In-Depth Review: Worth Upgrading?', 'description': \"Here's your complete Apple Watch Series 9 review, diving into all the new features and how well they work! Buy the Apple Watch Series 9 here (https://amzn.to/455GpCX), which helps support the channel!\\n\\n0:00 Quick Overview\\n0:25 Pricing\\n0:30 New Display Brightness Comparison Teste\\n1:32 Night Display Brightness\\n1:51 Faster Chipset Worth It?\\n2:16 Double Tap hands-on explained\\n3:55 Offline Siri\\n4:36 Siri and Apple Health\\n4:55 UWB Gen2 Precision Finding\\n5:20 Activity Tracking\\n6:07 Sleep Tracking Tested\\n7:07 Wrist Temperature Tracking\\n7:38 Sports and Workout Usage\\n8:40 Topographic Maps\\n9:27 Cycling Companion App (Bike Computer)\\n10:02 Cycling Power Meters\\n11:26 Battery Life Tested\\n12:04 GPS Accuracy\\n13:21 Heart Rate Accuracy\\n13:46 Recommendations & Worth it?\\n\\nNote: Some links Amazon affiliate links, which I may earn a commission.\\n\\n#AppleWatchSeries9 #AppleWatch #Apple\", 'thumbnails': {'default': {'url': 'https://i.ytimg.com/vi/44FEs8jAN9Y/default.jpg', 'width': 120, 'height': 90}, 'medium': {'url': 'https://i.ytimg.com/vi/44FEs8jAN9Y/mqdefault.jpg', 'width': 320, 'height': 180}, 'high': {'url': 'https://i.ytimg.com/vi/44FEs8jAN9Y/hqdefault.jpg', 'width': 480, 'height': 360}, 'standard': {'url': 'https://i.ytimg.com/vi/44FEs8jAN9Y/sddefault.jpg', 'width': 640, 'height': 480}, 'maxres': {'url': 'https://i.ytimg.com/vi/44FEs8jAN9Y/maxresdefault.jpg', 'width': 1280, 'height': 720}}, 'channelTitle': 'DC Rainmaker', 'tags': ['Apple Watch Series 9', 'Apple Watch Review', 'Apple Watch Series 9 REview', 'Apple Watch 9 Review', 'Apple Watch 8 vs 9', 'Apple Watch 9 Test', 'Apple Watch 9 vs Ultra', 'Apple Watch 2023 Review', 'DC Rainmaker', 'ray maker', 'rainmaker'], 'categoryId': '17', 'liveBroadcastContent': 'none', 'localized': {'title': 'Apple Watch Series 9 In-Depth Review: Worth Upgrading?', 'description': \"Here's your complete Apple Watch Series 9 review, diving into all the new features and how well they work! Buy the Apple Watch Series 9 here (https://amzn.to/455GpCX), which helps support the channel!\\n\\n0:00 Quick Overview\\n0:25 Pricing\\n0:30 New Display Brightness Comparison Teste\\n1:32 Night Display Brightness\\n1:51 Faster Chipset Worth It?\\n2:16 Double Tap hands-on explained\\n3:55 Offline Siri\\n4:36 Siri and Apple Health\\n4:55 UWB Gen2 Precision Finding\\n5:20 Activity Tracking\\n6:07 Sleep Tracking Tested\\n7:07 Wrist Temperature Tracking\\n7:38 Sports and Workout Usage\\n8:40 Topographic Maps\\n9:27 Cycling Companion App (Bike Computer)\\n10:02 Cycling Power Meters\\n11:26 Battery Life Tested\\n12:04 GPS Accuracy\\n13:21 Heart Rate Accuracy\\n13:46 Recommendations & Worth it?\\n\\nNote: Some links Amazon affiliate links, which I may earn a commission.\\n\\n#AppleWatchSeries9 #AppleWatch #Apple\"}, 'defaultAudioLanguage': 'en'}, 'statistics': {'viewCount': '308665', 'likeCount': '4209', 'favoriteCount': '0', 'commentCount': '197'}}], 'pageInfo': {'totalResults': 1, 'resultsPerPage': 1}}\n",
            "Video 33 - Apple Watch Series 9 In-Depth Review: Worth Upgrading? -- Comment count:  197\n",
            "\n",
            "{'kind': 'youtube#videoListResponse', 'etag': 'swSief7wztXO6YIDygPQzSNS3L0', 'items': [{'kind': 'youtube#video', 'etag': 'M4y8ncFPmaXi7_hiyU3yNTYPzQ0', 'id': 'oNCs4C2SMjo', 'snippet': {'publishedAt': '2023-09-21T17:29:36Z', 'channelId': 'UCBJycsmduvYEL83R_U4JriQ', 'title': 'Apple Watch Series 9 & Ultra 2: What Are We Waiting For?!', 'description': \"Apple Watch Ultra 2 and Series 9 are... a spec bump. But what are we actually waiting for?\\n\\nMKBHD Merch: http://shop.MKBHD.com\\n\\nTech I'm using right now: https://www.amazon.com/shop/MKBHD\\n\\nIntro Track: http://youtube.com/20syl\\nPlaylist of MKBHD Intro music: https://goo.gl/B3AWV5\\n\\nWatch provided by Apple for review.\\n\\n~\\nhttp://twitter.com/MKBHD\\nhttp://instagram.com/MKBHD\\nhttp://facebook.com/MKBHD\", 'thumbnails': {'default': {'url': 'https://i.ytimg.com/vi/oNCs4C2SMjo/default.jpg', 'width': 120, 'height': 90}, 'medium': {'url': 'https://i.ytimg.com/vi/oNCs4C2SMjo/mqdefault.jpg', 'width': 320, 'height': 180}, 'high': {'url': 'https://i.ytimg.com/vi/oNCs4C2SMjo/hqdefault.jpg', 'width': 480, 'height': 360}, 'standard': {'url': 'https://i.ytimg.com/vi/oNCs4C2SMjo/sddefault.jpg', 'width': 640, 'height': 480}, 'maxres': {'url': 'https://i.ytimg.com/vi/oNCs4C2SMjo/maxresdefault.jpg', 'width': 1280, 'height': 720}}, 'channelTitle': 'Marques Brownlee', 'tags': ['Apple watch', 'Apple watch review', 'apple watch series 9', 'watch series 9', 'MKBHD', 'Watch ultra', 'ultra 2', 'apple watch ultra', 'apple watch ultra 2'], 'categoryId': '28', 'liveBroadcastContent': 'none', 'defaultLanguage': 'en', 'localized': {'title': 'Apple Watch Series 9 & Ultra 2: What Are We Waiting For?!', 'description': \"Apple Watch Ultra 2 and Series 9 are... a spec bump. But what are we actually waiting for?\\n\\nMKBHD Merch: http://shop.MKBHD.com\\n\\nTech I'm using right now: https://www.amazon.com/shop/MKBHD\\n\\nIntro Track: http://youtube.com/20syl\\nPlaylist of MKBHD Intro music: https://goo.gl/B3AWV5\\n\\nWatch provided by Apple for review.\\n\\n~\\nhttp://twitter.com/MKBHD\\nhttp://instagram.com/MKBHD\\nhttp://facebook.com/MKBHD\"}, 'defaultAudioLanguage': 'en-US'}, 'statistics': {'viewCount': '3660596', 'likeCount': '90229', 'favoriteCount': '0', 'commentCount': '3857'}}], 'pageInfo': {'totalResults': 1, 'resultsPerPage': 1}}\n",
            "Video 34 - Apple Watch Series 9 & Ultra 2: What Are We Waiting For?! -- Comment count:  3857\n",
            "\n",
            "{'kind': 'youtube#videoListResponse', 'etag': 'dr9H2KltsqMbk8HpoCo_A875HsQ', 'items': [{'kind': 'youtube#video', 'etag': '7iAbm4jqg566ONN5bvaNBiufiJQ', 'id': 'Oh9Q6zUqng4', 'snippet': {'publishedAt': '2024-02-18T12:00:16Z', 'channelId': 'UCnn3N0i3TVGbQ9bMb4ln2OQ', 'title': 'Apple Watch Series 9 After 5 Months: Not All It Seems', 'description': \"After 5 Months of use with the Apple Watch Series 9, my thoughts have changed...\\nALL MY FAVORITE GEAR IS LISTED BELOW 👇\\n\\n\\nIn this video, I share my honest long term experience with the Apple Watch Series 9. From the announcement to long-term wear, I've explored every new feature and upgrade, evaluating what truly adds value and what might be considered fluff. I discuss the Series 9's performance, design durability, and software enhancements, including my take on the new S9 chip, watchOS 10, and the practicality of the latest health tracking features. Join me, as we dissect the real-world implications of Apple's latest wearable tech, helping you make an informed decision.\\n\\nBuy Apple Watch Series 9 | https://amzn.to/49F8DqU\\nApple Sport Band | https://amzn.to/49EnJgw\\nApple Alpine Loop Band | https://amzn.to/3UQAKz8\\n\\nDownload My Latest Wallpaper Pack HERE: https://iokyle.gumroad.com/\\nI monitor and manage all my macs with CleanMyMac X: https://macpaw.audw.net/c/3460079/263631/1733\\n\\nMY SETUP GEAR:\\nSpace Black MacBook Pro M3 Pro | https://amzn.to/41dh6ic\\nEffydesk Wildwood Standing Desk | https://amzn.to/3Sy67NJ\\nEffydesk Deskshelf | https://amzn.to/426k2xq\\nApple Studio Display | https://amzn.to/3GCr0R6\\nHumanCentric Vertical Laptop Stand | https://amzn.to/3RAD2R2\\nWalnut Headphone Stand | https://amzn.to/3U6NQYS\\nBeyerdynamic DT 990 Pro Headphones | https://amzn.to/3HpUmm0\\nCalDigit TS4 USB Hub | https://amzn.to/3Fc80Ji\\nSamsung 980 Pro SSD | https://amzn.to/48yWsfc\\nHyperDrive Next USB4 SSD Enclosure: https://bit.ly/hyper-next-drive\\nLogitech MX Master 3S Mouse | https://amzn.to/3mkvEfS\\nApple Magic Keyboard with TouchID | https://amzn.to/4agndXg\\nOrbitkey Desk Mat & Keyholder | https://bit.ly/41jSoMg\\nOlanglab Wood Slat Panels | https://amzn.to/4aW3Q65\\nUMIAcoustics Wood Slats | https://amzn.to/4b0Px00\\nLamomo LED Neon Rope | https://amzn.to/3S5PKWT\\nGrid Studio iPhone Classic Kit | http://shrsl.com/3nsgi\\nMandalorian Lego Figures | https://amzn.to/3Et0oyB\\n\\nMUSIC I USE IN MY VIDEOS IS ALL FROM EPIDEMIC SOUND\\nGet a free month with the link below:\\nhttps://www.epidemicsound.com/referral/ft6xri\\n\\nLINKS TO PRODUCTS CONTAIN AFFILIATE LINKS\\nBy using the affiliate links, I earn a small fee from any purchase you make. It won't cost you anything to use them. By clicking them it helps support me, and create more content for you. Thank you for the support!\\n_______________________________\\n00:00 | Intro\\n00:42 | Why I Bought the Series 9\\n01:51 | Design & Build\\n04:11 | watchOS 10\\n06:19 | Precision Tracking\\n07:03 | Double Tap\\n08:00 | On-Device Siri\\n08:37 | Blood Oxygen Note\\n08:57 | Battery \\n09:49 | Wrapping Up\\n\\n#applewatch #series9 #apple\", 'thumbnails': {'default': {'url': 'https://i.ytimg.com/vi/Oh9Q6zUqng4/default.jpg', 'width': 120, 'height': 90}, 'medium': {'url': 'https://i.ytimg.com/vi/Oh9Q6zUqng4/mqdefault.jpg', 'width': 320, 'height': 180}, 'high': {'url': 'https://i.ytimg.com/vi/Oh9Q6zUqng4/hqdefault.jpg', 'width': 480, 'height': 360}, 'standard': {'url': 'https://i.ytimg.com/vi/Oh9Q6zUqng4/sddefault.jpg', 'width': 640, 'height': 480}, 'maxres': {'url': 'https://i.ytimg.com/vi/Oh9Q6zUqng4/maxresdefault.jpg', 'width': 1280, 'height': 720}}, 'channelTitle': 'Kyle Erickson', 'categoryId': '28', 'liveBroadcastContent': 'none', 'localized': {'title': 'Apple Watch Series 9 After 5 Months: Not All It Seems', 'description': \"After 5 Months of use with the Apple Watch Series 9, my thoughts have changed...\\nALL MY FAVORITE GEAR IS LISTED BELOW 👇\\n\\n\\nIn this video, I share my honest long term experience with the Apple Watch Series 9. From the announcement to long-term wear, I've explored every new feature and upgrade, evaluating what truly adds value and what might be considered fluff. I discuss the Series 9's performance, design durability, and software enhancements, including my take on the new S9 chip, watchOS 10, and the practicality of the latest health tracking features. Join me, as we dissect the real-world implications of Apple's latest wearable tech, helping you make an informed decision.\\n\\nBuy Apple Watch Series 9 | https://amzn.to/49F8DqU\\nApple Sport Band | https://amzn.to/49EnJgw\\nApple Alpine Loop Band | https://amzn.to/3UQAKz8\\n\\nDownload My Latest Wallpaper Pack HERE: https://iokyle.gumroad.com/\\nI monitor and manage all my macs with CleanMyMac X: https://macpaw.audw.net/c/3460079/263631/1733\\n\\nMY SETUP GEAR:\\nSpace Black MacBook Pro M3 Pro | https://amzn.to/41dh6ic\\nEffydesk Wildwood Standing Desk | https://amzn.to/3Sy67NJ\\nEffydesk Deskshelf | https://amzn.to/426k2xq\\nApple Studio Display | https://amzn.to/3GCr0R6\\nHumanCentric Vertical Laptop Stand | https://amzn.to/3RAD2R2\\nWalnut Headphone Stand | https://amzn.to/3U6NQYS\\nBeyerdynamic DT 990 Pro Headphones | https://amzn.to/3HpUmm0\\nCalDigit TS4 USB Hub | https://amzn.to/3Fc80Ji\\nSamsung 980 Pro SSD | https://amzn.to/48yWsfc\\nHyperDrive Next USB4 SSD Enclosure: https://bit.ly/hyper-next-drive\\nLogitech MX Master 3S Mouse | https://amzn.to/3mkvEfS\\nApple Magic Keyboard with TouchID | https://amzn.to/4agndXg\\nOrbitkey Desk Mat & Keyholder | https://bit.ly/41jSoMg\\nOlanglab Wood Slat Panels | https://amzn.to/4aW3Q65\\nUMIAcoustics Wood Slats | https://amzn.to/4b0Px00\\nLamomo LED Neon Rope | https://amzn.to/3S5PKWT\\nGrid Studio iPhone Classic Kit | http://shrsl.com/3nsgi\\nMandalorian Lego Figures | https://amzn.to/3Et0oyB\\n\\nMUSIC I USE IN MY VIDEOS IS ALL FROM EPIDEMIC SOUND\\nGet a free month with the link below:\\nhttps://www.epidemicsound.com/referral/ft6xri\\n\\nLINKS TO PRODUCTS CONTAIN AFFILIATE LINKS\\nBy using the affiliate links, I earn a small fee from any purchase you make. It won't cost you anything to use them. By clicking them it helps support me, and create more content for you. Thank you for the support!\\n_______________________________\\n00:00 | Intro\\n00:42 | Why I Bought the Series 9\\n01:51 | Design & Build\\n04:11 | watchOS 10\\n06:19 | Precision Tracking\\n07:03 | Double Tap\\n08:00 | On-Device Siri\\n08:37 | Blood Oxygen Note\\n08:57 | Battery \\n09:49 | Wrapping Up\\n\\n#applewatch #series9 #apple\"}, 'defaultAudioLanguage': 'en'}, 'statistics': {'viewCount': '67436', 'likeCount': '1124', 'favoriteCount': '0', 'commentCount': '106'}}], 'pageInfo': {'totalResults': 1, 'resultsPerPage': 1}}\n",
            "Video 35 - Apple Watch Series 9 After 5 Months: Not All It Seems -- Comment count:  106\n",
            "\n",
            "{'kind': 'youtube#videoListResponse', 'etag': 'Zb70o-iIaJ5D_mToklbOXy3vImE', 'items': [{'kind': 'youtube#video', 'etag': 'OUTzD2ou3p9fezqAeg3O0KI_Vig', 'id': '5VyLYPyqJvE', 'snippet': {'publishedAt': '2024-01-18T16:15:55Z', 'channelId': 'UCyIz8xeaU78aR4WkJ0kv02g', 'title': 'Apple Watch Series 9 — 2 Months After (Long-Term Review)', 'description': \"Hit the link to try out Waveroom AI for FREE! https://bit.ly/3vDemiu\\n\\nIs the Apple Watch S9 worth buying? This is a question that many fans of Apple's Cupertino technology ask. Today I will tell you about my experience with the 9th generation smart watch after 2 months of use.... Is it really a sports gadget? Is it suitable for all workouts? And what disadvantages I found in this watch, I will tell you today.\\n\\nLinks to best deals (Amazon) ↓\\nApple Watch Series 9 - https://geni.us/ulKK4\\nApple Watch SE (2nd Gen) - https://geni.us/Lgkrsa\\nApple Watch Series 6 - https://geni.us/5pvsU9\\nScreen Protector for Series 9 - https://geni.us/e7Bub\\n\\nBUSINESS INQUIRIES ONLY - c.arthurwiner@gmail.com\\n\\nLike my footage? Download here - https://bit.ly/arthurwinerfootage\\n\\n-----------------------\\nShop on Amazon - https://geni.us/vZOu3\\n\\nGEAR THAT I USE ↓\\n\\nMY STUDIO CAMERA - https://geni.us/orXP\\nMY SECONDARY CAMERA - https://geni.us/5FBZ\\nMY VLOGGING CAMERA - https://geni.us/SSIUAF\\nMY ALL TIME B-ROLL LENS - https://geni.us/6qAqp0K\\nGREAT LOW LIGHT LENS - https://geni.us/PXtT\\nBEST STUDIO MIC - https://geni.us/WWGsi\\nBEST VLOGGING MIC - https://geni.us/tizXM5\\nMY EDITING MACBOOK - https://geni.us/5aA6A6\\nAWESOME LIGHT FOR YOUTUBE - https://geni.us/m2F3jW\\nPERFECT EVERYDAY TRAVELLING TRIPOD - https://geni.us/HbVgSj\\nAs an Amazon Associate I earn from qualifying purchases. \\n-----------------------\\n\\nMY INSTAGRAM - https://www.instagram.com/arthur.winer\\n\\n-----------------------\\n*Arthur Winer is a participant in the Amazon Services LLC Associates Program, an affiliate advertising program designed to provide a means for sites to earn advertising fees by advertising and linking to amazon.com\", 'thumbnails': {'default': {'url': 'https://i.ytimg.com/vi/5VyLYPyqJvE/default.jpg', 'width': 120, 'height': 90}, 'medium': {'url': 'https://i.ytimg.com/vi/5VyLYPyqJvE/mqdefault.jpg', 'width': 320, 'height': 180}, 'high': {'url': 'https://i.ytimg.com/vi/5VyLYPyqJvE/hqdefault.jpg', 'width': 480, 'height': 360}, 'standard': {'url': 'https://i.ytimg.com/vi/5VyLYPyqJvE/sddefault.jpg', 'width': 640, 'height': 480}, 'maxres': {'url': 'https://i.ytimg.com/vi/5VyLYPyqJvE/maxresdefault.jpg', 'width': 1280, 'height': 720}}, 'channelTitle': 'Arthur Winer', 'tags': ['apple watch', 'apple watch series 9', 'apple watch s9', 'apple watch 9', 'apple watch long term', 'apple watch 6', 'apple watch 9 review', 'apple watch ultra', 'series 9', 'new apple watch', 'apple watch series 9 vs ultra 2', 'apple', 'watchos 10', \"don't buy apple watch\", 'apple watch honest review', 'apple watch user experience', 'arthur winer', 'winer arthur'], 'categoryId': '26', 'liveBroadcastContent': 'none', 'localized': {'title': 'Apple Watch Series 9 — 2 Months After (Long-Term Review)', 'description': \"Hit the link to try out Waveroom AI for FREE! https://bit.ly/3vDemiu\\n\\nIs the Apple Watch S9 worth buying? This is a question that many fans of Apple's Cupertino technology ask. Today I will tell you about my experience with the 9th generation smart watch after 2 months of use.... Is it really a sports gadget? Is it suitable for all workouts? And what disadvantages I found in this watch, I will tell you today.\\n\\nLinks to best deals (Amazon) ↓\\nApple Watch Series 9 - https://geni.us/ulKK4\\nApple Watch SE (2nd Gen) - https://geni.us/Lgkrsa\\nApple Watch Series 6 - https://geni.us/5pvsU9\\nScreen Protector for Series 9 - https://geni.us/e7Bub\\n\\nBUSINESS INQUIRIES ONLY - c.arthurwiner@gmail.com\\n\\nLike my footage? Download here - https://bit.ly/arthurwinerfootage\\n\\n-----------------------\\nShop on Amazon - https://geni.us/vZOu3\\n\\nGEAR THAT I USE ↓\\n\\nMY STUDIO CAMERA - https://geni.us/orXP\\nMY SECONDARY CAMERA - https://geni.us/5FBZ\\nMY VLOGGING CAMERA - https://geni.us/SSIUAF\\nMY ALL TIME B-ROLL LENS - https://geni.us/6qAqp0K\\nGREAT LOW LIGHT LENS - https://geni.us/PXtT\\nBEST STUDIO MIC - https://geni.us/WWGsi\\nBEST VLOGGING MIC - https://geni.us/tizXM5\\nMY EDITING MACBOOK - https://geni.us/5aA6A6\\nAWESOME LIGHT FOR YOUTUBE - https://geni.us/m2F3jW\\nPERFECT EVERYDAY TRAVELLING TRIPOD - https://geni.us/HbVgSj\\nAs an Amazon Associate I earn from qualifying purchases. \\n-----------------------\\n\\nMY INSTAGRAM - https://www.instagram.com/arthur.winer\\n\\n-----------------------\\n*Arthur Winer is a participant in the Amazon Services LLC Associates Program, an affiliate advertising program designed to provide a means for sites to earn advertising fees by advertising and linking to amazon.com\"}, 'defaultAudioLanguage': 'en-US'}, 'statistics': {'viewCount': '39550', 'likeCount': '320', 'favoriteCount': '0', 'commentCount': '32'}}], 'pageInfo': {'totalResults': 1, 'resultsPerPage': 1}}\n",
            "Video 36 - Apple Watch Series 9 — 2 Months After (Long-Term Review) -- Comment count:  32\n",
            "\n",
            "{'kind': 'youtube#videoListResponse', 'etag': 'o4UJmoV5FHS8Zygdd8RFoEhCfHg', 'items': [{'kind': 'youtube#video', 'etag': '3dBk5_NO5wbtVLunmyBNitYZteo', 'id': 'FcF0F4lYi_U', 'snippet': {'publishedAt': '2023-10-17T00:29:58Z', 'channelId': 'UCO_vmeInQm5Z6dEZ6R5Kk0A', 'title': 'Apple Watch Series 9 One Month Later - Why It Wins', 'description': \"This is the Apple Watch Series 9, what Apple calls as smarter, brighter, mightier, and what I'm gonna call as probably of my favorite smartwatches in a bit, even if for reasons that are not necessarily conventional to my taste. I mean sure, this might look like Series 8 and Series 7, but let's just say this could just be the culmination of what this watch should've been since Series 1. I'm Jaime Rivera with Pocketnow and let me explain to you why in to our full review. \\n\\nSubscribe: https://bit.ly/pocketnowsub\\nhttps://pocketnow.com\\n\\nFollow us:\\nhttps://flipboard.com/@Pocketnow\\nhttps://facebook.com/pocketnow\\nhttps://twitter.com/pocketnow\\nhttps://instagram.com/pocketnow\\n\\nGraphics provided by: Motionvfx.com\", 'thumbnails': {'default': {'url': 'https://i.ytimg.com/vi/FcF0F4lYi_U/default.jpg', 'width': 120, 'height': 90}, 'medium': {'url': 'https://i.ytimg.com/vi/FcF0F4lYi_U/mqdefault.jpg', 'width': 320, 'height': 180}, 'high': {'url': 'https://i.ytimg.com/vi/FcF0F4lYi_U/hqdefault.jpg', 'width': 480, 'height': 360}, 'standard': {'url': 'https://i.ytimg.com/vi/FcF0F4lYi_U/sddefault.jpg', 'width': 640, 'height': 480}, 'maxres': {'url': 'https://i.ytimg.com/vi/FcF0F4lYi_U/maxresdefault.jpg', 'width': 1280, 'height': 720}}, 'channelTitle': 'Pocketnow', 'tags': ['Apple Watch Series 9 Review', 'Apple Watch Series 9 One Month Later', 'Apple Watch Series 9', 'Apple Watch Extended Review', 'Best Apple Watch', 'Apple Watch 9', 'New Apple Watch', 'Best Smartwatch', 'WatchOS 10', 'iOS', 'iPhone', 'iPhone 15 Pro', 'Best Watch For iPhone', 'Pocketnow', 'Jaime Rivera', 'Pocketnow Daily', 'Review', 'Tech Review', 'New Watch', 'Best Watch', 'Apple Watch 9 vs Apple Watch 1', 'Series 9 Vs Ultra', 'Apple Watch Ultra Vs Apple Watch Series 9'], 'categoryId': '28', 'liveBroadcastContent': 'none', 'defaultLanguage': 'en', 'localized': {'title': 'Apple Watch Series 9 One Month Later - Why It Wins', 'description': \"This is the Apple Watch Series 9, what Apple calls as smarter, brighter, mightier, and what I'm gonna call as probably of my favorite smartwatches in a bit, even if for reasons that are not necessarily conventional to my taste. I mean sure, this might look like Series 8 and Series 7, but let's just say this could just be the culmination of what this watch should've been since Series 1. I'm Jaime Rivera with Pocketnow and let me explain to you why in to our full review. \\n\\nSubscribe: https://bit.ly/pocketnowsub\\nhttps://pocketnow.com\\n\\nFollow us:\\nhttps://flipboard.com/@Pocketnow\\nhttps://facebook.com/pocketnow\\nhttps://twitter.com/pocketnow\\nhttps://instagram.com/pocketnow\\n\\nGraphics provided by: Motionvfx.com\"}, 'defaultAudioLanguage': 'en'}, 'statistics': {'viewCount': '220403', 'likeCount': '3145', 'favoriteCount': '0', 'commentCount': '191'}}], 'pageInfo': {'totalResults': 1, 'resultsPerPage': 1}}\n",
            "Video 37 - Apple Watch Series 9 One Month Later - Why It Wins -- Comment count:  191\n",
            "\n",
            "{'kind': 'youtube#videoListResponse', 'etag': '9638B4aXhpe6Ukrzg6Titssp7cw', 'items': [{'kind': 'youtube#video', 'etag': '-U8lznpJnZujahOtVnNaAVGUPdE', 'id': 'J6hCaO7n35o', 'snippet': {'publishedAt': '2023-10-22T11:00:13Z', 'channelId': 'UCnn3N0i3TVGbQ9bMb4ln2OQ', 'title': \"Apple Watch Series 9 After 1 Month: It's Not Even CLOSE!\", 'description': \"Diving into my experience with the Apple Watch Series 9 over the past month.\\nALL MY FAVORITE GEAR IS LISTED BELOW 👇\\n\\nwatchOS 10 video is here: https://youtu.be/5lVV5jm1bCQ\\n\\nI bought the Apple Watch Series 9 on launch, after using the Series 6 for a few years. I've also been testing out the Google Pixel Watch 2 recently, which has given me some context for what makes this watch special. If you're considering either the Series 9 Or the Apple Watch Ultra 2, and wondering if they're worth it, this is the video for you.\\n\\nBUY THE SERIES 9 HERE: https://amzn.to/3SqTDb5\\n\\nDownload My Latest Wallpaper Pack HERE: https://iokyle.gumroad.com/\\nI monitor and manage all my macs with CleanMyMac X: https://macpaw.audw.net/c/3460079/263631/1733\\n\\nMY APPLE/SETUP SETUP GEAR:\\nLG 27UQ850-W Ultrafine 4K Monitor | https://amzn.to/3o1Beoh\\nLogitech MX Master 3S Mouse | https://amzn.to/3mkvEfS\\nLogitech MX Keys Mini | https://amzn.to/3PrfUQE\\nZikeDrive USB4 SSD Enclosure: https://shrsl.com/49hyk\\nWestern Digital SN770: https://amzn.to/3A6aZPI\\nFlexispot Standing Desk | https://bit.ly/3xUYJ40\\nBenQ ScreenBar Monitor Light | https://amzn.to/3w7DQBH\\nGove RGBIC Strip Lights | https://amzn.to/3CvITx3\\nMandalorian Lego Figures | https://amzn.to/3Et0oyB\\nNomad Base One Max | https://www.dpbolvw.net/click-100415534-14527713?url=https%3A%2F%2Fnomadgoods.com%2Fproducts%2Fbase-one-max-carbide\\nAutonomous ErgoChair Pro | https://www.autonomous.ai/office-chairs/ergonomic-chair?utm_source=pr&utm_medium=influencer&utm_campaign=growth&utm_content=Youtube&utm_term=22KYLE\\nMonoprice Cable Tray | https://amzn.to/3A5nb3t\\nOrbitkey Desk Mat & Keyholder | https://bit.ly/41jSoMg\\nFluance Ai41 Speakers | https://amzn.to/3oi6wah\\nKanto S4 Speaker Stands | https://amzn.to/3A6cWvw\\nVivo Monitor Arm | https://amzn.to/3CtYkWE\\nCalDigit TS4 USB Hub | https://amzn.to/3Fc80Ji\\nGrid Studio iPhone Classic Kit | http://shrsl.com/3nsgi\\n\\nMUSIC I USE IN MY VIDEOS IS ALL FROM EPIDEMIC SOUND\\nGet a free month with the link below:\\nhttps://www.epidemicsound.com/referral/ft6xri\\n\\nLINKS TO PRODUCTS CONTAIN AFFILIATE LINKS\\nBy using the affiliate links, I earn a small fee from any purchase you make. It won't cost you anything to use them. By clicking them it helps support me, and create more content for you. Thank you for the support!\\n_______________________________\\n00:00 | Intro\\n01:07 | Design\\n02:23 | Screen\\n03:04 | Battery\\n03:53 | S9 Chip\\n04:16 | Siri Updates\\n04:38 | Double Tap\\n06:01 | Precision Finding\\n06:33 | watchOS 10\\n08:42 | Wrapping Up\", 'thumbnails': {'default': {'url': 'https://i.ytimg.com/vi/J6hCaO7n35o/default.jpg', 'width': 120, 'height': 90}, 'medium': {'url': 'https://i.ytimg.com/vi/J6hCaO7n35o/mqdefault.jpg', 'width': 320, 'height': 180}, 'high': {'url': 'https://i.ytimg.com/vi/J6hCaO7n35o/hqdefault.jpg', 'width': 480, 'height': 360}, 'standard': {'url': 'https://i.ytimg.com/vi/J6hCaO7n35o/sddefault.jpg', 'width': 640, 'height': 480}, 'maxres': {'url': 'https://i.ytimg.com/vi/J6hCaO7n35o/maxresdefault.jpg', 'width': 1280, 'height': 720}}, 'channelTitle': 'Kyle Erickson', 'tags': ['apple watch series 9', 'apple watch', 'apple watch ultra', 'apple watch series 9 review', 'apple watch series 9 vs ultra 2', 'apple watch series 9 vs series 8', 'google pixel watch', 'pixel watch vs apple watch', 'series 9', 'series 9 review', 'series 9 vs series 6', 'aw series 9', 'apple watch s9', 'apple watch s9 review', 'apple watch ultra 2', 'apple watch series 9 starlight', 'apple watch nike sport loop', 'nike sport loop', 'apple watch bands'], 'categoryId': '28', 'liveBroadcastContent': 'none', 'localized': {'title': \"Apple Watch Series 9 After 1 Month: It's Not Even CLOSE!\", 'description': \"Diving into my experience with the Apple Watch Series 9 over the past month.\\nALL MY FAVORITE GEAR IS LISTED BELOW 👇\\n\\nwatchOS 10 video is here: https://youtu.be/5lVV5jm1bCQ\\n\\nI bought the Apple Watch Series 9 on launch, after using the Series 6 for a few years. I've also been testing out the Google Pixel Watch 2 recently, which has given me some context for what makes this watch special. If you're considering either the Series 9 Or the Apple Watch Ultra 2, and wondering if they're worth it, this is the video for you.\\n\\nBUY THE SERIES 9 HERE: https://amzn.to/3SqTDb5\\n\\nDownload My Latest Wallpaper Pack HERE: https://iokyle.gumroad.com/\\nI monitor and manage all my macs with CleanMyMac X: https://macpaw.audw.net/c/3460079/263631/1733\\n\\nMY APPLE/SETUP SETUP GEAR:\\nLG 27UQ850-W Ultrafine 4K Monitor | https://amzn.to/3o1Beoh\\nLogitech MX Master 3S Mouse | https://amzn.to/3mkvEfS\\nLogitech MX Keys Mini | https://amzn.to/3PrfUQE\\nZikeDrive USB4 SSD Enclosure: https://shrsl.com/49hyk\\nWestern Digital SN770: https://amzn.to/3A6aZPI\\nFlexispot Standing Desk | https://bit.ly/3xUYJ40\\nBenQ ScreenBar Monitor Light | https://amzn.to/3w7DQBH\\nGove RGBIC Strip Lights | https://amzn.to/3CvITx3\\nMandalorian Lego Figures | https://amzn.to/3Et0oyB\\nNomad Base One Max | https://www.dpbolvw.net/click-100415534-14527713?url=https%3A%2F%2Fnomadgoods.com%2Fproducts%2Fbase-one-max-carbide\\nAutonomous ErgoChair Pro | https://www.autonomous.ai/office-chairs/ergonomic-chair?utm_source=pr&utm_medium=influencer&utm_campaign=growth&utm_content=Youtube&utm_term=22KYLE\\nMonoprice Cable Tray | https://amzn.to/3A5nb3t\\nOrbitkey Desk Mat & Keyholder | https://bit.ly/41jSoMg\\nFluance Ai41 Speakers | https://amzn.to/3oi6wah\\nKanto S4 Speaker Stands | https://amzn.to/3A6cWvw\\nVivo Monitor Arm | https://amzn.to/3CtYkWE\\nCalDigit TS4 USB Hub | https://amzn.to/3Fc80Ji\\nGrid Studio iPhone Classic Kit | http://shrsl.com/3nsgi\\n\\nMUSIC I USE IN MY VIDEOS IS ALL FROM EPIDEMIC SOUND\\nGet a free month with the link below:\\nhttps://www.epidemicsound.com/referral/ft6xri\\n\\nLINKS TO PRODUCTS CONTAIN AFFILIATE LINKS\\nBy using the affiliate links, I earn a small fee from any purchase you make. It won't cost you anything to use them. By clicking them it helps support me, and create more content for you. Thank you for the support!\\n_______________________________\\n00:00 | Intro\\n01:07 | Design\\n02:23 | Screen\\n03:04 | Battery\\n03:53 | S9 Chip\\n04:16 | Siri Updates\\n04:38 | Double Tap\\n06:01 | Precision Finding\\n06:33 | watchOS 10\\n08:42 | Wrapping Up\"}, 'defaultAudioLanguage': 'en'}, 'statistics': {'viewCount': '287987', 'likeCount': '3472', 'favoriteCount': '0', 'commentCount': '230'}}], 'pageInfo': {'totalResults': 1, 'resultsPerPage': 1}}\n",
            "Video 38 - Apple Watch Series 9 After 1 Month: It's Not Even CLOSE! -- Comment count:  230\n",
            "\n",
            "{'kind': 'youtube#videoListResponse', 'etag': 'acuVQs0pqECJSOw8Yv51SQAB4cE', 'items': [{'kind': 'youtube#video', 'etag': '2kfMVxXB4yTW3qcq-hzk1D4rNw8', 'id': '4igZ3DEhrk4', 'snippet': {'publishedAt': '2023-09-30T15:31:00Z', 'channelId': 'UChNWxrTlmh4IRSevon1X93g', 'title': 'Apple Watch Series 9 : Full SCIENTIFIC Review', 'description': '🔴 Get a Series 9!*: https://geni.us/AppleWatch_Series9\\n🔴 Get an Apple Watch Ultra2*: https://geni.us/AppleWatch_Ultra2\\n🔴 General Amazon link*: https://geni.us/thequantifiedscientist\\n🟢 Instagram: https://www.instagram.com/quantified_scientist/\\n🟠 Shorts: https://www.youtube.com/@smartwatchshorts\\n🔵 Newsletter: www.robterhorst.com\\n🟡 Twitter: @QuantifiedRob\\n* Affiliate (paid) links support the channel by earning me a commission on any sale, and it doesn\\'t cost you any more! My opinions are completely my own, and this content is not sponsored.\\n▬▬▬▬▬▬▬▬▬▬▬▬▬▬▬▬▬▬▬▬▬▬▬▬▬▬▬▬\\n👇 $30 off any new WHOOP membership, affiliate* (paid) link, supports the channel!👇\\nhttps://join.whoop.com/QuantifiedScientist ($30 off any new WHOOP membership)\\n▬▬▬▬▬▬▬▬▬▬▬▬▬▬▬▬▬▬▬▬▬▬▬▬▬▬▬▬\\n👇Amazon Affiliate* (paid) links. Supports the channel, doesn\\'t cost you any more!👇\\n▬▬▬▬▬▬▬▬▬▬BEST WATCHES▬▬▬▬▬▬▬▬▬▬\\n🔴 Oura Link: I recommend you search for a discount on reddit with the \"Refer-A-Friend\" program! If you can’t find one: https://ouraring.sjv.io/rQ4L33 (affiliate link that supports the channel, but doesn\\'t have a discount)\\n🔴 Whoop Strap 4.0: https://join.whoop.com/QuantifiedScientist \\n($30 off any new WHOOP membership)\\n🔴 Eight sleep 200$/150$ discount*: https://eight-sleep.ioym.net/TheQuantifiedScientist + add code “TQS” for 200$/150$ total discount\\n\\n🔴 General Amazon link*: https://geni.us/thequantifiedscientist\\n🔴 Polar H10: https://geni.us/hnXc\\n\\n▬▬▬▬▬▬▬▬▬▬▬▬▬▬▬▬▬▬▬▬▬▬▬▬▬▬▬▬\\n📸My Gear* (paid links, supports the channel and doesn’t cost you any more)📸\\nCamera body (main): https://geni.us/SonyA6600_body\\nCamera lens (main): https://geni.us/SigmaContemporary\\nCamera (B-roll 1): https://geni.us/Sony_ZVE1\\nCamera (B-roll 2): https://geni.us/CanonEosM50MarkII and https://geni.us/Sony_ZVE10\\nLight: https://geni.us/Godox_VL150\\nSoftbox: https://geni.us/NiceFotoSoftbox\\nLight stand: https://geni.us/WalimexLightstand\\n▬▬▬▬▬▬▬▬▬▬▬▬▬▬▬▬▬▬▬▬▬▬▬▬▬▬▬▬\\n\\nReference devices:\\nZMax + Dreamento: https://www.biorxiv.org/content/10.1101/2023.08.18.553744v1 & https://github.com/dreamento/dreamento\\nPolar H10: https://pubmed.ncbi.nlm.nih.gov/31004219/\\n\\nIntro Music:\\nMusic from #Uppbeat (free for Creators!):\\nhttps://uppbeat.io/t/moire/new-life\\nLicense code: OBLD6VBBCTRDFZQP\\n\\nTimestamps:\\n00:00 Quick Intro\\n00:57 Testing setup\\n01:24 Apple Watch 9 Improvements\\n04:05 Indoor Cycling Test 1 : Male\\n06:54 Indoor Cycling Test 2 : Female\\n08:05 Indoor Cycling Test : Comparison w/ Other Watches\\n09:38 Outdoor Cycling Test 1 : Male\\n12:03 Outdoor Cycling Test 2 : Female\\n13:06 Outdoor Cycling Test : Comparison w/ Other Watches\\n14:29 Running Test 1 : Male\\n15:51 Running Test 2 : Female\\n16:36 Weight Lifting Test 1 : Male\\n18:46 Weight Lifting Test 2 : Female\\n19:43 Weight Lifting Test : Comparison w/ Other Watches\\n21:44 Sleep Test : Series 9\\n29:40 Sleep Test : Comparison w/ Other Watches\\n33:25 GPS Test\\n38:31 Oxygen Saturation Test\\n41:11 Limitations\\n42:00 Recommendations & Conclusions\\n\\nFor the most part, the watch is very similar to the Series 8, but with a few improvements: first of all, the screen is quite a bit brighter, which is quite nice actually. It is quite tricky to capture on camera, but here you can see it for yourself under a bunch of different circumstances. Second, one of the main things that was addressed in the keynote is that it has a new and much more powerful S9 chip, which among other things enables the “double tap”. This was one of the most highlighted features during the keynote, maybe a bit too much in my opinion, but it is quite cool. This is available starting from watchOS version 10.1, which unfortunately isn’t out yet, and Apple did not invite me to the launch event or give me early access, so I couldn’ test it. Hey Apple, hint, hint… Now, online I saw many comments that Apple Watches basically had this feature for a long time, called Assistive Touch. I tried Assistive Touch on my Apple Watch Series 8 before the Series 9 was released, and it does have much of the same functionalities as Double Tap. Though I did find it kind of clunky to use. DC Rainmaker mentioned in his video that the double tap feature worked significantly better for him than Assistive touch. Now, Apple says the double tap feature will only work on the Series 9, because it needs the S9 chip, which is probably true for the way it is implemented. However, I still wonder if they couldn’t have made it work on older series if they’d really wanted to, but OK, it is Apple we are talking about. Now, the new S9 chip also enables Siri to do some new things: first of all, Siri can now process some commands on-device, meaning it is much faster at doing certain things, like setting an alarm. This is honestly much more important to me than double tap, since I will use Siri much more for these kinds of small tasks now. Siri can now also access your health and fitness data, and also add health data via voice commands, or at least, you will be able to do so “later this year”.', 'thumbnails': {'default': {'url': 'https://i.ytimg.com/vi/4igZ3DEhrk4/default.jpg', 'width': 120, 'height': 90}, 'medium': {'url': 'https://i.ytimg.com/vi/4igZ3DEhrk4/mqdefault.jpg', 'width': 320, 'height': 180}, 'high': {'url': 'https://i.ytimg.com/vi/4igZ3DEhrk4/hqdefault.jpg', 'width': 480, 'height': 360}, 'standard': {'url': 'https://i.ytimg.com/vi/4igZ3DEhrk4/sddefault.jpg', 'width': 640, 'height': 480}, 'maxres': {'url': 'https://i.ytimg.com/vi/4igZ3DEhrk4/maxresdefault.jpg', 'width': 1280, 'height': 720}}, 'channelTitle': 'The Quantified Scientist', 'tags': ['apple watch ultra 2 vs series 9', 'apple watch series 9 vs ultra 2', 'ultra 2 vs series 9', 'apple watch ultra vs series 9', 'series 9 vs ultra 2', 'ultra 2', 'series 9', 'apple watch', 'apple watch ultra 2', 'apple watch series 9', 'apple watch comparison', 'apple', 'ultra 2 review', 'series 9 review', 'ultra 2 vs series 9 comparison', 'series 9 vs ultra 2 comparison', 'apple watch ultra 2 vs 1', 'apple watch ultra', 'series 9 vs ultra', 'ultra 1 vs ultra 2', 'ultra 2 vs ultra 1', 'series 9 vs series 8', 'watch'], 'categoryId': '28', 'liveBroadcastContent': 'none', 'localized': {'title': 'Apple Watch Series 9 : Full SCIENTIFIC Review', 'description': '🔴 Get a Series 9!*: https://geni.us/AppleWatch_Series9\\n🔴 Get an Apple Watch Ultra2*: https://geni.us/AppleWatch_Ultra2\\n🔴 General Amazon link*: https://geni.us/thequantifiedscientist\\n🟢 Instagram: https://www.instagram.com/quantified_scientist/\\n🟠 Shorts: https://www.youtube.com/@smartwatchshorts\\n🔵 Newsletter: www.robterhorst.com\\n🟡 Twitter: @QuantifiedRob\\n* Affiliate (paid) links support the channel by earning me a commission on any sale, and it doesn\\'t cost you any more! My opinions are completely my own, and this content is not sponsored.\\n▬▬▬▬▬▬▬▬▬▬▬▬▬▬▬▬▬▬▬▬▬▬▬▬▬▬▬▬\\n👇 $30 off any new WHOOP membership, affiliate* (paid) link, supports the channel!👇\\nhttps://join.whoop.com/QuantifiedScientist ($30 off any new WHOOP membership)\\n▬▬▬▬▬▬▬▬▬▬▬▬▬▬▬▬▬▬▬▬▬▬▬▬▬▬▬▬\\n👇Amazon Affiliate* (paid) links. Supports the channel, doesn\\'t cost you any more!👇\\n▬▬▬▬▬▬▬▬▬▬BEST WATCHES▬▬▬▬▬▬▬▬▬▬\\n🔴 Oura Link: I recommend you search for a discount on reddit with the \"Refer-A-Friend\" program! If you can’t find one: https://ouraring.sjv.io/rQ4L33 (affiliate link that supports the channel, but doesn\\'t have a discount)\\n🔴 Whoop Strap 4.0: https://join.whoop.com/QuantifiedScientist \\n($30 off any new WHOOP membership)\\n🔴 Eight sleep 200$/150$ discount*: https://eight-sleep.ioym.net/TheQuantifiedScientist + add code “TQS” for 200$/150$ total discount\\n\\n🔴 General Amazon link*: https://geni.us/thequantifiedscientist\\n🔴 Polar H10: https://geni.us/hnXc\\n\\n▬▬▬▬▬▬▬▬▬▬▬▬▬▬▬▬▬▬▬▬▬▬▬▬▬▬▬▬\\n📸My Gear* (paid links, supports the channel and doesn’t cost you any more)📸\\nCamera body (main): https://geni.us/SonyA6600_body\\nCamera lens (main): https://geni.us/SigmaContemporary\\nCamera (B-roll 1): https://geni.us/Sony_ZVE1\\nCamera (B-roll 2): https://geni.us/CanonEosM50MarkII and https://geni.us/Sony_ZVE10\\nLight: https://geni.us/Godox_VL150\\nSoftbox: https://geni.us/NiceFotoSoftbox\\nLight stand: https://geni.us/WalimexLightstand\\n▬▬▬▬▬▬▬▬▬▬▬▬▬▬▬▬▬▬▬▬▬▬▬▬▬▬▬▬\\n\\nReference devices:\\nZMax + Dreamento: https://www.biorxiv.org/content/10.1101/2023.08.18.553744v1 & https://github.com/dreamento/dreamento\\nPolar H10: https://pubmed.ncbi.nlm.nih.gov/31004219/\\n\\nIntro Music:\\nMusic from #Uppbeat (free for Creators!):\\nhttps://uppbeat.io/t/moire/new-life\\nLicense code: OBLD6VBBCTRDFZQP\\n\\nTimestamps:\\n00:00 Quick Intro\\n00:57 Testing setup\\n01:24 Apple Watch 9 Improvements\\n04:05 Indoor Cycling Test 1 : Male\\n06:54 Indoor Cycling Test 2 : Female\\n08:05 Indoor Cycling Test : Comparison w/ Other Watches\\n09:38 Outdoor Cycling Test 1 : Male\\n12:03 Outdoor Cycling Test 2 : Female\\n13:06 Outdoor Cycling Test : Comparison w/ Other Watches\\n14:29 Running Test 1 : Male\\n15:51 Running Test 2 : Female\\n16:36 Weight Lifting Test 1 : Male\\n18:46 Weight Lifting Test 2 : Female\\n19:43 Weight Lifting Test : Comparison w/ Other Watches\\n21:44 Sleep Test : Series 9\\n29:40 Sleep Test : Comparison w/ Other Watches\\n33:25 GPS Test\\n38:31 Oxygen Saturation Test\\n41:11 Limitations\\n42:00 Recommendations & Conclusions\\n\\nFor the most part, the watch is very similar to the Series 8, but with a few improvements: first of all, the screen is quite a bit brighter, which is quite nice actually. It is quite tricky to capture on camera, but here you can see it for yourself under a bunch of different circumstances. Second, one of the main things that was addressed in the keynote is that it has a new and much more powerful S9 chip, which among other things enables the “double tap”. This was one of the most highlighted features during the keynote, maybe a bit too much in my opinion, but it is quite cool. This is available starting from watchOS version 10.1, which unfortunately isn’t out yet, and Apple did not invite me to the launch event or give me early access, so I couldn’ test it. Hey Apple, hint, hint… Now, online I saw many comments that Apple Watches basically had this feature for a long time, called Assistive Touch. I tried Assistive Touch on my Apple Watch Series 8 before the Series 9 was released, and it does have much of the same functionalities as Double Tap. Though I did find it kind of clunky to use. DC Rainmaker mentioned in his video that the double tap feature worked significantly better for him than Assistive touch. Now, Apple says the double tap feature will only work on the Series 9, because it needs the S9 chip, which is probably true for the way it is implemented. However, I still wonder if they couldn’t have made it work on older series if they’d really wanted to, but OK, it is Apple we are talking about. Now, the new S9 chip also enables Siri to do some new things: first of all, Siri can now process some commands on-device, meaning it is much faster at doing certain things, like setting an alarm. This is honestly much more important to me than double tap, since I will use Siri much more for these kinds of small tasks now. Siri can now also access your health and fitness data, and also add health data via voice commands, or at least, you will be able to do so “later this year”.'}, 'defaultAudioLanguage': 'en'}, 'statistics': {'viewCount': '77601', 'likeCount': '2530', 'favoriteCount': '0', 'commentCount': '303'}}], 'pageInfo': {'totalResults': 1, 'resultsPerPage': 1}}\n",
            "Video 39 - Apple Watch Series 9 : Full SCIENTIFIC Review -- Comment count:  303\n",
            "\n",
            "{'kind': 'youtube#videoListResponse', 'etag': 'I1NTwFr8RQX3580ARTQyXG9ygyM', 'items': [{'kind': 'youtube#video', 'etag': 'GeMYqxBEB1h3S48-IwXxInnPaIg', 'id': 'GHYg8cmUiKM', 'snippet': {'publishedAt': '2024-02-17T11:01:57Z', 'channelId': 'UCMiJRAwDNSNzuYeN2uWa0pA', 'title': 'I Hated Smartwatches', 'description': \"What do I do now lol \\nCheck out the Insta360 Ace Pro. The first 30 purchases will get a 10% discount and a free accessory at https://bit.ly/Mrwhosetheboss-Insta360AcePro\\n\\nI spend a LOT of time trying to make my videos as concise, polished and useful as possible for you - if you would like to support me on that mission then consider subscribing to the channel - you'd make my day 😁\\n\\nFor my tech hot takes: http://twitter.com/Mrwhosetheboss\\nFor my Personal Posts: http://instagram.com/mrwhosetheboss\\nDoes anyone still use this anymore?: https://facebook.com/mrwhosetheboss\\n\\nAmazon Affiliate links (if you buy anything through these it will support the channel and allow us to buy better gear!):\\nAmazon US: https://amzn.to/3mFix9d\\nAmazon UK: https://amzn.to/3GMPPtM\\n\\nMy Filming Gear:\\nhttps://bit.ly/35CuxwI\\n\\nMusic is from Epidemic sound:\\nhttp://share.epidemicsound.com/pHDFT\", 'thumbnails': {'default': {'url': 'https://i.ytimg.com/vi/GHYg8cmUiKM/default.jpg', 'width': 120, 'height': 90}, 'medium': {'url': 'https://i.ytimg.com/vi/GHYg8cmUiKM/mqdefault.jpg', 'width': 320, 'height': 180}, 'high': {'url': 'https://i.ytimg.com/vi/GHYg8cmUiKM/hqdefault.jpg', 'width': 480, 'height': 360}, 'standard': {'url': 'https://i.ytimg.com/vi/GHYg8cmUiKM/sddefault.jpg', 'width': 640, 'height': 480}, 'maxres': {'url': 'https://i.ytimg.com/vi/GHYg8cmUiKM/maxresdefault.jpg', 'width': 1280, 'height': 720}}, 'channelTitle': 'Mrwhosetheboss', 'tags': ['tech', 'gadgets', 'smart watch', 'smartwatch', 'apple'], 'categoryId': '28', 'liveBroadcastContent': 'none', 'localized': {'title': 'I Hated Smartwatches', 'description': \"What do I do now lol \\nCheck out the Insta360 Ace Pro. The first 30 purchases will get a 10% discount and a free accessory at https://bit.ly/Mrwhosetheboss-Insta360AcePro\\n\\nI spend a LOT of time trying to make my videos as concise, polished and useful as possible for you - if you would like to support me on that mission then consider subscribing to the channel - you'd make my day 😁\\n\\nFor my tech hot takes: http://twitter.com/Mrwhosetheboss\\nFor my Personal Posts: http://instagram.com/mrwhosetheboss\\nDoes anyone still use this anymore?: https://facebook.com/mrwhosetheboss\\n\\nAmazon Affiliate links (if you buy anything through these it will support the channel and allow us to buy better gear!):\\nAmazon US: https://amzn.to/3mFix9d\\nAmazon UK: https://amzn.to/3GMPPtM\\n\\nMy Filming Gear:\\nhttps://bit.ly/35CuxwI\\n\\nMusic is from Epidemic sound:\\nhttp://share.epidemicsound.com/pHDFT\"}, 'defaultAudioLanguage': 'en-GB'}, 'statistics': {'viewCount': '2123116', 'likeCount': '85818', 'favoriteCount': '0', 'commentCount': '5033'}}], 'pageInfo': {'totalResults': 1, 'resultsPerPage': 1}}\n",
            "Video 40 - I Hated Smartwatches -- Comment count:  5033\n",
            "\n"
          ]
        }
      ],
      "source": [
        "print(\"Get video data...\")\n",
        "for i in range(len(vid_id)):\n",
        "    request = youtube.videos().list(\n",
        "        part=\"snippet, statistics\",\n",
        "        id=vid_id[i]\n",
        "        )\n",
        "    video_response = request.execute()\n",
        "    print(video_response)\n",
        "\n",
        "    title = video_response['items'][0]['snippet']['title']\n",
        "    vid_title.append(title)\n",
        "    try:                        # use try/except as some videos might not load\n",
        "        comment_count = video_response['items'][0]['statistics']['commentCount']\n",
        "        print(\"Video\", i + 1, \"-\", title, \"-- Comment count: \", comment_count)\n",
        "        print()\n",
        "        num_comments.append(comment_count)\n",
        "    except:\n",
        "        print(\"Video\", i + 1, \"-\", title, \"-- Comments are turned off\")\n",
        "        print()\n",
        "        num_comments.append(0)\n"
      ]
    },
    {
      "cell_type": "markdown",
      "metadata": {
        "id": "C73povCTxBzf"
      },
      "source": [
        "Show videos without loading errors"
      ]
    },
    {
      "cell_type": "code",
      "execution_count": 20,
      "metadata": {
        "colab": {
          "background_save": true
        },
        "id": "b0NZh5jOxsUI",
        "outputId": "ed37213a-5472-4bf3-c224-d985d7accbc6"
      },
      "outputs": [
        {
          "name": "stdout",
          "output_type": "stream",
          "text": [
            "Videos that can load...\n"
          ]
        }
      ],
      "source": [
        "print(\"Videos that can load...\")\n",
        "vid_page = can_load_page                    # update vid_page with those with no load error\n",
        "vid_title = can_load_title                  # update vid_title with those with no load error\n",
        "for i in range(len(vid_title)):\n",
        "    if vid_title[i] == 'YouTube':           # default error title is 'YouTube'\n",
        "        vid_title[i] = 'Video_' + str(i+1)  # replace 'YouTube' with Video_1 format\n",
        "    print(i + 1, vid_title[i])\n"
      ]
    },
    {
      "cell_type": "code",
      "execution_count": 21,
      "metadata": {},
      "outputs": [
        {
          "name": "stdout",
          "output_type": "stream",
          "text": [
            "Transcript saved successfully!\n",
            "Transcript saved successfully!\n",
            "Transcript saved successfully!\n",
            "Transcript saved successfully!\n",
            "Transcript saved successfully!\n",
            "Transcript saved successfully!\n",
            "Transcript saved successfully!\n",
            "Transcript saved successfully!\n",
            "Transcript saved successfully!\n",
            "Transcript saved successfully!\n",
            "Transcript saved successfully!\n",
            "An error occurred: \n",
            "Could not retrieve a transcript for the video https://www.youtube.com/watch?v=joYeeOVHjOM! This is most likely caused by:\n",
            "\n",
            "No transcripts were found for any of the requested language codes: ('en',)\n",
            "\n",
            "For this video (joYeeOVHjOM) transcripts are available in the following languages:\n",
            "\n",
            "(MANUALLY CREATED)\n",
            "None\n",
            "\n",
            "(GENERATED)\n",
            " - hi (\"Hindi (auto-generated)\")[TRANSLATABLE]\n",
            "\n",
            "(TRANSLATION LANGUAGES)\n",
            " - af (\"Afrikaans\")\n",
            " - ak (\"Akan\")\n",
            " - sq (\"Albanian\")\n",
            " - am (\"Amharic\")\n",
            " - ar (\"Arabic\")\n",
            " - hy (\"Armenian\")\n",
            " - as (\"Assamese\")\n",
            " - ay (\"Aymara\")\n",
            " - az (\"Azerbaijani\")\n",
            " - bn (\"Bangla\")\n",
            " - eu (\"Basque\")\n",
            " - be (\"Belarusian\")\n",
            " - bho (\"Bhojpuri\")\n",
            " - bs (\"Bosnian\")\n",
            " - bg (\"Bulgarian\")\n",
            " - my (\"Burmese\")\n",
            " - ca (\"Catalan\")\n",
            " - ceb (\"Cebuano\")\n",
            " - zh-Hans (\"Chinese (Simplified)\")\n",
            " - zh-Hant (\"Chinese (Traditional)\")\n",
            " - co (\"Corsican\")\n",
            " - hr (\"Croatian\")\n",
            " - cs (\"Czech\")\n",
            " - da (\"Danish\")\n",
            " - dv (\"Divehi\")\n",
            " - nl (\"Dutch\")\n",
            " - en (\"English\")\n",
            " - eo (\"Esperanto\")\n",
            " - et (\"Estonian\")\n",
            " - ee (\"Ewe\")\n",
            " - fil (\"Filipino\")\n",
            " - fi (\"Finnish\")\n",
            " - fr (\"French\")\n",
            " - gl (\"Galician\")\n",
            " - lg (\"Ganda\")\n",
            " - ka (\"Georgian\")\n",
            " - de (\"German\")\n",
            " - el (\"Greek\")\n",
            " - gn (\"Guarani\")\n",
            " - gu (\"Gujarati\")\n",
            " - ht (\"Haitian Creole\")\n",
            " - ha (\"Hausa\")\n",
            " - haw (\"Hawaiian\")\n",
            " - iw (\"Hebrew\")\n",
            " - hi (\"Hindi\")\n",
            " - hmn (\"Hmong\")\n",
            " - hu (\"Hungarian\")\n",
            " - is (\"Icelandic\")\n",
            " - ig (\"Igbo\")\n",
            " - id (\"Indonesian\")\n",
            " - ga (\"Irish\")\n",
            " - it (\"Italian\")\n",
            " - ja (\"Japanese\")\n",
            " - jv (\"Javanese\")\n",
            " - kn (\"Kannada\")\n",
            " - kk (\"Kazakh\")\n",
            " - km (\"Khmer\")\n",
            " - rw (\"Kinyarwanda\")\n",
            " - ko (\"Korean\")\n",
            " - kri (\"Krio\")\n",
            " - ku (\"Kurdish\")\n",
            " - ky (\"Kyrgyz\")\n",
            " - lo (\"Lao\")\n",
            " - la (\"Latin\")\n",
            " - lv (\"Latvian\")\n",
            " - ln (\"Lingala\")\n",
            " - lt (\"Lithuanian\")\n",
            " - lb (\"Luxembourgish\")\n",
            " - mk (\"Macedonian\")\n",
            " - mg (\"Malagasy\")\n",
            " - ms (\"Malay\")\n",
            " - ml (\"Malayalam\")\n",
            " - mt (\"Maltese\")\n",
            " - mi (\"Māori\")\n",
            " - mr (\"Marathi\")\n",
            " - mn (\"Mongolian\")\n",
            " - ne (\"Nepali\")\n",
            " - nso (\"Northern Sotho\")\n",
            " - no (\"Norwegian\")\n",
            " - ny (\"Nyanja\")\n",
            " - or (\"Odia\")\n",
            " - om (\"Oromo\")\n",
            " - ps (\"Pashto\")\n",
            " - fa (\"Persian\")\n",
            " - pl (\"Polish\")\n",
            " - pt (\"Portuguese\")\n",
            " - pa (\"Punjabi\")\n",
            " - qu (\"Quechua\")\n",
            " - ro (\"Romanian\")\n",
            " - ru (\"Russian\")\n",
            " - sm (\"Samoan\")\n",
            " - sa (\"Sanskrit\")\n",
            " - gd (\"Scottish Gaelic\")\n",
            " - sr (\"Serbian\")\n",
            " - sn (\"Shona\")\n",
            " - sd (\"Sindhi\")\n",
            " - si (\"Sinhala\")\n",
            " - sk (\"Slovak\")\n",
            " - sl (\"Slovenian\")\n",
            " - so (\"Somali\")\n",
            " - st (\"Southern Sotho\")\n",
            " - es (\"Spanish\")\n",
            " - su (\"Sundanese\")\n",
            " - sw (\"Swahili\")\n",
            " - sv (\"Swedish\")\n",
            " - tg (\"Tajik\")\n",
            " - ta (\"Tamil\")\n",
            " - tt (\"Tatar\")\n",
            " - te (\"Telugu\")\n",
            " - th (\"Thai\")\n",
            " - ti (\"Tigrinya\")\n",
            " - ts (\"Tsonga\")\n",
            " - tr (\"Turkish\")\n",
            " - tk (\"Turkmen\")\n",
            " - uk (\"Ukrainian\")\n",
            " - ur (\"Urdu\")\n",
            " - ug (\"Uyghur\")\n",
            " - uz (\"Uzbek\")\n",
            " - vi (\"Vietnamese\")\n",
            " - cy (\"Welsh\")\n",
            " - fy (\"Western Frisian\")\n",
            " - xh (\"Xhosa\")\n",
            " - yi (\"Yiddish\")\n",
            " - yo (\"Yoruba\")\n",
            " - zu (\"Zulu\")\n",
            "\n",
            "If you are sure that the described cause is not responsible for this error and that a transcript should be retrievable, please create an issue at https://github.com/jdepoix/youtube-transcript-api/issues. Please add which version of youtube_transcript_api you are using and provide the information needed to replicate the error. Also make sure that there are no open issues which already describe your problem!\n",
            "Transcript saved successfully!\n",
            "Transcript saved successfully!\n",
            "Transcript saved successfully!\n",
            "Transcript saved successfully!\n",
            "Transcript saved successfully!\n",
            "Transcript saved successfully!\n",
            "Transcript saved successfully!\n",
            "Transcript saved successfully!\n",
            "Transcript saved successfully!\n",
            "An error occurred: \n",
            "Could not retrieve a transcript for the video https://www.youtube.com/watch?v=lyLY_gvkAaI! This is most likely caused by:\n",
            "\n",
            "Subtitles are disabled for this video\n",
            "\n",
            "If you are sure that the described cause is not responsible for this error and that a transcript should be retrievable, please create an issue at https://github.com/jdepoix/youtube-transcript-api/issues. Please add which version of youtube_transcript_api you are using and provide the information needed to replicate the error. Also make sure that there are no open issues which already describe your problem!\n",
            "An error occurred: \n",
            "Could not retrieve a transcript for the video https://www.youtube.com/watch?v=5c9PPu3Qxxg! This is most likely caused by:\n",
            "\n",
            "Subtitles are disabled for this video\n",
            "\n",
            "If you are sure that the described cause is not responsible for this error and that a transcript should be retrievable, please create an issue at https://github.com/jdepoix/youtube-transcript-api/issues. Please add which version of youtube_transcript_api you are using and provide the information needed to replicate the error. Also make sure that there are no open issues which already describe your problem!\n",
            "Transcript saved successfully!\n",
            "Transcript saved successfully!\n",
            "Transcript saved successfully!\n",
            "Transcript saved successfully!\n",
            "Transcript saved successfully!\n",
            "Transcript saved successfully!\n",
            "Transcript saved successfully!\n",
            "Transcript saved successfully!\n",
            "Transcript saved successfully!\n",
            "Transcript saved successfully!\n",
            "Transcript saved successfully!\n",
            "Transcript saved successfully!\n",
            "Transcript saved successfully!\n",
            "Transcript saved successfully!\n",
            "Transcript saved successfully!\n",
            "Transcript saved successfully!\n",
            "Transcript saved successfully!\n"
          ]
        }
      ],
      "source": [
        "def save_transcript_to_file(video_id, output_folder):\n",
        "    try:\n",
        "        # Get the transcript for the video\n",
        "        transcript = YouTubeTranscriptApi.get_transcript(video_id)\n",
        "\n",
        "        # Extract the text from the transcript\n",
        "        text = ''\n",
        "        for segment in transcript:\n",
        "            text += segment['text'] + ' '\n",
        "\n",
        "        # Create the output folder if it doesn't exist\n",
        "        if not os.path.exists(output_folder):\n",
        "            os.makedirs(output_folder)\n",
        "\n",
        "        # Save the text to a file\n",
        "        output_file = os.path.join(output_folder, f\"{video_id}_transcript.txt\")\n",
        "        with open(output_file, 'w', encoding='utf-8') as file:\n",
        "            file.write(text)\n",
        "\n",
        "        \n",
        "        print(\"Transcript saved successfully!\")\n",
        "    except Exception as e:\n",
        "        print(\"An error occurred:\", str(e))\n",
        "\n",
        "\n",
        "for video_id in vid_id:\n",
        "    save_transcript_to_file(video_id, \"transcript_data\")\n",
        "# Example usage\n",
        "# video_id = '5KfXKQOmqY8'  # Replace 'VIDEO_ID' with the actual ID of the YouTube video\n",
        "# output_file = 'transcript.txt'\n",
        "\n",
        "# save_transcript_to_file(video_id, output_file)\n"
      ]
    },
    {
      "cell_type": "markdown",
      "metadata": {
        "id": "DD0SpAOP4JLh"
      },
      "source": [
        "Create directory"
      ]
    },
    {
      "cell_type": "code",
      "execution_count": 22,
      "metadata": {
        "colab": {
          "background_save": true
        },
        "id": "ZFHiYsOU6lxs",
        "outputId": "a008b9fd-201e-4bd2-d6f1-8dbd6739ed43"
      },
      "outputs": [
        {
          "name": "stdout",
          "output_type": "stream",
          "text": [
            "Directory Apple Watch Series 9 Review exists\n",
            "Directory _current_ exists\n"
          ]
        }
      ],
      "source": [
        "try:                                              # Create directory named after search terms\n",
        "    os.makedirs(\"support/%s\" % search_terms)\n",
        "    print(\"Directory\", search_terms, \"created\")\n",
        "except FileExistsError:\n",
        "    print(\"Directory\", search_terms, \"exists\")\n",
        "\n",
        "try:                                              # Create directory to store current search terms\n",
        "    os.makedirs(\"support/_current_\")\n",
        "    print(\"Directory _current_ created\")\n",
        "except FileExistsError:\n",
        "    print(\"Directory _current_ exists\")\n"
      ]
    },
    {
      "cell_type": "markdown",
      "metadata": {
        "id": "XI10_JJwr0R2"
      },
      "source": [
        "Save files for future use"
      ]
    },
    {
      "cell_type": "code",
      "execution_count": 23,
      "metadata": {
        "colab": {
          "background_save": true
        },
        "id": "xr9IVvrZNx__"
      },
      "outputs": [],
      "source": [
        "\n",
        "\n",
        "pickle.dump(search_terms, open(\"support/%s/searchTerms.pkl\" % search_terms, \"wb\"))\n",
        "# pickle.dump(comment_list, open(\"support/%s/comment_list.pkl\" % search_terms, \"wb\"))\n",
        "pickle.dump(vid_title, open(\"support/%s/vid_title.pkl\" % search_terms, \"wb\"))\n",
        "pickle.dump(vid_page, open(\"support/%s/vid_page.pkl\" % search_terms, \"wb\"))\n",
        "pickle.dump(vid_id, open(\"support/%s/vid_id.pkl\" % search_terms, \"wb\"))\n"
      ]
    },
    {
      "cell_type": "markdown",
      "metadata": {
        "id": "jc7wo23HOCR6"
      },
      "source": [
        "Save files for next step"
      ]
    },
    {
      "cell_type": "code",
      "execution_count": 24,
      "metadata": {
        "colab": {
          "background_save": true
        },
        "id": "CW48mZ7w53Qp"
      },
      "outputs": [],
      "source": [
        "import shutil\n",
        "\n",
        "# source = \"support/%s/comments.txt\" % search_terms\n",
        "# destination = \"support/_current_/comments.txt\"\n",
        "# shutil.copyfile(source, destination)\n",
        "\n",
        "pickle.dump(search_terms, open(\"support/_current_/searchTerms.pkl\", \"wb\"))\n"
      ]
    },
    {
      "cell_type": "markdown",
      "metadata": {
        "id": "2T-nP1-YC6Q1"
      },
      "source": [
        "Clear data for rerun"
      ]
    },
    {
      "cell_type": "code",
      "execution_count": 25,
      "metadata": {
        "colab": {
          "background_save": true
        },
        "id": "CVtO4W5mC-H4"
      },
      "outputs": [],
      "source": [
        "comment_list.clear()\n",
        "vid_title.clear()\n",
        "vid_page.clear()\n",
        "vid_id.clear()\n"
      ]
    },
    {
      "cell_type": "markdown",
      "metadata": {},
      "source": [
        "Load Private Documents\n"
      ]
    },
    {
      "cell_type": "code",
      "execution_count": 26,
      "metadata": {},
      "outputs": [],
      "source": [
        "from langchain_community.document_loaders import DirectoryLoader\n",
        "\n",
        "from langchain.document_loaders import TextLoader\n",
        "\n",
        "\n",
        "\n",
        "loader = DirectoryLoader('transcript_data/', glob=\"./*.txt\", loader_cls=TextLoader)\n",
        "\n",
        "document = loader.load()"
      ]
    },
    {
      "cell_type": "markdown",
      "metadata": {},
      "source": [
        "Split documents into smaller parts\n"
      ]
    },
    {
      "cell_type": "code",
      "execution_count": 27,
      "metadata": {},
      "outputs": [
        {
          "name": "stdout",
          "output_type": "stream",
          "text": [
            "Number of splits in document loaded: 628\n"
          ]
        }
      ],
      "source": [
        "from langchain.text_splitter import RecursiveCharacterTextSplitter\n",
        "text_splitter = RecursiveCharacterTextSplitter(\n",
        "    chunk_size=1000,\n",
        "    chunk_overlap=200\n",
        ")\n",
        "splits = text_splitter.split_documents(document)\n",
        "\n",
        "print(\"Number of splits in document loaded:\", len(splits))\n"
      ]
    },
    {
      "cell_type": "markdown",
      "metadata": {},
      "source": [
        "Use openAI Embeddings\n"
      ]
    },
    {
      "cell_type": "code",
      "execution_count": 28,
      "metadata": {},
      "outputs": [],
      "source": [
        "\n",
        "from langchain_openai import OpenAIEmbeddings\n",
        "embedding = OpenAIEmbeddings()\n"
      ]
    },
    {
      "cell_type": "markdown",
      "metadata": {},
      "source": [
        "Remove 'persist' directory, setup folder\n"
      ]
    },
    {
      "cell_type": "code",
      "execution_count": 29,
      "metadata": {},
      "outputs": [
        {
          "name": "stdout",
          "output_type": "stream",
          "text": [
            "Processing folder: Apple Watch Series 9 Review\n",
            "Deleting previous store\n",
            "Files in folder: ['searchTerms.pkl', 'vid_id.pkl', 'vid_page.pkl', 'vid_title.pkl']\n"
          ]
        }
      ],
      "source": [
        "import shutil\n",
        "import pandas as pd\n",
        "search_terms = pd.read_pickle(\"support/_current_/searchTerms.pkl\")\n",
        "print(\"Processing folder:\", search_terms)\n",
        "\n",
        "try:\n",
        "    shutil.rmtree('support/%s/persist' % search_terms)       # remove old version\n",
        "    print(\"Deleting previous store\")\n",
        "except:\n",
        "    print(\"No store found\")\n",
        "\n",
        "persist_directory = 'support/%s/persist' % search_terms     # create new version\n",
        "\n",
        "files = os.listdir(\"support/%s\" % search_terms)             # list all files\n",
        "print(\"Files in folder:\", files)\n"
      ]
    },
    {
      "cell_type": "code",
      "execution_count": 30,
      "metadata": {},
      "outputs": [
        {
          "name": "stdout",
          "output_type": "stream",
          "text": [
            "Persist Directory created.\n",
            "Size of Vector Database: 628\n"
          ]
        }
      ],
      "source": [
        "from langchain.vectorstores import Chroma\n",
        "\n",
        "vectordb = Chroma.from_documents(\n",
        "    documents=splits,                           # target the splits created from the documents loaded\n",
        "    embedding=embedding,                        # use the OpenAI embedding specified\n",
        "    persist_directory=persist_directory         # store in the persist directory for future use\n",
        ")\n",
        "\n",
        "vectordb.persist()                              # store vectordb\n",
        "\n",
        "print(\"Persist Directory created.\")\n",
        "print(\"Size of Vector Database:\", vectordb._collection.count())    # same as the number of splits\n"
      ]
    },
    {
      "cell_type": "markdown",
      "metadata": {},
      "source": [
        "Retrieve vectordb\n"
      ]
    },
    {
      "cell_type": "code",
      "execution_count": 31,
      "metadata": {},
      "outputs": [
        {
          "name": "stdout",
          "output_type": "stream",
          "text": [
            "Processing folder: Apple Watch Series 9 Review\n",
            "Size of Vector Database 628\n"
          ]
        }
      ],
      "source": [
        "import pandas as pd\n",
        "search_terms = pd.read_pickle(\"support/_current_/searchTerms.pkl\")\n",
        "\n",
        "from langchain_openai import OpenAIEmbeddings\n",
        "embedding = OpenAIEmbeddings()\n",
        "\n",
        "from langchain.vectorstores import Chroma\n",
        "persist_directory = 'support/%s/persist' % search_terms\n",
        "\n",
        "vectordb = Chroma(\n",
        "    persist_directory=persist_directory,\n",
        "    embedding_function=embedding\n",
        "    )\n",
        "\n",
        "print(\"Processing folder:\", search_terms)\n",
        "print(\"Size of Vector Database\", vectordb._collection.count())    # same as before\n"
      ]
    },
    {
      "cell_type": "code",
      "execution_count": 32,
      "metadata": {},
      "outputs": [],
      "source": [
        "from langchain_openai import ChatOpenAI\n",
        "llm = ChatOpenAI(model_name=\"gpt-4\", temperature=0)               # gpt model can be changed"
      ]
    },
    {
      "cell_type": "code",
      "execution_count": 44,
      "metadata": {},
      "outputs": [
        {
          "name": "stdout",
          "output_type": "stream",
          "text": [
            "['Samsung Galaxy Watch 4', 'Fitbit Sense', 'Garmin Forerunner 945', 'Apple Watch Series 9']\n",
            " Samsung Galaxy Watch 4, Fitbit Sense, Garmin Forerunner 945\n"
          ]
        }
      ],
      "source": [
        "##Cite sources\n",
        "def process_llm_response(llm_response):\n",
        "    print(llm_response['result'])\n",
        "    print('\\n\\nSources:')\n",
        "    for source in llm_response[\"source_documents\"]:\n",
        "        print(source.metadata['source'])\n",
        "\n",
        "competitorstring = \"\"\n",
        "\n",
        "for i in range(len(competitors) - 1):\n",
        "    competitorstring = competitorstring + \", \" + competitors[i]\n",
        "\n",
        "competitorstring = competitorstring[1:]\n",
        "\n",
        "print(competitors)\n",
        "\n",
        "print(competitorstring)\n",
        "        "
      ]
    },
    {
      "cell_type": "code",
      "execution_count": 47,
      "metadata": {},
      "outputs": [
        {
          "name": "stdout",
          "output_type": "stream",
          "text": [
            "Positively Reviewed Components:\n",
            "1. The Apple Watch Series 9 has been praised for its accuracy in many health tracking categories, including heart rate measurement, sleep stage tracking, GPS tracking consistency, and oxygen saturation measurements. \n",
            "2. It has a high correlation value with the reference device, placing it among the better performing watches in comparison tests. \n",
            "3. It has a ton of great features, especially for iPhone users.\n",
            "\n",
            "Negatively Reviewed Components:\n",
            "1. The Apple Watch Series 9 has some issues with software updates, particularly for users who wear the watch to bed and thus can't have it on the charger for automatic updates at 2 a.m.\n",
            "2. The watch's repairability is a downside, particularly when it comes to replacing the battery.\n",
            "\n",
            "Places for Improvement:\n",
            "1. The watch could be improved by allowing users to set when automatic updates should install.\n",
            "2. The repairability of the watch, particularly the battery, could be improved to make it more user-friendly.\n",
            "\n",
            "General Summary:\n",
            "The Apple Watch Series 9 is a high-performing device with excellent accuracy in health tracking categories. However, it has some issues with software updates and repairability. Despite these issues, it is highly recommended for iPhone users due to its great features.\n",
            "\n",
            "Design Opportunities:\n",
            "1. Design a more user-friendly system for software updates that allows users to choose when updates should install.\n",
            "2. Improve the design to make the watch more repairable, particularly when it comes to replacing the battery.\n",
            "\n",
            "Quantitative Recommendations:\n",
            "1. Increase the correlation value with the reference device to as close to one as possible to improve performance.\n",
            "2. Improve the repairability score of the watch to make it more user-friendly and reduce the need for professional repair services.\n",
            "\n",
            "\n",
            "Sources:\n",
            "transcript_data\\4igZ3DEhrk4_transcript.txt\n",
            "transcript_data\\4igZ3DEhrk4_transcript.txt\n",
            "transcript_data\\4igZ3DEhrk4_transcript.txt\n",
            "transcript_data\\wM16xWaJHbU_transcript.txt\n"
          ]
        }
      ],
      "source": [
        "from langchain.chains import RetrievalQA\n",
        "\n",
        "qa_chain = RetrievalQA.from_chain_type(\n",
        "    llm,\n",
        "    # retriever=vectordb.as_retriever(search_type=\"mmr\", search_kwargs={\"k\": 4, \"fetch_k\": 6}),\n",
        "    # retriever=vectordb.as_retriever(search_type=\"similarity\", search_kwargs={\"k\": 4}),\n",
        "    retriever=vectordb.as_retriever(),\n",
        "    return_source_documents=True\n",
        "    )\n",
        "\n",
        "\n",
        "\n",
        "\n",
        "question = f\"Tell me some insights with regard to the Apple Watch Series 9's following categories: Positively reviewed components, negatively reviewed components, places for improvement, and a general summary. After giving me that information, identify design opportunities and provide me with recommendations.\"  # input question\n",
        "\n",
        "\n",
        "result = qa_chain({\"query\": question})\n",
        "process_llm_response(result)\n",
        "\n",
        "# print(\"\\n--Results with metadata--\")\n",
        "# print(result)\n",
        "# print(\"\\n--The prompt--\")\n",
        "# print(result[\"query\"])\n",
        "# print(\"\\n--The sources--\")\n",
        "# print(result[\"source_documents\"])\n",
        "# print(\"\\n--The final response--\")\n",
        "# print(result[\"result\"])"
      ]
    },
    {
      "cell_type": "code",
      "execution_count": 48,
      "metadata": {},
      "outputs": [],
      "source": [
        "from langchain.chains import create_history_aware_retriever\n",
        "from langchain_core.prompts import ChatPromptTemplate, MessagesPlaceholder\n",
        "\n",
        "retriever = vectordb.as_retriever()\n",
        "\n",
        "contextualize_q_system_prompt = \"\"\"Given a chat history and the latest user question \\\n",
        "which might reference context in the chat history, formulate a standalone question \\\n",
        "which can be understood without the chat history. Do NOT answer the question, \\\n",
        "just reformulate it if needed and otherwise return it as is.\"\"\"\n",
        "contextualize_q_prompt = ChatPromptTemplate.from_messages(\n",
        "    [\n",
        "        (\"system\", contextualize_q_system_prompt),\n",
        "        MessagesPlaceholder(\"chat_history\"),\n",
        "        (\"human\", \"{input}\"),\n",
        "    ]\n",
        ")\n",
        "history_aware_retriever = create_history_aware_retriever(\n",
        "    llm, retriever, contextualize_q_prompt\n",
        ")"
      ]
    },
    {
      "cell_type": "code",
      "execution_count": 49,
      "metadata": {},
      "outputs": [],
      "source": [
        "from langchain.chains import create_retrieval_chain\n",
        "from langchain.chains.combine_documents import create_stuff_documents_chain\n",
        "\n",
        "qa_system_prompt = \"\"\"You are an assistant for question-answering tasks. \\\n",
        "Use the following pieces of retrieved context to answer the question. \\\n",
        "If you don't know the answer, just say that you don't know. \\\n",
        "Use three sentences maximum and keep the answer concise.\\\n",
        "\n",
        "{context}\"\"\"\n",
        "qa_prompt = ChatPromptTemplate.from_messages(\n",
        "    [\n",
        "        (\"system\", qa_system_prompt),\n",
        "        MessagesPlaceholder(\"chat_history\"),\n",
        "        (\"human\", \"{input}\"),\n",
        "    ]\n",
        ")\n",
        "\n",
        "\n",
        "question_answer_chain = create_stuff_documents_chain(llm, qa_prompt)\n",
        "\n",
        "rag_chain = create_retrieval_chain(history_aware_retriever, question_answer_chain)"
      ]
    },
    {
      "cell_type": "code",
      "execution_count": 50,
      "metadata": {},
      "outputs": [
        {
          "name": "stdout",
          "output_type": "stream",
          "text": [
            "The Apple Watch has several competitors in the smartwatch market. These include devices like the Garmin watches, which are often more expensive but are known for their fitness tracking capabilities. Other competitors include the Fitbit devices, the Aura Ring, Whoop Straps, and the Withings Sleep Analyzer. There are also smartwatches from other tech companies like Samsung and Google.\n"
          ]
        }
      ],
      "source": [
        "from langchain_core.messages import HumanMessage\n",
        "\n",
        "chat_history = []\n",
        "\n",
        "question = \"What is the apple watch good at??\"\n",
        "ai_msg_1 = rag_chain.invoke({\"input\": question, \"chat_history\": chat_history})\n",
        "chat_history.extend([HumanMessage(content=question), ai_msg_1[\"answer\"]])\n",
        "\n",
        "second_question = \"What are its competitors?\"\n",
        "ai_msg_2 = rag_chain.invoke({\"input\": second_question, \"chat_history\": chat_history})\n",
        "\n",
        "print(ai_msg_1[\"answer\"])"
      ]
    },
    {
      "cell_type": "code",
      "execution_count": 53,
      "metadata": {},
      "outputs": [],
      "source": [
        "from langchain.chains import create_history_aware_retriever\n",
        "from langchain_core.prompts import ChatPromptTemplate, MessagesPlaceholder\n",
        "from langchain_core.chat_history import BaseChatMessageHistory\n",
        "from langchain_core.output_parsers import StrOutputParser\n",
        "from langchain_core.prompts import ChatPromptTemplate, MessagesPlaceholder\n",
        "from langchain_core.runnables import RunnablePassthrough\n",
        "from langchain_core.runnables.history import RunnableWithMessageHistory\n",
        "from langchain_community.chat_message_histories import ChatMessageHistory\n",
        "\n",
        "retriever = vectordb.as_retriever()\n",
        "\n",
        "### Contextualize question ###\n",
        "contextualize_q_system_prompt = \"\"\"Given a chat history and the latest user question \\\n",
        "which might reference context in the chat history, formulate a standalone question \\\n",
        "which can be understood without the chat history. Do NOT answer the question, \\\n",
        "just reformulate it if needed and otherwise return it as is.\"\"\"\n",
        "contextualize_q_prompt = ChatPromptTemplate.from_messages(\n",
        "    [\n",
        "        (\"system\", contextualize_q_system_prompt),\n",
        "        MessagesPlaceholder(\"chat_history\"),\n",
        "        (\"human\", \"{input}\"),\n",
        "    ]\n",
        ")\n",
        "history_aware_retriever = create_history_aware_retriever(\n",
        "    llm, retriever, contextualize_q_prompt\n",
        ")\n",
        "\n",
        "\n",
        "### Answer question ###\n",
        "qa_system_prompt = \"\"\"You are an assistant for question-answering tasks. \\\n",
        "Use the following pieces of retrieved context to answer the question. \\\n",
        "If you don't know the answer, just say that you don't know. \\\n",
        "Use three sentences maximum and keep the answer concise.\\\n",
        "\n",
        "{context}\"\"\"\n",
        "qa_prompt = ChatPromptTemplate.from_messages(\n",
        "    [\n",
        "        (\"system\", qa_system_prompt),\n",
        "        MessagesPlaceholder(\"chat_history\"),\n",
        "        (\"human\", \"{input}\"),\n",
        "    ]\n",
        ")\n",
        "question_answer_chain = create_stuff_documents_chain(llm, qa_prompt)\n",
        "\n",
        "rag_chain = create_retrieval_chain(history_aware_retriever, question_answer_chain)\n",
        "\n",
        "\n",
        "### Statefully manage chat history ###\n",
        "store = {}\n",
        "\n",
        "\n",
        "def get_session_history(session_id: str) -> BaseChatMessageHistory:\n",
        "    if session_id not in store:\n",
        "        store[session_id] = ChatMessageHistory()\n",
        "    return store[session_id]\n",
        "\n",
        "\n",
        "conversational_rag_chain = RunnableWithMessageHistory(\n",
        "    rag_chain,\n",
        "    get_session_history,\n",
        "    input_messages_key=\"input\",\n",
        "    history_messages_key=\"chat_history\",\n",
        "    output_messages_key=\"answer\",\n",
        ")"
      ]
    },
    {
      "cell_type": "code",
      "execution_count": 54,
      "metadata": {},
      "outputs": [
        {
          "data": {
            "text/plain": [
              "\"Positively reviewed components of the Apple Watch Series 9 include its accuracy in health tracking categories and its brighter screen. It also has a more powerful S9 chip which enables new features like the double tap. Negatively reviewed components include its compatibility, as it doesn't work well with Android phones. There are also issues with software updates and repairability, particularly the inability to replace the battery without professional help.\\n\\nAreas for improvement include offering more flexibility with software updates, improving compatibility with non-Apple devices, and enhancing repairability, especially regarding battery replacement. In general, the Apple Watch Series 9 is similar to the Series 8 but with a few improvements, and it performs well among other watches in the market.\\n\\nDesign opportunities could include creating a user-friendly battery replacement process, improving software update flexibility, and enhancing compatibility with Android devices. Recommendations would be to consider the Apple Watch Series 9 if you have an iPhone due to its great features and improvements over the Series 8. However, if you're an Android user or concerned about repairability, you might want to consider other options.\""
            ]
          },
          "execution_count": 54,
          "metadata": {},
          "output_type": "execute_result"
        }
      ],
      "source": [
        "conversational_rag_chain.invoke(\n",
        "    {\"input\": \"Tell me some insights with regard to the Apple Watch Series 9's following categories: Positively reviewed components, negatively reviewed components, places for improvement, and a general summary. After giving me that information, identify design opportunities and provide me with recommendations.\"},\n",
        "    config={\n",
        "        \"configurable\": {\"session_id\": \"abc123\"}\n",
        "    },  # constructs a key \"abc123\" in `store`.\n",
        ")[\"answer\"]"
      ]
    },
    {
      "cell_type": "code",
      "execution_count": 55,
      "metadata": {},
      "outputs": [
        {
          "data": {
            "text/plain": [
              "'Based on the context, the competitors of the Apple Watch include selected Huawei watches, Google Pixel watches, and some Galaxy watches. Another competitor mentioned is the Coros watch.'"
            ]
          },
          "execution_count": 55,
          "metadata": {},
          "output_type": "execute_result"
        }
      ],
      "source": [
        "conversational_rag_chain.invoke(\n",
        "    {\"input\": \"Who are the apple watch's competitors, based on your context?\"},\n",
        "    config={\"configurable\": {\"session_id\": \"abc123\"}},\n",
        ")[\"answer\"]"
      ]
    },
    {
      "cell_type": "code",
      "execution_count": 56,
      "metadata": {},
      "outputs": [
        {
          "data": {
            "text/plain": [
              "\"I'm sorry, but the context provided does not contain specific information about the positively reviewed components, negatively reviewed components, and places for improvement for the Fitbit Sense, Garmin Forerunner 945, and Apple Watch Series 9. However, for the Samsung Galaxy Watch 4, the positively reviewed components include its high-quality OLED display, unique body composition measurements, and smooth performance. Negatively, it does not pair with iOS devices. A place for improvement could be increasing its compatibility with non-Samsung devices.\""
            ]
          },
          "execution_count": 56,
          "metadata": {},
          "output_type": "execute_result"
        }
      ],
      "source": [
        "conversational_rag_chain.invoke(\n",
        "    {\"input\": f\"For the each of the {competitors}, tell me their positively reviewed components, negatively reviewed components and places for improvement.\"},\n",
        "    config={\"configurable\": {\"session_id\": \"abc123\"}},\n",
        ")[\"answer\"]"
      ]
    },
    {
      "cell_type": "code",
      "execution_count": 57,
      "metadata": {},
      "outputs": [
        {
          "data": {
            "text/plain": [
              "\"The Samsung Galaxy Watch 4 has been positively reviewed for its high-quality OLED display, unique body composition measurements, and smooth performance. It's also appreciated for its comprehensive array of fitness tracking features and solid functionality. \\n\\nOn the downside, the watch does not pair with iOS devices, which limits its user base. \\n\\nA place for improvement could be increasing its compatibility with non-Samsung devices, particularly iOS, to broaden its appeal to a wider range of consumers.\\n\\nIn summary, the Samsung Galaxy Watch 4 is a high-quality smartwatch with plenty of features that make it popular among Android users. However, its lack of compatibility with iOS devices is a significant drawback.\\n\\nDesign opportunities could include working on its compatibility with iOS devices. This would make the watch more versatile and appealing to a broader market. \\n\\nAs for recommendations, if you're an Android user, particularly a Samsung user, the Galaxy Watch 4 is a great choice given its features and performance. However, if you're an Apple user, you might want to consider other options like the Apple Watch SE or the Series 7, which are comparable in price range.\""
            ]
          },
          "execution_count": 57,
          "metadata": {},
          "output_type": "execute_result"
        }
      ],
      "source": [
        "conversational_rag_chain.invoke(\n",
        "    {\"input\":\"Tell me some insights with regard to the Samsung Galaxy Watch 4's following categories: Positively reviewed components, negatively reviewed components, places for improvement, and a general summary. After giving me that information, identify design opportunities and provide me with recommendations.\"},\n",
        "    config={\"configurable\": {\"session_id\": \"abc123\"}},\n",
        ")[\"answer\"]"
      ]
    },
    {
      "cell_type": "code",
      "execution_count": 58,
      "metadata": {},
      "outputs": [
        {
          "data": {
            "text/plain": [
              "\"Understanding the strengths and weaknesses of the Samsung Galaxy Watch 4 can provide valuable insights for designing a better Apple Watch. For instance, the Galaxy Watch 4's high-quality OLED display and unique body composition measurements are features that users appreciate, so ensuring the Apple Watch matches or exceeds these features could be beneficial. \\n\\nThe Galaxy Watch 4's lack of compatibility with iOS devices is a significant drawback. Ensuring that the Apple Watch maintains strong compatibility with both iOS and potentially Android devices could give it a competitive edge.\\n\\nAdditionally, understanding the importance of comprehensive fitness tracking features and solid functionality can guide the development of new features for the Apple Watch. \\n\\nFinally, user feedback on the Galaxy Watch 4's areas for improvement, such as better touch sensitivity and preventing accidental taps, can be used to refine the user interface and touch responsiveness of the Apple Watch.\""
            ]
          },
          "execution_count": 58,
          "metadata": {},
          "output_type": "execute_result"
        }
      ],
      "source": [
        "conversational_rag_chain.invoke(\n",
        "    {\"input\": \"How can this understanding help me to design a better apple watch?\"},\n",
        "    config={\"configurable\": {\"session_id\": \"abc123\"}},\n",
        ")[\"answer\"]"
      ]
    },
    {
      "cell_type": "code",
      "execution_count": 59,
      "metadata": {},
      "outputs": [
        {
          "data": {
            "text/plain": [
              "\"The Garmin Forerunner 945 has been positively reviewed for its slim, attractive design and the impressive number of sensors packed into its body. It's also appreciated for its wide range of features, including support for over 30 indoor and outdoor sports, and a heart rate monitor that takes measurements 24/7. \\n\\nNegatively reviewed components are not explicitly mentioned in the provided context. However, potential areas for improvement could include enhancing the screen resolution beyond 240 by 240 pixels, and possibly adding more smartwatch features to compete with other high-end smartwatches.\\n\\nIn summary, the Garmin Forerunner 945 is a top-of-the-line model that is particularly suited for athletes, especially triathletes, due to its compact, lightweight design and extensive sports and fitness tracking features.\\n\\nDesign opportunities could include improving the screen resolution for a more detailed and vibrant display, and expanding the smartwatch features to make it more versatile and appealing to a broader range of users.\\n\\nAs for recommendations, the Garmin Forerunner 945 is an excellent choice for athletes and fitness enthusiasts due to its extensive sports and fitness tracking features. However, if you're looking for a smartwatch with more advanced smart features, you might want to consider other options.\""
            ]
          },
          "execution_count": 59,
          "metadata": {},
          "output_type": "execute_result"
        }
      ],
      "source": [
        "conversational_rag_chain.invoke(\n",
        "    {\"input\":\"Tell me some insights with regard to the Garmin 945's following categories: Positively reviewed components, negatively reviewed components, places for improvement, and a general summary. After giving me that information, identify design opportunities and provide me with recommendations.\"},\n",
        "    config={\"configurable\": {\"session_id\": \"abc123\"}},\n",
        ")[\"answer\"]"
      ]
    },
    {
      "cell_type": "code",
      "execution_count": 60,
      "metadata": {},
      "outputs": [
        {
          "data": {
            "text/plain": [
              "\"The Fitbit Sense has been positively reviewed for its focus on both physical and mental well-being, its sleep tracking feature, and its wide range of workout types. It's also appreciated for its design, which is inspired by the lines of the human body.\\n\\nNegatively reviewed components include the stress tracking feature, which doesn't feel fully fledged yet. \\n\\nPlaces for improvement could include further development of the stress tracking feature to provide more accurate and useful data, and possibly enhancing the smartwatch features to compete with other high-end smartwatches.\\n\\nIn summary, the Fitbit Sense is a high-end smartwatch that offers a wide range of health and fitness tracking features, with a particular emphasis on mental well-being. However, some features like stress tracking need further development.\\n\\nDesign opportunities could include improving the stress tracking feature and expanding the smartwatch features to make it more versatile and appealing to a broader range of users.\\n\\nAs for recommendations, the Fitbit Sense is an excellent choice for those who want a smartwatch that focuses on both physical and mental well-being. However, if you're looking for a smartwatch with more advanced smart features, you might want to consider other options.\""
            ]
          },
          "execution_count": 60,
          "metadata": {},
          "output_type": "execute_result"
        }
      ],
      "source": [
        "conversational_rag_chain.invoke(\n",
        "    {\"input\":\"Tell me some insights with regard to the Fitbit Sense following categories: Positively reviewed components, negatively reviewed components, places for improvement, and a general summary. After giving me that information, identify design opportunities and provide me with recommendations.\"},\n",
        "    config={\"configurable\": {\"session_id\": \"abc123\"}},\n",
        ")[\"answer\"]"
      ]
    },
    {
      "cell_type": "code",
      "execution_count": 61,
      "metadata": {},
      "outputs": [
        {
          "data": {
            "text/plain": [
              "\"1. Display Quality: The Samsung Galaxy Watch 4's high-quality OLED display is a standout feature. Apple could consider enhancing the resolution of the Apple Watch Series 9 to match or exceed this.\\n\\n2. Fitness Tracking: The Garmin Forerunner 945's extensive sports and fitness tracking features are highly appreciated. Apple could consider expanding the range of workout types supported by the Apple Watch Series 9.\\n\\n3. Mental Well-being Features: The Fitbit Sense's focus on mental well-being is unique. Apple could consider adding features that monitor and support mental health, such as stress or mood tracking.\\n\\n4. Compatibility: The Samsung Galaxy Watch 4's lack of compatibility with iOS is a drawback. Apple could consider enhancing the compatibility of the Apple Watch Series 9 with Android devices to broaden its user base.\\n\\n5. Battery Life: All three watches have been noted for their good battery life. Apple could consider improving the battery life of the Apple Watch Series 9 to match or exceed this.\\n\\n6. Design: The Fitbit Sense's design, inspired by the lines of the human body, is appreciated. Apple could consider incorporating more ergonomic design elements into the Apple Watch Series 9.\""
            ]
          },
          "execution_count": 61,
          "metadata": {},
          "output_type": "execute_result"
        }
      ],
      "source": [
        "conversational_rag_chain.invoke(\n",
        "    {\"input\":\"Taking into account the prior analysis of the Samsung Galaxy Watch 4, Garmin Forerunner 945 and Fitbit Sense, give me quantifiable design recommendations to improve the Apple Watch Series 9\"},\n",
        "    config={\"configurable\": {\"session_id\": \"abc123\"}},\n",
        ")[\"answer\"]"
      ]
    }
  ],
  "metadata": {
    "colab": {
      "machine_shape": "hm",
      "provenance": []
    },
    "kernelspec": {
      "display_name": "venv",
      "language": "python",
      "name": "python3"
    },
    "language_info": {
      "codemirror_mode": {
        "name": "ipython",
        "version": 3
      },
      "file_extension": ".py",
      "mimetype": "text/x-python",
      "name": "python",
      "nbconvert_exporter": "python",
      "pygments_lexer": "ipython3",
      "version": "3.11.9"
    }
  },
  "nbformat": 4,
  "nbformat_minor": 0
}
